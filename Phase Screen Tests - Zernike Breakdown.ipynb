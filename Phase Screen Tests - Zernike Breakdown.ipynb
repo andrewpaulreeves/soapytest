{
 "cells": [
  {
   "cell_type": "code",
   "execution_count": 1,
   "metadata": {
    "collapsed": true
   },
   "outputs": [],
   "source": [
    "import numpy\n",
    "%matplotlib nbagg\n",
    "from matplotlib import pyplot\n",
    "from tqdm import tqdm, tnrange\n",
    "from astropy.io import fits\n",
    "\n",
    "import aotools\n",
    "from aotools.turbulence import infinitephasescreen, phasescreen\n"
   ]
  },
  {
   "cell_type": "code",
   "execution_count": 5,
   "metadata": {
    "collapsed": true
   },
   "outputs": [],
   "source": [
    "n_zerns = 60\n",
    "nx_size = 128\n",
    "D = 4.2\n",
    "pxl_scale = D/nx_size\n",
    "r0 = 0.164\n",
    "L0 = 100\n",
    "wind_speed = 10 #m/s - just arbitrarily set\n",
    "n_tests = 16\n",
    "n_scrns = 10000\n",
    "noll = fits.getdata(\"resources/noll.fits\").diagonal() * (D/r0)**(5./3)\n",
    "stencil_length_factor = 32"
   ]
  },
  {
   "cell_type": "code",
   "execution_count": 6,
   "metadata": {},
   "outputs": [
    {
     "name": "stdout",
     "output_type": "stream",
     "text": [
      "Make Zernikes...\n"
     ]
    }
   ],
   "source": [
    "# Create arrary of zernikes\n",
    "print(\"Make Zernikes...\")\n",
    "Zs = aotools.zernikeArray(n_zerns, nx_size)"
   ]
  },
  {
   "cell_type": "markdown",
   "metadata": {},
   "source": [
    "# Test Infinite (Assemat) Phase Screen"
   ]
  },
  {
   "cell_type": "code",
   "execution_count": 7,
   "metadata": {
    "scrolled": true
   },
   "outputs": [
    {
     "name": "stdout",
     "output_type": "stream",
     "text": [
      "Run tests\n"
     ]
    },
    {
     "data": {
      "application/vnd.jupyter.widget-view+json": {
       "model_id": "ad1f2d91142b4ea6ababc97e5ebfb1b1"
      }
     },
     "metadata": {},
     "output_type": "display_data"
    },
    {
     "name": "stdout",
     "output_type": "stream",
     "text": [
      "Init phase screen\n"
     ]
    },
    {
     "data": {
      "application/vnd.jupyter.widget-view+json": {
       "model_id": "954381602c9a42e5b8abb8228d3a156f"
      }
     },
     "metadata": {},
     "output_type": "display_data"
    },
    {
     "name": "stdout",
     "output_type": "stream",
     "text": [
      "Init phase screen\n"
     ]
    },
    {
     "data": {
      "application/vnd.jupyter.widget-view+json": {
       "model_id": "55c5b142567f475f8afc92cf7f5b7273"
      }
     },
     "metadata": {},
     "output_type": "display_data"
    },
    {
     "name": "stdout",
     "output_type": "stream",
     "text": [
      "Init phase screen\n"
     ]
    },
    {
     "data": {
      "application/vnd.jupyter.widget-view+json": {
       "model_id": "e2d1f9a469b54d489a4a4a9c02f13081"
      }
     },
     "metadata": {},
     "output_type": "display_data"
    },
    {
     "name": "stdout",
     "output_type": "stream",
     "text": [
      "Init phase screen\n"
     ]
    },
    {
     "data": {
      "application/vnd.jupyter.widget-view+json": {
       "model_id": "cd64cb47c56d46229260cc7b7b847570"
      }
     },
     "metadata": {},
     "output_type": "display_data"
    },
    {
     "name": "stdout",
     "output_type": "stream",
     "text": [
      "Init phase screen\n"
     ]
    },
    {
     "data": {
      "application/vnd.jupyter.widget-view+json": {
       "model_id": "b7c52bcb524a471ba9d88786179e25c1"
      }
     },
     "metadata": {},
     "output_type": "display_data"
    },
    {
     "name": "stdout",
     "output_type": "stream",
     "text": [
      "Init phase screen\n"
     ]
    },
    {
     "data": {
      "application/vnd.jupyter.widget-view+json": {
       "model_id": "fbb508c1e35f43eb84d27af9fd2c95d3"
      }
     },
     "metadata": {},
     "output_type": "display_data"
    },
    {
     "name": "stdout",
     "output_type": "stream",
     "text": [
      "Init phase screen\n"
     ]
    },
    {
     "data": {
      "application/vnd.jupyter.widget-view+json": {
       "model_id": "68074d6f1df64e6f89fb5dcae54aaa21"
      }
     },
     "metadata": {},
     "output_type": "display_data"
    },
    {
     "name": "stdout",
     "output_type": "stream",
     "text": [
      "Init phase screen\n"
     ]
    },
    {
     "data": {
      "application/vnd.jupyter.widget-view+json": {
       "model_id": "4a10439f2e3d47b693c41c2e1ba09ae3"
      }
     },
     "metadata": {},
     "output_type": "display_data"
    },
    {
     "name": "stdout",
     "output_type": "stream",
     "text": [
      "Init phase screen\n"
     ]
    },
    {
     "data": {
      "application/vnd.jupyter.widget-view+json": {
       "model_id": "5880ba2cfefa45109dca17a7dc2b6b3c"
      }
     },
     "metadata": {},
     "output_type": "display_data"
    },
    {
     "name": "stdout",
     "output_type": "stream",
     "text": [
      "Init phase screen\n"
     ]
    },
    {
     "data": {
      "application/vnd.jupyter.widget-view+json": {
       "model_id": "e43e821e84e64496ae0ad03586762c45"
      }
     },
     "metadata": {},
     "output_type": "display_data"
    },
    {
     "name": "stdout",
     "output_type": "stream",
     "text": [
      "Init phase screen\n"
     ]
    },
    {
     "data": {
      "application/vnd.jupyter.widget-view+json": {
       "model_id": "5f5988557ab049c6a6217836a3bf0aab"
      }
     },
     "metadata": {},
     "output_type": "display_data"
    },
    {
     "name": "stdout",
     "output_type": "stream",
     "text": [
      "Init phase screen\n"
     ]
    },
    {
     "data": {
      "application/vnd.jupyter.widget-view+json": {
       "model_id": "ca583ecf184e4c1e9086cc5bbe4dcb18"
      }
     },
     "metadata": {},
     "output_type": "display_data"
    },
    {
     "name": "stdout",
     "output_type": "stream",
     "text": [
      "Init phase screen\n"
     ]
    },
    {
     "data": {
      "application/vnd.jupyter.widget-view+json": {
       "model_id": "b0d2073d72514bb3a8bdc3eb7b4fa310"
      }
     },
     "metadata": {},
     "output_type": "display_data"
    },
    {
     "name": "stdout",
     "output_type": "stream",
     "text": [
      "Init phase screen\n"
     ]
    },
    {
     "data": {
      "application/vnd.jupyter.widget-view+json": {
       "model_id": "28fa7f2987ed43bfb6dcaeb09eb7fda1"
      }
     },
     "metadata": {},
     "output_type": "display_data"
    },
    {
     "name": "stdout",
     "output_type": "stream",
     "text": [
      "Init phase screen\n"
     ]
    },
    {
     "data": {
      "application/vnd.jupyter.widget-view+json": {
       "model_id": "8ee368c346c64d458649ac6847f32d31"
      }
     },
     "metadata": {},
     "output_type": "display_data"
    },
    {
     "name": "stdout",
     "output_type": "stream",
     "text": [
      "Init phase screen\n"
     ]
    },
    {
     "data": {
      "application/vnd.jupyter.widget-view+json": {
       "model_id": "5c5316a44ed64b21b5d30dc217f80b9a"
      }
     },
     "metadata": {},
     "output_type": "display_data"
    },
    {
     "name": "stdout",
     "output_type": "stream",
     "text": [
      "\n"
     ]
    }
   ],
   "source": [
    "nCol = 2\n",
    "time_step = pxl_scale/wind_speed # This is timestep, as one pixel added on each iteration\n",
    "\n",
    "print(\"Run tests\")\n",
    "z_coeffs_inf = numpy.zeros((n_tests, n_scrns, n_zerns))\n",
    "# fig = pyplot.figure()\n",
    "\n",
    "for n in tnrange(n_tests):\n",
    "    print(\"Init phase screen\")\n",
    "    phase_screen = infinitephasescreen.PhaseScreenVonKarman(nx_size, pxl_scale, r0, L0, n_columns=nCol)\n",
    "    for i in tnrange(n_scrns):\n",
    "        \n",
    "        # Go in all directions\n",
    "        phase_screen.add_row()\n",
    "        if n%4 == 0:\n",
    "            scrn = phase_screen.scrn\n",
    "        elif n%4 == 1:\n",
    "            scrn = phase_screen.scrn.T\n",
    "        elif n%4 == 2:\n",
    "            scrn = phase_screen.scrn[::-1]\n",
    "        else:\n",
    "            scrn = phase_screen.scrn[::-1].T\n",
    "            \n",
    "        z_coeffs_inf[n, i] = (scrn * Zs).sum((-1, -2))/(Zs[0].sum())\n",
    "    \n",
    "#         pyplot.cla()\n",
    "#         pyplot.imshow(scrn)\n",
    "#         fig.canvas.draw()\n",
    "    \n",
    "z_vars_inf = z_coeffs_inf.var(1)"
   ]
  },
  {
   "cell_type": "code",
   "execution_count": 8,
   "metadata": {},
   "outputs": [
    {
     "data": {
      "application/javascript": [
       "/* Put everything inside the global mpl namespace */\n",
       "window.mpl = {};\n",
       "\n",
       "\n",
       "mpl.get_websocket_type = function() {\n",
       "    if (typeof(WebSocket) !== 'undefined') {\n",
       "        return WebSocket;\n",
       "    } else if (typeof(MozWebSocket) !== 'undefined') {\n",
       "        return MozWebSocket;\n",
       "    } else {\n",
       "        alert('Your browser does not have WebSocket support.' +\n",
       "              'Please try Chrome, Safari or Firefox ≥ 6. ' +\n",
       "              'Firefox 4 and 5 are also supported but you ' +\n",
       "              'have to enable WebSockets in about:config.');\n",
       "    };\n",
       "}\n",
       "\n",
       "mpl.figure = function(figure_id, websocket, ondownload, parent_element) {\n",
       "    this.id = figure_id;\n",
       "\n",
       "    this.ws = websocket;\n",
       "\n",
       "    this.supports_binary = (this.ws.binaryType != undefined);\n",
       "\n",
       "    if (!this.supports_binary) {\n",
       "        var warnings = document.getElementById(\"mpl-warnings\");\n",
       "        if (warnings) {\n",
       "            warnings.style.display = 'block';\n",
       "            warnings.textContent = (\n",
       "                \"This browser does not support binary websocket messages. \" +\n",
       "                    \"Performance may be slow.\");\n",
       "        }\n",
       "    }\n",
       "\n",
       "    this.imageObj = new Image();\n",
       "\n",
       "    this.context = undefined;\n",
       "    this.message = undefined;\n",
       "    this.canvas = undefined;\n",
       "    this.rubberband_canvas = undefined;\n",
       "    this.rubberband_context = undefined;\n",
       "    this.format_dropdown = undefined;\n",
       "\n",
       "    this.image_mode = 'full';\n",
       "\n",
       "    this.root = $('<div/>');\n",
       "    this._root_extra_style(this.root)\n",
       "    this.root.attr('style', 'display: inline-block');\n",
       "\n",
       "    $(parent_element).append(this.root);\n",
       "\n",
       "    this._init_header(this);\n",
       "    this._init_canvas(this);\n",
       "    this._init_toolbar(this);\n",
       "\n",
       "    var fig = this;\n",
       "\n",
       "    this.waiting = false;\n",
       "\n",
       "    this.ws.onopen =  function () {\n",
       "            fig.send_message(\"supports_binary\", {value: fig.supports_binary});\n",
       "            fig.send_message(\"send_image_mode\", {});\n",
       "            if (mpl.ratio != 1) {\n",
       "                fig.send_message(\"set_dpi_ratio\", {'dpi_ratio': mpl.ratio});\n",
       "            }\n",
       "            fig.send_message(\"refresh\", {});\n",
       "        }\n",
       "\n",
       "    this.imageObj.onload = function() {\n",
       "            if (fig.image_mode == 'full') {\n",
       "                // Full images could contain transparency (where diff images\n",
       "                // almost always do), so we need to clear the canvas so that\n",
       "                // there is no ghosting.\n",
       "                fig.context.clearRect(0, 0, fig.canvas.width, fig.canvas.height);\n",
       "            }\n",
       "            fig.context.drawImage(fig.imageObj, 0, 0);\n",
       "        };\n",
       "\n",
       "    this.imageObj.onunload = function() {\n",
       "        this.ws.close();\n",
       "    }\n",
       "\n",
       "    this.ws.onmessage = this._make_on_message_function(this);\n",
       "\n",
       "    this.ondownload = ondownload;\n",
       "}\n",
       "\n",
       "mpl.figure.prototype._init_header = function() {\n",
       "    var titlebar = $(\n",
       "        '<div class=\"ui-dialog-titlebar ui-widget-header ui-corner-all ' +\n",
       "        'ui-helper-clearfix\"/>');\n",
       "    var titletext = $(\n",
       "        '<div class=\"ui-dialog-title\" style=\"width: 100%; ' +\n",
       "        'text-align: center; padding: 3px;\"/>');\n",
       "    titlebar.append(titletext)\n",
       "    this.root.append(titlebar);\n",
       "    this.header = titletext[0];\n",
       "}\n",
       "\n",
       "\n",
       "\n",
       "mpl.figure.prototype._canvas_extra_style = function(canvas_div) {\n",
       "\n",
       "}\n",
       "\n",
       "\n",
       "mpl.figure.prototype._root_extra_style = function(canvas_div) {\n",
       "\n",
       "}\n",
       "\n",
       "mpl.figure.prototype._init_canvas = function() {\n",
       "    var fig = this;\n",
       "\n",
       "    var canvas_div = $('<div/>');\n",
       "\n",
       "    canvas_div.attr('style', 'position: relative; clear: both; outline: 0');\n",
       "\n",
       "    function canvas_keyboard_event(event) {\n",
       "        return fig.key_event(event, event['data']);\n",
       "    }\n",
       "\n",
       "    canvas_div.keydown('key_press', canvas_keyboard_event);\n",
       "    canvas_div.keyup('key_release', canvas_keyboard_event);\n",
       "    this.canvas_div = canvas_div\n",
       "    this._canvas_extra_style(canvas_div)\n",
       "    this.root.append(canvas_div);\n",
       "\n",
       "    var canvas = $('<canvas/>');\n",
       "    canvas.addClass('mpl-canvas');\n",
       "    canvas.attr('style', \"left: 0; top: 0; z-index: 0; outline: 0\")\n",
       "\n",
       "    this.canvas = canvas[0];\n",
       "    this.context = canvas[0].getContext(\"2d\");\n",
       "\n",
       "    var backingStore = this.context.backingStorePixelRatio ||\n",
       "\tthis.context.webkitBackingStorePixelRatio ||\n",
       "\tthis.context.mozBackingStorePixelRatio ||\n",
       "\tthis.context.msBackingStorePixelRatio ||\n",
       "\tthis.context.oBackingStorePixelRatio ||\n",
       "\tthis.context.backingStorePixelRatio || 1;\n",
       "\n",
       "    mpl.ratio = (window.devicePixelRatio || 1) / backingStore;\n",
       "\n",
       "    var rubberband = $('<canvas/>');\n",
       "    rubberband.attr('style', \"position: absolute; left: 0; top: 0; z-index: 1;\")\n",
       "\n",
       "    var pass_mouse_events = true;\n",
       "\n",
       "    canvas_div.resizable({\n",
       "        start: function(event, ui) {\n",
       "            pass_mouse_events = false;\n",
       "        },\n",
       "        resize: function(event, ui) {\n",
       "            fig.request_resize(ui.size.width, ui.size.height);\n",
       "        },\n",
       "        stop: function(event, ui) {\n",
       "            pass_mouse_events = true;\n",
       "            fig.request_resize(ui.size.width, ui.size.height);\n",
       "        },\n",
       "    });\n",
       "\n",
       "    function mouse_event_fn(event) {\n",
       "        if (pass_mouse_events)\n",
       "            return fig.mouse_event(event, event['data']);\n",
       "    }\n",
       "\n",
       "    rubberband.mousedown('button_press', mouse_event_fn);\n",
       "    rubberband.mouseup('button_release', mouse_event_fn);\n",
       "    // Throttle sequential mouse events to 1 every 20ms.\n",
       "    rubberband.mousemove('motion_notify', mouse_event_fn);\n",
       "\n",
       "    rubberband.mouseenter('figure_enter', mouse_event_fn);\n",
       "    rubberband.mouseleave('figure_leave', mouse_event_fn);\n",
       "\n",
       "    canvas_div.on(\"wheel\", function (event) {\n",
       "        event = event.originalEvent;\n",
       "        event['data'] = 'scroll'\n",
       "        if (event.deltaY < 0) {\n",
       "            event.step = 1;\n",
       "        } else {\n",
       "            event.step = -1;\n",
       "        }\n",
       "        mouse_event_fn(event);\n",
       "    });\n",
       "\n",
       "    canvas_div.append(canvas);\n",
       "    canvas_div.append(rubberband);\n",
       "\n",
       "    this.rubberband = rubberband;\n",
       "    this.rubberband_canvas = rubberband[0];\n",
       "    this.rubberband_context = rubberband[0].getContext(\"2d\");\n",
       "    this.rubberband_context.strokeStyle = \"#000000\";\n",
       "\n",
       "    this._resize_canvas = function(width, height) {\n",
       "        // Keep the size of the canvas, canvas container, and rubber band\n",
       "        // canvas in synch.\n",
       "        canvas_div.css('width', width)\n",
       "        canvas_div.css('height', height)\n",
       "\n",
       "        canvas.attr('width', width * mpl.ratio);\n",
       "        canvas.attr('height', height * mpl.ratio);\n",
       "        canvas.attr('style', 'width: ' + width + 'px; height: ' + height + 'px;');\n",
       "\n",
       "        rubberband.attr('width', width);\n",
       "        rubberband.attr('height', height);\n",
       "    }\n",
       "\n",
       "    // Set the figure to an initial 600x600px, this will subsequently be updated\n",
       "    // upon first draw.\n",
       "    this._resize_canvas(600, 600);\n",
       "\n",
       "    // Disable right mouse context menu.\n",
       "    $(this.rubberband_canvas).bind(\"contextmenu\",function(e){\n",
       "        return false;\n",
       "    });\n",
       "\n",
       "    function set_focus () {\n",
       "        canvas.focus();\n",
       "        canvas_div.focus();\n",
       "    }\n",
       "\n",
       "    window.setTimeout(set_focus, 100);\n",
       "}\n",
       "\n",
       "mpl.figure.prototype._init_toolbar = function() {\n",
       "    var fig = this;\n",
       "\n",
       "    var nav_element = $('<div/>')\n",
       "    nav_element.attr('style', 'width: 100%');\n",
       "    this.root.append(nav_element);\n",
       "\n",
       "    // Define a callback function for later on.\n",
       "    function toolbar_event(event) {\n",
       "        return fig.toolbar_button_onclick(event['data']);\n",
       "    }\n",
       "    function toolbar_mouse_event(event) {\n",
       "        return fig.toolbar_button_onmouseover(event['data']);\n",
       "    }\n",
       "\n",
       "    for(var toolbar_ind in mpl.toolbar_items) {\n",
       "        var name = mpl.toolbar_items[toolbar_ind][0];\n",
       "        var tooltip = mpl.toolbar_items[toolbar_ind][1];\n",
       "        var image = mpl.toolbar_items[toolbar_ind][2];\n",
       "        var method_name = mpl.toolbar_items[toolbar_ind][3];\n",
       "\n",
       "        if (!name) {\n",
       "            // put a spacer in here.\n",
       "            continue;\n",
       "        }\n",
       "        var button = $('<button/>');\n",
       "        button.addClass('ui-button ui-widget ui-state-default ui-corner-all ' +\n",
       "                        'ui-button-icon-only');\n",
       "        button.attr('role', 'button');\n",
       "        button.attr('aria-disabled', 'false');\n",
       "        button.click(method_name, toolbar_event);\n",
       "        button.mouseover(tooltip, toolbar_mouse_event);\n",
       "\n",
       "        var icon_img = $('<span/>');\n",
       "        icon_img.addClass('ui-button-icon-primary ui-icon');\n",
       "        icon_img.addClass(image);\n",
       "        icon_img.addClass('ui-corner-all');\n",
       "\n",
       "        var tooltip_span = $('<span/>');\n",
       "        tooltip_span.addClass('ui-button-text');\n",
       "        tooltip_span.html(tooltip);\n",
       "\n",
       "        button.append(icon_img);\n",
       "        button.append(tooltip_span);\n",
       "\n",
       "        nav_element.append(button);\n",
       "    }\n",
       "\n",
       "    var fmt_picker_span = $('<span/>');\n",
       "\n",
       "    var fmt_picker = $('<select/>');\n",
       "    fmt_picker.addClass('mpl-toolbar-option ui-widget ui-widget-content');\n",
       "    fmt_picker_span.append(fmt_picker);\n",
       "    nav_element.append(fmt_picker_span);\n",
       "    this.format_dropdown = fmt_picker[0];\n",
       "\n",
       "    for (var ind in mpl.extensions) {\n",
       "        var fmt = mpl.extensions[ind];\n",
       "        var option = $(\n",
       "            '<option/>', {selected: fmt === mpl.default_extension}).html(fmt);\n",
       "        fmt_picker.append(option)\n",
       "    }\n",
       "\n",
       "    // Add hover states to the ui-buttons\n",
       "    $( \".ui-button\" ).hover(\n",
       "        function() { $(this).addClass(\"ui-state-hover\");},\n",
       "        function() { $(this).removeClass(\"ui-state-hover\");}\n",
       "    );\n",
       "\n",
       "    var status_bar = $('<span class=\"mpl-message\"/>');\n",
       "    nav_element.append(status_bar);\n",
       "    this.message = status_bar[0];\n",
       "}\n",
       "\n",
       "mpl.figure.prototype.request_resize = function(x_pixels, y_pixels) {\n",
       "    // Request matplotlib to resize the figure. Matplotlib will then trigger a resize in the client,\n",
       "    // which will in turn request a refresh of the image.\n",
       "    this.send_message('resize', {'width': x_pixels, 'height': y_pixels});\n",
       "}\n",
       "\n",
       "mpl.figure.prototype.send_message = function(type, properties) {\n",
       "    properties['type'] = type;\n",
       "    properties['figure_id'] = this.id;\n",
       "    this.ws.send(JSON.stringify(properties));\n",
       "}\n",
       "\n",
       "mpl.figure.prototype.send_draw_message = function() {\n",
       "    if (!this.waiting) {\n",
       "        this.waiting = true;\n",
       "        this.ws.send(JSON.stringify({type: \"draw\", figure_id: this.id}));\n",
       "    }\n",
       "}\n",
       "\n",
       "\n",
       "mpl.figure.prototype.handle_save = function(fig, msg) {\n",
       "    var format_dropdown = fig.format_dropdown;\n",
       "    var format = format_dropdown.options[format_dropdown.selectedIndex].value;\n",
       "    fig.ondownload(fig, format);\n",
       "}\n",
       "\n",
       "\n",
       "mpl.figure.prototype.handle_resize = function(fig, msg) {\n",
       "    var size = msg['size'];\n",
       "    if (size[0] != fig.canvas.width || size[1] != fig.canvas.height) {\n",
       "        fig._resize_canvas(size[0], size[1]);\n",
       "        fig.send_message(\"refresh\", {});\n",
       "    };\n",
       "}\n",
       "\n",
       "mpl.figure.prototype.handle_rubberband = function(fig, msg) {\n",
       "    var x0 = msg['x0'] / mpl.ratio;\n",
       "    var y0 = (fig.canvas.height - msg['y0']) / mpl.ratio;\n",
       "    var x1 = msg['x1'] / mpl.ratio;\n",
       "    var y1 = (fig.canvas.height - msg['y1']) / mpl.ratio;\n",
       "    x0 = Math.floor(x0) + 0.5;\n",
       "    y0 = Math.floor(y0) + 0.5;\n",
       "    x1 = Math.floor(x1) + 0.5;\n",
       "    y1 = Math.floor(y1) + 0.5;\n",
       "    var min_x = Math.min(x0, x1);\n",
       "    var min_y = Math.min(y0, y1);\n",
       "    var width = Math.abs(x1 - x0);\n",
       "    var height = Math.abs(y1 - y0);\n",
       "\n",
       "    fig.rubberband_context.clearRect(\n",
       "        0, 0, fig.canvas.width, fig.canvas.height);\n",
       "\n",
       "    fig.rubberband_context.strokeRect(min_x, min_y, width, height);\n",
       "}\n",
       "\n",
       "mpl.figure.prototype.handle_figure_label = function(fig, msg) {\n",
       "    // Updates the figure title.\n",
       "    fig.header.textContent = msg['label'];\n",
       "}\n",
       "\n",
       "mpl.figure.prototype.handle_cursor = function(fig, msg) {\n",
       "    var cursor = msg['cursor'];\n",
       "    switch(cursor)\n",
       "    {\n",
       "    case 0:\n",
       "        cursor = 'pointer';\n",
       "        break;\n",
       "    case 1:\n",
       "        cursor = 'default';\n",
       "        break;\n",
       "    case 2:\n",
       "        cursor = 'crosshair';\n",
       "        break;\n",
       "    case 3:\n",
       "        cursor = 'move';\n",
       "        break;\n",
       "    }\n",
       "    fig.rubberband_canvas.style.cursor = cursor;\n",
       "}\n",
       "\n",
       "mpl.figure.prototype.handle_message = function(fig, msg) {\n",
       "    fig.message.textContent = msg['message'];\n",
       "}\n",
       "\n",
       "mpl.figure.prototype.handle_draw = function(fig, msg) {\n",
       "    // Request the server to send over a new figure.\n",
       "    fig.send_draw_message();\n",
       "}\n",
       "\n",
       "mpl.figure.prototype.handle_image_mode = function(fig, msg) {\n",
       "    fig.image_mode = msg['mode'];\n",
       "}\n",
       "\n",
       "mpl.figure.prototype.updated_canvas_event = function() {\n",
       "    // Called whenever the canvas gets updated.\n",
       "    this.send_message(\"ack\", {});\n",
       "}\n",
       "\n",
       "// A function to construct a web socket function for onmessage handling.\n",
       "// Called in the figure constructor.\n",
       "mpl.figure.prototype._make_on_message_function = function(fig) {\n",
       "    return function socket_on_message(evt) {\n",
       "        if (evt.data instanceof Blob) {\n",
       "            /* FIXME: We get \"Resource interpreted as Image but\n",
       "             * transferred with MIME type text/plain:\" errors on\n",
       "             * Chrome.  But how to set the MIME type?  It doesn't seem\n",
       "             * to be part of the websocket stream */\n",
       "            evt.data.type = \"image/png\";\n",
       "\n",
       "            /* Free the memory for the previous frames */\n",
       "            if (fig.imageObj.src) {\n",
       "                (window.URL || window.webkitURL).revokeObjectURL(\n",
       "                    fig.imageObj.src);\n",
       "            }\n",
       "\n",
       "            fig.imageObj.src = (window.URL || window.webkitURL).createObjectURL(\n",
       "                evt.data);\n",
       "            fig.updated_canvas_event();\n",
       "            fig.waiting = false;\n",
       "            return;\n",
       "        }\n",
       "        else if (typeof evt.data === 'string' && evt.data.slice(0, 21) == \"data:image/png;base64\") {\n",
       "            fig.imageObj.src = evt.data;\n",
       "            fig.updated_canvas_event();\n",
       "            fig.waiting = false;\n",
       "            return;\n",
       "        }\n",
       "\n",
       "        var msg = JSON.parse(evt.data);\n",
       "        var msg_type = msg['type'];\n",
       "\n",
       "        // Call the  \"handle_{type}\" callback, which takes\n",
       "        // the figure and JSON message as its only arguments.\n",
       "        try {\n",
       "            var callback = fig[\"handle_\" + msg_type];\n",
       "        } catch (e) {\n",
       "            console.log(\"No handler for the '\" + msg_type + \"' message type: \", msg);\n",
       "            return;\n",
       "        }\n",
       "\n",
       "        if (callback) {\n",
       "            try {\n",
       "                // console.log(\"Handling '\" + msg_type + \"' message: \", msg);\n",
       "                callback(fig, msg);\n",
       "            } catch (e) {\n",
       "                console.log(\"Exception inside the 'handler_\" + msg_type + \"' callback:\", e, e.stack, msg);\n",
       "            }\n",
       "        }\n",
       "    };\n",
       "}\n",
       "\n",
       "// from http://stackoverflow.com/questions/1114465/getting-mouse-location-in-canvas\n",
       "mpl.findpos = function(e) {\n",
       "    //this section is from http://www.quirksmode.org/js/events_properties.html\n",
       "    var targ;\n",
       "    if (!e)\n",
       "        e = window.event;\n",
       "    if (e.target)\n",
       "        targ = e.target;\n",
       "    else if (e.srcElement)\n",
       "        targ = e.srcElement;\n",
       "    if (targ.nodeType == 3) // defeat Safari bug\n",
       "        targ = targ.parentNode;\n",
       "\n",
       "    // jQuery normalizes the pageX and pageY\n",
       "    // pageX,Y are the mouse positions relative to the document\n",
       "    // offset() returns the position of the element relative to the document\n",
       "    var x = e.pageX - $(targ).offset().left;\n",
       "    var y = e.pageY - $(targ).offset().top;\n",
       "\n",
       "    return {\"x\": x, \"y\": y};\n",
       "};\n",
       "\n",
       "/*\n",
       " * return a copy of an object with only non-object keys\n",
       " * we need this to avoid circular references\n",
       " * http://stackoverflow.com/a/24161582/3208463\n",
       " */\n",
       "function simpleKeys (original) {\n",
       "  return Object.keys(original).reduce(function (obj, key) {\n",
       "    if (typeof original[key] !== 'object')\n",
       "        obj[key] = original[key]\n",
       "    return obj;\n",
       "  }, {});\n",
       "}\n",
       "\n",
       "mpl.figure.prototype.mouse_event = function(event, name) {\n",
       "    var canvas_pos = mpl.findpos(event)\n",
       "\n",
       "    if (name === 'button_press')\n",
       "    {\n",
       "        this.canvas.focus();\n",
       "        this.canvas_div.focus();\n",
       "    }\n",
       "\n",
       "    var x = canvas_pos.x * mpl.ratio;\n",
       "    var y = canvas_pos.y * mpl.ratio;\n",
       "\n",
       "    this.send_message(name, {x: x, y: y, button: event.button,\n",
       "                             step: event.step,\n",
       "                             guiEvent: simpleKeys(event)});\n",
       "\n",
       "    /* This prevents the web browser from automatically changing to\n",
       "     * the text insertion cursor when the button is pressed.  We want\n",
       "     * to control all of the cursor setting manually through the\n",
       "     * 'cursor' event from matplotlib */\n",
       "    event.preventDefault();\n",
       "    return false;\n",
       "}\n",
       "\n",
       "mpl.figure.prototype._key_event_extra = function(event, name) {\n",
       "    // Handle any extra behaviour associated with a key event\n",
       "}\n",
       "\n",
       "mpl.figure.prototype.key_event = function(event, name) {\n",
       "\n",
       "    // Prevent repeat events\n",
       "    if (name == 'key_press')\n",
       "    {\n",
       "        if (event.which === this._key)\n",
       "            return;\n",
       "        else\n",
       "            this._key = event.which;\n",
       "    }\n",
       "    if (name == 'key_release')\n",
       "        this._key = null;\n",
       "\n",
       "    var value = '';\n",
       "    if (event.ctrlKey && event.which != 17)\n",
       "        value += \"ctrl+\";\n",
       "    if (event.altKey && event.which != 18)\n",
       "        value += \"alt+\";\n",
       "    if (event.shiftKey && event.which != 16)\n",
       "        value += \"shift+\";\n",
       "\n",
       "    value += 'k';\n",
       "    value += event.which.toString();\n",
       "\n",
       "    this._key_event_extra(event, name);\n",
       "\n",
       "    this.send_message(name, {key: value,\n",
       "                             guiEvent: simpleKeys(event)});\n",
       "    return false;\n",
       "}\n",
       "\n",
       "mpl.figure.prototype.toolbar_button_onclick = function(name) {\n",
       "    if (name == 'download') {\n",
       "        this.handle_save(this, null);\n",
       "    } else {\n",
       "        this.send_message(\"toolbar_button\", {name: name});\n",
       "    }\n",
       "};\n",
       "\n",
       "mpl.figure.prototype.toolbar_button_onmouseover = function(tooltip) {\n",
       "    this.message.textContent = tooltip;\n",
       "};\n",
       "mpl.toolbar_items = [[\"Home\", \"Reset original view\", \"fa fa-home icon-home\", \"home\"], [\"Back\", \"Back to  previous view\", \"fa fa-arrow-left icon-arrow-left\", \"back\"], [\"Forward\", \"Forward to next view\", \"fa fa-arrow-right icon-arrow-right\", \"forward\"], [\"\", \"\", \"\", \"\"], [\"Pan\", \"Pan axes with left mouse, zoom with right\", \"fa fa-arrows icon-move\", \"pan\"], [\"Zoom\", \"Zoom to rectangle\", \"fa fa-square-o icon-check-empty\", \"zoom\"], [\"\", \"\", \"\", \"\"], [\"Download\", \"Download plot\", \"fa fa-floppy-o icon-save\", \"download\"]];\n",
       "\n",
       "mpl.extensions = [\"eps\", \"jpeg\", \"pdf\", \"png\", \"ps\", \"raw\", \"svg\", \"tif\"];\n",
       "\n",
       "mpl.default_extension = \"png\";var comm_websocket_adapter = function(comm) {\n",
       "    // Create a \"websocket\"-like object which calls the given IPython comm\n",
       "    // object with the appropriate methods. Currently this is a non binary\n",
       "    // socket, so there is still some room for performance tuning.\n",
       "    var ws = {};\n",
       "\n",
       "    ws.close = function() {\n",
       "        comm.close()\n",
       "    };\n",
       "    ws.send = function(m) {\n",
       "        //console.log('sending', m);\n",
       "        comm.send(m);\n",
       "    };\n",
       "    // Register the callback with on_msg.\n",
       "    comm.on_msg(function(msg) {\n",
       "        //console.log('receiving', msg['content']['data'], msg);\n",
       "        // Pass the mpl event to the overriden (by mpl) onmessage function.\n",
       "        ws.onmessage(msg['content']['data'])\n",
       "    });\n",
       "    return ws;\n",
       "}\n",
       "\n",
       "mpl.mpl_figure_comm = function(comm, msg) {\n",
       "    // This is the function which gets called when the mpl process\n",
       "    // starts-up an IPython Comm through the \"matplotlib\" channel.\n",
       "\n",
       "    var id = msg.content.data.id;\n",
       "    // Get hold of the div created by the display call when the Comm\n",
       "    // socket was opened in Python.\n",
       "    var element = $(\"#\" + id);\n",
       "    var ws_proxy = comm_websocket_adapter(comm)\n",
       "\n",
       "    function ondownload(figure, format) {\n",
       "        window.open(figure.imageObj.src);\n",
       "    }\n",
       "\n",
       "    var fig = new mpl.figure(id, ws_proxy,\n",
       "                           ondownload,\n",
       "                           element.get(0));\n",
       "\n",
       "    // Call onopen now - mpl needs it, as it is assuming we've passed it a real\n",
       "    // web socket which is closed, not our websocket->open comm proxy.\n",
       "    ws_proxy.onopen();\n",
       "\n",
       "    fig.parent_element = element.get(0);\n",
       "    fig.cell_info = mpl.find_output_cell(\"<div id='\" + id + \"'></div>\");\n",
       "    if (!fig.cell_info) {\n",
       "        console.error(\"Failed to find cell for figure\", id, fig);\n",
       "        return;\n",
       "    }\n",
       "\n",
       "    var output_index = fig.cell_info[2]\n",
       "    var cell = fig.cell_info[0];\n",
       "\n",
       "};\n",
       "\n",
       "mpl.figure.prototype.handle_close = function(fig, msg) {\n",
       "    var width = fig.canvas.width/mpl.ratio\n",
       "    fig.root.unbind('remove')\n",
       "\n",
       "    // Update the output cell to use the data from the current canvas.\n",
       "    fig.push_to_output();\n",
       "    var dataURL = fig.canvas.toDataURL();\n",
       "    // Re-enable the keyboard manager in IPython - without this line, in FF,\n",
       "    // the notebook keyboard shortcuts fail.\n",
       "    IPython.keyboard_manager.enable()\n",
       "    $(fig.parent_element).html('<img src=\"' + dataURL + '\" width=\"' + width + '\">');\n",
       "    fig.close_ws(fig, msg);\n",
       "}\n",
       "\n",
       "mpl.figure.prototype.close_ws = function(fig, msg){\n",
       "    fig.send_message('closing', msg);\n",
       "    // fig.ws.close()\n",
       "}\n",
       "\n",
       "mpl.figure.prototype.push_to_output = function(remove_interactive) {\n",
       "    // Turn the data on the canvas into data in the output cell.\n",
       "    var width = this.canvas.width/mpl.ratio\n",
       "    var dataURL = this.canvas.toDataURL();\n",
       "    this.cell_info[1]['text/html'] = '<img src=\"' + dataURL + '\" width=\"' + width + '\">';\n",
       "}\n",
       "\n",
       "mpl.figure.prototype.updated_canvas_event = function() {\n",
       "    // Tell IPython that the notebook contents must change.\n",
       "    IPython.notebook.set_dirty(true);\n",
       "    this.send_message(\"ack\", {});\n",
       "    var fig = this;\n",
       "    // Wait a second, then push the new image to the DOM so\n",
       "    // that it is saved nicely (might be nice to debounce this).\n",
       "    setTimeout(function () { fig.push_to_output() }, 1000);\n",
       "}\n",
       "\n",
       "mpl.figure.prototype._init_toolbar = function() {\n",
       "    var fig = this;\n",
       "\n",
       "    var nav_element = $('<div/>')\n",
       "    nav_element.attr('style', 'width: 100%');\n",
       "    this.root.append(nav_element);\n",
       "\n",
       "    // Define a callback function for later on.\n",
       "    function toolbar_event(event) {\n",
       "        return fig.toolbar_button_onclick(event['data']);\n",
       "    }\n",
       "    function toolbar_mouse_event(event) {\n",
       "        return fig.toolbar_button_onmouseover(event['data']);\n",
       "    }\n",
       "\n",
       "    for(var toolbar_ind in mpl.toolbar_items){\n",
       "        var name = mpl.toolbar_items[toolbar_ind][0];\n",
       "        var tooltip = mpl.toolbar_items[toolbar_ind][1];\n",
       "        var image = mpl.toolbar_items[toolbar_ind][2];\n",
       "        var method_name = mpl.toolbar_items[toolbar_ind][3];\n",
       "\n",
       "        if (!name) { continue; };\n",
       "\n",
       "        var button = $('<button class=\"btn btn-default\" href=\"#\" title=\"' + name + '\"><i class=\"fa ' + image + ' fa-lg\"></i></button>');\n",
       "        button.click(method_name, toolbar_event);\n",
       "        button.mouseover(tooltip, toolbar_mouse_event);\n",
       "        nav_element.append(button);\n",
       "    }\n",
       "\n",
       "    // Add the status bar.\n",
       "    var status_bar = $('<span class=\"mpl-message\" style=\"text-align:right; float: right;\"/>');\n",
       "    nav_element.append(status_bar);\n",
       "    this.message = status_bar[0];\n",
       "\n",
       "    // Add the close button to the window.\n",
       "    var buttongrp = $('<div class=\"btn-group inline pull-right\"></div>');\n",
       "    var button = $('<button class=\"btn btn-mini btn-primary\" href=\"#\" title=\"Stop Interaction\"><i class=\"fa fa-power-off icon-remove icon-large\"></i></button>');\n",
       "    button.click(function (evt) { fig.handle_close(fig, {}); } );\n",
       "    button.mouseover('Stop Interaction', toolbar_mouse_event);\n",
       "    buttongrp.append(button);\n",
       "    var titlebar = this.root.find($('.ui-dialog-titlebar'));\n",
       "    titlebar.prepend(buttongrp);\n",
       "}\n",
       "\n",
       "mpl.figure.prototype._root_extra_style = function(el){\n",
       "    var fig = this\n",
       "    el.on(\"remove\", function(){\n",
       "\tfig.close_ws(fig, {});\n",
       "    });\n",
       "}\n",
       "\n",
       "mpl.figure.prototype._canvas_extra_style = function(el){\n",
       "    // this is important to make the div 'focusable\n",
       "    el.attr('tabindex', 0)\n",
       "    // reach out to IPython and tell the keyboard manager to turn it's self\n",
       "    // off when our div gets focus\n",
       "\n",
       "    // location in version 3\n",
       "    if (IPython.notebook.keyboard_manager) {\n",
       "        IPython.notebook.keyboard_manager.register_events(el);\n",
       "    }\n",
       "    else {\n",
       "        // location in version 2\n",
       "        IPython.keyboard_manager.register_events(el);\n",
       "    }\n",
       "\n",
       "}\n",
       "\n",
       "mpl.figure.prototype._key_event_extra = function(event, name) {\n",
       "    var manager = IPython.notebook.keyboard_manager;\n",
       "    if (!manager)\n",
       "        manager = IPython.keyboard_manager;\n",
       "\n",
       "    // Check for shift+enter\n",
       "    if (event.shiftKey && event.which == 13) {\n",
       "        this.canvas_div.blur();\n",
       "        // select the cell after this one\n",
       "        var index = IPython.notebook.find_cell_index(this.cell_info[0]);\n",
       "        IPython.notebook.select(index + 1);\n",
       "    }\n",
       "}\n",
       "\n",
       "mpl.figure.prototype.handle_save = function(fig, msg) {\n",
       "    fig.ondownload(fig, null);\n",
       "}\n",
       "\n",
       "\n",
       "mpl.find_output_cell = function(html_output) {\n",
       "    // Return the cell and output element which can be found *uniquely* in the notebook.\n",
       "    // Note - this is a bit hacky, but it is done because the \"notebook_saving.Notebook\"\n",
       "    // IPython event is triggered only after the cells have been serialised, which for\n",
       "    // our purposes (turning an active figure into a static one), is too late.\n",
       "    var cells = IPython.notebook.get_cells();\n",
       "    var ncells = cells.length;\n",
       "    for (var i=0; i<ncells; i++) {\n",
       "        var cell = cells[i];\n",
       "        if (cell.cell_type === 'code'){\n",
       "            for (var j=0; j<cell.output_area.outputs.length; j++) {\n",
       "                var data = cell.output_area.outputs[j];\n",
       "                if (data.data) {\n",
       "                    // IPython >= 3 moved mimebundle to data attribute of output\n",
       "                    data = data.data;\n",
       "                }\n",
       "                if (data['text/html'] == html_output) {\n",
       "                    return [cell, data, j];\n",
       "                }\n",
       "            }\n",
       "        }\n",
       "    }\n",
       "}\n",
       "\n",
       "// Register the function which deals with the matplotlib target/channel.\n",
       "// The kernel may be null if the page has been refreshed.\n",
       "if (IPython.notebook.kernel != null) {\n",
       "    IPython.notebook.kernel.comm_manager.register_target('matplotlib', mpl.mpl_figure_comm);\n",
       "}\n"
      ],
      "text/plain": [
       "<IPython.core.display.Javascript object>"
      ]
     },
     "metadata": {},
     "output_type": "display_data"
    },
    {
     "data": {
      "text/html": [
       "<img src=\"data:image/png;base64,iVBORw0KGgoAAAANSUhEUgAAAyAAAAJYCAYAAACadoJwAAAgAElEQVR4XuzdB3hU1dr28TuV3jvYQERRLCDqsVJsqGA/VlT0oIJiRTmoKBZQBCkKgigCIlIUxQ4qekRFRQ0WulTp0nsS0r7rGfe83xgTSLJ2JjOT/74u3leTmWfW+q3Ncd+z9lo7ThwIIIAAAggggAACCCCAQJgE4sL0OXwMAggggAACCCCAAAIIICACCCcBAggggAACCCCAAAIIhE2AABI2aj4IAQQQQAABBBBAAAEECCCcAwgggAACCCCAAAIIIBA2AQJI2Kj5IAQQQAABBBBAAAEEECCAcA4ggAACCCCAAAIIIIBA2AQIIGGj5oMQQAABBBBAAAEEEECAAMI5gAACCCCAAAIIIIAAAmETIICEjZoPQgABBBBAAAEEEEAAAQII5wACCCCAAAIIIIAAAgiETYAAEjZqPggBBBBAAAEEEEAAAQQIIJwDCCCAAAIIIIAAAgggEDYBAkjYqPkgBBBAAAEEEEAAAQQQIIBwDiCAAAIIIIAAAggggEDYBAggYaPmgxBAAAEEEEAAAQQQQIAAwjmAAAIIIIAAAggggAACYRMggISNmg9CAAEEEEAAAQQQQAABAgjnAAIIIIAAAggggAACCIRNgAASNmo+CAEEEEAAAQQQQAABBAggnAMIIIAAAggggAACCCAQNgECSNio+SAEEEAAAQQQQAABBBAggHAOIIAAAggggAACCCCAQNgECCBho+aDEEAAAQQQQAABBBBAgADCOYAAAggggAACCCCAAAJhEyCAhI2aD0IAAQQQQAABBBBAAAECCOcAAggggAACCCCAAAIIhE2AABI2aj4IAQQQQAABBBBAAAEECCCcAwgggAACCCCAAAIIIBA2AQJI2Kj5IAQQQAABBBBAAAEEECCAcA4ggAACCCCAAAIIIIBA2AQIIGGj5oMQQAABBBBAAAEEEECAAMI5gAACCCCAAAIIIIAAAmETIICEjZoPQgABBBBAAAEEEEAAAQII5wACCCCAAAIIIIAAAgiETYAAEjZqPggBBBBAAAEEEEAAAQQIIJwDCCCAAAIIIIAAAgggEDYBAkjYqPkgBBBAAAEEEEAAAQQQIIBwDiCAAAIIIIAAAggggEDYBAggYaPmgxBAAAEEEEAAAQQQQIAAwjmAAAIIIIAAAggggAACYRMggISNmg9CAAEEEEAAAQQQQAABAgjnAAIIIIAAAggggAACCIRNgAASNmo+CAEEEEAAAQQQQAABBAggnAMIIIAAAggggAACCCAQNgECSNio+SAEEEAAAQQQQAABBBAggHAOIIBAOARWSjq0EB/UUJK9J5KOwyStkDRTUuuQhnWSNEbSE5IeL4EGfympVa7P3SNpuaT3JA2QtLME2hUJHxkvycbnBknHS6okaaukDZJ+kGR2b0RCQ2kDAgggUJoECCClabTpKwIlJ/CcpJoH+PhTJTWRtFvSIZK2lVxz8/zkSA8gn3gX1tb4BpJOk1Re0iLvnyPNs7iHN9kLYO0kZXuB4w9JZbwwYiE3XVLZ4m6ID/Ut2PaWdLOksT7UowQCCCBQogIEkBLl58MRQMATOFLST5IqSrpe0oQIlEmSdLikvZJWhbQvUmZA2njf6AebZhfYX0iy4DRQ0gMRaFqcTbrf6/dqSed5QSz0846RdJOkHsXZCJ9qE0B8gqQMAghEhgABJDLGgVYgUJoFykmaLelYSa9Iui3KMCI1gBjjjZJek7RMUuMoc3Vt7ixv5udWSaNci5Xw+wkgJTwAfDwCCPgrQADx15NqCCBQeAG7OPyPpLmSTpGUmkcJu5XoHklXSTrC+/08SSO8C+zcb8mRZLfb2C1dPSVdJ8lmBKZJutRbFxBctzFaUj9J53ozMPO99Rwf5CpalFuwuntrMH736tu38cHD+mqzEmdIqiFpo6Tpkp7MNcNyINHgGpDcMyD2Pgt1v0na5916FFrL1kXcLuk4SYmSlkqaKGmwpLSQF+Z38XuCpJ+915ndjJD3tJdkfi9K6parA3ZL1F2STpZUWdJaSe9K6itpS67X2u1GNkthfbNbp2wsm0uqIqmapO37wTFzO1dsvG0tTEGO0DG+WNJTki6XVMtb//OypOe9W7py1yvsOWrvt3G3mRr7rEaSsrzz1s5TG4f13lqo/NZPBcc8NATb7KGdQ/Y7a7e133yD67Dy+u++rWn6n/d3yWoFj1B/O0ce8/zt76iZ2vm7Q1Jtz8rG3fpk55zNLNm5yYEAAgj8Q4AAwkmBAAIlKWC3W4331n20lLQ4j8bYxc1n3oWyLR6eI8n+t8vWONiF6DDvgjb0rRZA7GLfQspZ3sJxW5htF7hdQwKIzQ5cIGmXdwuYrT2xtSi2ZsB+/mlI0cIGkKclPeTVtVqbQ2rdIWmo9+8/eoHDbkOzMLDJW1S+sIADs78AYkY2E2D9s4v94DHSm2myoGG3adltZXYRaut0vpN0jvcze71dyNprzCr04vQ+SYO8ghYeeoXUt1u+7ML635KmhPzcgt5/vUBk/bYLbFscbkHBZmlOl/RnHhfANjPW2bO019mtcBZ67OI3v+NzSW0lfehdhGcUwDM4xt9LCt5yZ3239SRnS7LZutwOVrYo52hT7/w6yFu7Y+52WGi228Mu84KDrZ+y8TAnG0sLisHDPG2NTzCATJJ0oXee2yJ7C2kvSPrIMYBYjTu9c8P+Dv5LkrXbNmS40pvBTJBkbmZo4drW15zkfbFQAHpeggACpUmAAFKaRpu+IhBZAqHrPuzbeAsieR128WQXVfbNs1282oWNHXW8i0sLLnaBb7MHwcMCiB12sWYX1vYte+gRvGCzn9nFsn1ba6HDjnu9b5+/9sJL8H0FDSC285LNzNitZPat8iVeAAjWsYu3b7yLTvtdSkjDbCbIZoTsljR7XUGO/QWQZ7xZA7twtZkWO67wQsE6z2aJ93MLc3axbq8LXTNii7RtpsEuPM0geNg34BZObHG7hb1gffu99amFd2FugcoOCyNveqHQLq6DF9L23yGbZbFv1ydLuibkM4LfwNuP7Of2+4Ie9nqb0bHD1uy8411AW9ssxOR1BMfYfmff4lvoCAZHCz1fSaofEg6CNQp7jtpsgoVj+zswJCSUBetZALFwGGzngW7BCj2fLZDbOWyzKaGHywyI/d2wWRrrpx22m9i3kppJWuB9KXCLpGDIs5kjC6TjvBmsgo4Zr0MAgVIiQAApJQNNNxGIMIHQdR+vet9u59XE4G0+9m25XZAHQ0LwtXY7js2IvO9d6Ad/Hgwgub+BD/4+eMFm2+oe5X0jH/ydXRza7VC2IN7+2O1LdhQkgNishwUp+1y77cUugoOBKVjffm7Bo4N3wZ+733Zhbxd7dgEfvMVpf8OXVwCxi+RrJVl77Nv7jiHbzdq31jYrZLdf2S1FoYfNwPwiyWaL7Pad4K1YwfcEt0e2kGUX5vaNt1nZZ9m37TaTYkHGtrq1b+btQjp4WF37Ft9uC7OL79DD/ltk42i/qxty0R8MIHbha7f3FPawWRq7GK6Q6412MW6zQHbxH3q7WWgAsYXrNvMWenTxwqXNrtishB1FOUftVkILU3a7n5nkDgu5+1nQAGJhz/pg45D7cAkgdk7blwShx93elwK2xbN9Zugua3YO2L9b8AsNrYUdP16PAAIxKkAAidGBpVsIRLhA8JYauxC1tQB5rfuwLtjMxLOSHvEupvPqlt1eZFv31gv5pQUQ+2NBJ3cAsJcFA4itA7FvbnMfwW/w7ULebhOy40ABxG6VsYtJuzXILpztlqHcF5Z24W63Ddn/rxryjXHo59t99fbsDrvYtYvkAx15PQck+B4zsFkQ87PDbisyKwslFq4saOQ+gkHBbkWzgGGHrSl4NGQb2GDwsxkpCyDmGFwHYsHKAuFw77Yde7/domS3Vtlsi91ilNdh39zbbT62RsS2FLYjGEDyCksHcgn+vro362MzYXZLUHANkf3e+me3aQXPv+AYW4CytQy5D7uwttkge735WSAuyjlqwc8Wx1tAshB0oKOgAcRmfGy9U16HSwCxzQxez1U0uM7HblGzmaLchwVUmymxtTscCCCAwN8ECCCcEAggEG4Bu0Cyh7/Zxa/dPmXflOd32EWsrdk40JHpXVwHX2cX3nbBa9+m53UEA4h9O263/uQ+ghf1oQ9EPFAAsTbY7MnH3rf1wVmY0NrBC/ED9cd+b7ew2NqKAx3BtgafA2KfaxfIdouTBYHQNQPmYYHKLg5thiOvIzhDY/f2v+29wC7S7Vv/4PqH4PoPC4/2rbvNJAXXgQTXf9i3/G9577fX2W1lBTlCZ2uCAST3LXYFqZPfa2xBtwUdW6Ni6xZCnYNjbDNPNgOV12Hf7Ft4tPUytqaoKOeoLTK3oGUzXbk3O8jrMwsaQCys20L9vA6XAGIBw4JG6BFcuG7BxAJK7mN/n+cyfrwXAQRiQIAAEgODSBcQiCKB0HUfeX2rmrsrL3m3Ctmaifzu2w++J3SBdHAXrPxu/zjQ1rlFCSB2IWm3NtntPnZLUuji62AbgwHAZiGCF/f5DZ8FAftzoGN/a0Byv7cgAWSqt3NUaACxmST75t/Ci5nabWJ2AWqzCzbLYxeba7x1IMHZI1ujY7Mjdtjtc7bI2taRBGc38uuXrYGx8bYjdBcmv3dUsgX0FqSsXbZY346iBJCinKPFFUCe8NbT5GW7v0CQO2AG378///x2zgq+lwByoL+5/B6BUixAACnFg0/XEQizgC1mtm/BbZ1Bfrc+5W6SfTttsxR2W5J9s17QoyQCiF382YWl7ZxlW7Je7S18Dm2zzZDYLWO2rsS+Rc9rlqSgfQy+rjABpCC3YNm3/7auIfQWLPssW5RvC81tMbY9NNIu3C8KCQoWuuwC3oKI7WZ2dEhHbMek4K5kts6joEdxBpDgLUSht4UFA4jNbNgMR+7DdhKzW+hshsluL7LwVZRztLhuwdpfAAluS2zttgAcethWx2ade4cvAkhBz1RehwAChRIggBSKixcjgICDQHDdhy28tVty8loom7u8bedp9+mH7uJUkCaUVACxW2Xswt2+5bfAZYvRcz+DIvjtd+5nZxSkX3m9pjABxN4fXFBua1RsA4DQw3Y1st2fci9Ct9cEdzayLVltAfKDkmzdix3BGaXg72wXMNtqOPSwbYVt/YdtP2sXwwU5XAKI/fdtfwEvuNuZ+dluXnaELkK3ReZ221noYTub2bqc0HUPRTlHg4vQbQ2UrRvKvblCbpuHvVvc8nuo4oFm9ELH/URvwX/oZ9gic9sSmwBSkLOS1yCAgLMAAcSZkAIIIFAAgeC6DwsdthDYtu4s6GEzCnaxbvfa23M1bNed0MMu4GwBeu5teO1BhOG8BSv022e7pcdCiC32tluZQu/zt1kECwG2Da7tLJT71iJb3GwXqLagOL/F+aH9L2wAsfbY2gybqWglablXzL4Zt3baz0K34Q1+lq0DsIcN2q5RFq5sHG0mJPTCPfi7vLbMDZ4DdtFt/bbF7qGHLfq2h+ZZUA0eLgHE+mK7WNnFtS0qDz0sNNhaHbuFzB6UaA9MDO2H/bO1z0JI8OGIth7IZoEaeIvabVvf4FHYc9RmwiyIWyAzazuvQ59TYruH2dgHxyYYMCzwWfDLfRQkgAQ3ErBbA218ghsk2MyVGdnGCASQPHD5EQII+C9AAPHflIoIIPB3Adue1bbjtAtru93Fnh9woCP4gDV7nS3ctnBhOy/ZOgS7MLSLd9uRyG7nOtjbDtS+0Q4eJTkDEmyDBQ1rt932ZBfWwWco2O9thyvb9ckWQdsFuc0I2AWoBSa7/cl2DjrQk76Dn1PYAGLvCz6I0C5yQx9EaAvTbcbJwkbuGSq7rcwWYFuostuQLDCE7vIVvOff6ttak9AHCgbbagvV7dt8+8bfxtHW9dh/h+y2LhtLuzXIbk0LHi4BJLibl20OYP9sC+XtIts+y4ztsJBiY2OvsSP0QYTWT3s6ufnYGJqJGeS1JW1RzlGbbbKAFFyXY7e0mYXt0mW/Cz6I0Nplu7GZlbXD3mPnv53jtlua3e5WkABia3LmepsP2PlmM13Bz7KZK1sPQwA50P8y8XsEEPBFgADiCyNFEEBgPwKht7UUFMpuiQmdGbBv3O32E/vm1r4dtkXRdoFr3xDbw/PsCdD2jX7wiIQAYm2xRen2Tbt9431prlkauwi20GSLeW0Gxy747YGJtk7Gvl239xVkjUhRAoi1zWYhLAjZhb+1zy5wJ3gPYcxv5sUWh9vTyvN6LkcwLNiuZnabVX6Hmdisg9WxwGMzWtZve8ifzczY/w8eLgGksfeASps9s80P7CLegp3tAGbPHLGd2Oy8CTUO3enMntViz1GxcbP1IBZgbHbGts3N67kdhT1HrY8WXGxGw3bDOsTbMtrCuo29fY4t2g8e9lwS27HNZvwszNsR/HtSkABir7dn3lhosVkuC2O2YYDdNmgG9tBMAkhB/xeK1yGAgJMAAcSJjzcjgAACCMSQQH5bLcdQF+kKAgggUPICBJCSHwNagAACCCAQGQIEkMgYB1qBAAIxLkAAifEBpnsIIIAAAgUWIIAUmIoXIoAAAkUXIIAU3Y53IoAAAgjElgABJLbGk94ggECEChBAInRgaBYCCCCAAAIIIIAAArEoQACJxVGlTwgggAACCCCAAAIIRKgAASRCB4ZmIYAAAggggAACCCAQiwIEkFgcVfqEAAIIIIAAAggggECEChBAInRgaBYCCCCAAAIIIIAAArEoQACJrFGtIel8SSslpUVW02gNAggggAACCCCAgKSykmzXvE8kbUGk8AIEkMKbFec7rpP0RnF+ALURQAABBBBAAAEEfBG4XtIEXyqVsiIEkMga8NMkzRo/fryaNm0aWS2jNQgggAACCCCAAAJauHChOnbsaBKnS/oWksILEEAKb1ac72ghKSUlJUUtWtg/ciCAAAIIIIAAAghEksCcOXN04oknWpPs/8yJpLZFS1sIIJExUgmS4iU1lzSbABIZg0IrEEAAAQQQQACB3AIEEPdzggDibuhHhccl9Q4WIoD4QUoNBBBAAAEEEEDAfwECiLspAcTd0I8KzID4oUgNBBBAAAEEEECgmAUIIO7ABBB3Qz8rsAbET01qIYAAAggggAACPgsQQNxBCSDuhn5WIID4qUktBBBAAAEEEEDAZwECiDsoAcTd0M8KBBA/NamFAAIIIIAAAgj4LEAAcQclgLgb+lGBNSB+KFIDAQQQQAABBBAoZgECiDswAcTd0I8K7ILlhyI1EEAAAQQQQACBYhYggLgDE0DcDf2owAyIH4rUQAABBBBAAAEEilmAAOIOTABxN/SzAmtA/NSkFgIIIIAAAggg4LMAAcQdlADibuhnBQKIn5rUQgABBBBAAAEEfBYggLiDEkDcDf2sQADxU5NaCCCAAAIIIICAzwIEEHdQAoi7oZ8VCCB+alILAQQQQAABBBDwWYAA4g5KAHE39LMCAcRPTWohgAACCCCAAAI+CxBA3EEJIO6GflRgFyw/FKmBAAIIIIAAAggUswABxB2YAOJu6EcFngPihyI1EEAAAQQQQACBYhYggLgDE0DcDf2oEPYZkJzsbGXv3StlZSmubFnFlynjRz+ogQACCCCAAAIIxLQAAcR9eAkg7oZ+VgjbGpDs9HSlL1kaaHtS3TpKrFnTz35QCwEEEEAAAQQQiEkBAoj7sBJA3A39rBC2AJKTkaG0xb8H2p5Yq5aS6tT2sx/UQgABBBBAAAEEYlKAAOI+rAQQd0M/K4QvgGRnK23Bwr8CSPVqSqpf389+UAsBBBBAAAEEEIhJAQKI+7ASQNwN/awQtgBijU6dP1/KkRKqVlHyQQf52Q9qIYAAAggggAACMSlAAHEfVgKIu6GfFcIaQNIWL1ZORqYSKlVU8qGH+tkPaiGAAAIIIIAAAjEpQABxH1YCiLuhnxXCFkByMrO1N2WhslPTlFizoso1O9LPflALAQQQQAABBBCISQECiPuwEkDcDf2sEL4AkrpHe2bOVE56hhLq1lX5U07xsx/UQgABBBBAAAEEYlKAAOI+rAQQd0M/KoT/OSAZ+7T3iy+UnZau+OrVVeHMM/3oBzUQQAABBBBAAIGYFiCAuA8vAcTd0I8K4X8Sena29nw+Q9l7UxVfuYoqtGntRz+ogQACCCCAAAIIxLQAAcR9eAkg7oZ+VAj7DIg1eu8Xnytr127Fla+gCuecrbg4Tgc/BpMaCCCAAAIIIBC7AgQQ97HlitPd0M8KYVsDYo1O/XqmMrduV1y5cqrQtq3iEhP97Au1EEAAAQQQQACBmBMggLgPKQHE3dDPCmENIGnffaOMjVuk5DKqcHZbxScn+9kXaiGAAAIIIIAAAjEnQABxH1ICiLuhnxXCG0B+nK2MdRukxGRVaNta8eXK+dkXaiGAAAIIIIAAAjEnQABxH1ICiLuhnxXCFkCyMrO1/fs5yli9TkllElT1vFZKqFjRz75QCwEEEEAAAQQQiDkBAoj7kBJA3A39rBC+AJKRrY2zflHm6rUqWyZO1c47Q4lVq/rZF2ohgAACCCCAAAIxJ0AAcR9SAoi7oZ8VwhZAsrOytfG7ecpY8YfKJOeoWtvTlVSrhp99oRYCCCCAAAIIIBBzAgQQ9yElgLgb+lkhbAEkPSNLy776TVq+UhXLxalem5OV1KC+n32hFgIIIIAAAgggEHMCBBD3ISWAuBv6WSF8ASQzS7/9b66Sli1X5fJxanBmc5VpeJiffaEWAggggAACCCAQcwIEEPchJYC4G/pZIWwBJCs7R3O+mq+kRb+rQtk4HXJaM5VpcoSffaEWAggggAACCCAQcwIEEPchJYC4G/pZIWwBxBr90zeLlThvvsonSYf86yiVPeZoP/tCLQQQQAABBBBAIOYECCDuQ0oAcTf0s0LYAkh2drZ+mr1Ecb/MVblEqfFJR6jsCcf72RdqIYAAAggggAACMSdAAHEfUgKIu6EfFRIkxUtqLml2SkqKWrSwLFJ8R3r6Pn3x9W/KWrBE1RPjdcJJjVX+pBOL7wOpjAACCCCAAAIIxIAAAcR9EAkg7oZ+VHhcUu9goXAEkL1p+/TWjF+Us3SF6ifE6YwTD1H50/7lR1+ogQACCCCAAAIIxKwAAcR9aAkg7oZ+VAj7DMjvS5fpuptu1e4/N+iyM8/Xwzddrkqtz/SjL9RAAAEEEEAAAQRiVoAA4j60BBB3Qz8rhG0NyLJly9S4ceNA26+/8GoNv/d2VT63jZ99oRYCCCCAAAIIIBBzAgQQ9yElgLgb+lkhbAHkz61bVbfGX08+b9e6vSY8cLeqXniO4uI4JfwcUGohgAACCCCAQGwJEEDcx5OrTXdDPyuELYCkZ2WpfHIZZWdn6bRTWuu9h3uqxoVnKy4x0c/+UAsBBBBAAAEEEIgpAQKI+3ASQNwN/awQtgCSlZOjqtVqaPeObTquWUt99sSTqtn+bMUnJ/vZH2ohgAACCCCAAAIxJUAAcR9OAoi7oZ8VwhZArNF1D22oP1etVMOGR+qbZweq7kVtFF++vJ/9oRYCCCCAAAIIIBBTAgQQ9+EkgLgb+lkhrAHkiOOaa+ncX1S7TgOlDBmuuhe2UWLlSn72h1oIIIAAAggggEBMCRBA3IeTAOJu6GeFsAWQjH3pOuWsNvp59neqWLGK5r44Rge1b63E6tX87A+1EEAAAQQQQACBmBIggLgPJwHE3dDPCmELIFmZmTr7wvaa+dknSkhI0PxRk9TogtZKqlPTz/5QCwEEEEAAAQQQiCkBAoj7cBJA3A39rBC2AJKTna3Lrr5W7015M9D+74a+rhYXt1XyIfX97A+1EEAAAQQQQACBmBIggLgPJwHE3dDPCmELINboTrd20WujRgba/2G/4TrnynYqc3hDP/tDLQQQQAABBBBAIKYECCDuw0kAcTf0s0LYAkhOZqa6P9hDg4cMDrR/zMP9dO0Nl6nMUU387A+1EEAAAQQQQACBmBIggLgPJwHE3dDPCmELINm7d6jff7vrkeGvBto/4K5euvPWa1Xu2KP97A+1EEAAAQQQQACBmBIggLgPJwHE3dDPCmELIDlpe/XK4z11+7NDA+3vecu9euzOTirX4ng/+0MtBBBAAAEEEEAgpgQIIO7DSQBxN/SzQtgCSFbmPr39TC9d/diAQPtvv7qzBt17u8r/q6Wf/aEWAggggAACCCAQUwIEEPfhJIC4G1qFgZKuklRF0jZJL0vqW4TSYQsgGel79emQXmrf8681IFdfdI1e/e9dqnDmaUVoNm9BAAEEEEAAAQRKhwABxH2cCSDuhlbhKEnrJO2U1EDSp5KekPTXHrcFP8IXQDL26odXntAZd/YPtK5d64s0uVcPVT77rIK3llcigAACCCCAAAKlTIAA4j7gBBB3w9wVLIBMlzRR0tOFLB+2AJKemqaUsS/ojDt7KicnR6ed3EofPP6oql9wdiGbzMsRQAABBBBAAIHSI0AAcR/r0hZAKkp6QNKJkmyxQ11Jr9kjMfKhTJD0oKTOkg6WtFrSKNs0SlJWrvf0lNRLUgVJKyW1krSqkEMUtgCSmZmln8cNU9tuD2l3aqqOO6aFZjzzjGq2P1dxcaXttCjkKPFyBBBAAAEEECi1AgQQ96EvbVeah0laIWm9pBRJ7Q8QQIZL6mqPyZD0raTTvbBiP78zD37zPEHSpZKek7SrkEMUtgCSlZ2llNdH6JL7e2vD1q1q1LCJZj33vOpcfI7iEhML2WxejgACCCCAAAIIlA4BAoj7OJe2AFJGUk1JayXZVXbGfgLIsZJ+lWT71N4TQv28pLsk2X61c/MZApsNqS3p/kIOUdgCSFpmmr57Y5hufWSQlq1drzq162vOsFdUp0NbJZQtW8hm83IEEEAAAQQQQKB0CBBA3Me5tAWQULEDBRDbxephSY28WZPgextKWu7tcmW3XOV12M9PknRJIYcobAEkIztD3771ku7uNQF/FBoAACAASURBVFi/LV2hShUra/7L41XfAkhFu4uMAwEEEEAAAQQQQCC3AAHE/ZwggOS/BuQTb5bD1onkPv6U9LNtHiUpybst6y1vFywLHu9KekbSC4UcorAFEFt4/s17L6vnY8/r27kLlZCQoIWjp6jhxW2VWLVyIZvNyxFAAAEEEEAAgdIhQABxH2cCSP4BxG6v2uctWP9H+PWCh92mZTMpH3kzHsnedry2ZqSfpJz9DFE9SfYn9LDtfN9ISUlRixaWRYr3+Hb6OD35+PP6ZPacwAf98NJ4nXD5hUqqVa14P5jqCCCAAAIIIIBAlAoQQNwHjgCSfwBZJslmOvJ6Mp8tSLc1Ho0dhuBxSb3zen+4AsgPX03RgN6DNeVL6440rd9wte14uZIb1HHoFm9FAAEEEEAAAQRiV4AA4j62BBD3GZCijkKJz4D8/P1HGvbUII3++ItAH15/5Fld1fk6JR92UFH7xPsQQAABBBBAAIGYFiCAuA8vAcR9DYj7KEj2vJF4Sc0lzQ7XDMjcuTM1+qkBGvKW3UEmDbq7l+648xaVaWLr7DkQQAABBBBAAAEEcgsQQNzPCQJI/gHEnmL+0H52wbLfP+I+BIEKf7sdK1wBZNGyFE3s84yeHPt2oBGPdL5Pve7rorJHN/GpW5RBAAEEEEAAAQRiS4AA4j6eBJD8A4g958N2usrvOSD2wMHf3IcgUKFEZkBWrlukd55+Rt1fHBdoRNerO2vgQ/eq3PHH+NQtyiCAAAIIIIAAArElQABxH8/SGEC6Sarq3fL0hBcy3vEo388VKl6SdLv3JPRZ3pPQb5Y0UlIXd/5/VAjbNrz2yWu3rNTHzz2r2/pZN6VrLrpGo3v3ULmT7E4wDgQQQAABBBBAAIHcAgQQ93OiNAaQlZIOzYfOwsXYkN/ZFrs9JHWW1MB7gvooSf0lZbrz/1+FEpkB2bx7o74cOkD/fvi5QEMuaHORpvTtrfKn2qNMOBBAAAEEEEAAAQQIIP6fA6UxgPiv6F6xRNaA7EzfqVmvDNRFdz8lezDhGSe30ofP9lWV1qe794gKCCCAAAIIIIBADAowA+I+qAQQd0M/KpTIDMjejL2a9doQXX73U9qdmqbjjzlRnw8cqBrnt/KjT9RAAAEEEEAAAQRiToAA4j6kBBB3Qz8rhHUNyL6sfZr1xhBdc28/bdy2TYc3bKLvnh+hWh3a+tknaiGAAAIIIIAAAjEjQABxH0oCiLuhnxXCGkCysrP0zVtDdUv3/lq+dr3q1q6nn0eMVZ1Lz1FcvD2WhAMBBBBAAAEEEEAgVIAA4n4+EEDcDf2oUCK3YFnDv353hLo9MEC/LVuhypUqa+Grk1T34rMVXybZj35RAwEEEEAAAQQQiCkBAoj7cBJA3A39qFAii9Ct4d9/MlbdH+ivb+ctVEJCgpa+NlUHX3aOEsqX86Nf1EAAAQQQQAABBGJKgADiPpwEEHdDPyqU2AzInK/f0kMP9NOnP8wJ9CPl5Yk6/qr2SqhS0Y9+UQMBBBBAAAEEEIgpAQKI+3ASQNwN/awQtjUgGdkZ2p62XfN+nqFhjwzVOzO/C/Tjs+dGqtXNVyupehU/+0UtBBBAAAEEEEAgJgQIIO7DSABxN/SzQtgCSHpWupZuX6qVS3/Rm0+M0rhpXwb6MeHR/rryjluUVLeGn/2iFgIIIIAAAgggEBMCBBD3YSSAuBv6WSFsAcR2wFq0bZHWrFmk9/qM0ogp0wP9GHLfo+p63x1KPriun/2iFgIIIIAAAgggEBMCBBD3YSSAuBv6UaFE1oAs2rpI67as1PQ+IzVg3LuBfjza+T490vM+lTn8YD/6RQ0EEEAAAQQQQCCmBAgg7sNJAHE39KNCieyCtXTbUq3b8Ye+HPCqeg+fGOhHt2tu1YDePVX2qEZ+9IsaCCCAAAIIIIBATAkQQNyHkwDibuhHhRKZAflj5x9av2uNZg0drQeeHR3ox/UdrtGovo+r7LFH+tEvaiCAAAIIIIAAAjElQABxH04CiLuhnxXCtgbEGr1291qt371ec0aP1u2PjAj046I2F+mtgc+oXPNj/ewXtRBAAAEEEEAAgZgQIIC4DyMBxN3QzwphDSAb927U2l1rNX/KBN1410Dl5OTojJPO0vRhg1XhZGsKBwIIIIAAAggggECoAAHE/XwggLgb+lkhrAFka9pWrd61Wgvem6Rb7x6iPalpOuGYFvpyxIuqcua//OwXtRBAAAEEEEAAgZgQIIC4DyMBxN3QjwolsgZk175dWrVzleZ+PEn33DtMG7dtV+OGR+j7ka+qxrln+tEvaiCAAAIIIIAAAjElQABxH04CiLuhHxVKZBes1MxULd+xXAs/f1s97huhFes2qF7tevp1zHjVurCtH/2iBgIIIIAAAgggEFMCBBD34SSAuBv6UaFEZkAyszO1eNtiLfn6I/V6YLjmL/tDlStW1uLXp6jupef60S9qIIAAAggggAACMSVAAHEfTgKIu6GfFcK6BsQavmDLAi2ZM0PP3D9cs+ctVmJCgpZNeF8HXX6+4hMtF3EggAACCCCAAAIIBAUIIO7nAgHE3dDPCmEPIL9v+11L5s3UoO7D9MWPvwX6Mnf0FB19TXvFlyvjZ9+ohQACCCCAAAIIRL0AAcR9CAkg7oZ+Vgh7AFmxY4UW/z5Lwx8cqg9m/hDoy+eDR+ms/1yrxErl/ewbtRBAAAEEEEAAgagXIIC4DyEBxN3QzwphDyC2De+iP37U6AeHaNL0rwN9mfTEIF1xV2clVqvkZ9+ohQACCCCAAAIIRL0AAcR9CAkg7oZ+Vgh7ANmwZ4MWr/9Zbzw0RK9M+TTQl2H399ZtPe9VUq2qfvaNWggggAACCCCAQNQLEEDch5AA4m7oR4US2QXLGr45dbMWb5yrKY8N0ZBx7wf68sRt9+uh3g8pqX5NP/pGDQQQQAABBBBAIGYECCDuQ0kAcTf0o0KJPAfEGr4jfYcWbp6naf1e0JPD3gz05a5rOmtAv6dU5tC6fvSNGggggAACCCCAQMwIEEDch5IA4m7oR4USmwHZm7FXC7cs0BfDXlSPvmMDfbmhw9V6ZVB/lWl8iB99owYCCCCAAAIIIBAzAgQQ96EkgLgb+lkh7GtAMrIyNH/LfH3/2ivq2mN4oC8d2rbXm0OHqOzRh/vZN2ohgAACCCCAAAJRL0AAcR9CAoi7oZ8Vwh5AcnJyNHfzXP06dbxuun2AciSddfJZmv7ySyp3fFM/+0YtBBBAAAEEEEAg6gUIIO5DSABxN/SzQtgDiDV+8dbFmvPhOHW+faD2pqWr+dEn6Kuxr6niScf52TdqIYAAAggggAACUS9AAHEfQgKIu6GfFUokgCzfvlwpn4zXnV0HadO2HTrisMb6cfxEVTm9pZ99oxYCCCCAAAIIIBD1AgQQ9yEkgLgb+lmhRALIqp2rlPLlRN3XZbD+WP+n6teup98mvq0abU/1s2/UQgABBBBAAAEEol6AAOI+hAQQd0M/K5RIAFm/e71++G6yHu4yWAuWr1KVipX1+1sfqHa7s/zsG7UQQAABBBBAAIGoFyCAuA8hAcTd0M8KJRJANu3dpB9S3tbjXQfpp/lLlJiQoJVTpqv+JWcrLo5TxM8BphYCCCCAAAIIRLcAAcR9/Li6dDf0o0KJPQfEGr89bbtmz/9A/bo8py9/+i3Qn/nj3lXT6y5WXAKniB8DTA0EEEAAAQQQiA0BAoj7OHJ16W7oR4USexK6NX73vt2avfRTDe7aTx999WOgP1++MEZn3tZR8WUS/egfNRBAAAEEEEAAgZgQIIC4DyMBxN3QjwolOgOSnpWu75d/oRF3P63J078J9OfNPkN0+b23K6FCWT/6Rw0EEEAAAQQQQCAmBAgg7sNIAHE39LNCiawBycrO0uw132h09z56dcqMQH+GP/iEbn2kuxKrVPCzf9RCAAEEEEAAAQSiWoAA4j58BBB3Qz8rlEgAsQ78uO57vfHI03p+7AeB/vTp+oD++9SjSqxR2c/+UQsBBBBAAAEEEIhqAQKI+/ARQNwN/axQYgFk3qa5mtT3KfV9/q1Af+697jY9O/AZJdet7mf/qIUAAggggAACCES1AAHEffgIIO6GflYosQCydNtSvT2kj3o++VqgPze2v0qvjBim5INq+dk/aiGAAAIIIIAAAlEtQABxHz4CiLuhnxVKLICs3rVaH7z6rO6878VAfy5uc4HeHDVKZRrV97N/1EIAAQQQQAABBKJagADiPnwEEHdDPyuUWAD5c8+fmvHWIN1wc3/lSGp90pma9vrrKnvkoX72j1oIIIAAAggggEBUCxBA3IePAOJu6GeFEgsgW9O2asb7z+vmm57V3rR0tTi6ub6eNFnljz3Cz/5RCwEEEEAAAQQQiGoBAoj78BFA3A39rFBiAWTnvp36bNowden0rDZv36kmhzbWj1OmqnLLZn72j1oIIIAAAggggEBUCxBA3IePAOJu6GeFEgsgqZmp+vR/L+num/pp1fqNql+rnua/+7GqnnaCn/2jFgIIIIAAAgggENUCBBD34SOAuBv6WaHEAkhGdoY+mzVaD3R6WguXr1KVipW19IMZqtn6JD/7Ry0EEEAAAQQQQCCqBQgg7sNHAHE39LNCiQUQ68SMOW/ooRuf0E/zlygxIVGrP/pSdc8/3c/+UQsBBBBAAAEEEIhqAQKI+/ARQNwN/aiQICleUnNJs1NSUtSihWWR8B5fLXhPj3XqpZk/zgt88KI3P1aTK9opLp7TJLwjwachgAACCCCAQKQKEEDcR4YrS3dDPyo8Lql3sFBJBZDZyz7Xk7f01Mdf/RRoyjcvvaHTOl+juATLRhwIIIAAAggggAACBBD3c4AA4m7oR4WImAH5bf2P6vuf+/XmtG8CfZrab5guub+L4pKseRwIIIAAAggggAACBBD3c4AA4m7oZ4USXQOyZOsiPdOlm8a89XmgTyN79tV/HntQCeWS/OwjtRBAAAEEEEAAgagVIIC4Dx0BxN3QzwolGkDW7Fyl/vd109DRHwT61KdrD/Xs97gSKpfzs4/UQgABBBBAAAEEolaAAOI+dAQQd0M/K5RoANmSukWDHu6qp4e8FejTfdfdpv7DBiqxWkU/+0gtBBBAAAEEEEAgagUIIO5DRwBxN/SzQokGkD379mhov256qPfYQJ9u6nC1XnnlJSXVqepnH6mFAAIIIIAAAghErQABxH3oCCDuhn5WKNEAsi9rn14d/oDuuHtooE+XtrlQk8e/ruT61f3sI7UQQAABBBBAAIGoFSCAuA8dAcTd0M8KJRpAcnJyNGniI7r++meUI6lNyzM0fcoUJR9ax88+UgsBBBBAAAEEEIhaAQKI+9ARQNwN/axQogHEOvL2e3114zVPaW9aulo2PV5fv/+hyjY+yM8+UgsBBBBAAAEEEIhaAQKI+9ARQNwN/axQ4gHkoxnPq9O/H9Pm7Tt15KGNlfLhdFVodriffaQWAggggAACCCAQtQIEEPehI4C4G/pZocQDyBffjtHNV/5Xq9ZvUoPadTV/2v9UpcVRfvaRWggggAACCCCAQNQKEEDch44A4m7oZ4USDyDf/fKubrniLi1avkZVKlbSihnfqNopx/nZR2ohgAACCCCAAAJRK0AAcR86Aoi7oZ8VSjyA/Lrkc3W+rIt+mr9UiQmJWvfFbNU6y5rFgQACCCCAAAIIIEAAcT8HCCDuhn5WKPEAsviPH3Xbv2/WVz/OD/Rrybufq/Elbf3sI7UQQAABBBBAAIGoFSCAuA8dAcTd0M8KJR5AVm1epC5XXK9pX80J9GvWq2/q1E5XKi6eU8XPgaYWAggggAACCESnAAHEfdy4qnQ39LNCiQeQzbvXq+vVV2rKx98G+jW1/0hdcl9nxSXG+9lPaiGAAAIIIIAAAlEpQABxHzYCiLthGUnDJZ0jyR4ZvlzSo5LeL0LpEg8ge/ftUrcbL9WYyV8Emj/y4WfVuXd3xScnFKE7vAUBBBBAAAEEEIgtAQKI+3gSQNwNK0h6UNJYSasknS/pLUkWJn4vZPkSDyCZWZm6r8tlGjbqw0DTn+7yX/13cB/Fl00sZFd4OQIIIIAAAgggEHsCBBD3MSWAuBvmVcEWUAyU9EYhy5d4ALH29nrwGvV9bnKg6d2vu13PvvyCEiokF7IrvBwBBBBAAAEEEIg9AQKI+5iWtgBSUdIDkk6U1FJSXUmvSeqUD6Xdd2SzG50lHSxptaRRkgZIysrnPbW8mZBTJf1SyCGKiAAy4Onb1OORVwJNv6XDNRo57lUlVi1fyK7wcgQQQAABBBBAIPYECCDuY1raAshhklZIWi8pRVL7AwQQW9vRVdIYSbYq+3QvrNjP78yD3+5T+sirn1+o2d+oRUQAGTPqv7rl1v6Bdl7W+gJNfnOykmpVcj/bqIAAAggggAACCES5AAHEfQBLWwCxBeM1Ja2VZGEhYz8B5FhJv0oaKumeEOrnJd0l6XhJc0N+bttE2S1XthC9g6R9RRieiAgg777zrC6/oqdyJLVpebo+ef8DJdWrVoTu8BYEEEAAAQQQQCC2BAgg7uNZ2gJIqNiBAkhfSQ9LauTNmgTf29Db6cp+38v7oTmO9l57gaS9RRyaiAggM2aM1MUd7lFqWrpaNj1O33z6hcocVKOIXeJtCCCAAAIIIIBA7AgQQNzHkgCS/xqQT7xZDlsnkvv4U9LPktp5v3hJ0gmSzpW0q4DDUk+S/Qk9jrJZlJSUFLVoYVmkZI5vv52kiy+6TVu271KTQxvq5xnfqnzjvBhKpn18KgIIIIAAAgggUFICBBB3eQJI/gHEbq+y26hswXruw3a5SpJkt2kdKmmlpHRJmSEvfNp2sd3PED0uqXdevy/pAPLb3E/U4fyOWrV+s+rXqqNFM2erUlPrJgcCCCCAAAIIIFC6BQgg7uNPAMk/gCyTZDMdp+XBbAvSa0tq7DAEETsDsmz592p/7pVatHytqlSspBUzU1StxREOXeWtCCCAAAIIIIBAbAgQQNzHkQDiPgPiPgr/v0JErAFZv36hOpzbQSnzlykxIUFrvvpFdU5r5mc/qYUAAggggAACCESlAAHEfdgIIP6sAXEdCXveiO2i1VzS7JK+BWvbjrW69Nzz9NWPCwL9WvrRtzr8QnusCQcCCCCAAAIIIFC6BQgg7uNPAMk/gNj6jYf2swuW/f4R9yEIVPjbepCSDiC707bp6nbn6OOZttRFmjXufZ3asb3i4krz6eLTSFMGAQQQQAABBKJagADiPnyl+YryQNvw2nM+bKer/J4DYrte/eY+BIEKETUDsi8zVR0vPVdvfTQr0Lh3B47RxffcpLiE0ny6+DTSlEEAAQQQQACBqBYggLgPX2m8ouwmqap3y9MTXsh4x6N8P1eosO11b/eehG5X4/Yk9JsljZTUxZ3/HxUiYg1Idna2br2+nUZP+izQwJceGaDbet+vuCS7S4wDAQQQQAABBBAovQIEEPexL40BxLbMzW9PWQsXY0NYbZakh6TOkhp4T1AfJal/ri13XUciomZArDPdu16uQS9NDfTrqa499PCQpxWfbM3kQAABBBBAAAEESq8AAcR97EtjAHFX879CRK0BCYSOh2/WY8/8lcXuuf4/GjTqJcWXtTzGgQACCCCAAAIIlF4BAoj72IcrgNhX54dJquk1ebP38L4s9y7ERIWImwEZNrC77npgUAD3hg5XaOykiYovb89e5EAAAQQQQAABBEqvAAHEfeyLM4BUlnS9pCsknSKpfK7m7pX0g6Qpkt6QtNO9O1FfISLWgJji5LH9dM3NtgmY1L71OZr63gdKrFw2X+CcnBxl5UiJ8cV5SkX9+NIBBBBAAAEEEIhyAQKI+wAWx9ViNW97WlukXU7SQnu2hSR7svgWb/G3veZwL5g0lZQmaYSkvpK2uXcraitETACZ8fGrOu+izsqRdFbLU/T59BlKrFExX9ile9O0Jytbh5VNVpUkbtWK2jOQhiOAAAIIIIDAfgUIIO4nSHEEkO2S7BYr2ylqkqTVB2jmQZKulXSbd4uWhZPSdkTcLVizZ72tNudcp9S0fTqh6TH64X+zlFSnSp7jsjszS/PWrFHm3r2qX6+eGlWzTcY4EEAAAQQQQACB2BMggLiPaXEEkBskTZBU2PUdtsfrdZLGu3cr6ipE3CL0eb98pjZtrtDm7bt0xKGH6ZeZP6r8ocElPH/3XbZ9h9at/itnVq1SRccecnDUDQANRgABBBBAAAEECiJAACmI0v5fUxwBxL1Vpa9CxM2ALF/yvdqc1UGrNmxWvVq1tHDWb6pyRN1/jExWTo5+WrFS+/bsCfyufIXyOrFRo9I3gvQYAQQQQAABBEqFAAHEfZgJIO6GflaImDUg69bP1zmnt9PCFWtUpWJFLZ21QDWP++fMxp97U/X7Mlve89eRlJysfx3ZxE8TaiGAAAIIIIAAAhEjQABxHwq/A0hjSSdJmp/rieLW0p6S+rk3OaYrREwA2b59tc49o41+mr9MiYkJWvHNfB10ypH/wP919Vrt3P7/9w2IS4jXqU2bKiHO71MrpsedziGAAAIIIIBAlAgQQNwHys+rxA7e2o/fJdnOVhMl3R7yxHDbZte25uX4p0DE3YK1O3Wr2rc6SzN/tCwpzZ0+S83OP+1vLd+TkaGff1+inOxs2YlkO2bZ0bJpU5VL5KnpnOgIIIAAAgggEHsCBBD3MfUzgPwsyR4cMV1SLUmve9ekl0pKl7RLUiX3JsdkhYhbhL4vM1VXnHOmPpyZEgD/dNxUnXuDDeX/P5Zt3Kh1f24M/KBqVoY279qjhEqVdPxRR6pK2fyfGRKTI0inEEAAAQQQQKBUCBBA3IfZzwCyQ1LoPq32FbjtaFVHks2ObCCA5DtgETcDYg8WvP7iNpr44cxAo18fNFLX3fkfxSf/NbORlZ2tH37/XRlp6UrYuUNV9+zWku07VLFuXR3X8iTVrpT/M0PcT1sqIIAAAggggAACJSNAAHF39zOArJR0Zq7nflj9VyUdJemEPJ6G7t6D2KoQMWtAjLXL9e01csJHAeHBj/bRnd3uU1Ltvx5ov2H7di3+fYmytm9Tjfg4Jaan6vedu5VcsZKOP/1MHVSdZ4HE1qlJbxBAAAEEEEDABAgg7ueBnwFklKRVkp7Mo1kveQ8atGd9cOQvEFEBpOed1+nZ4baUR+p15716tOeTSqxeVnFlE/TzTz9p25atUk62DkuIV1Z2puZv36mksmXV9PQzdXhtuwuPAwEEEEAAAQQQiC0BAoj7ePoZQJIlJUram0+zDvECinurY7dCRAWQfo/eoYf6jAhod73+Jg3pN1Q5+9K1e/c6/bJ2XeDnydmZalSntrJSU/XzmrVSQryOPKOVjqpfL3ZHiZ4hgAACCCCAQKkVIIC4D72fAcS9NVSIqAAyctCj6tK9T2BUrr7kEo1+8gVlbdumlenbtDErTdmSGtStpRpVqihj8yb9umy59ilOh538LzU/nIcRcjojgAACCCCAQOwJEEDcx7Q4AshjRWiW7eD6VBHeFytvibhF6Ab79usv6Mob7wkYt2vTWmN6PqeyCdLP2/6UalZUVplENatdS3GZ6UrYulopC5Zob3Jl1T2hpU49tlmsjA39QAABBBBAAAEE/k+AAOJ+MhRHALEvxnMfwUdE5P48+3nwERKl+cEREbcNrw3gl59NVNvzrgs83+P0k0/UkF79VEnJWls2QVlJUo2qFdQgIU1l41KVkJGp2T/N087EcqratLna/OsU97OTCggggAACCCCAQIQJEEDcB6Q4AkjuVtWWNE3ScknPSVroveBoSQ9IOkzSBZI2uXcnaitE5AzITz9MV6tWl2hv2j4df/RRGjp0qHbvkJIqVlR66k41qxWncokZqlGzuvb8vlK//jJfWytVV4VjWqj1mWcpMT4cp1fUjjkNRwABBBBAAIEoFCCAuA9aOK4Q37Dn1Em6KJ/mfixpq6SO7t2J+goRtQZkwbxv1frMdtq0fZcaH36who95Q39u3qxyO7JVs1KCjqyarEr1Kyhx+16tW7tBs7//UeXrH6Qyx7TQGWefqwo8DT3qT0g6gAACCCCAAAJ/FyCAuJ8R4QggFi56SRqeT3Pv8NZ/1HDvTtRXiKgAsmL5L2p7xnlauX6TGtSrpadeelE5O3coZ3e6GibX0prVCzR7wTzN/Pk3zV+yJIDf7YqL1e6mW3TaueerGk9Dj/oTkg4ggAACCCCAAAHE73MgHAFkpyR7DkiPfBo/QNLtkir73bkorBdRAWTT5pVqc8qZmr98japUqqCuD3TVT9/P0bLFy/XHylXKzv7ncp/Tmx2jnr0fU8vzLlTdyjwNPQrPQZqMAAIIIIAAAvsRYAbE/fQIRwCZKul828lV0ge5mnyxpMmSpku6zL07UV8hogLInt2b1fbU0/TDvL9mN/I7DqpTTzt279SuPXvUuH59Pffs02p+4SU6hKehR/0JSQcQQAABBBBAgBkQv8+BcAQQewDhN/bICElLJS3yOnGkpCMkrZV0pqQ//O5cFNaLqACSkZmqi846TZ9998vfKKtUrqhmRxytlk2O1dkntFXTE09V18dv1oxvZqpSuXIaN2ywjml3sY7gYYRReArSZAQQQAABBBDYnwAzIO7nRzgCiLXSFqH3lGQzHg29Zq+Q9L6k/t4idPfeRG+FiNwFKycnW0892FVvvPm+ypUvp+NbtNBxhzVSs1o1tK9slrLTKqhC3YN0RP2j9fgLfTX2HdtvQHpjUH81u+hSHdfE8iUHAggggAACCCAQOwIEEPexDFcAcW9pbFeIyOeAGPnrLz6lbdtSlRVfRtUq19FBOZkqn5SkDVm7lVqvopLTy+uQ8pX0wbufqO9YW+ojDfpvd512TUedcsIJsT1q9A4BBBBAAAEESp0AAcR9yAkg7oZ+VIjIGRDr2MRR/bVny1bFxSWrUuUjVb9qbSWXS1J63UpaNjUcNAAAIABJREFUuWu5snbvUNy2BK2Z+7t6De4XsOjRqaMuuPUOtT7tVD9sqIEAAggggAACCESMAAHEfSgIIO6GflaIqDUg1rF3JrygravXSfHJanJQSx13xKGKa3SYduQkadnmbVq4cbHit2zXxl/mq/cTjwUsOl3UTtfe94DObdtWcXGcYn6eINRCAAEEEEAAgZIVIIC4+4fr6rCNtw3vSd56kLw+12YBSvsRcQHks8/Ga+3S5YpLTNKJh56o6o0aqXzNmipfvrwUH6df165Ryh9LlLFwhe7u0iUwfheccpK69XpU51x4kZLj40v7mNJ/BBBAAAEEEIghAQKI+2CGI4Bc4G2/+7ukLyXZVeoESXZleqmkBd7vn3DvTtRXiLgAMm/+DC1eOF8JylbN+tVVuUZtVUgsJ8XlKDExUeXKltWqvdv087fL1P22B7Rrz141b9xYTz7dR60vu0IVExOjflDoAAIIIIAAAgggEBQggLifC+EIILYFbwVJp3gPG9wo6RxJX3jb8H7vhZK33LsT9RUiLoDs2rVSq1f+pPTkLGUkxCsjPUMJOQmqVqaaEhOSAuC2W9aXKYv1zINPa/mqtWpQo7peHDxAZ1x5rWqUKxf1g0IHEEAAAQQQQAABAoh/50A4AsguSbbL00BJ1SVt9h5M+JnXjT52146kE/3rVtRWirgAkpWVrrS01dqRtk1b0rfJnn2elZmjjLRMlVUFVSlTTfFxifoi5TsNf/J5/fjLPCUmJGjyi8/rlH9fpwbVq0XtYNBwBBBAAAEEEEAgtwAzIO7nRDgCyE5J3SW9IqmMpFRJ19sGS17zO0t63pslce9RdFeIuAASypmRnaENezZo5z4bUiknO0c5+3JUOa6yZv82W2MGvqjpM74K/G5U38fVquMtanzIwdE9IrQeAQQQQAABBBAIESCAuJ8O4Qggv3lrPB7xmmsPILS1IDd7/z5eUitJXKlKER1Agqfbrn27tH7PelkgCR4L5y3U1JFvaMLEdwM/6nt3V7W//S4dd3RT97OUCggggAACCCCAQIQIEEDcByIcAWSIpHaSjvKa+6SkXpL+5y1EP0vSMEn3uHcnaitE7HNA8hPNys7SptRN2pK2JfCSxcsW6bM3PtJLL4wJ/PtdV1+p6x/8r045sWXUDgoNRwABBBBAAAEEcgsQQNzPiXAEkHqSjvNmPdIl2cplu+XqGltOIMm+Mr9X0h737kRthYh9EvqBRPdm7A3Mhqxcv1Sfv/2ZnnnUlvpIV7VtpTt6P6lWZ1m+5EAAAQQQQAABBGJDgADiPo7hCCDurYz9ClE3AxI6JDk5Ofp1TYqmTZumXl0fV3Z2tlod30wP9+uv89rZ/gIcCCCAAAIIIIBAbAgQQNzHMVICyCWS3nPvTtRXiIo1IHkpr9iyQu98NFn97ntWm7duV9ODG2jA4EFqd/m/lcDT0KP+xKQDCCCAAAIIIPCXAAHE/Uwo6QBypbce5FhJPAk9Shah53Xabdi9QZM/mqyXeg3RoqUrVa1iBY198QWdd30nlU3gaejuf1WpgAACCCCAAAKRIEAAcR+F4gwgbSTdL6mxJFupbE8/H+412RalD5B0tKSt3iJ0noQexQFkR/oOTfjkTY1/eoS+nf1zYJgnDR2o82/poqrly7ufqVRAAAEEEEAAAQQiQIAA4j4IxRVA7Enn071druzBg/Y0Ovsa3BZb20zHY5JWSRrkPR/Eng3CEcUBJDUzVW9//bYmDRyrjz76PDCWQx/pocvv7q76tWsztggggAACCCCAQEwIEEDch7G4Asinko6RdK6kBZKqSnpT0qmSkiX19sLHPvcuxFSFqF0Dkp2TrfdS3tc7L07S+LGTA4PySOdOuvmhx3R4o4YxNUh0BgEEEEAAAQRKrwABxH3siyuA2G1V9vwPe+ZH8DhF0neSnpX0kHvTY7JC1AYQG41ZS77WpNGTNKzfX3fadb74Qt3T51k1O7ZZTA4WnUIAAQQQQACB0idAAHEf8+IKIPZ8j06SXg9pYi1Jf0pqL+lj96bHZIWoDiBLNi7S+AkT9eR9f+XODqeerF4Dn9fJp/4rJgeLTiGAAAIIIIBA6RMggLiPeXEFkGxJHb2F58FW1pC0SZKtD/nCvekxWSGqA8i6nes04d0Jeuz2XkpNS9fJTRprwIvDddY5diceBwIIIIAAAgggEP0CBBD3MSzOADJK0vchTawoabC39mNhHk0f7d6dqK8Q1QHEdsIa8954Dbz3Sa1Zv1GH1q6pV0aO0LmX2m7LHAgggAACCCCAQPQLEEDcx7A4A0hhWpfDc0ACXFEdQGwnrHGfTNCIngP067zFKpuUpLdeHan2N9xcmHOB1yKAAAIIIIAAAhErQABxH5riCiCtitC0mUV4T6y9JaoDiO2ENWnmm3rl8aH6cua3gbF5bUA/XXX3fSqbbJufcSCAAAIIIIAAAtEtQABxH7/iCiDuLStdFezZKPaclOaSZqekpKhFC8si0Xd8nDJNr/QboXenfBBofP/7u+nWR59S1aq2EzMHAggggAACCCAQ3QIEEPfxI4C4G/pRwR7QaM9GCRzRHEBSlv+oYYOGa+yLYwN96X7dv9W9/2DVa9DADydqIIAAAggggAACJSpAAHHnL64AUldSE0lzJO0OaaZ902/PALlJkl2R2kMKe3lPTXfvTfRWiJkZkFXbVmjIiyM0+NEBgdHoeG4rPTH0ZTU60k4HDgQQQAABBBBAILoFCCDu41dcAcR2u7rBCxnpIc18XlI3STslLZPUVFKSpDPt1iP37kR9haheA2L629O2a/iEUer1nwdlOwuc27yZBr08Rs1atoz6waEDCCCAAAIIIIAAAcT9HCiuAPKTN7txY0gT7UGEayWtlGRPprOnpTfyno7+paSr3bsT9RWiPoDYTlgjp76mJzv30Ladu3TsoQdp9JgxatnGHv/CgQACCCCAAAIIRLcAAcR9/IorgGyU9JytQQ5p4nWSxkvqKmlkyM/tXp1rJB3s3p2orxD1AcR2who17XX17/aolq1YrVqVK+ntcaN15iU8CyTqz046gAACCCCAAAIigLifBMUVQFIl3Skp9OGCL3g/O0rSkpCmd5b0oqQy7t2J+gpRH0BsBCZ/9bYG3v+Ufkz5VXFxcfpo9Mu6oJMNMwcCCCCAAAIIIBDdAgQQ9/ErrgBiAWOSpEdDmmgL0htKqpar2V0k9ZVUw707UV8hJgLIZ79+oece6qtPp30RGJBRfXqpU4/HlJBky304EEAAAQQQQACB6BUggLiPXXEFkHGS2kg6SdIGSadKmiXpTe92q9CWD5N0lqTj3LsT9RViIoDMXTVPTz3WR2+9NjkwIH263qzuzwxW2SpVon6A6AACCCCAAAIIlG4BAoj7+BdXADlC0i+SsiQtlWS3XdlWsxZEbCYkeNjD9/6Q9KG3NsS9R9FdISYCyJ871+uxvs/o5f5DA6PR7bIL9eTwUapWt150jw6tRwABBBBAAIFSL0AAcT8FiiuAWMtOlvSYpMMlrZD0jKSvczX5bElDJN0v6TP37kR9hZgIIKkZqeozYpCevsce8SJdccbJeuG1iarfyDY940AAAQQQQAABBKJXgADiPnbFGUDcW1f6KsREALGdsIa+OUo9brhT+zIydXrTxho38U01Or556RtReowAAggggAACMSVAAHEfTgKIu6GfFWIigBjI6GkT9MhN92jDps1qVKeW3n9zko45q62fVtRCAAEEEEAAAQTCLkAAcScvrgAS+gDCgrbSFq6X9iNmAsg733ykR2+9TwsWLVGFsmX05aTxasmzQEr7+U3/EUAAAQQQiHoBAoj7EBZXAMmWlOM1ryCfYa+1Reql/YiZAPLVvO/0cJf7NGvW7MCYfjziOV3QpXtpH1/6jwACCCCAAAJRLkAAcR/AgoSDonyKBRB7GOF73ta7uwpQ5PMCvCbWXxIzAeT39ct0/5336qOptsGZ9MrDd+vmJwYqITEx1seQ/iGAAAIIIIBADAsQQNwHt7gCyNWS7Das8ySle0FkrKQZITMj7q2PnArdJN0s6VhJEyR1KmLTYiaAbNu7VXd3f1DjXxodoOjd6Wo99PzLKlO5chFpeBsCCCCAAAIIIFDyAgQQ9zEorgASbFkdSTd4YaSZpHWSxkuy9R4L3JsfMRUul2SzPudLKkcAkbKys/Rgv94a/Ig95F7q3K61hoydqAp16kbMoNEQBBBAAAEEEECgsAIEkMKK/fP1xR1AQj/Rvt2/SdK1kmp4DyTsIel/7t2ImAp9JB1EAPlrPAaNH6HuN9wR+OcLWx6r1ye9o+qHN46YwaIhCCCAAAIIIIBAYQUIIIUVK9kAEvx0exy2zYDYnqxPSHrSvRsFrlBR0gOSTpTUUpJ9Hf/afgKDLYx/0L7Al3SwpNWSRkka4D3lPfcHE0BCRMZNm6Ju/+6kXXv26ISGB+ujd95R/ROMnQMBBBBAAAEEEIhOAQKI+7iFawbEVh538GZA2nnN/liSXbDPce9GgSsc5j2Vfb2kFEntDxBAhkvqKmmMpG8lne6FFfv5nXl8KgEkBOWD7z5Vt6tu0ao1a1WnahV9O3WCGrW+sMCDxQsRQAABBBBAAIFIEyCAuI9IcQeQk731H9dIqi7pJ++Cf6Kkre7NL3SFMpJqSloryUJRxn4CiC0o/1XSUEn3hHzS85LuknS8pLm5WkAACQH5YdEc3XZNJ/3661wlxMfr5zfH6NgrivKImEKPM29AAAEEEEAAAQSKRYAA4s5aXAHkIS94NAlZeG63Oi1yb7JvFQ4UQGz19MOSGnmzJsEPbihpuST7fS8CSP7jsXLjGt18/Q36csaXgRdNG9hb7e5/3LcBpBACCCCAAAIIIBBuAQKIu3hxBZDgc0Del2TP97B/P9Dx136t4TsOFEA+8WY58tq26U9JP0sK3k5mtexPb28R+q3eGhGbYSnMETPb8Fqnd6fu0Y2d/6OpEyYHDF665xb9Z8BLSkxKKowJr0UAAQQQQAABBCJGgADiPhTFGUCCrbOnnB/oc0riSegHCiB2e9U+b8F6bmlbt2JX0Xablh32tb6Fj9Bjf4vb7XW2GN/+hB5HSXojJSVFLVpYFonuIzs7S3f07K6RA+yuNannVRfo8Vcm8SyQ6B5WWo8AAggggECpFiCAuA//gYJBUT+hVRHeOLMI73F5y4ECyDJJNtNxWh4fYgvSa0ty2VM2r9AS+KhYCSDWl77DBqrXXbbxmHRdq5P08qQPVKGuPR6GAwEEEEAAAQQQiD4BAoj7mBVXAHFvWfFXOFAAKcwMSFFaG/MzIIYy7oMpuuWya5SVlaVWxzTRe+++pyqNbaKHAwEEEEAAAQQQiD4BAoj7mEVKALlE0nvu3SlUhQMFkMKsASnUB+/nxTG1BsT6Oe27mbqx/WXavHWbjqhfR9++PVE1/9XGLy/qIIAAAggggAACYRUggLhzl3QAudLbScrWUthD/8J5HCiAPC3JdvPKbxcs+/0jPjXY+h4vqbmk2bF0C9bPSxboqgs6aOmy5apcvpwWTn1N9c/7t09slEEAAQQQQAABBMIrQABx9y7OAGJfc9/vrZPYImmCJHuAnx22e5Q9Tfxo73kgw7ynorv3qOAVDhRA7DkfttNVfs8BOUHSbwX/uP2+8m/rQWIpgKzetEFXdLhYP87+MQAwb9zzOuaGu31iowwCCCCAAAIIIBBeAQKIu3dxBZBzJE33vtXfLKma9892oW3f9j8maZWkQZJekZTq3pUCV+gmqarXnie8kPGO927bNjg0VLwk6XbvSeizvCeh3yxppKQuBf7EA78wZmdAduzdpWuuvlbTP/wooPDhk/fookeHHFiEVyCAAAIIIIAAAhEoQABxH5TiCiCfSjpG0rmSFngX/G9KOlVSsrdlrYUP2+Y23MdKSYfm86EWLsaG/M5mSXpI6iypgfcE9VGS+kvKLIaGx9waENuKt1PX2/X6y68GuAZ3vlLdhk/gWSDFcPJQEgEEEEAAAQSKX4AA4m5cXAFkqyT7mvvJkCaeIuk7Sc96ayvcWx87FWJ2BsSG6KGnHle/x2yySbrrorM0YPxUlalaPXZGj54ggAACCCCAQKkRIIC4D3VxBZAsSZ0kvR7SxFreczXaS/rYvekxVSFm14DYKL3yxjjd1vGmwIBdfPKxmjDlPVU4uGFMDSCdQQABBBBAAIHSIUAAcR/n4gog2ZI6egvPg62sIWmTJFsf8oV702OqQkzPgHwy83+67IILlZqaphaND9UX705WlWNsQowDAQQQQAABBBCILgECiPt4FWcAsbUS34c0saItAfAWni/Mo+mj3bsT9RVibg2IjcicefPU4fzztG7detWvUU1zp45T9TNtIowDAQQQQAABBBCILgECiPt4FWcAKUzrckrgOSCFaV+4XhuTAWTF+rXqcF47zZ83T0mJCVo99RXVaW/r/d2O1F07FRcfr7IVLNtyIIAAAggggAACxS9AAHE3Lq4A0qoITZtZhPfEylti+hasbbt36ZIOF+vrL78MjNePQ3upZbennMZu97at2rNxnRQXp+qHNVZSchmnerwZAQQQQAABBBAoiAABpCBK+39NcQUQ95aVrgoxvQg9MzNTV3XsqKmTJwdG9fXuHXV9/9cCsxdFOfalpWrbyt+lHaslxalSk1NUvlrNopTiPQgggAACCCCAQKEECCCF4srzxQQQd0M/KsT0DIgB3dn9AQ0fNDBg9di156vn0DEqV6Neoe2ys7K0Ze1qZW9ZKe3bHXh/+QZHqdJBjQtdizcggAACCCCAAAKFFSCAFFbsn68vjgByhKQlRWyay3uL+JER9baYXANiwgNeGKYe99wVwL6xzcka0Le3qjVvq6SyZQs1ANs3rFf6zq3SthXal5Vjd2CpQs2DVO2I5oWqw4sRQAABBBBAAIGiCBBAiqL29/cURwDJkDRR0lC73b+ATbQnpNvV6b8lJRXwPbH4spgNIFM/nK4rLr5QOTk5anNcE73x+D2Ka3K6ajY5usBPRd+7c4d2bd4k7f5Tqds3a/fqRcrOlmo2O1X1m58Vi+cDfUIAAQQQQACBCBMggLgPSHEEELsStKednyxpmaRPJP0gabmkbYGb9qVqkuyeGXvN+ZIO817TQ9LX7t2KugoxfwvWNz/8oA7nn6/t27frqIPr6fN+9yu76sFKPuIE1Ty8seLjjSD/I2NfurauXSNlZSpt3SLtW79a6dvXKysjUxWbHK+G51x9wBpRd1bQYAQQQAABBBCIOAECiPuQFEcACbbqbEm3SrIHPpSXZFvthh722amSPpA0UtL/3LsTtRViehG6jcqCxYvV/sKLtGL5MlWrXFEpfe9UYv2GyqnSSBUOP1zVD22oOLufKo8jJztbW9etUea+fUrdsl7bli7SjjWL1XvMB6qQnKR+PW5V08tuU1K5clF7AtBwBBBAAAEEEIgOAQKI+zgVZwAJti5R0omSmkqq5f3QnohuDyNMkZTp3o2orxDzMyDr/1yviy65XD/P/j4wBZYyqJvKV62rrGqNVLZSDVU/6mhVbXBQngO5c/NG7d2xQ3u279CG+SmKT9+h2/oM1bxVawKvH9TlRnXpO0DlqteO+hOBDiCAAAIIIIBAZAsQQNzHJxwBxL2VpadCzK4BSd2zW1d0vEnT3n0nMJoXnNFUT3W8UElVGykjuY7KlCmj+ic0V/X6Df422mm7d2vj6j+0c8sWbV65SslZu9Vn+Eua9sOv//e6G9qepWHjRqtyg8NLz5lCTxFAAAEEEECgRAQIIO7sBBB3Qz8rxGwAse1zn33+ZT3zxEPatXNHwOzG9ifplusvkBIPU4X4SkpILqPazZqpVv0GSk5O1p7du7R66RKlbd+u7es3Spl79doHb2nsW9P/Zt6yyeF6b+ok1T+6pZ9jQS0EEEAAAQQQQOAfAgQQ95OCAOJu6GeFmA0ghjR68hTNm7NEI154SmlptvxH+u/N5+v8qy7Trt05qh5fSRXKVFG1o45S2QoVtf3PDUrbtEnbN23S5pxU/TDnWz03aExgJ62yycmqWL6cNm/foeqVKuq79yepSeuL/BwLaiGAAAIIIIAAAgSQYjgHCCDFgOpQMqYDyFsfT9fyPzZr+eIlGvPiM8rIzAg8x+O53p11ytnna/PGP5X8/9g7CzA7qvMPv9d15a5bZONCSIjgpbhTvFC0Bf5FihUpRQq0SHGKtGiR4pRAKe6aABGSECFu67573Wbu/5nZTUiA0CQz2ax853n2WXLvzG/Oeb+zy/3tOef7Mk4KvSVkDRhMqGYtDe11tKpJmusbufrqW4nF4vo9V/3mNKYvnM9HX83Rcb/70N3sf9aFW11d3UDM5FYhIASEgBAQAkKgHxGQFRDjwRYDYpyhGQp9/hC6BumzGdOZsXQNSsjK/PnzeebBm/XVDIfdxkNP3MGowRUEW1tJpNK4LB5iaoxYOkMk7eCay6+loa5BZ/2bA/bhuFOP59V33uPhZ17RX7v5vDO57M77cLglE5YZE1I0hIAQEAJCQAgIgR8nIAbE+MzY1gZEKyqoZb9qBTpTFkn7MQJ9Pg2vNuiaNWuYtmAOq9viZNR8Zr7xLFNffELnoW2neuylpyj1pElEwiiZDG2RBGm7n7/e+DcWzp2rX7f3uDFcftYplO68JzOmf8I5l/5Jf/3E/X/OP1/4N968dYnWZKIJASEgBISAEBACQsB8AmJAjDPd1gZES8Grbfa/DLjHeHf7rEK/WAHR0ulG2ltZ1ljDnCaVSFuSGU/fw6sfvKcHNj+Qz6PPPI+HOoKhENjzePyp//LWf57T3x9eVswdZ59O9sTd2GH8Tny7bCn7HXQIqbTCpJHDefOdNykapNW3lCYEhIAQEAJCQAgIgW1DQAyIca7b2oBoPVwL3N31ZbzHfVuhT58BibS3EW5t0SNYHWxm/uJ6Whvrefvpf/LezFn662Xlg3jin1Px+J28+PJr3HfX1frreVk+7jvnNAqG78iOhx9ONLuA6tWrOO3AfVhT20BedhbT33mTkbvu2bdniIxOCAgBISAEhIAQ2K4ExIAYx98dBuQm4CBgNyBlvMt9WqFPG5B0KkV7XQ1KOq2f/VjVFmTlsjUkls3i4een8tW3S/XgDh0+llN+czE3XXsu6XQap93G7Wccx5jRk6g47DAypZUkMxnibS384fgj+XRG50H0N554jENP/02fniAyOCEgBISAEBACQmD7EhADYpx/dxiQQ4BbQS+A/TCwsmtb1vd7/6Hx4fR6hT5tQNZFJxWPE4+EiYZDLFrbQsOS2aTWLOa2p//NgtU1PwjiFccexIFTdse/8y64J+5Jxto5bdPRKH///Tk8/txU/d/XXnAu19/zdyxamixpQkAICAEhIASEgBDYBgTEgBiH2h2f1NTvdTPzvX9rfdBe085B9PfWLwzIhkFuD4aZ/c0q2r96lXBLAzc8+TwrapvXX3Li3lM49+DDyAwchGfXfXEVFOjvBew2IskUrz9wF3+48jr9teMO2o+nXnkNt0cyYfX3HyQZvxAQAkJACAiBbUVADIhxst1hQE7fzG4+uZnX9eXL+p0B0YJZ1xplyddf0jF3Bh3tVVz58HPUNrWx544juPGkk0hkZeOdMJmscZP0ZbQyl5MCp52aeJK5n33EUYccRlpR2Gn0CN56/yOKy8r68hyRsQkBISAEhIAQEALbkYAYEOPwu8OAGO9l31foF1mwNhVG7TzI0mW1VM16k3hdGwlrB3UNLYwuGUgSG87KweTvtBvOvEIGuZ347J2LZW2pNAuXLuWUA/ZmTV0TeTnZfPL+x+wweae+P2NkhEJACAgBISAEhMB2ISAGxDh2MSDGGZqh0C/qgPwUqGQizaIvP6N+yRzSkTRkZWEJRbAHnOSP2ZncseMZ5HHj6Dr/oWklVJV5tfVccfShfDxrni4/9V9Pccypp5gRE9EQAkJACAgBISAEhMAPCIgBMT4pusuA5AGXAvsDRcDJwHRA29B/IfA8sMj4cHqtQr9eAVkXtbY11Xw75yOC1bWkcWC3KWQPHk7FTpMZUFz+o4fL5zW18vcLz+SR5/+jy1xx8YXccreUnOm1PwnScSEgBISAEBACPZyAGBDjAeoOA1IOTAO078uAkcABwLqsV0uAt4GLjA+n1yv0yzMg66KmptPUzviMJSsXkY5EceXmMXzUOMrHTQar9UeDuzIc5b9338rvr/2L/v6Rhx7Ii6++qafulSYEhIAQEAJCQAgIAbMJiAExTrQ7DIh2uPwIYG+gFmjsWglZZ0BuAw4FdjA+nF6v0K8NiBa9eM0qGr+dRyidINuTTdmOE7AFSjcZ2MZEiq/ffYMjjj6WtKIyYewo3nhvGmWl2qKbNCEgBISAEBACQkAImEtADIhxnt1hQBqAh7QyDUA+0PQ9A3Iu8Fcg1/hwer1CvzcgJKN0LJ5PIhLHl5eFb9iOYLNvMrDhtMK8b+ZzymEHsrq+ifxADm99+ClTJuzY6yeDDEAICAEhIASEgBDoeQTEgBiPSXcYkDhwPvDoJgyIdgZEMyA+48Pp9QpiQLSiMC0rUKMd2HLLIav4J4OqZjLMrqrmj8ccyoezF+jXPvPMs5x00q96/WSQAQgBISAEhIAQEAI9j4AYEOMx6Q4Dshh4C/j9JgzIi8BwQHKnghgQbU5nMqCkwO7crBm+sLWd+397Kg9OfV2//tJLf88dd9y1WffKRUJACAgBISAEhIAQ2BICYkC2hNaPX9sdBuTPwCXAfsCKri1Y2n9/BGhFCh8D/gjcbnw4vV5BDMhWhLAqluDlm6/j4htv1e8+/PBDef7FV/B5Ns/AbMUj5RYhIASEgBAQAkKgnxIQA2I88N1hQDzA+8BkYDawC/AFoJ0S1jJifd51JiRlfDi9XkEMyFaEsDWVZuZrL3PY8b9CUVXG7ziWl1//gCEDfnr71lY8Sm4RAkJACAgBISAE+jkBMSBBXoeSAAAgAElEQVTGJ0B3GBCtlw7gYuBEYBSgPXc58Cyg7ZVJGh9Kr1aQOiAGwhdXVObOmM6JRx/NmoZm8vNy+fe777PPpEkGVOVWISAEhIAQEAJCQAj8kIAYEOOzorsMiPGe9m2Ffl8J3Wh45yxdwuW/OpYPvl6oSz36zDOcedJJRmXlfiEgBISAEBACQkAIbERADIjxCdEdBkT7FPhxVw0Q4z3umwqyAmIwrsta2vjbmSfxj1e1mpZw0WWXcNett2PdRAFDg4+T24WAEBACQkAICIF+SkAMiPHAd4cBUbW8Rl0H0D/pMiPa92rj3e9zCnIGZCtDWh9P8tJ1l3HBbffpCkccdTiPPvYURQEpL7OVSOU2ISAEhIAQEAJC4EcIiAExPi26w4BoG/H3AfYCfgbkdBmSVRuYEW2FpMr4cHq9ghiQrQxhKK3wxYtPcuipZ6GoGcZPGMdjz09l4kgtw7M0ISAEhIAQEAJCQAiYQ0AMiHGO3WFANuyl9jyt3sfPgb2BPbsqoGsrJJsud218nL1FQQzIVkZK0QoSfvoex//yJNY2tlCQn8cT//0vh+2+x1Yqym1CQAgIASEgBISAEPghATEgxmdFdxsQrccjusyHtiqimRAtV2oYyDY+nF6vIAbEQAjnz/+ai087lQ/nLtJV/v70k5x38mkGFOVWISAEhIAQEAJCQAhsTEAMiPEZ0R0GZJ3h0MyGtvJR2mU4pnVtwdK2X80CFOPD6fUKYkAMhHB1bQ23nvNrHnxNKzsDF/7hEm6+/gZ8Hq8BVblVCAgBISAEhIAQEALfERADYnw2dIcB0Q6ha+ZC+1SomQ0xHJuOmxgQA3O6ORrnuasu4MJ7HtVVjjj6CO669x8Mq6gwoCq3CgEhIASEgBAQAkJADIiZc6A7DEhr1zmPFuDTLgPyEbDAzIH0ES0xIAYCGVNUpj12Hwef83v9IPpOE8dz56P/ZJ+dpCChAaxyqxAQAkJACAgBIbABAVkBMT4dusOAaM/YcYOD51o2rDxgQ0OirYrMNz6cXq8gBsRgCGe//TLHnP5b/SB6YWE+9z/3NL/c72CDqnK7EBACQkAICAEhIAQ6CYgBMT4TusOA/Fgvx3Wl5j0HGNmVlleyYIEYEINzeumsaZxz1v/x0bxv0Sb3PU89ztknnoTT7jSoLLcLASEgBISAEBACQkAMiBlzoLsNyJiuzFfagXRtJaSoaxD1QJkZA+rlGmJADAawZsVi/nLh73j4zQ91pQuuvJSrL/0jxfkFBpXldiEgBISAEBACQkAIiAExYw50hwE5r8t0aIajEPQ/TNcBG1ZFX2LGYPqAhhgQg0Fsb2vmyWsv4+L7n9SVfnHcUVx7001MGqF53x9vmUyGSHsbmYyKP5CPxdIdPxYGByq3CwEhIASEgBAQAtuFgGzBMo69Oz5paVmwaroMxzrTscx41/uUgg2wdhVp/Gr27NlMnKh5EWlbSiCVSvPZg7dywEV/Qs1k2GnSBP58310csZtWdubHm2Y+wq3akSTw5+Xjyw1s6WPleiEgBISAEBACQqCfEBADYjzQ3WFAhgIrjHe1TytcD1y3boRiQIzFet7Lj3HE2ZdT1dxKYVEBdzz2CCcfcgQ2q+bzNm7pVIqW6rWgpCGTwep0UTBwsKyCGAuB3C0EhIAQEAJCoM8SEANiPLTdYUCM97LvK8gKiIkxXvnZG5z5u8v4eP5itN1Udz3xKL8+9jhyfTk/eEprbTWpYAu2ulmgplFKdyarYgje7B9ea2IXRUoICAEhIASEgBDopQTEgBgPXHcakAOAI4HKrm6vBP4DfGB8GH1GQc6AmBDKxoWzuOayy3nkbS27M1x49WWcf87vGF4xeCP1aLCDUFMj1rrZONPtaKshqrsAy6DdyB8wSFZBTIiFSAgBISAEhIAQ6GsExIAYj2h3GBAtve6zwLFdB9DDXd32d6XffQk4qatauvER9W4FMSAmxC9UvZJHb76OSx54Wlc76oSjOeeyS9hr/GQcFjuKopBMxGlcuxa1vQZ7yyK82T5SiSSOjAoVO5NTOQ63X5uinU07qB5OpIkmFfwuOz6XZI02IVQiIQSEgBAQAkKg1xEQA2I8ZN1hQP4E/Bl4EPgrUNXV7QrgSuBcQLvmJuPD6fUKYkBMCKHS0cKHj/2Ngy69STcOE6dM5OLrrqUkJ48BeaX4szyE25pIhztwNs3D67bi8vhQ1TSh1nY8OQW4R+xLoHwgoUSaYCxFMJ5C1dIpdLV8v5OSbDdW68Y/QhlVpXHBAhKRCOU77YTN7TZhRCIhBISAEBACQkAI9BQCYkCMR6I7DMhS4BvguE10V1sB0SqljzA+nF6vIAbEhBBm0mkWPH8vh/7+Rqqb2yguLuKae+8i1xfA4/BQYM3GrkTxxVeRo7bg9/lQElmk42GSlhAxJUUsfwfslROxubyb7JHTbqU84NFXRLSmrazUzJ5F0/L5oCqUjp1M2U6TTBiRSAgBISAEhIAQEAI9hYAYEOOR6A4DEgcu7loB+bEeaysgdwPyp2KphG58RncprHn7aU67/AY+XbBUP8tx33MPY7H68FmysEfTlCQd+JN15OTacaVTJGzFpJMxMuGlxJ02Ug4/SvkUciuHg8uGx+Mg22PHZbdR3xEnmf5uOSTP7yTghOYli2lZMg810YGFDL6CCkYetinfbdpQRUgICAEhIASEgBDoRgJiQIzD7g4DUgs8D1yyie5q5uMEqYSu05EVEONzWldonfEel197A4+985n+73vuu52iMSMINrfgjtmwtTTRtHI1cxctZvbylXxbswa7zcbRO+/Mr/aeQkF5EansIRQM2YGBJWW4PQ4sThsWl003JI2RBM2hpL7FKx6NkKpbi6t5DdZIPe5kMxYUkq4Sxv7qXOwOp0mjEhkhIASEgBAQAkJgexMQA2I8At1hQB4FTun60rZbbdiO6Tqg/hTwf8aH0+sVxICYFMLY0rn8/Y7buPyR53TF3511KpXDRvLx9E+YP28+a9fWa2U/frTZrTb2nTSZow48isJhu+LNySPL79PPe6TUJFl+D7mFWWQ8FmqaW8m0NKI21qC0rKXEGcTvtxMPR0hbPVTsfwqBQUNMGpXICAEhIASEgBAQAtubgBgQ4xHoDgNSDHwJDOwqSPhtV7dHA1qRwjXAbkCD8eH0egUxICaFUKlfzYdPPshBV96mr1L8VMvLDjBu3GRWrV7G2prV6y+1WizsOnkPjjnhHErKBpJR4qCksNrs+NwBbHYnipIg0tFKvL2afGsH2VkJmkJRXE21DB9cin/s/gzcfdNV2E0arsgIASEgBISAEBAC3URADIhx0N1hQLRe5nZlvDpigzogq4BXgVuBduND6RMKYkBMCqMabGHR1Ec47Io7WNvUspFqUX4WYwYXMXz4EAZMmMzAXfamZNBO2NMqnz71OM//6yGWrvnOiGg3T5g0kcOP/AWjho8lGVFIqyrRtiCN1XVUrV3O2uoVrKlbS3VDA2lF0Z9372+PZb+DDmfMMb82aVQiIwSEgBAQAkJACGxvAmJAjEeguwyI8Z72DwUxICbFOaOkqXnlQR6e+iGvzJhHXnEZOwyvYOKwfAYG/MRtFurddlL5AdSyckp9AxiQXUk8GSU8fxZz3vw3z771GYvWNm7Uo9FjhmCzWVm7uo5gKPKTvf3Z6BHcf9kZjDrhfJw+n0kjExkhIASEgBAQAkJgexIQA2Kc/rY0IPsClwHaBvjmroPo9xvvcp9WEANiYnjb3n+OaV/MpC1hJ1I4DI8jRYHahCudRHV56fBnUZubwuoAj81FljOLcDJCOBLDvaYaZ2sDi1fW8vqMFSxaWvOTPdPOhwwoCDB0QBmL1jRQ39yEx+lk2l2XMuCAkykYMdbEkYmUEBACQkAICAEhsL0IiAExTn5bGRDNfLwD2ABt/0ugqwq6VojwGuPd7rMKYkBMDG1i9vvMmv4h8aRCeOAY/OEm7ME4GaefhDcXR0kOGSLUx6rJOFS0IujquvS6aQv+6nrU9nZUi4UFCQdvfzKPOTPm4vF6GDi4gsKibEpKshnjszOkKA+/14c9q5hn3p/N86++pY/k3rOO44iTfsPgfQ41cWQiJQSEgBAQAkJACGwvAmJAjJPfVgZEMx8TgIOAuUA+8HJXmtkCIGG8631SQQyIiWFNLZ/Lys9eoz2eIlUxiPxwBy5fPk5HANuAHUnbnahqkPZ4FUuDS0ih4LV7yfEUk5tVSkBJw8KvSKxZRsriwTJyMpmSkYRQiTSvJhZpwVG/jHBGIW3zEnJkk8rx0Lq0hj9drR1tgqOmTOCmS3/L6OPPxmK1mjg6kRICQkAICAEhIAS2BwExIMapbysDoq16aNutrtugi7sDWlGGycAc413vUQraIfuHgUOAIHAT8I+t6KEYkK2AtqlbtExY0emvEorH8LiduLOKweHDPmoXHCWlpFMK8XCaWDhBItEGFgWPOw9/wIfL60DL05tc8BltX3+O0tFGyplH/qSfk0mEqW+oJt3RQNIC9sIKmvPyaSwsJ9Wh0LJmNn85+0qaW1oozM7ivdsvY/jx5+MN5Jk4OpESAkJACAgBISAEtgcBMSDGqW8rA6KlAdJS/2j1Pda1wq5Uu9r2rI+Nd71HKTwNeIHTu1ILvwf8EvhoC3spBmQLgf3U5VomrMT01yHeDu5s/ctWMhTnKG1x7rumpelNJTozVznd9o3fi7QQmv4O0TXfks44cBUMQCWDEm7DmgrjLh6Ma/howoMmUBVtY224idZla3nszzcz7dNputbzl53O3qedT/E4zXtLEwJCQAgIASEgBHozATEgxqO3rQyI2lV48NkNuqhtw2oC9gc+NN71HqOgpTdqBXYCFnX16hagHDh1C3spBmQLgf3U5Zl0ivjnrwGddUCsHj/OSfthsW9sMn7ykZkMas08mj59n0w0iOIrgYyCLdqMPVBGYMIEbIMmgN2ly0RSMT74djFv/OshHr7zIf21M/bdnSv/cDHDDjrexNGJlBAQAkJACAgBIbA9CIgBMU59WxoQrQK6VoBwXfMDdwN3AeuKEW44gseMD+d/Kmh90DJzTeraClYCPNm1WvNjN2uH6C8HzgIGAFWANq7bgc4/mXcaj6+0P55vIHAicEXXe/+zUxtcIAZkS2htxrWJr95BjYWxWKw4J+yBNadoM+763iXRVsLffkl43gwyNg+oCazeHAKTpuAsGwXejbdWza9fy/sfvcnVZ15CLBZjRGkxL99+hZ6O12Z3bPnz5Q4hIASEgBAQAkKgxxAQA2I8FNvSgGxJ77Q/UWsf9rd1GwxoBRDrgNnA4f/DgGjnOM4FHgemA3t0mRXt9d91dfZnwCuAdrh+XdPOgtwHDNvCAYkB2UJg/+tytW4p6dpV2IsrsFZsZSpcbRWkYQGtc2eRrluLNTuAf+x4vEUDIa/yB10IJcK89Okn3HPF1cybM09//+2/XMgev70cf3HF/+qyvC8EhIAQEAJCQAj0YAJiQIwHZ1sZkJ9vRdc+2Yp7tvQWbZ+MZhS0og7aPpzUTxiQcYD26VEzEhdt8KB7gAuA8cD8TayA/Ar4g6yAbGl4tsH1mQykYuDwgMXAdI+2EqtaQKSjHZfHQ1ZhKRSOAtuPb+d6e948/nXf7Tz3z2f0QV1x1P5ccPW1lE/W/Ko0ISAEhIAQEAJCoLcSEANiPHIGPpEZf/h2VvhfBkTLZHVVVyFFbdVkXdP+5L2yK9OVVtNk3RkQ7WTzuq1lWg7WMjkDsp0jbObjNSPT+C1qKoZVS6ebPwxcWZt8wtL6Wl55fSpXn30xiqqyy7DBPHnH9Yz4xWlYjBghM8ckWkJACAgBISAEhMAWExADssXIfnCDGJBNnwHRaploqxzaOZHvt4auVMIHd72h/ZlbW135TZdheV+yYBmfnD1OIRGGYA1488G34Y67H/Y0kUzw/IfvceMFF7N8+Qocdhsf3301k8/4A06v5lmlCQEhIASEgBAQAr2RgBgQ41ETA7JpA6Jtr0p2HVj/PumvAe00sbZNS2taHZBHNqgDcuNm1AEpBbSvDdso4JnZs2czcaJ2HERabybw/uz53HPLn3j9pVf1Ydx62lH89i+3kTtoeG8elvRdCAgBISAEhEC/JiAGxHj4xYBs2oCs6KpbohVQ/H7TDqRr6ZS29JD5hjrXf69Q4/r3xIAYn9g9QWFVXQOPPvs4N192pd6dgyeM5oF772Twz7QcBdKEgBAQAkJACAiB3khADIjxqIkBMWcFZGsiISsgW0OtF90TjyZ54cP3uPKsM6hraCTH6+Gjh25h/K9+h9XWHUnfehEs6aoQEAJCQAgIgV5CQAyI8UCJATHnDIjxSHQqSBpes0j2AB2twvqnsxfw56su5qP3OmtvPnrx6Zx03Z14crW6nNKEgBAQAkJACAiB3kZADIjxiIkB2bQBuRnQ9s4M6aodso72uixY2vtXGw+BrqD9Ody6LqWvbMEyiWoPkFlb08SdD/yNe2/Spguc+LOJ3PPIYxSN1PIbSBMCQkAICAEhIAR6GwExIMYjJgZk0wZE+4Q45yfqgGhpd78xHgJdYaPzIGJATKLaA2Ri4SQvvPc2F552MqFwmIGFebz95N8ZfciJPaB30gUhIASEgBAQAkJgSwmIAdlSYj+8vj8akPO7slZpKw5/7jIZL3eh+e/3TMWDwNldldCndVVC11LtPgScYxz/egVZATERZk+SUhWVL2Ys5JKLz2DGjFl616beeAlHXHojDrenJ3VV+iIEhIAQEAJCQAhsBgExIJsB6X9c0h8NyGpg0Ca4aObiiQ3e04oVahXNzwLKuyqoPwrcBqSN4/+BgpwB2QZQt7dkzZomrr3tLzz2j/v1rpx72M+45dFnyC4ZsL27Js8XAkJACAgBISAEtpCAGJAtBPYjl/dHA2KcmvkKsgJiPtMeoxjpSPDCG29wzuknkEqnGTe4jJdfeI5hO+/VY/ooHRECQkAICAEhIAQ2j4AYkM3j9FNXiQExztAMBTkDYgbFHqqRSip8NWsB55x5IgsXL8ZmtfLmA39l/7MuxWrtvnS8SkcH2pe9sBCrR7Z/9dDpIt0SAkJACAiBHk5ADIjxAIkBMc7QDAVZATGDYg/WqFnRxCXX/J4Xn39G7+UfTzmMa+5/Gl9O7k/2OpMIk0nFsfrywbL1P65qNEpi1SrIgMVuw1lZidXl6sHEpGtCQAgIASEgBHomATEgxuOy9Z9ojD9bFH5IQM6A9NFZEWyO8a+pU7nwnFM1D8Ce44bx3Ev/oWLE2B8dcSaVIFq7hHBDFRlVIae8Es+AcVtFJ6MoJFasIJNMrb/f4nDgGlKJ9l2aEBACQkAICAEhsPkExIBsPqtNXSkGxDhDMxXEgJhJswdpxSMpZs5ZyKknHs6amhq8bhfvvvgoexxxyka9VFWFaN0qonUrSKc7SGXayWQU7DY/xcP2xJGvlaHZspasrkFpb9dvsjjsZFKd+ROsHjfOwYOxSFX2LQMqVwsBISAEhEC/JiAGxHj4xYAYZ2iGgmzBMoNiD9ZQ1Qxrl9Zz/iX/xxtvvaH39KaLTuHSW/+Jy+VEVRSizXVEa5ehJDqIK21EElHCUS9KIo3PqxIIuCkb/TMcOVptzM1r2pmPZFV1p+FwOXEOGUKqqgolHNFfs/l9OAYNwmJge9fm9USuEgJCQAgIASHQNwiIATEeRzEgxhmaoSCH0M2g2MM12huiPPDYo1x11UV6Tw/dYzwPPf0Kfo+HjprlxIONJJQg0WQHybiDjMVPxqqQDrViUS1YnT7yCrIoHjaW/LIROBw/fZA8k0x2br1SVNKZDOGcIsLRJCXlAZyN9aixeKcJyc3BWVHRw+lJ94SAEBACQkAI9AwCYkCMx0EMiHGGZijICogZFHu4RjSYZMbM+Rx33H60tHdQFMjm2X/9g2y7l0wmjEI7SiKDqjhpT8T5/OtvmT5jAdFolH2m7MABu47H6c7Ck52LPVBBYVEZpSXluLxO0oqqr2LYrJ0/0oqi0rF8BZG2IJF4mqDio6WplmS6A4+3hMoxwylRO7Crndux7IUFOIqLezhB6Z4QEAJCQAgIge1PQAyI8RiIATHO0EwFOQNiJs0eppVOKiz/tpbzzj2Jj774XO/d3TeczagJw1ATMRqbk3wxdxkzZi5kwTeLSXed1Vg3jMrKAfzql0ez2+QJ+Nx+Yu5C0jhxeQrIzs3BYreSTCqklQzp1jbs7W1kEgqZuEJTooYvvnyDVVXV7DZlF0aO+zlFBUModyUoCjiw2aw4Skuw5+f3MGrSHSEgBISAEBACPYuAGBDj8RADYpyhmQpiQMyk2QO1Gtd2cOfdt3Pb327Se3fIXhPIKytk1txlLFu6FlVVN+q1tqphtVlR0sr610eNH8chvzyVgQOG4HJ6cGrnO2xerFYPVpsFayYFrc2osTSNLfV8MO2/TP9iOh2h8HqNCWNG8YsjT2aH0bsTUK0UlPrx5zvJVJSR8Hpx26wM8biwytmQHjiLpEtCQAgIASGwPQmIATFOXwyIcYZmKMgWLDMo9gKNUGuc6dPncPRx+xBLJH60x1qhwjEjhzF5/A6MGzOGiJLh1bfeYPbMuWS0HL5aNiuLhV3234/9jj+J3Nwysm0ZnBYVJZ0h1djB0gXz+Hjae8xbOBftAPym2qjRY9n9sJOoHDgWvyOLvDwveUNLySnNZnRBFgVOey+gKl0UAkJACAgBIdB9BMSAGGctBsQ4QzMU5BC6GRR7gUYilmbxwip+e8YxzJg/d32PXQ4HU0aMYM+x45k0fDRulxdFseqFAxMkCHsyrGqqZeprr/LtsrXr73O6nBx92gkcfNIJpEIJPn35P3z4znvU1tVvRCM3x8+Bhx5I5dhxvP7C8yycv2Sj94eOGMMeBx1L5dCd8DmzyS0vZvLug9ipIKsXUJUuCgEhIASEgBDoPgJiQIyzFgNinKEZCrICYgbFXqCR0dLxrmjhzZen8tBj95KT5WOfKbsxZeyOOGxOtImgplT9/IfF7sDudOO02FCCzUSVNtIela8WzOTZNz9jTV3L+hFnZ+eQTCSIJzozW61ro0YP5PCDduPAA47BYcuGVJpUvI2ZC2fx75deZ+6ClRtdP2zICHY/6GgGj9yN8bvuyEGTB+KTOiG9YGZJF4WAEBACQqC7CIgBMU5aDIhxhmYqyBkQM2n2UC0tHe/MuYtItrfjz7ZjcTnBYSedtpBKZLA6PGR5vWS7HeS5LHhTIZR4glhLO001q6mPVNOWaOLT2Qt48d2ZtHR8d7ZDG7LX7WTfvXbgiMN3Zqfy4di9w1DtPpSunVhOJYEr3EQyVM2CpfN56M0ZfPbNqo1ojRg7gTMuv4MTj9+DQV53DyUp3RICQkAICAEh0P0ExIAYZy4GxDhDMxXEgJhJs4dqael4Fy6uoqmxAW+2E6vDRUZx4PP6yPV78TnsOJ02fLku3D4HGVUl3dREurkZVJVYSyOrl8+gUWmkJdzBO58s4rVPFpKb7ePIfcdw4P5jKc0ppFgpxlM8Fnd2AG0vVyqtoPq8ZCJRiIfJtFfT0VJHOtXEwuUr+ce73/DezEXrqf3ipPO4/K83sNuAADY5jN5DZ5N0SwgIASEgBLqbgBgQ48TFgBhnaKaCGBAzafZQLSWl0lAdor49hN1uJ9vjwmO36gfLLVYLvhwXHr9D/+8NmxqLkaqt1QsIKok4NQs+pzG6hlZ7By6fEwsZ4sk0AVsefks+zoJKcguKcds9+ApKcReXYHE4dEmtErrS3EB02WzamupIKm2gdLC4Pszx1/yTlKJSPmAwtz75NgftMVQOo/fQuSTdEgJCQAgIge4nIAbEOHMxIMYZmqkgBsRMmj1Yq6U2jGZE1jXNfLj9Dnw5Tj3t7qZaJpNBaW4m1dhIPBwmXLWIlqYlNNmCZDIKufY8bN4iMv483IFcLFk+KMwHlxOX1YXb7kbJKKSUFCk1pdcfSSz9hmRdAySC2Ilw9T/e5N2Zy/QunH/Ng5x7+amMyfb2YJrSNSEgBISAEBAC3UdADIhx1mJAjDM0Q0EOoZtBsRdphNsSRIOdaXhdXru+3cru0KbB5jU1kSBVU0v72lWoHfWkI03YrHaS3nxSTjeOkgLi+X4Ub+eKx082JU105UJSHe0QCbPoq2n8323/1W/Zacpe3PrUi+w+rEAOo/8vjvK+EBACQkAI9AsCYkCMh1kMiHGGZihIGl4zKPYiDS0bVjya0k2Hw7X5xuP7Q4zX19Myfx6k4mDVDrR7yN9hHK7CQv3SpJIkmooSTUf17wk1gd1ix2Fz4LA49O92qx2bApGlX2NJxKhbM5sTfn8fK+vbcdjt3PH0Jxz1i0kM9Lh6EWHpqhAQAkJACAiBbUNADIhxrmJAjDM0Q0FWQMyg2E81Qo0NhFatxGK3kzdqNC6ff6tIpOMxWr79io72Kh74+/38beoMXeewY87gzw/dzYT8LDmMvlVk5SYhIASEgBDoSwTEgBiPphgQ4wzNVJAzIGbS7Eda8UgYm92Ow2UsZW48GKRt2Qzmff0ax13wAJFEioK8Ah55dyZ7jquQw+j9aE7JUIWAEBACQuDHCYgBMT4zxIAYZ2imghgQM2mK1lYRCDXVs2r+21x11U288dVyXePCq+7m3CvPZpTfs1WacpMQEAJCQAgIgb5CQAyI8UiKATHO0EwFMSBm0hStrSKgZdqqX7WI1566ibOvf07X2HHMjjz4zsfsWJoth9G3iqrcJASEgBAQAn2FgBgQ45EUA2KcoZkKYkDMpClaW01AVRWmTXuW8067jAWrG/UaJQ88+waHHLmvHEbfaqpyoxAQAkJACPQFAmJAjEdRDIhxhmYoyCF0MyiKhqkEGjpqufX3Z3D34+/ouocfcAg3vfAiY3N9chjdVNIiJgSEgBAQAr2JgBgQ49ESA2KcoRkKkobXDIqiYSoBrVDhux/9i1OPvpC2UJRsr4+pb73B+F13p3uZIrwAACAASURBVNC5GfVFTO2NiAkBISAEhIAQ6BkExIAYj4MYEOMMzVCQFRAzKIqG6QQWNy7iqlN/wyvvdqbkvfDXv+Hcv17PqJKBpj9LBIWAEBACQkAI9AYCYkCMR0kMiHGGZirIGRAzaYqWYQIdiQ6mPnMvv/2/61FUlREDBvLYc39nwvjd8fnzDOuLgBAQAkJACAiB3kZADIjxiIkBMc7QTAUxIGbSFC3DBLSMWJ/MfZvLTr+Y2fOX6np/v+4K9j3ucEaNnAQOSctrGLIICAEhIASEQK8iIAbEeLjEgBhnaKaCGBAzaYqWKQRWtK3g0b/exC23P67rHTBlMn+6/UomDhiEb9B4sNlNeY6ICAEh0DcJpBobsVit2AsK+uYAZVT9joAYEOMhFwNinKGZCmJAzKQpWqYQiKVivPPeU5z3m6upa2zG5XTyn/tvYNCOOzJ84CDsJaPAIr9KTIEtIkKgjxFQQiGSa9bqo3JVDsbq8/WxEcpw+iMBMSDGoy6fGowzNFNBDIiZNEXLNALTFn7AvdffwYsvva1rnnv04Zx24ekMz84ib8gYLLkDtvpZSjCI2tEBDgcWpxOL04XV5cTi2DjTViypkFRU/C47NusPf3Vp28VS8TSpWBK724nTY9frl0gTAkJg+xHQVj/SjU16Bxxlpdjz5OzY9ouGPNksAmJAjJOU/zsbZ2imghgQM2mKlmkE1nSs4f0Xn+V3519PIpmkoqiIF++9ipJBwyjI9pM1eBx4N/+DhWYWlPZ2lOZmlOa1ROMduOwe7NklYHPq/bbYrLohyTic1EdVVre2kVDTFHgC5Pkd5DgtuC0ZUtEkqWiKRDSFmlY777XbcARy8ZXl4cnxYLNbTWMhQkJACGw+gWRVFUpHUL/Bnp+Ho7R082+WK4VADyUgBsR4YMSAGGdopoIYEDNpipZpBFJKinc+epab/3Q/X3w5S9e99/Lz2OWQfSnzuCguLsJRPhacG2+vUDMqmtmwWbVM05BRFJS2NtItLWRSaRKheqqjHaRSYTI2N1l2DwX+fNyeHP2+9kiK2sYYVaE6mlPNZAAfPkpsA7BZtBUOyPLa8bpteJ02LOkYJENg94ArS98aZsvKwlOchzffr6+KaC2iqKQzGXLsNlklMW2WiJAQ+CGBxPLlqPGE/obN78M5eLBgEgK9noAYEOMhFANinKEZClIHxAyKorFNCcxc9jn/ffxFbvzrffpz9txpPHdddTaJgiJK/X4GlxaQKRhCSk2TiMVoDTXR0FKjrUdQmjec7LSPdLgDRfvwr0JjqJGGYAsWpQ3VZsNut+B0eVFdARxqLpm4m1QkSkNsNeFUGItiwY6NlJIB1UapoxyvzQtWzUSoeO1hAlkpArl2rJEEyZQD1VMIVgcKEHO7CPtdxNwW4ukgCiqjB4xgcJbsSd+mE0fE+y0B7Y8IsQULUZvqsFis2MoqcI8c2W95yMD7DgExIMZjKQbEOEMzFKQSuhkURWObEqgL1fH5my/xhz/eyerVa7BZrbx277VkuyCSE8CbX0xZVhYpdz41zfU0t7bQFmonHUvisDjJ95eS6y3HanXTnAqSVlpwWoNkLNoKiZNMxoKSzJBKQCgJDYpKfSpGIhTClghjTXdgR8Xl9uP15uBxZzGgcAgV3lw8tjhWK6TjMdLhIHabRT8nkozECKouQqoFVU0RUxIEiRCxJsk4LVSOHssvdj6QbIdk8tqmk0fE+yUBNZEg9vVs1K4zILaSYjxTdtYzYkkTAr2ZgBgQ49ETA2KcoRkKsgJiBkXR2KYEVFXlnc9f4LlH/sNTT7+oP2vkwApGDBpAUU4WuYXF+CorycvNxuGykYhGsaS0MxlqZ5Isq4U0blqiGaJNdbQ1NdDY2ERLSzPNre2EI2GisRjxeEwverglzeN243W78enfPfr9KUUhrX1PK6SVNKl0mnQ6haJtA0uncbvd/Or/Tua0i69i1wEDsf/IwfYt6YNcKwSEwMYEtAQT8a/nkG5vR/sVYMsL4Nl5Z6xut6ASAr2agBgQ4+ETA2KcoZkKcgbETJqiZTqBuatn8eUb7/CHP95CKBzepL7H6yE/P5/CwkJ9JaKhqZ7WlnYi4ajpfTIimJOVxdV33cSxJ57JEL/XiJTcKwSEwPcIaBmwol/PJdTceQYku9iDb+cp2HJyhJUQ6NUExIAYD58YEOMMzVQQA2ImTdEynUBztJlP3nqB/74+k08//JSWtlZCoQ5Dz/F5PJTkF+H1OHG7rLgdFlxOKzlOBzkOG1leDy6PjyyfH5vDSTDSQTCdojWZpCkWIRiJE4umiMcVErEUqaR24sOib8my2azYbeC0gcuawW234XN5aAsmmLtspd7viTuM4ep7/8Hee+xOnnPj1L+GBiY3C4F+TiBZXU1w5jfEwtrPJPiy7WTtNglHUVE/JyPD7+0ExIAYj6AYEOMMzVQQA2ImTdEynYCW1eqDL15h5ZwldESt5FgLiEfaqWtdTbhuJcGWJuqDUVqDMZqCUepb29G2bpWUFFGan0V+jocir5PcbC+B/FxK8/LJDxRg83hQEymS0Q5sGRWf1Y3b4SU/pwS/EsOuhElZrKT1EWm5sBKoVpWI202dV6XekyFld+MLDCLPX4Hf6SCZaSPYuAJ1TRWu1hA+rYaI3Yvf48NakMcvzruD1XX1uuIZJ/+KUy/6I7uNH6UXWpQmBISAcQLxpUvp+HoxKdWhZ8Bzu1RydtsJ54CtrxtkvFeiIASMExADYpyhGBDjDM1UEANiJk3R2iYEFlbNZdlnH5OMJ8i1+glZ06hWBza7D0c8SFFbY+c5C7cX1eEBrxdPPEiWzYZPW7XAT0tKIZoIknQlwW3B7vSTsqZwW1248WJ3eKgoHIo/K0BOcSn2RAfx+oWkI0EsihPVGSCSTKKqQZJKO+22OMESDxEPOB05KEoS2lrICqbxWdx4UjYc8TRoaYHdPjIZJ7OXLuKMP/6NtKLgcbu44YbbOWi/fRkzdjhWMSHbZO6IaP8hoGfA+noO7UuqUR1uSCnYLSlyxw/DPWZM/wEhI+2TBMSAGA+rGBDjDM1UEANiJk3R2iYE2mJtTJ/2OplgGGxWHP5s8soqKCoeiDtkJ1hTjXXpdJLhIAntwz6QawV7WiXsLAFvgJjDSjTbSdpmJRFrJ61GcLo9+AK5+PPzKHMVo0Tj6/vvz8vH5/eBmkbbYdW2ZjWKVkskHMHmsmHzKjRHq+jIxGj3ZHCHU2ThxG1zk+fJx59dga1oILFYknRbNcm2ejramrnliX/zzKsf6M8ZWzmIa/9yF7sOH0DFmFFYs7K2CT8RFQL9gYCaTBKbNYu2lS1kPD7UVAp7OkFgRBHenXftDwhkjH2YgBgQ48EVA2KcoZkKYkDMpCla24SAtg3ryzXTaW9qxJeVQ2F+KeXZ5eS4OosHttZUEw92oCydjr29Qy8YmHa5iQZGYAnkY3O5CJSUoLqt1MdqSaZjKPGY/rrb66cytxKXzUU02EGouWn9GDzZOTjcboKNDetfczmceCxW1I4O0qkIdaGlxJIdWLCR6y0hzz8Ad3kltkBgfcFBTTfcUEVH1QpW1yzhwuvuY/Gqal3zpMMP56xf/x/jczLkDBuMrbACPLl6rZGe0jLpNMm1VXp3nAMqsDjk3EpPiY304zsCWgasyKyvaV7TQaPFCopCid1GwaAsfHvsIfNWJkuvJiAGxHj4xIAYZ2imghgQM2mK1jYj0BBpoDneTLYjmxJ/CQ7rdx+CU8kErdVVoCSxtizF43UTcZaBszPLVG5JKS5vZ/G/pJJkbXAtCTWB3WKnMqcSp+27MxiJaIT2hnrIaOsoGzdfIA9/IE9/MZNM6tXV062tRBPtOO0e3PnF2IuLsdh/WONDS8PbUlNF/cplfPzVx1xx/Z3EE0mcdjvXX3YVB+22MyM8CVwluTiKS6FgRI8xIcm1a1GCIX3cUll6m01xETZIIN3URHDmPGprO2jW6uykFYoyUF7hx7/nHvrclSYEeisBMSDGIycGxDhDMxXEgJhJU7S2KQFtJcSq/WXzR1qkvY1wa8t3xkEvBLKx+Vh3m6ajVTr32r3YrT80C6lEnPb6OlSlM5OO1rILi/BkZf/gydrqgBIK6XUGrB7PT45fW62pW7aEBQu/5qWpL/HIM6/o1w8uL+eO625hfHGAUk8CZ74fx/DxkFW8TXlujni6rY1UTS2ZRErf2mZ1OXAUF2EvLNyc2+UaIdBtBJLVNXR89Q1rm0O0Z2VhSSnkxWMMLPKS/fPdsOd1/vFAmhDojQTEgBiPmhgQ4wzNVBADYiZN0dpuBPStWLXVpBOd+f+1tuHKx5Z2TEmn6Ghs0AsIZhcU4fKaU7Mjo6osnjODefNmc/vd9/D1gmV61w4/+Agu+93ljFKD+N0J3INLsQ3bebuugmh76pPLl6OEo2Qa6sBixVJQjDXLg6uyEqtJTLY0NnK9EPgxAvFly2iftYRl7RFW+AJaPVJGRFoZVuAld89JOMvLBZwQ6LUExIAYD50YEOMMzVQQA2ImTdHargTSyaRuQjQzklusbbsyxzSYPahYOMQX0z9m8byZXHnDnQRDUaxWC9dfeROH7b47Q1PtOHMyuMdPwRLYPh+aNIbJVatRwmGUqirsOT4sViup1hjW0lJsfheuYUOx2HrOWRWz4yR6vYtAbM5cWheuZXZHnG88PiwZGxPCbUwq8hHYaQSuUaN614Ckt0JgAwJiQIxPBzEgxhmaqSAGxEyaorXdCWgrDBkyWHvQIe4fg7Js6XyWLFzMh29P5e6HX9AvKSos5IFb/sGYfA8V9hTOMj/O8ftsl1UQbT99qqERpakJSyqBoyhf72O6tQNF9WLLz8JekCP1Fbb7jJcOaAS01brorNk0LGlkanUtf7rpUmwOB7deeTtHDiihYFQp3ilTBJYQ6LUExIAYD50YEOMMzVQQA2ImTdESAptJIBGPMn36J7TW1vH3f9zPR1/M0e/ca8+9+fPZF1Ce7aTMm8Q9djy20qGbqWrOZWosRmLlSjKxKGp9PY6Sos4zLm6FdFAh1dROxlOILduOc1A59kDAnAeLihDYSgLaOazQV19Ts7qFq99+nVenPq4rnXzyefxp3/0pH5yDb5991mem28rHyG1CYLsREANiHL0YEOMMzVDQ9k1op3l3Ar6aPXs2EydqXkSaEBAC3UXg22XzWLNkLQ1rFnDF9bfT0NymP/qycy7lF3vtSnGWiwEBC+5dDsJi757Ut9oKUnLFCpRYDKW6GkduFrjdLAvGsKhRRpYXoARTpNsVMu4s7Ll2XCOGYXW5ugubPEcI/IBAurmZji/nsbK6lTMfvYf5s6fp1+yy50E8dOr/Magii+z9fi7zVOZOryUgBsR46MSAGGdohsL1wHXrhMSAmIFUNITAlhGIJMN8Ne1zws3tzJ/5MX+642H9/Irfn8VV517G7rtMoMyfYfCwITiGjtsy8a28OlVXR7qlFbWlEVJpbHkB7npuKtfefbvet+vOPZMrzj0LtT1FOuUFuxVHkbfzPIj1xzOUbdgVNamghpJk1Az2PDcW2/++ZyuHIrf1IwJaBqy2r+bzTV0bx193IR2tzfroSyoqef7KW9ihxEvu/nthy/5hJrt+hEmG2osJiAExHjwxIMYZmqEgKyBmUBQNIWCQwDfL51K3uJpIcw0vTn2BF17/SFf0erxcdNb5HLDvXpTnZBg65efY/FtWKT2taqdhwGHdvF+7SjhCcvVqMoko8YZGOvIKuPbe+3n6uac3GuXRe+/D3668HkdSW5VxYXFoBQrzcJWXYrNZcXrt+qH6DVsmraIEk6jR1PqXbVlObDmycmJwCsntQHz5CtpmLOY/q6o575pz1jOxWKw8c8tj7DcoQGCvKThKS4WXEOiVBMSAGA/b5v2f0PhzRGHzCMgZkM3jJFcJgW1CoDXWyrwZs4k0h1Fb1/DwC8/wxgez9Gc5HQ7OPON8jj50HwYPKGLo+ClYN2OVIa6oNCRTtKc765g4LRa8Nmvnl9WKx2bF2lUnZd2gMopCbNly2hMJWurraLa7uOHGm/jo4/f1SzRjYbfZSCQ7DcSOQwfzxF9up9BX2Vmz0W7BXlmCze/HZreSW+zVv2eUDEooiRpJra/REkyGUFSFgDeAo9Qn+/K3yczqX6KxOfOo/2YNt037jAcfuWOjwf/hguu4aJeJ5E8egWukZMLqXzOj74xWDIjxWIoBMc7QTAUxIGbSFC0hsIUEtKKIc5fPo2lZDan2MAWWZv7+4ks8/Z9POj/4W22c8OtzOf4X+7LDpJ0ZWl62yQ/sGxqPWDxKS7gVm9VKQXYBDvt31d61X8Jua5ch0YyFxUJTVTVt7SHSwRbqatv5043XsHDRAr0PXreLs04/CkteLs88/BzNLUH99fycLJ685hrGV+5GKmMnbUljHVCEzePWUyDnB7Ignga1s6q8klFoTDXTGm3BElMpCZRRVFGO1f3DYpBbiFEu78cEMskkoRmzqVlSx3kvPMXH7/1nIxpHHHkKdx95HGXjyvFMntyPScnQezMBMSDGoycGxDhDMxXEgJhJU7SEwFYQqAvVsWTuYiLNHeRk3JTmtnLfP5/gnmff09W0X5qHn/gbjj3hOCbvsRujC3I3WsGIKSqNyRQt8STReJTmUDPBeBCXRcVlgSRWvNkBAr48fI4frjiooRDJhkYiwQjzv17IbXdcS21trf7sgtwsfnfGCQzac2/sjgALF8/glYefYOmyNfr7druNa359IiftuTcWRy4pTw5qdh4k0rp5yi3MxuLyELFbqKKVxpZmOlpCOKIWRg4sYMdhO+Atkn35WzFtfnCLljo5k05jLynpV6tKWq2a4JdzWL6igV/ecR2rly8iOzubaDRKOp1mhwm78K9zr2D4iFz8e+9jBmrREALdTkAMiHHkYkCMMzRTQQyImTRFSwhsBYGEkmD+ykW0r6zHkrBR6A1gz6zi+X89xk3PvIuq73GCfQ8/hiN+cwE7TR7LrmV5qBYL9fEEjdEYsXiM9kgb4VQYTzpMXqwFR3uT/kHUFigg4/KT9mRhy87H5c7BZvNr9gGSKZqWVdHUGmPpF+9xz/230R4M6c8bXF7MBWecwJApuzK8chKRaJDa2ioWrVjMWy9N5fMvZ68f7ZF7786VvzyObLePGNmEMn4SVgdpm4V0tkpHJkQsHkdRwe50Q8pGrsvNLjsMZ8BQraChHEbfiqmz/hYlGCS5tkr/t6OsFHtenhG5XnWvlgGr7Yt5zFzZwFF/OINUMsFeu02mpa2dhYuXk52bz8s3PcDEQVnkHrQ/FrusuPWqAEtndQJiQIxPBDEgxhmaqSAGxEyaoiUEtpLAytZV1CytI9nRTomvGAs2Ik2reXvq49zw/BuklM7zHLvvfQCH//ZayiuKyDgtZCxpEpkI6UQL/lQH+UoIVyKCGteqwrdhURXy8/y4fS5cLgfWDLhdPrB4CCW8NMT9xBIp5nz8Mvc+9dT6Mx4TRlRy3omHM2j4jgwaMZmsgBclrVJb30BjUx1r6mr4/OMPmfr6O6S7zpqMHzWEOy/6HXneAJFoinBKoT4WYW1rG01tLbS2tRAKhmht68Dp9XLcSWcwccfhjB4+jJx+9IF5K6fIT96WWLkKNRrVr7FlZ+EcOHBbPKZHaqZqamj5YgGPzZjL1bf/Ue/j+aedTHNbG8+/9qb+7wdueJDjR5cTOHgfrD5fjxyHdOqHBDRjrWXm0wy1vbCwXyMSA2I8/GJAjDM0U0EMiJk0RUsIbCWBjkQHy6vWEG+P4VUcONKgKGk6alYx/b3/8pdn/k2s6wD4+ImTOOLsP+Bz2bCrIWyJIG21VdRVV7Nm5SrWrK5hdU0dyS5joHWpINtPaUEuJYX5FOQXEMjLozgQoDiQzVfzFvHEf9/S0+xqbf+dx3PmUYdSPmAYA8fvjNvnXj8qVVFp6wizurqK+qYmFsz9gseffYn29s5zIUUFAXYYNpDaphbqm9poD0Y2SeTAAw7itxddzo7DShg2Yky/2ja0ldPkR2/TjIdmQNY1bTXJNWpUv+GpZcBq+vJbLn/tVV548VEdw+O33ExjaytX3NZ5IP3sMy7jLwf8jMA+O+MoLjETv2htQwLrjLU2p92jR2/DJ/V8aTEgxmMkBsQ4QzMVxICYSVO0hMBWEtA+/C9uXkKkPYGqndtWM6SjcVKRCMEli1kydyY3PvkCoVhcf8LQoZVkB3Kpr6mloaEJVVW38snf3ab9cj754H345QH7UlJawsDd9sXt9WG12fQvm8OB0+3R/7u1uZ05c+ZSv2YZVauW8sjzL7Jy5dot6oPL5eKOex5myuSxDBk2gMKcoi26Xy7uJJCsqkLpCEI6DhkFHD5cQ4dg9Xj6BaLo19+wds5KTnnkb8z+6hPdeM18/DGa2js45OKLdQb77Hskj55+BuW7jcQ1fGS/4NLbB6n9Tkx8+61eM0hr7pEjsDi6pyBrT2QnBsR4VMSAGGdopoIYEDNpipYQMECgMdpIU6xpIwXtf8LJjhAd02azfP5Mrnr4JZqDnVttNtW0lY3hZRUMqxiIze6kqqmB6sYGGttaaAl2rF/p2PB+h8PO7391DEfsvTslxfmU7XEo3pyfPkcQ7QgzY8bXNKyYT1tLE8++/S5fzpilp9sNFOQQyM0iP5BNUY6fkhwPFXk5+tesBUu5/z+dlaoPPvgQzr7kSkYOzWXY4FE4rP33A8bWTB0tA1R86TLdfFhC1WSUNGRX4BgwpF9sWcmkUgS//JpvF1bzi+svoqmhhoFlZfz7pmvQVusOvOgKQpEIlUNH8+8/3szYiQNwT5y0Najlnm4moMZiJFasXP9U5+DB2Pz9d/ucGBDjE1AMiHGGZiqIATGTpmgJAQMEtJS8LbEWtO9aBim7xa5/t1lshFauIjFzPmvWfMPp9z7IqsY2/S+95SUFVBYXMKSwgMqSYgaVFePPzsOqHTjPCxCNJ1HbO8ioKmo6TTKRIBgM0hYLUx+J0NQRJBhs57BJO/DznXYgvyBA/sT9yS6t2KyRxIIhvv7iC+pXLSMWDBJ0Ock4vSgJBR9W3BlwOe1YbE5s6RRua5JUrIPT/3wzbaEIbrebex54gnHjhjNgeCEV2QM267lyUSeBdZXrM61VWN0+0o1tWPN82MuGon1g6+tNy4DV/sUc3p+7khP/8Gt9uAftvivXn3UskOHCO59g5sJFOF1uXrn9X+y1YyH+n+/d17H0ifGlW1tJ1tSSSWWw2C04K8r6VXKF7wdRDIjxaS0GxDhDMxXEgJhJU7SEwDYioKoKDdO+RFmymHComepkOwMG5qG2RommVEJJhaTVgcWXg6qtXGR5tRy5YAMtv5QlHCErFSNXO4WeSug7dVJKkohN1Q+s57jcePMCZA+fQv7IHbZoFKGWZhbN+Jy6qnoyoRBWuxe33UXG7sSak4MnOwur10vclk1S9WJpWckLj93ME298oD/n8MOO4LeXXcXgIV6Glg7D6/Bu0fP768Va8cjEkiVkYkEyLS3Yi4pJNbaQIYm9Yiiu0aP7/DmQdEsLrdPmcdvbH3DnAzfrU+HSk47h2IP20P/7oRfe4sk3O4tp/vXKuzh791HkHnZwn+fSF34mtOQCieoWMvFOA+IaUtivK9mLATE+q8WAGGdopoIYEDNpipYQ2IYEEqEgTW++C8GWjZ9ic+ItGoBz0BBCXgftyYieSjeZ0qqWK+RmuSgtycLjdZAJdZBoaCDS0ICSSGp/JNa/tL3VvqLRFE3eBctmVFv//jBb1yxh1aL5hGJp7NhxO22UlhQQyM/DmlWExZNDGgttoTirakO0fvwsp117LcFIDK/Xw32PPMvIsYMoGZTNkJwh8gFxM+aRln42VV+PWreajMNPPOMlHYzgoQPnoIH6WYdtmfFJO/yeXLtWf4ZzwPZZuUrV1tI8bQFnPvYob739b53a41f9jkEDy9Gs91fzFnDlA0/rr590wtncdeyhFB5xIFb3d4kVNgO1XLIdCCSWLydZF4ZEFOxunIMCuCort0NPesYjxYAYj4MYEOMMzVQQA2ImTdESAtuYQNuyZUQ+/RzUJFjsWPwBcsaNxzNkADbPd9XOtS1XkWgMh92Oy+3aqFfauZJUsI3QimVEG6p1D2L35FK0+8+wO7/T2JKhaJpNC6bR3tqMx2mnZPBQHHkV4Mr6gUxtfYiFX87hqYf+zFNvf6i/f9TRR3PmxX9k4HAPFYFy8tz9p47FlnBed61+QHfpMtS2BlIN7SR8hahWN8QjWEMt+AcHcFSOxFG07Q72a+ZD6aoZs70OvceXr2TNtEUcees1LPl2Hm6Xi7duuxz8flSsRBsbOeLKzkxYu+yyD09dcDGVB+6KvXDbcdmaeMo9GxPQVvdiC79FqW2ERAhsLuyVlXjG9t8EAmJAjP+UiAExztBMBTEgZtIULSGwjQloxqJxxmzSdfU4ysr4f/bOAzyO4vzD7+31pjuderEl23KvuFBMNS2EEggJLRRTQodACB0DBgwYTDE1EDqEQGih/ekhQAADrti4yZZtWb3e6frd3u79n10ZMOAm3UkQmOHRI9DNfDPz7grtb+crvvFjMH1PYPRkCQm/n1hHO86ycswZZk3SAqCT/mbMbi+SVSt0uOWWkhUWrWyl6Z3nOOGaywnH4rhcDu5//HkqRpRQVOJgiHcIJkkUjNsaQyUQIFG7AXlDHbG0E9XpZL12AtLZxGAljq/EiqlyGNbBffPGWLsPE6tWoaZUMKALHXNR/z/URxYuY9GCag666GSi0TBjqgZz34UnQa6dtCpBV5TjZt5NU3sHxSUDeG3W3YzbezSWIUN78msi+vYzASUcIb56HWpDLaS1DH9ppLJKHBPH9uqEtp+X3yfTCQGSOVYhQDJnqFk4DzgFGAv8A+iOvut5EwKk58zECEHgRyWgPfylkklMVuv/rKtSa1uEZfMW8Mg9M3nmvQ90nkcfUmRfkwAAIABJREFU8ztOOP8yBlTZKHLmU+Iq+VE5/5QnT9TUkFhXS7AlAj4fS2QDqxQTpq4upqgRxhQasAyqwjZqZJ88sCmhEPFVa1Fb28BmxzywGNvQ/n2o1zJgaQHo//zPfM6eqf1JhKP2ncq5Rx2MrdxDSlGQmyJc99CzfLBomf678vydT3PI3sOwTRCZsH7K97fmXhiv3kC6rQHJYUeNxjAUlOoC5JfqPicESOZ3rBAgmTPULBwJaK8FfgVoyd6FAMkOV2FFEBAE+oGAVlV9yaom6t58iROuuYRIPEGO28lD/3iJgqpCCgvMeiyI3fTLqGXRE+Ta2+HIspUEa5oImS18gZlaaw4Gi0S6M0R5vIvDctI4q4qxDhuN0bX106iezLt5Xy1AOLJ0JZHOKCYjuIaUYR83Bsn6XXe/3trfkXEaB/8ni7n86Wd55Kn79CHXn3YUe+4ykYJRVSSVJP7Vjbz4xjvc//K7+ueX/+l6rjxyT9wiE9aOIP7R+mi1bZJrakmHOjHn5yK3d2Lw5GPfaQxGj+dHW9ePObEQIJnTFwIkc4abW5gFaPkyhQDJLldhTRAQBPqYQEdHlC8//owH5l7H8x98pM92/AlH8ftzL6ZikB2vzcUgz7ZdiNR0mlQ6jaUXgfN9vL0+Mx9ds56WhWuojsusNlsJ2h0YXA6a1q4m1NzKyIGD+a05QfkQH5ahIzEXFWV9LbHlK+hauo5kKq3XffGU5uAcP7pfa49oaVpbP1rC0bfN5pNPugXGizdciK+8hIop+5BMR2mcv5AVy5Zz3p2P6Z8fftgf+OtpJ1By+K+zzkQYzB6B2KrVpNbXYTAkMeXlImuxILYcbDuN7tO4puztIPuWhADJnOnPRYBor5QuBrRz3MlAMfDENoSAEbgE+COgpQupAx4G5uhpanrfhADpPTsxUhAQBH5EAlqhuKUrNrDurdc44epLiSWSeD0uHnv2eVxDiijxWSh3leOxbvmNZ1JVqYkmSKbT+MwmyqxmJMPP5U/Mli9MKBjmq/eXsjYQwK9CzGUjarPzweN389G/nu0WcX+aybGjRrP3IAeWqhFYBw/O6lXWsl9FFi2mZW0rYZOEKZkk3+3CO3EYtiFDsjrXtoxpGbBq/rOU/S8/m4b6DeR7Pbxww58xFuQwZp/jSMpRVnzyMommAIddchNySmHs2Em8cNk1VB11EFIvEy702wZ/oRNprnWxr1aj1G3A6LJj9OWQrG3qzoQ1diTWgT9OxrXNL4fmgphqbsZgt+uiuz9O/oQAyfwX4ufy10Gr8LQeaAIWaqnstyNA7gfO1jIEAp8CWpJy7dRC+/m5GWAVAiQDeGKoICAI/LgE/P44X374AXfffiP/+vhjfTGnnHYch591PuXlLlwWCxU5FdhM302bmlLTrI3FSahaDq/uZpUMVNis2I1a5ZOfV4srKk2xJMu/qKG5tp5oKknSbmJDSz0v3nkDzQ3aO63uVjl8HBdfOJOj88A1fDC20WMwGLV3YNlpcksLXV98SX1zgIjNhjGZpNBkomhkOY6dxuspnfujxdbU8N93l/Dr849GVVWmjh3BrHNOwjNkACN3O1wvvLnssxeJbmjnrJvuZk1dE54cL2/MfZxdDpuKMb+gP5Yp5ughASUYJL68GrW1AXOeD4PPgby+hbSaxjx0GLYR/RtrtKXlyy2tpNrauv+/M7RKCJAeXuMfq/vPRYBojq75QIOWwVIrSLsNAaIFin8J3ANcsBn4u4DzgfHAsk0/f2tTXMeWrk+t9rflex8IAfJj3cliXkFAEMiYgPZQ8dXSNax88zWmz7yCeFLGl+vh8eefwjKwjHKfVa8IX+mpxGrsji/Q3K60k4+oqoXBgUFNk5a6/7Ro0qPEaiHf0ocZtLR5tZOWDE9btL0roZj+YGV02jCYpR8kFdBOeZoTMm2xJBvW+elcuZ5oLIAaC/Lu+y/x9uuv6g/fOgeDAS09r9bOv/Y+Tq0oZNioEqwjx2LMycn4Wn1tIL5yFa0LV1EXjiNr/vixGD5FYUBFAe7J4/qtWnVowTLueuYVrr7jan1pfzx0X/5wxEGUjZ9E7sixOtfWVQto+XIVcx/7B69/qr0rhMdmP8Ifjt4by6D+O63JGvxfgCHt4T6xspp0VwcJn48WoxlPSzseScFYPhjHJO2R6sdtifW1pDqCSBYJ29hR/ZIMRJyAZH7Nfy4CZHMS2xMgNwJXAto5uHZq8nXTnJvXAdrnM3qJVgiQXoITwwQBQeCnQaArEGPJ++9x++2zee1T7YAYzjjrJI48+2x8BU4cFgmzZGZQziA9Ne+GWJKgopBKJpBaN1KsRAl5iol5CsDQffrhNRkpt1kwGgzIqkxnrFM/RdmaO9cOkVBkCLdApB20FME5peDYcr2SQEeYUCCC15eDO/e7gfTag3G8K0SgbiXh5mrdbczuLcPuKcXpK8Not5K2SrSmFFqTMuGITO3GANHaZlJNNbStX8mjLzxObYP2/qu7nXrSiew/bRp/OOVU/b93nXYIFx51EoeO8GEZMTprFaTVRILw5/PZWN1Ma0qlzZuLPRYlLxZhUJ4X35QR2LLs8rWla5NOpfB/vIgz597DC690Fxq8+0/TGTd5HKW77Usyt/sURmqP0PzZx7z59kfMeeYV/Wfnn3YRs845npyJWhJI0X5qBJIbNpBYuQZDKkaDzUfA4sVRt5FKl4yhoATnzjv12ynb1thEv1yFEkhgsNlwTNBOQLJ3wri1OYUAyfxO/SUKkLc3nXJocSLfby3AYuCgHqLVRI/2de2mIPTTN8WSaCcxPWkiDW9PaIm+goAgkHUC2lv7lYuWsfjN/+O0668lIcvk53l59l/PQVExaaOC0yrhtdmwOsoIpUDpqEdqraHMkPom7iNusRPyFKHY3CgWF2aLE58xycZANYFkQBcxWn2RAe7t+5BrpwrJpEwykSAZi6B0NaGGW5FjSZIRGaNRwu624ygowF4yFLO9+4RBTso0bmwj0O5HkZNaiQxycz148hxgSBP1B2mtWUm0uYZkKE5SqydpALsjjT3HieS0k7Dl4TfkEje5iCQVErKKKZHCUFfLW/9+iRfee0NPMau1kpISHv7bg/z6wAOQowHGTt6d6pp1WG12rrnxIU4b5MQ7dgzWqqqsXDfN7aT904XUNvlZl1T5pKGGEncuk3PzqHDYKB81EOekCRhMfXgCpZ2CRSI0frCIw668iCVLF2CUJN64YwY5FQNwTZqEwbGpoGZYpnPhZ6xbtJKTb7xbZ/CraQfxyFVXULbfXllhIoxkl0DsqxWk1q1DMZlYb8gl4cnHtn4tA2wxrL587FN2wuhyZnfSHljTxG9kwQrSiTRGTw72cZUYNp3A9sBMj7sKAdJjZD8Y8EsUIJp7VXJTwPr3gSwCtFc1PT1TnLlJfGxub1tB8Prfqk1fm48ZATy9cOFCJoq3QZnf3cKCICAI9IpAJBBi/rvvcuvtt/Dm51/oNs4652ROOv88ulIJ4pgIpAyYExFKU1EcSoIKqwSKgqIqSIZu96W0JBGxu4kpMg3hZjbG/JhS4EgY9Ydim8vEAFcJI3KGIkkSCQzEMZAA4mlIaFXiUym0YokGNYU50YEp0UVayxWSgEQiTlhJIaVTmA1GTJIZs9WC5MknavYS7kpgSCYwq6p++qI1Ldg+HU8hh1pRuhpIJxKkFUilkvhjYVKqAS1sRbXYUJxWjC4HBqsVVbWQlnJwSG4a1q3jwSfvZk295onb3Y787eE8fOsMcp0WdIPArfc8wmWzu1PS/ua4M7nkwP2YOG4Q9rHZic2IV1dTN+8rNgYjzH3vDV5/9VlcOV7mXD6biblehlQU4dl1PKbc3F7dBzs6SMuAVf3vJexxxu/xB/wMLi3m4WsuxD20CsvoKoybBFAqkSC6ag2h6g38/i/XEYrGGDpoCK/edi8jjuzpe78dXZ3o11sC2glbbMky1OYGIkYHG+1FpFy52DeupigVwu3zYJ8yod/c/La0DyUcJrpwBUSDmErLsI+pAmPfxz0JAdLbu+rbcb9EAVIDaCcdU7eAT/M30MrHZuf11Lavz5ZEiz5CCJDMb2xhQRAQBDIjsOrz+Xz21pucccP1yIpCSWEez736dwwWBy3+WiLhIEo0hUmVKJOsGBQVq7sQu81BNNCGGutCToUIqBHqTUmikoRRlZBUAy6jCaOikpSMJC1mzA4XA7xVOC35IEl67MTX8RNmQxp7KohdCWEgTVpJo0ZlwskEnRhpjYYJhYOY5BhSNEwinkSOK6gpiZjBRkRygtmCikprXR2h1jaiXR1Ew10EI2G6wiG6IhGC0ehWgUmSAbPRhMVkwmw2EorEdCZay/W4ufSSP3L87w7AYpIwbPpH+6zLH2T83icQjcUpLh3IrBlzOHZsMbYx4zB6vRldIC07Uden86hZ3cSyjgDnzPoLsWhEt3nQwb/j/AMOZ0xBLkV7jMVaUZHRXNsbLDc18dIz73LsX6brXX+9605ccsYJOMaNwlW52QlXGro2biS6aCWXzrmPxdXrsFosvHn/P9j7xMNEJqztge7nz5VAgNiXX5EOdNCKm7b8AagWJ7bGteQG28n3ubBOGIOlrLSfV/btdHJrK/HFqyDux1pZhGXkOLA4+nw9QoBkjviXKED64gSkN1dCnID0hpoYIwgIAv1CINrZwbw332XOXbfz9vwF+pwn/X5/SstcNPijtLYF6ApGiXXFCIZlIpEEoVCQeCKun2ZoXwaj9t2g/7vmliMZJUxGkx474va68RTm4CvMxVfkI68kn4qygeS5inGYc0jLaWzJGB4liEVVUZJJmhpaWFlXz/L6RtY1NrKxsZnOQKhfeGxpkr1Hl3HhyQdSVuTFYrMhuT1IXh/YvKhpAyZSXH/dwzz7yr/14Wf/+QYu3ms8A6ZMxFxWltG6U34/Tf/+hPVNAe5453Veef2f39hzOF3cduXtTM3PZfD4wbim7NQnFdi/njBaXcOMOQ9w58O36T+6+LjDOeTg/XDuuhOO3FxyzDnElThJNUmoo53ogmX87bHn+Od7/9X7z71qNmddeCpWkQkro3si24M1YRn/8iuIR1mfzqE5byDzFn7B5LJCqqJBSn1mzCNGYRuW3dTSPdlHYl0tyVXVIMewjyrDVDUx44QUOzK/ECA7QmnbfX6JAqQvYkAyvxLdFkQMSLZICjuCgCCQGYF0mtWf/JcP33qHc2fP/ibOITOj2/mDZDDgy82hJC+XCl8eOQ47dW3tbGhuo7GjU8+4la2mxY243G5yctzkeHLw5HrI9XkxmSSS8RjEEhgSKqlEkpQsd38pMqoaxyipHDh+IFP32hmj1YnV7CCVNqOmjaiKBEaj7nZkUyJsiEc49qzr9WWPm7g7s8+/gGm7jcM2fHhGW0msXcPaDxezpC3A2TdfRigY+I69Qw87hvP2/w07DS4mb89JfVqxOjB/Gcdddhlv/edNfQ2PzbiAAZPGkr/zRExWi56wIJqK0hJtIRmN0b5oCZ+++REzH3xK73/6MScy+/oZ+IYNy4iJGJxdAvG1NcgrVhJPqdRZi7j28Yd4/YVHGDVmEs9edA2VvjTGgVU4dhqd3Yl7YC26dBVK7ToMJnCMG4xUpnmy930TAiRzxr9EAXITcMU2smBpn1+VOdoeWdBSNmjpYnYCPhcuWD1iJzoLAoJAHxGItdbz0f+9x10P3s+bn8//wSxaWIXTbsXttOFy2vC47DjsLhRVRkkpoGWkTWvpaA36iYCsdqftTaUNtHV20Nbe3uuV22w2SouLKS8bSK7Ti6Qo2nM/JrN2wiJhMSlYJBnJomIwGzCajbrLSInPgdeTg8FqR1YgKacxaFm0LFZktxPVbsaLjJm0LjrkuERK1VzMzNjlNDkyeNKg5uRjyC0h16Iih4MkYyHSSuqb/cjpFNFIO3aHxBm3PMjSFTUYjSZm3fxXztx9FN7JkzH0svheWlXp/PC/VK9qZO57b/LcS90P8mf/8Rj+8fybdHUFced4mX3ZHPYtLWTQfjthHbD9YP/eXIy0olD//gL2O+t41qyrwWW38dLc6zFUlVIyfgJ2o53B3sGk1BRr/GtQ1BT1y5cRXrCGoy7RPJFh75135sm772fgLlotYdF+CgQ0F8jogkWojfV0ymZqLD4OPe4AYtGwvrz37nmWnUptWApLcE6d3KcnbFvjod17kS+Wkm7diNHpwD5xOAbfwH7BJwRI5ph/iQJEq/OhZbraWh2QCcDSzNH2yMJ34kGEAOkRO9FZEBAE+oqAkmLlh++xeMEy5i9aiGx04bJ6KLRaKHY5yfe4cNgThI3tyHYVxWtHspmwdYE9YcSYUrEkjSSTJuKyjKK9arGawWxCSmtxoyGamlpoaO9kY2sHde3t1He209jp1wOUtWYyGSkuzqe0uICSshLKB1QwbNBwyosGIZlzMDqsuthxmszkoGAP1uFWWzHZ0khGFcmQxmwyI9ltKGmznpFLVdMk4glC4RApk0RMsmC02bDb7MioRBSZcFrB4LJhdbqRsJCMmYhEzSgqSCo4rG5GFBbjtHTXQ9EOZ5RYmEQ0QCrmJxVooau9DTnSzH/WrOXau7rT0x506DHcdMZ0xu6xa6+Dw7XicLVvvs/Cug7OvPkK/J1t2O02Pn7/AR7/+5vcc1+3O9Zvf3siZ+97CLtMqsK968Q+qY+gZcBa8sbn7HbCQXqmsglDBzHr8vPw7TKOnOISyl3l36Rbbgg3EEgEaGnaQGLeak694kaaOzopKyrk7UefZvTB+/fVnSzs9pCAGo0SXbCQtL+T+pidJ5cvZ/asi76xMuei6zl+yhjchQU4pk5Gsn23OGkPp+tVd+3ei85fRrqrBVO+F/uEMeDM65Wtng4SAqSnxH7Y/+ckQM7T0s1vOkm4bpPIeGnTll/9nqh4ADhzUyX0TzZVQj8FeFBL9pI51h5bECcgPUYmBggCgkB/EEg2ruHd194nlpBJG604k1BkcWLBgskoYfV4cQ0sxu8IkjT6SacToKQxhQ3YIk7UZBoMKZR4nGinH1IRTMYUajpJMqUiKya0/LiS0UjKZiJptqK6HTQmgwTDIfIcJhxpOxazCbvZgsvoxGIpxOouwGgzk9RiToxGLAYFG2HyCkyYDKAGwyhJCcXsQiWJqmpZ0Q0YtAxdFqueuSftdOMPhZETMrFggmREwWJ2YHKZcXhsWsi7HruADRSTQlKW8bcnCYdSuOwmHA4jHkcO+W4fOQ43RlN33RNVVQg01lP38YeEw50kIh0cefVcukJhvLl53H/H/fxu/6lYyst7dQlja9ew4v2F3PWff/PUsw/rNqZPP4xL/zSdSCzMPgeeTTQaw5ubzw2X38Zhw0op3383jC5Xr+bb1iAtFuWhe57inGu76/oes/+e/GH6bxk4bS8cDjdDvUO/ET5ROcr64HqioSANn37B7XMe4eMly/TUx2/+7VEOPO3kPhFJWd/0L8CgltksvmAByVCMupSL0+bexMLP3v9m58cfcTyzfnckefleHLv1rYvf1nDL7e3EF61AifpRi324xk/EYu+flMBCgGT+S/BzEiAbgK2l+tDExeOb4dKSol+qFWsFtEhArYKU9n/xW4Fvz9Az59tTCyIGpKfERH9BQBDoWwLJCOs/+ZCVq+vIMZkYXJSH1etCtblR3WWkcaBGU5rDEmGjH1VKYUu5sEo5GF0WtKOOdCSKSYlhN8RIBloIt7fqosNsd2DMsZNyOUgYraQNRqJyjECkA2JpNFcjgylN2hDDmZbwSD6cDi+S0UBaNYDJDjYPJEPYjFHc3k3Vy7Uq7Z5y0lY3aiiE0tmJllJUcjgw5uZ+50E8lUrR2dmJ9v3rKuZa0LzWrFYrHo8H06Y0svFUnLAcpivR1S1MNmuaq5HP5tPf9n9dBX3jog9pX7mBeLCe+155l2fe+UgfccZZF3PFqcdROaXnxfc015jm9/7DF8s3cubsGbS0NGA2m3j7pbtwSEYkk5EH/vEqjz7xmj7XUcecxpn7HMweh0zpEzesZFMTZ194OY8+96Q+34wzTmLqobszcLfdKXIWkW/P/w6ndYF1RBIhqr/4nNcfeYXHX3lD/3z2BRdw/qybcLj6PoNR3/7C/DysJ+rqSS5eQldYZols4/DTfoO6mYvhuLGTef6iKyjJd2GdNB5LSVG/bzyxoY7kipVEtWx2pQUkBo6lssCJ2ybS8Pb7xejFhD8nAdKL7f9khogTkJ/MpRALEQQEge8TSLeuItbux2g1YdWKyrmKwFlIPKoQDsRRUmlIKqSisvb6H6PDgmTvLn5nthpxeq1YbCZdUGiCIBUKIZktGHO936ReVZQkkWAnIX8HoUiQjngnaVXBZLRQ4C6lqKACpzWFIdoOchRFSSMntTgNMJq04oGaaDB0r0372iQiduRqKoqiixBZ7q4dqwkQTXjY7d+tmr65rXAyTEe8QxckmzeTwaQLkVxbLigpVr/1MvGOLtat/4pjbrhXd9UaPmIsD9x6G3sduDeStduFa0eb5nay+uU3uePdD3n4iXv1Yb87cn8u/cNhGFQ3SipExJrmkD9cSiKRpKCgmBmX3c6xU4ZSsOfkrJ8wBJbXcNgpx/Lxpkxpj9x6NUP3nkj+kOEMyx2GUfpuVWp/3E9jpJHatav48p/vceWdmkMCnHDIQdz214cpGpBZdrAd5Sj6bZtAfOky5PXraO4yMHfePO5/YHb377PJjJySsTtcfHL7Y1SV2jCPHodtSP/EXmy+6thX1aTWryGQkAmVl5EqG8roMg9GUYjwf+L2FgLkp3GZRAzIT+M6iFUIAoLAlggkwtBVB2YH5JR+p9CXFk8RCSSIhbT6rt82zR1JEx42Z8/fRsajITrbWwjHghTkDcDry/9udeNkBCLtEPNr0Rfdk1rc+qkH5t75omunH+Fwt5hwOp0YtYj2HWgJJUFHrEM/FdFqjXzdJCS8Vi+WYJC6Dz5DiXRw9u0PMH/1Gl0E3HTLXZw//VichQU7MMu3XYLVq/jkvQWccfPV1Ndv0MXSy4/eSKHFjdddTlgOkUp2MPf513n2xff0gceddC6nH3AIe/92LyRndl1UNny4mKlHH0hTazsleT7mzr6cIfvuTlnRYIqdxT/Ym5pWqfZX09HRxLp353HaBdfqxSYnjx7Jc08+xaCJIhC9RzdEH3TWgrujn36K3N5JbZeJ38++krWrl+o1W/bbax/eeO8dfdZnZt7Lr8aWYxsyDPv4kX2wkq2b1F5mRL74knTLRhrjEl2FAzH5ihgzPF9/2dHXTbhgZU5YCJDMGWbDgjgByQZFYUMQEAR+NAKppELYnyAlq9jdZhxuy3dFQ1+sTHMJiQdAy2Jlz6ywX6bL07I8aW/3O+OdpNLfevJaJAusrCZc08K7H/6byx75hz7V3tMO5K477mD8hJ6lMK196x1uf+U97nlgjm7nV/tP5bqTf4fVVoyVtJ5pLKyE6Yi0cuRZ15FKKZSUDuDKy+7khN/sjHfzwoAZblp7UH3/6Zc54OTf6yc7u00YzZWXn0XltL0Zljcci9GyxRmaI820dDXy1fsfcc0Vt7GuvgGP28V/n/sHYw86LMNVieGZElDCEWLzPiHSGeM/Gzs57tJTdZN77LwLu0+cyC0P/FX/70tOOp+LDpmGu6wc5+5TMp22R+P1IPkvlpLyt1AvW4mUDsLl9TFyZJ5eb6ivmxAgmRMWAiRzhtm0IGJAsklT2BIEBAFBoJ8JaDEa2mlIe6ydhJrQZ1flCPK8VdDRxa8vvprWri6cDgd3PfIopx17zA6vMBWN8tHzr3HGDddSU7NaP0l55vbLqCwZhE214ijO14PvQ8k4qVQXNz3xLK+9M0+3f9IfL+a03xzBXoftvsPzba+j9hA4e8bVXHXnHXrX4w8/iFP+dDzDJu/NgJytp/3VTo3WBtaycsEC/nrd/bw/7wt9/L/uvoWDz75Yrygv2o9HINXaSuyzz2n3K1z1+qs888Jj+mJmnHsuOw0dwu8u7M6GdeCev+KhM88gt7gA1167YjD3/LSzt7vUguRjC5YRD3ZQpzqJlA5mYGkBFYP750WEECC9vXLfjhMCJHOG2bQgBEg2aQpbgoAgIAj8SAQ0V6PGcCNdyS59BeHmNaQWtPDksy/yt7fe1X/2h+nTufbm6xhWsrX8Kd9dfPuKr7jtkRe45Q4t0SPsPmUct553Cmns4E6jVlYghSKYGgKkJGhsXM+xf7lZr71SUTGYS66cy/RjpuHybDsbliaitMQCBqNBT6u8tSZ3dnLCicfx3BvdLjnXXXwuv5p+BGOHT8Whuetto23o2sDaDct5ZvajPPpsd8LKq04/kYtvvRuvt38eIn+kW+MnP22iehXxFavZ0Kpy4MwLaG2qw+PO4cVbb8BjjnLo5bfT0t5OeVkF78+6g+JiL/bdd8bkzn6Wta3BSm6sJ7FsBV3BEK+sqeXSW2eyz157c/PsGxk3blyfMxYCJHPEQoBkzjAbFoQLVjYoChuCgCAgCPzECGgnIVoFcCUVx79sKS0LaznhqlnIikLlwAHc9I9HOGKXPbBrGb220+a99ganX34Fy1d0l6p64OqzKR84CKtVwjKsCrMnh1Q8gaG+iVhHEKvFyKx7H+HdT5fo/U8/ZwYnnzqdqZOqtjpTWkmT6oyRTih6H4PFiDHHskUh0rGmmv1+cwhfrlqrp0l+9K4bmPy7wxleuP14AO2UaE3LKt557CWumqkloITfTNuNvz78GKWDM6sSvz2O4vNtE4h+9inRunaeX7Cac27VEobCr/eZxpwT99Lr65xx2wt8tHiFfgL3ydynGDM4H9vOkzAXfjfjWV9yjq1YQ2rtapqDMlf/60X++dLT+nRfLFrClJ20cm9924QAyZyvECCZM8yGBRGEng2KwoYgIAgIAj9BAlrGrPpwPeFQHf5P1nDD7Pv477IV+kovuWkmJ/7xKMrcxXr2rK21aDDI7XMUZbreAAAgAElEQVTu55pZV+hdxgwfxHUXnoTD4sYxsAjrwArKSgbR3FJLzO8nvb4ef7iL9qYW/jjjTn3MsKph/OXmhznmkF3x2H/oLqMmFZTOOKFQiOZAM2ajmSJvMTaLBYPViNFjRbJ8G5y/4j9vscuhRxKOxqgaWM6dc69hz4OP/qbw4LYuhXbKUt25mnlvv8v5p1+m2xheUc7rzz/BkEn7/CiVtX+Ct06/LymdTBL58AP8LTFOf+Rh3v7gdX0N915yHodOLcZgMTP74bf467/+o//87vOv5aR9J2KbMBFrZe/q2vR0k9q9E/liCammjdSHJA69+s/U1tZQVFxKXd1GzKYdSyDR03k37y8ESCb0uscKAZI5w2xYECcg2aAobAgCgoAg8BMlkFSSrA+spaN2GR8+/m+uvOchfaVTd5nIFU/9jcpcK06zk1JXKVatjsn32pdLFnHaKX9k4ZLF+ifXnnsck8fvhCvPQeG4XamqHIvFZCEhx1lZs4hwSyORjQ2EU1FunfsYXyxdo4/70yWzOPbMPzK5skAPHNeKLepV3CMysfYw9R2t1HY24leCmIxG8iQXpd5C8tza220Z1ZxCtSvIoRY+f+stTrzoRt3u/lN34/o7r2DXKYfucKrftmgbH332HteceTUr1tbopygfv/gQVbvsT25h/zzM/kRvlx9tWUpXF9GPPmJNfZK9Lj2VSDhIaVERr888jaJRRWAx8foLn3Dm7d3JFKYfehy3nnQ07pEjsY/pn5MrVStq+tliYu1NLGmOcuD5J+prOXjvaTz99JN4y/r+3hECJPNbVAiQzBlm04KIAckmTWFLEBAEBIGfEAFFVVjXsYiaDxdy1nnXUtvSqj903/jEXymePAmPTcImQanDR4k9F6tk0AVCTE7wwN/+ysyLr0FLezykvJhbrzyXQk8ugybvQ0nVCKTN6m3I8TjrNiynfd1y2hubWb1hHZfd+KBOYvzIUVxw77OMG1qOEQOqohDqjNLa1sbGwEbCsVbC4Xbqly4lbUiTU5RHeUEhJW4vBXYvbikN4U4kOcyrnyxl7pPd8RtnnXg0M2bPoqx06A4Tl1WZj5a/zx0X3sIb73e/UX949iXse8gRVI6YhMHUsxopOzyx6LhVAsna9YTmL+P+f3/ONQ/cpPc78eADufbkqSjFeQQiKv6VGzj88ntJJGUmjJ7Iq1fMwDd4IM7d+ieFcsrvJzZ/KV3t7Tz433nMeuB2fZ0zzzmXy2+djdXZ97EoQoBk/kskBEjmDLNpQQiQbNIUtgQBQUAQ+IkRUFWZ6vX/5bZL7+KRl17VV3fooXuy+2G7oTodWPO8GN05mOw55DrzcZttJOMxbjvtQj7/7Eu9/6WnHcPv9t6XstFjKBm/C9IWapaEOzvobK6nYcVCGvzNXD/nQZat2aiPv+K6mxl06O/pioX04o+RUBvtG9awfsEC1i9dRt3aWlTl25om2hibw4rPl0OBz0Nxro/i/AKWrqxh8YpVus17b7yMsy6/8QeFB7eHf3XzKu6+7jbuf+ARveu5x/2a8/98IYUlFeSW988b9e2t8Zf0eWzxAgKrGjl8zmzmL+7OoPbydecwcvIg/BYvitFKZOUaLpzzGCs21ON0ulh8z+MUDyzENW33fnGdS9Y3kvjyK5rbujjjofv54NMP9FO3p+65l4NPOpFct7vPL5kQIJkjFgIkc4bZsCBcsLJBUdgQBAQBQeB/gEA83sx/nn+N351+HrFEdwFHu83KgIoiSgYWMmBwCYNHDKRgYDEWp5eu+g6uOPN6FEVlYEE+z956A4VlxVROOwSjacupTzU/+c7GepItLaxduYR/L/iY6+Y+oc+1004jOfG6i1m/eAVLP/uClUtW0trU3mty3pwcXnjyPvY7/IQe2wjGgzz6xN/481mX6GP3njyO2deeRVH5GCqGjUVyiIxYPYbaywHaPRP9z3ssXN7GfhedTColM7JyIC9eN51Qbj5yXjmS0Ym8ehF3PPISr3y0QJ/plRvuYdqkkTj2mYrRvv1kCr1c3jfDYitrSFavYENrnD3+fBrhSIjBFZXcdd+97PerA7Fv5Xci03k3Hy8ESOY0hQDJnGE2LIgg9GxQFDYEAUFAEPgfIJBOK2xc+TEXnTOLlz7srla+peZy2amoKEWOy1TXdJ9eXHLcsUz/3SFU/eowrC7PNnebkmU66jci19ZSvW4lZ8+8keq6Jv1tsctpIxSO/WC81Wxi8rCB7LHzWLxuD411LdQ1t1PX3klzIEh7V1B3vdm87TV5Ik888SiVo3qXfej5f7/I+cecRUtHO3arlTkzz2bKLrsytHIYuRXjQRJ1QfrjtlZjMbreeZcZz7/J/U8/0H2/Hf1rjj58H+TCPFTfUAwGC9R+zisvvM+tT3ef4F154vlcdvTBOHbdBVN+bp8vNfL5YmL163lj8Xqm33ixPt8Rv/o1l8y5haljx/b5/NoEQoBkjlkIkMwZZsOCOAHJBkVhQxAQBASB/xECwY5GFrz7Hh+++xnVNetY01BHdcMGQrHoVndQ5PXy0u23MHr/ffEM3Hoq3c0NxEJBuhobCKxexXOvvsy1jzz5A/t5Lgd7jBjEfmNGs/OYCXgrhmHxFKCmIRVLkWppJa4FJ0fCBJQE9UqIBn8rbQE/SkphypjhnHbp9Zjstl7RX1y9kBsvmsmL/9edcWlIeQmzbziPyhE7sdPwsRhz+z6ouFcL/5kNklvqaX1/IftefQXVNSv1JARvzL4Ex5BCKK7EnjcEM1aC6z+m5tMlTL/+Xp3AQXscyFMXnIN7ys5YK0r6lIqaSBD9bBGBxiZmPvcSj7zcnX535qV/4tgLz2Zo0SAkqe9jh4QAyfwyCwGSOcNsWhAxINmkKWwJAoKAIPATJZBKKaz77C1aOsIoappUV5yUP0ZDfTOrN25gdV2tLkrWtzYQT3ZXVL/kqOO48JIzKZ2yd492FWhpJtZQz4alS7jw5lv4onotg4uL2GVoFXsMH8n4gSMw272Yi0vJqRiEzZerp9tVgyHUru5CiqRVJDNEoyH8G2vxh/x0yV3I6SSlRSVMO/XcHq1p886dgU4e++czPHH7PSxbs1r/6JCpEznnz6dQOXwcI0ZMQTL3vWtPrzfwMxmYXPklr74yj6OvOEdPfrDb6JHc/OfjMVWUYSysYOSwiUS7kqxb8zHhZYs58aq7aPMHGVhawSdz7iRv/Bjso3c8CUFvsOlZuj5fTHNjO0fMmsGKmtU47HYeue8ydtl/L8qLp2A2iyD03rDt7zFCgPQ38W3PJwTIT+t6iNUIAoKAINBnBNrW1RBtXUY6lYS0AdISqpxG7oohd6WIhlNEIjFqmhr0NUzZfRJjjvgNRkvPThpUVaGjvo5oTQ3VSxeTSsrY7A4cBhc2yQ4OJ1ZvLk63G0ky6C5aktWEIZVCMhowmgxYy4qx5vuQTBIoKTpqN9C4YhmJQICiybtRMWr7xQe3BjIajfL6h++yfMkq7pl9E/5gUO96+fQj2PfwQxk0YRIVFeMxS+KRpc9uRiD44fucftvfeO71f+rTzJx+LPscPAnToCpKB4+h0jeEQCTIilWLUFbP4/LZTzLvq9VIksTi+/9O1YQROHbZqS+XSLKxmfiipXxV08SeF52KqqpMHjuSKy+ezuDBHgaO/DW5eRV9ugbNuDgByRyx+G3OnGE2LQgBkk2awpYgIAgIAj9hAvGITLAthkF76DcqSNqXKYXBKGMwyKjRIMlWP8FmzdUpzcDddsWeV9qrHSVjUTo31hKpWUMkEcVpcWErKEDKzcXt8WBVVLS3y+lUdwX0r5vBKGEeMBCjy/mDeVOKSiyZwmUz73Dtjy0tPplM0tTUzNvzPmHp/IX89c47UNNpnDYrd15xBmMmTSZ3/J5UlFRgN4p4kF7dANsZlFYUVj37Lw74y4U0tDTgtNl5/taLcI2qImfoQCqKJtIR6yCuxGlc34yjeTUP3f8CT7zZnT75ob9cz7G/3gfXfnv2xfK+sRlfvY7I8mU89NbHXPHQbfrPTzvyII4+4WDyvQWM3vW3WO3CBatPL0KWjAsBkiWQGZoRMSAZAhTDBQFBQBD4XySQ1gItDGzzAV4LWteawZBZhedQZzuRlhbSsRgGlwuzw4GnsBiTxaLb17IgqeGwLkTUYBCDxYJ54ECkTZ/3FV/tLXZzczOt/k4+WbKct597htdefUWfbnhZEbdcfR6DqoaSHrYHQ0qKcfVDpeu+2utP1a7ib+O+OQ9ywc1X60s8cOdJXHrB0dh3GozDNxCz6VsB2trqR62rZsHrH3H5Pd2Z1U497A/cedYpuPbbC8nafT/1RYt+sQT/unWccfe9vDFvUzX2ay5gp52HkV8ynhETd++LaX9gU5yAZI5ZCJDMGWbDgsiClQ2KwoYgIAgIAoLAVgloAiPQ3EgyFsOe48Hty+uXug07cklaWlpQFIUVa9ezsr6eB2+YyfJV3TVGjpw6gfPPPhHvoDEoRcOoHFBKXh8+5O7Ievu7j+ZGp6YUlFQKJSWjyDJyRzsmqxVHaTkm85bTMe/oOtsWz+ekC6/irY/e1YfccsFJjDpiElKpl4q87xYYTERlGmpWoi5dzlF/mY2cUpg0aifemjULz957YPbl7Oi0PeqXTiaJzFtA0/ompv75DNoDnZQV5jP3pr9QWVFI+chfUVxW1iObve0sBEhvyX07TgiQzBlmw4I4AckGRWFDEBAEBAFBYLsE0qr6kxEeXy82GAwSDodJppLMX7Ka6qaN3HbpXwgEQ3qXWSf+hgMO2w9D5S4YHB5yigop83pw/sxOQzSRGO8MEgsEUdMKKippVNjkeaYmEyht9cidrajJiM5GsnlwVg7DM3gEVucPXeW2d0PIiTjz/vUah5/+RwLhIPleD3PuPgP3+AoG5o3FYcvDYXJQ7CymOdJMRI5QU70W1/pVnH35vaypbyDH5WbFg09QsNdULOVF25uyV58rwSDReQt4b96XHHndRbqNg6ZO4sI/n0h+YSVjdz4Ei83UK9s9HSQESE+J/bC/ECCZM8ymBREDkk2awpYgIAgIAoLA/wyBQCCAFpDe3hngy1U1zF80j3tnz9ZdwzwOG09fcgp5EybBgElIkgnJbiO3qICSHDeOzWJDonKUlkgLOdYcfDZfRvEp2txhOYzNaMNszOyUYVsXQptHDsYJ1jcR8Afxyyl93+k0oKoQ8UO4HTUeQE4rJJUUcTWJAQMumx2L0YhqsmIqGICtYgR2jw+jUcJoMGCUDJiNEiZj93ez0QByklQ8SlJLrRyJ8tjcR7jpb3foSzx4/0kce9VvKC0fSrlvoi48PNbumjNdiS7qw/U0N7aQqP2Ke256irfmdRckfH/OX9ntkAOwjRzSJ/dcsqmF0OeLmPnE09y7Kf3upX88jkMP34P8iqmMHDuhT+bdklEhQDJHLQRI5gyzaUEIkGzSFLYEAUFAEBAE/qcIdHV1EYlE9MKLNQ0NvPyPx3n9te76IOMry3j+ylMJlo8jmV+F0dT9tltyu/AV5JNrM9ARbWJFezWhpIzDbGSQp5wSVwlemxersTs4WXuwT8lJFK2gogGsDucWRYqiKqzsWE9DVwCryci4oiH47Nl1L9LWokRkIo1tBDva2RhNUBtJoM1tRMEc6yLpbyIQ8NMZ9BP0a18dRIJdBCMJfY9DC70MHlBGUV4BVqsZk8WK5MnHVD4EU345BrPGyYAci5KMhpC1LzlBOBYh6g8SD0R54onHmLdsic7nutuOZ8y+uzG5cm/KvaOQDN8G/mvrrfZX0xUKU7tyPvOefpc7//6SPm7mKX/ikrNOwbFz3wiB+Jr1tC9cwhHXzGDhmhVYTCYevnMGw0ZU4hiyM0PKK3CYHf1yvwsBkjlmIUAyZ5hNC0KAZJOmsCUICAKCgCDwP0dAEyEdnZ2sWrmR9W113H3TdVRXr9X3ccYBu3H9uccSsxcRtucRs+cSI41f9tNsiBFMy1gl0F7yaw/LbpOBSrcPl9GGRTXiNNixG6zfeag2ms248/J1IfJ1iyUTzK9fTltXG7IcA4sDmzmH4fmDGOTLx2b+NiGAmkyi+P2k43EMJpMevG8wm7u/Nv3718InJiuk1DSqmiYdTZHsCBHpaKMlFKQ6FGTlyoXM//Q/rF1dTUhzSwtFkJOpHbqGeR4ng4ryqSoroqq8gKqB+eT43ODMQVUNSIqRRCJFY0srjc0dtLWH6QiE6QwFWbi6mqQsU1GWz/WPX8Q+4/aiPH8X/aTp+6012kprpJXqFUtp+/gLzppxl97lkN3345nrr8O9b98EgkfnL2HdkpVMOmc6yZTM2KpKZt/4J+zFleRVDcVoNVDuKv/mtGaHoPWykxAgvQS32TAhQDJnmE0LQoBkk6awJQgIAoKAIPA/SUCLCVmzbgP1tW0sr/mSm2deoz+MGwzw9wuOY/8powhLUG+UaDCYaUmmCStJUmmthomTPKeHtJIgpTkpSVDq9lDizsVAGgkDDoMVl2LCKllRLQbkdAKDCcxOibaIn9Wta4nGYsQToChaWb4Uqs2Jye1jgGcAQ32FFEtpTKEu1HCEWDSMlk7Y4cjD6crfrBp3mlhKJawYCKZU4qgk43HkSIRwoJ1wqIWVteuZN38RS75cTmtbZ1avV6HXRUWRl2A0QWsgTCCkybWttxOP348LrjyHUYN2wW7fckC3rMqs8a+hrm4D/q8Wce65t9IZDDGodCAL7n8Y76H7IWU5XXI6lSLy8ec8/uLrnH/vbH0Dfzhkf0478wiUkpGUDirCZDBR5a3CKGWWLW5HLoAQIDtCadt9hADJnGE2LQgBkk2awpYgIAgIAoLA/yyBgL+LxctW0NnSxbv/fZm/3fugHhNhNZvIy9l0WqGlMNY8hLQihZIRSTJi0r+b8Hg95Bd4KSjKw5fnoTTfwyCfB2s6jTGloioyac0VS6t9omXVsloIA20GlbZInI7OAOGuLuKhGCaLEUeOlRy3kxyHl7KcPPIdLlwGcKhpJNWI0WAmnVbRPMMMZjspyU4ybdLdqRQ1RSIVJRXvQo100d7Sxn+/XMOnK9ZQ29T6g2uk7a8o14vL5SDH5SLX5cTn9VBQlE9heT55A0vJLy2noaWDhYuXsnLFKtatXk/9hgZS8o6dmHw9qVGSyPd5GVo1gLOvOIlpO0+lsGACRuPWC17Wheqob61j3VfzuPPKv7FwRTWandWPP0fFbw7C5Ol5MPy2blQlHCbw0ReccfPNvPTxe3rXOVddwKg9x5I7eBw5PgdlzjLd1a4/mhAgmVMWAiRzhtmwILJgZYOisCEICAKCgCDwsyLQUN/C0pWr6Wpp58G/38sHb3fXfuhts1ktlOTlUpznoSTPqxc7bO8K0e4P0tYVojMYJhTZ9inB13NbLWbcThdulxuPJ4ecHBdGrXK8FvhtMGCWJMyaIDIYkVCwGBQMaYXFNfV8taFOdxHbvHmcdvYaPZS9xo1jzKAqjGYXmHNI2xwYXGYkW1oXN0azEYvFhN1pwmRJk0qliMdTBCIyHZEIK9Y3UL16AxvXbaR+wwbaW5txOXPIzfOR5/NS5MulqMhL0YBcCisG4C2qRFVTGNVGKsoHM7ZqHDk5Q7eJWAv0X+dfx/Iln/Hi3f/g+f/rvi5PXnodx1xwDpbS/N5eoi2Ok1taaf1oPrueexr1bS34ctw8eN+VmAcMZdCw4bgdTgZ5BmV1zm0ZEwIkc9RCgGTOMBsWRB2QbFAUNgQBQUAQEAR+VgS0h/TlK9dSu76ehob1PPncYzTXNXa7EaUUjIqCpKqkVS26XHOuMqClGdZiBJq7/MRl+SfNw2azsvOksRy8x0SmDJ+Ay56L3eHBrH3lejFYJP30JBZLkohqNUCSpNNx1HQC0L60HVsxGGxIkg01ZSKZ0ARJnEAyRDgVQ9YEkaJiM5gwWdOYvCEsTgWtyj1o7z9NSAaHfgg0uDCfigETMZnc2+VWE6hhVfViPvznq8y54ym9/xmHHsXdt92CdXh2xUC8ZgOfvfgm0y47R59n70kTOPvK48mtmEx5ZSGDPYOxmbZ+YrPdzfSwgxAgPQS2he5CgGTOMBsWxAlINigKG4KAICAICAI/OwLJeIqFXy2jo7aD1tAG0vYUXpMFtykHNeFEippwGyxIcgxDMoLTmsZhSxNLGNjY2sGqhnXUtKxnXXsTde3ttLZ30t7W0e16talZrBZyfV58HjdlXjelTgdFnnzy3QXku7zEkknaurpojYTojHbRHu4iEI3RFQ7TFY7o35MJTRBsv5lMJkaOG8ue03bhoN1GkCcVYjT7cHrycHnycXo9eItyMFu/G8ugxZhEQlGCgQixkOY6prlaaY9x3VmqtLS7mm2zXpTQgJKARDRJIhnFaLXiLbLj9lm16HwikTYSiWY9tkX7by0wXju1ycnxUVi4Y1msOuOdfFW7mJWffsS5p9+oF5LcdeRY3nvq7zgnjds+iB70iC5cyvW33M4tzz+pjzr75N8z7ZiDKB8ynkGl5Xqq4P5sQoBkTlsIkMwZZtOCiAHJJk1hSxAQBAQBQeBnQaCluZOVG9YSrAthMiukMWkHILisTlwWF/FoEAMpHDkmnFYTHqeNVCqGv9NPJBhH1dyUUhH8qTa6jGkiJhW/P0QqLuPyOfG4HZS4DAww+zDJPmJhE7FOP4lAEENK1h7TSVssmOxmLA4zToeMmm4Ao0LKoAWxW0nKViKJJMF4nGQqhZxSSSRlEkj62IRkQk1BUVkepT4P+bITq6kAb24Bbq8Pm8OB02vF5tx+vRFZlomEYygpFbPZhMlkxmjcJFg2c+3Ssm2lkir2HAsm07fpdLWbQnPdikSaiEabSMoJJIOBgoLh2GwFO3TPqGmVr5qWsnTBh8w4Zza1Dc34XG7WvvQGuQfssUM2dqRTWlEIfPAph55/Pp+u/FJf5x1zL6Fi4p4MG1rF8IKh/RJ4vvlahQDZkSu37T5CgGTOMJsWhADJJk1hSxAQBAQBQeBnQUBRVNbUbKQ92EEyIaP5XHlMHmwmOyaLAavLSCoRJh7urpy+eUuraRJRzdnIhNUs4Y/X4483EUjLyEaFArORXKOTXKkMo5RDSvPvMhj1oHYtgDwlx3VR4PQ4cLrsuB1aUUIDsViQ+tZlEGohrdXtUCGVVpEVA9GklbjqxWwvAYONSFImno4h2VJY0ia8hlx8vkJcObm6cHB4LDjcFgxaMH0/t7RW2DDZiZZizGrpWeyGVhl93qJ3mHvFXXz0ySJ95Z/e9RC7nnvqJhevzDejhCNs/L8PGHvy74nE4wweUMLMuy6lpHIiU0aN75e0u9/fhRAgmV/X/r/TM1/zz9mCECA/56sr9iYICAKCgCDQawLhrjjrG+tQVZU8ex4upwOLUwJJRTsR0FyUQgE/0YD/mzkMkoTHl4c3vwCjZCEeSiEnFDpjHXSEa0FNYLNq1dQrMW2qeaHFnUiWNJIpjWpI6ScFmluTy+XCZvtunEFCSVDrXwvBRqRUDMXiQrV5ycspJ9fiIxFKEQvJesB5Uk4Si0b0AooOuxNJkrqFTa5Vd5/6X2za/j9Z8Q6P3/EYTz3+L30LN598BpfcPRej256VLcltbTwz5z6mz7lOt/frA3Zn+qVnMbJqIuMqR2Vljp4aEQKkp8R+2F8IkMwZZtOCECDZpClsCQKCgCAgCPxsCGgP8ZFAElULqHaZsdh+WCRPEyeRYJBQZ4fu0uQpKMBo/G6/WDhJJJAgEo+SVJPkWHJ0MWCxm7A5Tfp3g1ZwZAebrMjUBmtJqAlyzDkUOYuwGC3fjNbWGw3KetzG15mvtPgOV67tB3EeOzjlT6rbisZF/Ov555lxYXd9jiN3ncoz/3oNS7EvK+tMrN/IaaeewdMfvK3bu+TKP7L7ob9n/wl74rT3T+Xz729ECJDML+2O/4ZlPpewsH0CQoBsn5HoIQgIAoKAICAIZERAi42IdnXXALHqcR0mpAzcnzRhkUqnMEtbj9/QhEg8ksJoMmB1bD/OI6MN9uPgrngHr773LOcddxnBcIThpaUsfucD7KO3ncp3R5cY+GIhO//2N6xpbMRhtzH3iVuZMHov3f3qx2pCgGROXgiQzBlm04IQINmkKWwJAoKAICAICAKCQJ8S0MTX2188w19OncmKFWswGSVq//UmpYcdmPG8WkrlJU88z6TTjtNPjyaMHc7lc2ex/7gDycvPydh+bw0IAdJbct+OEwIkc4bZtCAESDZpCluCgCAgCAgCgoAg0OcE1jYs5LxzLuftV7urlD935QyOuvGGLc6blmVSnX7UcAiDyYTR60Vyu9Hidb7f1GiUG88+n2uefFT/6JgTf8v5f76KXUZP0KvT/1hNCJDMyQsBkjnDbFgQdUCyQVHYEAQEAUFAEBAEBIF+JxCNt3LZrOu498b79bkvOORg7nz5NQybpf7VxESqsxOlq4uueISWSBCb2Uy+3YndYsfs8SJ5vBhdzm/Wn2hr4+AD9uX9L7/Sf3bbw3dyxLTfM2Rweb/vcfMJhQDJHL8QIJkzzIYFUQk9GxSFDUFAEBAEBAFBQBDodwKqmuSZNx7jpMPP0bOU7TFyGO889zKS20Y6GkH2BwiF/XTGQjT62/Uq9S0dHXg8Hnz5hbi9bvLcbtw2F06nh5z8Ehx5hbR/tZyR0/YiEI5RXJTPEy88zy6jpuDxfStS+n2zgBAgmVMXAiRzhtmwIE5AskFR2BAEBAFBQBAQBASBH4XA8lXvc+B+f6CxsYW8HDcrbr+RrngIfypCUzTI4vV1LFtfz5q6VtY3tBGOxPUiisMqS5gwtJIpY0YwZGAJ1hwnFqcTo9nKsvmLOeeG7lOVadP25ra77mfciOGYzD+e+5W2FiFAMr/FhADJnGE2LYgYkGzSFLYEAUFAEBAEBAFBoF8IhEO17HfwMXzx8ef6fKcfujcbW9tZtbGZupZO1M0qtG9tQXleF+OGljNl2AB2HTWIlz5czHW04pwAABcbSURBVN/fma93v/jKGZxz+tkMqiztl/1saxIhQDK/BEKAZM4wmxaEAMkmTWFLEBAEBAFBQBAQBPqFgCwHOP28P/HE357a5nxaUcfBFQOpGjiQ2sYGVq1dpxd7/H4zSgYsZhOxhIzFbOaF199grym74cn9cd2vtHUKAZL5LSUESOYMs2lBCJBs0hS2BAFBQBAQBAQBQaBfCKiqzNPPPcrJJ5yjF4v8unlz8xhUOZhhQ6oYN2wUY4ZUUehx8P/t3Qe0JmV9x/EvZdldylIFpSgWdDECAlaMPRGNNWqsnIiJBhVN7IktYDz2QogaRVH0hGai0agpRsUSQQFBisp6BAFLgCC4sCxb796cH3km5/Xl3rcwz3vfd9/9zjl7ONw79z8zn5l73/nNU2bnJXuwfs0s1/zmGs665DzOu/QifrziEq6/7rrb7e/y5Qdx2plncPB9l4+9+5UBpM7lZACp41irigGklqR1FFBAAQUUUGBBBVZcfjYn/N1nufKnl7PPvss54IB7sP9+e3Cn3Zayyw6L2XnZUpYs3o3tNu3BVhu2YsPajbe9JX7Dulu55dYbWLlqJZf/6krOWXERF/34Yq5Y8SM2rF/Pq1/zJo592THsPwHdrwwgdS4pA0gdx1pVDCC1JK2jgAIKKKCAAgsqcNPNV/Lt885n1eqN7Ln7Duyzx/YsW7Yj2y9dyuLFu7Ltoj1hZhGbZmaZ2fh/rSRbbQ3rVm9kzaoNrJm5lRtvvZ61q25gw5obufmWm1i/ZhF77bcvhx7yEJbtuv2CHs98G7MLVvvTYABpb1izggGkpqa1FFBAAQUUUGDBBNavX8m1117KzMwMS5YsYenSpSxatBOLF+/Fttv2HruRQHLLb9axdvV6Vq5bedu/jevXsWnjRpbtuDv3u88BbLPo9i8rXLCD69iQAaS9ugGkvWHNCgaQmprWUkABBRRQQIEFE9i0aSOrV/+E2dlNbL31YhYvvjOLFi0bavvr125k1Y1rWbtuHTesuYF1M+vYZ5e92Xu/3YeqM8qVDSDtdQ0g7Q1rVjCA1NS0lgIKKKCAAgosqMDMzDpmZ9ezzTY7stVWd+w2c3Z29rYuWatXptYsO+22hKU7bbegx9FrYwaQ9qfijl0Z7bdrhbkFDCBeGQoooIACCiigANw2m9bMxlkWLR7viwe7T4YBpP3laQBpb1izggGkpqa1FFBAAQUUUECBygIGkPagBpD2hjUrGEBqalpLAQUUUEABBRSoLGAAaQ9qAGlvWLOCAaSmprUUUEABBRRQQIHKAgaQ9qAGkPaGNSqkc2PmljsUOPeCCy7gsMOSRVwUUEABBRRQQAEFJknAANL+bBhA2hvWqHA8cFxTyABSg9QaCiiggAIKKKBAfQEDSHtTA0h7wxoVbAGpoWgNBRRQQAEFFFBgxAIGkPbABpD2hjUrOAakpqa1FFBAAQUUUECBygIGkPagBpD2hjUrGEBqalpLAQUUUEABBRSoLGAAaQ9qAGlvWLOCAaSmprUUUEABBRRQQIHKAgaQ9qAGkPaGNSsYQGpqWksBBRRQQAEFFKgsYABpD2oAaW9Ys4IBpKamtRRQQAEFFFBAgcoCBpD2oAaQ9oY1KxhAampaSwEFFFBAAQUUqCxgAGkPagBpb1izggGkpqa1FFBAAQUUUECBygIGkPagBpD2hjUrGEBqalpLAQUUUEABBRSoLGAAaQ9qAGlvWLOCAaSmprUUUEABBRRQQIHKAgaQ9qAGkPaGNSsYQGpqWksBBRRQQAEFFKgsYABpD2oAaW9Ys4IBpKamtRRQQAEFFFBAgcoCBpD2oAaQ9oY1KxhAampaSwEFFFBAAQUUqCxgAGkPagBpb1izwhHA2aeeeioHHnhgzbrWUkABBRRQQAEFFKggcNlll3HUUUel0sOAcyqU3OJKGEAm65Q/DzhtsnbJvVFAAQUUUEABBRSYQ+D5wOnKDC9gABnebJQ/sTtwJHAVsHaUGyq1l5fAk1+gFQuwPTfx2wL6j++K0H589tmy/uPz13589l7702O/BNgf+Apww3gPa/PcugFk8zxvtfb6tjEnwOHAhbWKWmdgAf0Hpqq+ovbVSYcqqP9QXFVX1r4q59DF9B+arNoPaF+Nsn0hA0h7w825gr+M4z17+o/PX/vx2WfL+o/PX/vx2Xvtaz9egQnaugFkgk7GGHbFD6IxoHdsUv/x+Ws/PntvwrQfr8B4t+7fnvH5az8++9tt2QAyQSdjDLviL+MY0A0g40UvW/faH+9p0H98/tqPz97wrf14BSZo6waQCToZY9iVuwDHACcB14xh+1v6JvUf3xWg/fjss2X9x+ev/fjsvfa1H6/ABG3dADJBJ8NdUUABBRRQQAEFFFBg2gUMINN+hj0+BRRQQAEFFFBAAQUmSMAAMkEnw11RQAEFFFBAAQUUUGDaBQwg036GPT4FFFBAAQUUUEABBSZIwAAyQSfDXVFAAQUUUEABBRRQYNoFDCDTfoY9PgUUUEABBRRQQAEFJkjAADJBJ2MBd2Ub4HXAi4D9gF8AJwPvBWYWcD+mfVM7Aq8FDgceANwZ+DRw9BwH7jmpdzXE+ijgMcDdgdXAj4B3Al/r2ozu9dybSgcCx5XrPlO+bgKuAE4BPgqs79ik/vX9uyvm9+Dr5YsHAJfrPzL0/YEr56n+ifKZ23zba39kp+G2z9q3AE8qn7s3At8HjgV+Xjar/+j8B6psABmIaepW+nvgpeWG4BzgYeWmOF/PL6hLHYHmwyjvWLmg/DGcL4B4TuqYp8pngUcCnwMuBBIEXwjcD3gZ8JGOTelez72p9LgSvM8Ffgnkgz5/Y54LfBF4mv710eepuAi4pDxo2gHoDiBe/3VPRfM3/1/K36HO6gl+3/Parws+R7Vc498G1pV7nDxg3R14MPA24OLyM177Iz8VvTdgABnzCRjD5g8qv4AfBP6iY/snAq8ADgEuHcN+TeMmFwN7AL8CtgU2zNMC4jmpe/Zzs5unXfkAapalwEXAnYA9gY2A7nXd+1X7UHnAsRz4if79uKp8/w3AK4HTy387A4jXfxXi3yrSBJC3A2/uUV77+vapmHvaPPhI8H4EsGqezeg/Gv+hqhpAhuKaipXzh/GNwD26morTVeVnQL8/nFOBMIaD6BVAPCcLc0LeD7y6PA3Ok3ndF8a92Uq6I6ab50PKTYL+o/W/K3AZ8HLgbqVbXGcA0b++f2cAiW+WNXNsRvv69qnYdDd8CvAlYEnpAtrZ7TPr6T8a/6GqGkCG4pqKlb9SWjnSR7J7uQ74AfD4qTjSyTqIXgHEc7Iw5+oM4JnArsAtgO6jdd8eyL90/XkQ8OHS8nTPclOm/2j9Pw9kDM5DS/jIuJzOAKJ/ff8mgOTvS7p+ZknXqxOAdPlpFu3r26fie8r41rR+JGQ8HJgtDzzy8Om7ZbP6j8Z/qKoGkKG4pmLldK/K04AMjO5e0l8+TZdpnnSpK9ArgHhO6lrPVS0Do9MF68vAM8oKuo/W/fhy49ts5Xzgz8p5yNf0H53/E8t4m/R7T3fE5lx0BhD96/un1emTQMJfBjvvXa75w4D3lZtjr/367k3FLwBPBa4vYeO0Mv4j3eF2Kw9Cct177Y/uHAxc2QAyMNXUrJjZaNLSccQcR5QB6ekff6+pOdrJOZBeAcRzMtrztHP5MMrNQMY4XV02p/to3dPNM/8yADRdIzIJwJuAb+o/Uvh0O8msb2cBLy5bmiuAeP2P9DT8f/FMwvCt0hJ17zIjnPajsc8sh48t3o/q2ETGnf0Q+GfgWeUceB80mnMwcFUDyMBUU7OiyX88p9IWkPG4Z/B5mtvTBegJwDc6dsPfhYU9J68C3l1CYMYm6D8a/7eWCUVys/vrHgFE/9H4z1X1yaVF6hjgY177I4PPuI9MvZtXDGTa487l7PJwdS/9R+Y/VGEDyFBcU7GyfR/HcxodA7Lw7tuVD/08EcvYj0yN2bn4u7Cw5yQf/NcC7ygtIfrX98+Yj7yHImMOTuoon5mwMuthngrn++kepH99//kqHlxmn0wLYK5/7Udjn/cMJeQl8KW7beeS6dkzOD2fC/qPxn+oqgaQobimYuX88cvUjPPNgtXcHEzFwU7QQfQKIJ6T+icq3vnAyQfRHwPpC9y96F7fvVfFZoBu3sOS97HoX9///mUikV6V82LODJDWv77/fBWfXt5L1DyZ13409n9aXqqc95wljHQumZ53H2Bfr/3R4A9b1QAyrNjmv376wGemq/neA5IPsLy4yqWuQK8A4jmpa711ee/Bs4GXdD0J7tyS7nXdm2oZR/Y/c5RuZqg5urwPR//6/hnv9Og5yj4HyO9DbswyBXWeDutf33+uaz/dQNP9J2OgMgNcXoynfX37VMx7tzLGL108M9133veU5YFlJqxMEJAQqP9o/IeqagAZimtqVm6aKU8pfxjz4ra8KTpN9rlhc6knkDn4dwFyU5y+2Ql/GQiXJW+FbsKe56Se+QeAjDfI23A/PkfZr5aJGPIt3eu5N5UyA1AGnmeweW62cv0fWQaHfqfcIDc3BvrX95+r4lyD0L3+69s3134mAEjQy8QXLyg9DtLz4F0dm/Tar++fiulq+LdAJtU5s4SSfK2Z/TN/k7z2R2M/VFUDyFBcU7Nynsa/vjwJSJNk3tR9cplDu7kxmJqDHfOBXFVeAjbXbiT0fap8w3NS70TlxveRPcrlCXEzE5Pu9dybSnnSnlaO9HvPm+fzRvoVwGdKy2vnG+r1r+8/TADRv65/ugAlcNynTPua94FkevsTywOnzq1pX9e+s9pR5aWz9wVuBfLQKQEwL1tuFv1H5z9QZQPIQEyupIACCiiggAIKKKCAAjUEDCA1FK2hgAIKKKCAAgoooIACAwkYQAZiciUFFFBAAQUUUEABBRSoIWAAqaFoDQUUUEABBRRQQAEFFBhIwAAyEJMrKaCAAgoooIACCiigQA0BA0gNRWsooIACCiiggAIKKKDAQAIGkIGYXEkBBRRQQAEFFFBAAQVqCBhAaihaQwEFFFBAAQUUUEABBQYSMIAMxORKCiiggAIKKKCAAgooUEPAAFJD0RoKKKCAAgoooIACCigwkIABZCAmV1JAAQUUUEABBRRQQIEaAgaQGorWUEABBaZT4GjgFODRwDfLIR4PHAccAFy+mR52cwx+Bm6mJ9DdVkCBzVvAP76b9/lz7xVQYPMU2B+4coBdvxrIuuNaxh1ArgJ+CfxuZQADSGVQyymggALDCBhAhtFyXQUUUKCOwA7AH/Yo9QzgacDpwPPrbPIOVdkGWASsBzaVCgvZAmIAuUOnzR9SQAEFJlvAADLZ58e9U0CBLU/gYOB7wM+BBwKrKhEk9KyuUMsAUgHREgoooMCWLGAA2ZLPvseugAKTJrAM+D6wN/Ag4MddO7g78JbSOpJ1rgc+D7wZWNmx7qeAFwD7Ae8BjgS2BnYFmm5VjwceCrwI2AO4AHgZcHFHnUG7YC0F/gl4DPBHwL+WGtsDfwk8p3Qluwn4D+CNpWtVP/+5WkCarx0LnFicbgZOBv66o6WmqZ1jelWxuAJ4F3DPMo6l+zPwd8rXM+Yl5yLd5D4OnNBRN8f3j8Dbyvaa7SQ4nleOPS1YLgoooIAC8wgYQLw0FFBAgckR+CyQm9fnAWd07VbCw7klLHwM+BmwHHgpcFkJE+vKzzQB5IdAbrq/Um6o390RQBI4Zks3ryXAa4HcyGdw+cZSZ5AAsjPwZeAg4MnAf5Wf3Q74BnB/4BNA9uWuQIJDWnUOA37dh36+ADIDpEXnTGAF8ATgKSVMZVvNkmN6b3GLZwLcy4HUPRTo/Ax8CPC1Eow+DfymDL5/FvCREs6auvE9CngEcA4QvwTHXYAEkRsn55JyTxRQQIHJEzCATN45cY8UUGDLFHg18H7gQ8Ar5iD4cLnpzY17QkWzPAn4EvAS4KSuAJIZrP6kq1YTKn4APBjYUL6fMSdpTXki8G8DBpAEibRopDUmLSqp2SyvA95RbtK/2/H1BJLcrCcYvOEOBpC7Ac8EPtfx8xeVsSppOcqSwParEnwyiD3jWLIcAlxYWoSaz8D891JgLfAwoAlyWf99QM7NfUvYydd2Ki1FCXA5nhxngtXjSojZMq9gj1oBBRQYUMAAMiCUqymggAIjFDgC+Fa5Mc9T9SYUNJvM3+q0Fny960l88/080f/30v0pX2taQPKUPzfmnUsTQDoDS3PDnif3fw58sPxArxaQ3y8tA2np+D3gp13byU1+bvoTkLqXtJLcUsa49GKdrwVkMXCXrh9Md6y0SqSVI8uzSwtJvnZa17oJTemW1nwGptUiXc9eOce6CSxpGUnLSUJgs6T7Wo7jfCCtJx8AXjPCa8TSCiigwNQIGECm5lR6IAoosJkK3Km0HORGPq0bmXa2e9kTuK7P8X0beGRZpwkgGcfQPYi9cwxIumZ1Lnmin0Hmby1f7BVAmroZN/GLOfbtViBjQ+ZbMsg+LRm9lvkCyDWly1nnz3ZPrftXwDuBB5TxLZ3rZkxHwkbzGZhuVp/psy9/U8aHdK6W8TVp6clYnZy7zpaTzfRydLcVUECB0QsYQEZv7BYUUECB+QQyMPw/y1iDPJHPk/a5lr2Aa4EvdD2F71w3g9DTtSlLE0AyhW4znqNZtwkVacHo3l4CSMJHbuaz9AogGfSdAezzdRlbU4JVBobPtaS703f6XBq9BqF3vxukTQBpWkty7PPtUwakd3Z9S2DMbGVpZcp4kbSizBUevfoVUEABBboEDCBeEgoooMD4BDKTUmawyr+399iNBJV0j8oNb8Za9FsWIoBksPpzgbQMpPtTWhQ6l4ypSADKQPk7urQJIMN0wTq8hLeMScksWYMsGdD/+jJ4P8ElEwSkK1pCnIsCCiigQA8BA4iXhwIKKDAegczclOlq8y8zOPW7cc0A8xcDjy2zS3XudV4YmNmomtmXFiqAXF5aS44rA+gz61Sz5GY+g7NfWFpkOvc3nz2Z+jfTCPda2gSQDEL/7zK4vN8g9AS8H5WB6xnz0d3dLYPOMy4nrTZZ0tXtLOCT5ZykJSjT9aY7VgatuyiggAIKGEC8BhRQQIGJEsgA6kxLmzEamWEpXXjmWzIzVV4guBtwNnAv4B/KuIYEj/z/00sQSLeoLAsZQLK9piUnrQIZe5ElA8W/CjwcyPTC6dqUm/i7A08t79JIy0+vpU0ASd28gyQtGmk5ypS9zTS8V5fZqzofwmX2rHRJyz5mKt8Mqk+IuV/xzWxXCVyZajcD1jPeI92vmpc75jz9QXkvSee7VCbqwnNnFFBAgUkQsAVkEs6C+6CAAluawKPmaMWYzyA37LkRz5JWjtxU510hGcCdcRYZzJ3B5JmhKTfW4wgg2WZaO5pWjzd1hJB0zcp7Te5dbu4zTiKtBx8tIWyUASS1M3tV9iEvZcwYjgxMn+9FhOlWln3P+JhMDpAWpQSRL5axLvE+vcw2lul68+LBZkmLziXlZzLwvWkt2dKubY9XAQUU6CtgAOlL5AoKKKCAAgoooIACCihQS8AAUkvSOgoooIACCiiggAIKKNBXwADSl8gVFFBAAQUUUEABBRRQoJaAAaSWpHUUUEABBRRQQAEFFFCgr4ABpC+RKyiggAIKKKCAAgoooEAtAQNILUnrKKCAAgoooIACCiigQF8BA0hfIldQQAEFFFBAAQUUUECBWgIGkFqS1lFAAQUUUEABBRRQQIG+AgaQvkSuoIACCiiggAIKKKCAArUEDCC1JK2jgAIKKKCAAgoooIACfQUMIH2JXEEBBRRQQAEFFFBAAQVqCRhAaklaRwEFFFBAAQUUUEABBfoKGED6ErmCAgoooIACCiiggAIK1BIwgNSStI4CCiiggAIKKKCAAgr0FTCA9CVyBQUUUEABBRRQQAEFFKgl8L+ffTs2A4VbCgAAAABJRU5ErkJggg==\" width=\"640\">"
      ],
      "text/plain": [
       "<IPython.core.display.HTML object>"
      ]
     },
     "metadata": {},
     "output_type": "display_data"
    },
    {
     "data": {
      "text/plain": [
       "<matplotlib.text.Text at 0x2d008ea1da0>"
      ]
     },
     "execution_count": 8,
     "metadata": {},
     "output_type": "execute_result"
    }
   ],
   "source": [
    "pyplot.figure()\n",
    "pyplot.semilogy(z_vars_inf.T, alpha=0.2)\n",
    "pyplot.semilogy(z_vars_inf.mean(0), color=\"k\")\n",
    "pyplot.title(\"Zernike Power Spectrum\")\n",
    "pyplot.xlabel(\"Zernike Index\")\n",
    "pyplot.ylabel(\"Power ($\\mathrm{RMS Rad}^2$)\")"
   ]
  },
  {
   "cell_type": "markdown",
   "metadata": {},
   "source": [
    "# Zernike breakdown of standard FFT screen"
   ]
  },
  {
   "cell_type": "code",
   "execution_count": 9,
   "metadata": {},
   "outputs": [
    {
     "name": "stdout",
     "output_type": "stream",
     "text": [
      "Total Screen Size: 4096\n",
      "Time step: 0.0032812500000000003s\n"
     ]
    },
    {
     "data": {
      "application/vnd.jupyter.widget-view+json": {
       "model_id": "4422c309e84f48ad80dccb3f99278cda"
      }
     },
     "metadata": {},
     "output_type": "display_data"
    },
    {
     "name": "stdout",
     "output_type": "stream",
     "text": [
      "Make large phase screen...\n",
      "Get Zernike Coeffs\n"
     ]
    },
    {
     "data": {
      "application/vnd.jupyter.widget-view+json": {
       "model_id": "6afe37310cc24e90b5c57ff39d5d8c57"
      }
     },
     "metadata": {},
     "output_type": "display_data"
    },
    {
     "name": "stdout",
     "output_type": "stream",
     "text": [
      "Make large phase screen...\n",
      "Get Zernike Coeffs\n"
     ]
    },
    {
     "data": {
      "application/vnd.jupyter.widget-view+json": {
       "model_id": "da4b5128706a467ea38be87d51d812c9"
      }
     },
     "metadata": {},
     "output_type": "display_data"
    },
    {
     "name": "stdout",
     "output_type": "stream",
     "text": [
      "Make large phase screen...\n",
      "Get Zernike Coeffs\n"
     ]
    },
    {
     "data": {
      "application/vnd.jupyter.widget-view+json": {
       "model_id": "5cd45c98face466a9a3421be31a24790"
      }
     },
     "metadata": {},
     "output_type": "display_data"
    },
    {
     "name": "stdout",
     "output_type": "stream",
     "text": [
      "Make large phase screen...\n",
      "Get Zernike Coeffs\n"
     ]
    },
    {
     "data": {
      "application/vnd.jupyter.widget-view+json": {
       "model_id": "e9076f2a3d2b47f2af0a92b883859315"
      }
     },
     "metadata": {},
     "output_type": "display_data"
    },
    {
     "name": "stdout",
     "output_type": "stream",
     "text": [
      "Make large phase screen...\n",
      "Get Zernike Coeffs\n"
     ]
    },
    {
     "data": {
      "application/vnd.jupyter.widget-view+json": {
       "model_id": "ef340871b4a84c72bc5ea36f802e5466"
      }
     },
     "metadata": {},
     "output_type": "display_data"
    },
    {
     "name": "stdout",
     "output_type": "stream",
     "text": [
      "Make large phase screen...\n",
      "Get Zernike Coeffs\n"
     ]
    },
    {
     "data": {
      "application/vnd.jupyter.widget-view+json": {
       "model_id": "070d45b4dd904ea9a84c20a5bed71b5c"
      }
     },
     "metadata": {},
     "output_type": "display_data"
    },
    {
     "name": "stdout",
     "output_type": "stream",
     "text": [
      "Make large phase screen...\n",
      "Get Zernike Coeffs\n"
     ]
    },
    {
     "data": {
      "application/vnd.jupyter.widget-view+json": {
       "model_id": "f898ab38886640cd9d0cfca0e95099df"
      }
     },
     "metadata": {},
     "output_type": "display_data"
    },
    {
     "name": "stdout",
     "output_type": "stream",
     "text": [
      "Make large phase screen...\n",
      "Get Zernike Coeffs\n"
     ]
    },
    {
     "data": {
      "application/vnd.jupyter.widget-view+json": {
       "model_id": "53591c27afd145f7803b3e1b73ea7e1d"
      }
     },
     "metadata": {},
     "output_type": "display_data"
    },
    {
     "name": "stdout",
     "output_type": "stream",
     "text": [
      "Make large phase screen...\n",
      "Get Zernike Coeffs\n"
     ]
    },
    {
     "data": {
      "application/vnd.jupyter.widget-view+json": {
       "model_id": "6788fa08be5742a085efdbd8f13be1a0"
      }
     },
     "metadata": {},
     "output_type": "display_data"
    },
    {
     "name": "stdout",
     "output_type": "stream",
     "text": [
      "Make large phase screen...\n",
      "Get Zernike Coeffs\n"
     ]
    },
    {
     "data": {
      "application/vnd.jupyter.widget-view+json": {
       "model_id": "d9ccdbaa2c47411aad9741208ecf8b1c"
      }
     },
     "metadata": {},
     "output_type": "display_data"
    },
    {
     "name": "stdout",
     "output_type": "stream",
     "text": [
      "Make large phase screen...\n",
      "Get Zernike Coeffs\n"
     ]
    },
    {
     "data": {
      "application/vnd.jupyter.widget-view+json": {
       "model_id": "0cafbf6424e94e3e9804250f4433b59e"
      }
     },
     "metadata": {},
     "output_type": "display_data"
    },
    {
     "name": "stdout",
     "output_type": "stream",
     "text": [
      "Make large phase screen...\n",
      "Get Zernike Coeffs\n"
     ]
    },
    {
     "data": {
      "application/vnd.jupyter.widget-view+json": {
       "model_id": "c6e43b8c3a164144ac1306b1d5f46ff7"
      }
     },
     "metadata": {},
     "output_type": "display_data"
    },
    {
     "name": "stdout",
     "output_type": "stream",
     "text": [
      "Make large phase screen...\n",
      "Get Zernike Coeffs\n"
     ]
    },
    {
     "data": {
      "application/vnd.jupyter.widget-view+json": {
       "model_id": "e084e29d5cd44c63b5faa6087e2ad4bb"
      }
     },
     "metadata": {},
     "output_type": "display_data"
    },
    {
     "name": "stdout",
     "output_type": "stream",
     "text": [
      "Make large phase screen...\n",
      "Get Zernike Coeffs\n"
     ]
    },
    {
     "data": {
      "application/vnd.jupyter.widget-view+json": {
       "model_id": "60151b0176534686a6b72bc61ab2768b"
      }
     },
     "metadata": {},
     "output_type": "display_data"
    },
    {
     "name": "stdout",
     "output_type": "stream",
     "text": [
      "Make large phase screen...\n",
      "Get Zernike Coeffs\n"
     ]
    },
    {
     "data": {
      "application/vnd.jupyter.widget-view+json": {
       "model_id": "e2903836dbb14d668028c925c26dd31d"
      }
     },
     "metadata": {},
     "output_type": "display_data"
    },
    {
     "name": "stdout",
     "output_type": "stream",
     "text": [
      "Make large phase screen...\n",
      "Get Zernike Coeffs\n"
     ]
    },
    {
     "data": {
      "application/vnd.jupyter.widget-view+json": {
       "model_id": "f209c9c7bb6a4ff8931011e95b37b05e"
      }
     },
     "metadata": {},
     "output_type": "display_data"
    },
    {
     "name": "stdout",
     "output_type": "stream",
     "text": [
      "\n"
     ]
    }
   ],
   "source": [
    "total_scrn_size = stencil_length_factor * nx_size\n",
    "print(\"Total Screen Size: {}\".format(total_scrn_size))\n",
    "\n",
    "time_step = pxl_scale/wind_speed # This is timestep, as one pixel added on each iteration\n",
    "print(\"Time step: {}s\".format(time_step))\n",
    "\n",
    "n_scrns = total_scrn_size - nx_size\n",
    "\n",
    "z_coeffs_fft = numpy.zeros((n_tests, n_scrns, n_zerns))\n",
    "z_vars_fft = numpy.zeros((n_tests, n_zerns))\n",
    "for n in tnrange(n_tests):\n",
    "    print(\"Make large phase screen...\")\n",
    "    phase_screen = phasescreen.ft_phase_screen(r0, total_scrn_size, pxl_scale, L0, 0.01)[:, :nx_size]\n",
    "\n",
    "    print(\"Get Zernike Coeffs\")\n",
    "#     fig = pyplot.figure()\n",
    "    for i in tnrange(n_scrns):\n",
    "        scrn = phase_screen[i:i+nx_size]\n",
    "        \n",
    "        if n%4 == 0:\n",
    "            scrn = scrn\n",
    "        elif n%4 == 1:\n",
    "            scrn = scrn.T\n",
    "        elif n%4 == 2:\n",
    "            scrn = scrn[::-1]\n",
    "        else:\n",
    "            scrn = scrn[::-1].T\n",
    "        \n",
    "#         pyplot.cla()\n",
    "#         pyplot.imshow(scrn)\n",
    "#         fig.canvas.draw()\n",
    "        z_coeffs_fft[n, i] = (scrn * Zs).sum((-1, -2))/(Zs[0].sum())\n",
    "\n",
    "    z_vars_fft[n] = z_coeffs_fft[n].var(0)"
   ]
  },
  {
   "cell_type": "code",
   "execution_count": 10,
   "metadata": {},
   "outputs": [
    {
     "data": {
      "application/javascript": [
       "/* Put everything inside the global mpl namespace */\n",
       "window.mpl = {};\n",
       "\n",
       "\n",
       "mpl.get_websocket_type = function() {\n",
       "    if (typeof(WebSocket) !== 'undefined') {\n",
       "        return WebSocket;\n",
       "    } else if (typeof(MozWebSocket) !== 'undefined') {\n",
       "        return MozWebSocket;\n",
       "    } else {\n",
       "        alert('Your browser does not have WebSocket support.' +\n",
       "              'Please try Chrome, Safari or Firefox ≥ 6. ' +\n",
       "              'Firefox 4 and 5 are also supported but you ' +\n",
       "              'have to enable WebSockets in about:config.');\n",
       "    };\n",
       "}\n",
       "\n",
       "mpl.figure = function(figure_id, websocket, ondownload, parent_element) {\n",
       "    this.id = figure_id;\n",
       "\n",
       "    this.ws = websocket;\n",
       "\n",
       "    this.supports_binary = (this.ws.binaryType != undefined);\n",
       "\n",
       "    if (!this.supports_binary) {\n",
       "        var warnings = document.getElementById(\"mpl-warnings\");\n",
       "        if (warnings) {\n",
       "            warnings.style.display = 'block';\n",
       "            warnings.textContent = (\n",
       "                \"This browser does not support binary websocket messages. \" +\n",
       "                    \"Performance may be slow.\");\n",
       "        }\n",
       "    }\n",
       "\n",
       "    this.imageObj = new Image();\n",
       "\n",
       "    this.context = undefined;\n",
       "    this.message = undefined;\n",
       "    this.canvas = undefined;\n",
       "    this.rubberband_canvas = undefined;\n",
       "    this.rubberband_context = undefined;\n",
       "    this.format_dropdown = undefined;\n",
       "\n",
       "    this.image_mode = 'full';\n",
       "\n",
       "    this.root = $('<div/>');\n",
       "    this._root_extra_style(this.root)\n",
       "    this.root.attr('style', 'display: inline-block');\n",
       "\n",
       "    $(parent_element).append(this.root);\n",
       "\n",
       "    this._init_header(this);\n",
       "    this._init_canvas(this);\n",
       "    this._init_toolbar(this);\n",
       "\n",
       "    var fig = this;\n",
       "\n",
       "    this.waiting = false;\n",
       "\n",
       "    this.ws.onopen =  function () {\n",
       "            fig.send_message(\"supports_binary\", {value: fig.supports_binary});\n",
       "            fig.send_message(\"send_image_mode\", {});\n",
       "            if (mpl.ratio != 1) {\n",
       "                fig.send_message(\"set_dpi_ratio\", {'dpi_ratio': mpl.ratio});\n",
       "            }\n",
       "            fig.send_message(\"refresh\", {});\n",
       "        }\n",
       "\n",
       "    this.imageObj.onload = function() {\n",
       "            if (fig.image_mode == 'full') {\n",
       "                // Full images could contain transparency (where diff images\n",
       "                // almost always do), so we need to clear the canvas so that\n",
       "                // there is no ghosting.\n",
       "                fig.context.clearRect(0, 0, fig.canvas.width, fig.canvas.height);\n",
       "            }\n",
       "            fig.context.drawImage(fig.imageObj, 0, 0);\n",
       "        };\n",
       "\n",
       "    this.imageObj.onunload = function() {\n",
       "        this.ws.close();\n",
       "    }\n",
       "\n",
       "    this.ws.onmessage = this._make_on_message_function(this);\n",
       "\n",
       "    this.ondownload = ondownload;\n",
       "}\n",
       "\n",
       "mpl.figure.prototype._init_header = function() {\n",
       "    var titlebar = $(\n",
       "        '<div class=\"ui-dialog-titlebar ui-widget-header ui-corner-all ' +\n",
       "        'ui-helper-clearfix\"/>');\n",
       "    var titletext = $(\n",
       "        '<div class=\"ui-dialog-title\" style=\"width: 100%; ' +\n",
       "        'text-align: center; padding: 3px;\"/>');\n",
       "    titlebar.append(titletext)\n",
       "    this.root.append(titlebar);\n",
       "    this.header = titletext[0];\n",
       "}\n",
       "\n",
       "\n",
       "\n",
       "mpl.figure.prototype._canvas_extra_style = function(canvas_div) {\n",
       "\n",
       "}\n",
       "\n",
       "\n",
       "mpl.figure.prototype._root_extra_style = function(canvas_div) {\n",
       "\n",
       "}\n",
       "\n",
       "mpl.figure.prototype._init_canvas = function() {\n",
       "    var fig = this;\n",
       "\n",
       "    var canvas_div = $('<div/>');\n",
       "\n",
       "    canvas_div.attr('style', 'position: relative; clear: both; outline: 0');\n",
       "\n",
       "    function canvas_keyboard_event(event) {\n",
       "        return fig.key_event(event, event['data']);\n",
       "    }\n",
       "\n",
       "    canvas_div.keydown('key_press', canvas_keyboard_event);\n",
       "    canvas_div.keyup('key_release', canvas_keyboard_event);\n",
       "    this.canvas_div = canvas_div\n",
       "    this._canvas_extra_style(canvas_div)\n",
       "    this.root.append(canvas_div);\n",
       "\n",
       "    var canvas = $('<canvas/>');\n",
       "    canvas.addClass('mpl-canvas');\n",
       "    canvas.attr('style', \"left: 0; top: 0; z-index: 0; outline: 0\")\n",
       "\n",
       "    this.canvas = canvas[0];\n",
       "    this.context = canvas[0].getContext(\"2d\");\n",
       "\n",
       "    var backingStore = this.context.backingStorePixelRatio ||\n",
       "\tthis.context.webkitBackingStorePixelRatio ||\n",
       "\tthis.context.mozBackingStorePixelRatio ||\n",
       "\tthis.context.msBackingStorePixelRatio ||\n",
       "\tthis.context.oBackingStorePixelRatio ||\n",
       "\tthis.context.backingStorePixelRatio || 1;\n",
       "\n",
       "    mpl.ratio = (window.devicePixelRatio || 1) / backingStore;\n",
       "\n",
       "    var rubberband = $('<canvas/>');\n",
       "    rubberband.attr('style', \"position: absolute; left: 0; top: 0; z-index: 1;\")\n",
       "\n",
       "    var pass_mouse_events = true;\n",
       "\n",
       "    canvas_div.resizable({\n",
       "        start: function(event, ui) {\n",
       "            pass_mouse_events = false;\n",
       "        },\n",
       "        resize: function(event, ui) {\n",
       "            fig.request_resize(ui.size.width, ui.size.height);\n",
       "        },\n",
       "        stop: function(event, ui) {\n",
       "            pass_mouse_events = true;\n",
       "            fig.request_resize(ui.size.width, ui.size.height);\n",
       "        },\n",
       "    });\n",
       "\n",
       "    function mouse_event_fn(event) {\n",
       "        if (pass_mouse_events)\n",
       "            return fig.mouse_event(event, event['data']);\n",
       "    }\n",
       "\n",
       "    rubberband.mousedown('button_press', mouse_event_fn);\n",
       "    rubberband.mouseup('button_release', mouse_event_fn);\n",
       "    // Throttle sequential mouse events to 1 every 20ms.\n",
       "    rubberband.mousemove('motion_notify', mouse_event_fn);\n",
       "\n",
       "    rubberband.mouseenter('figure_enter', mouse_event_fn);\n",
       "    rubberband.mouseleave('figure_leave', mouse_event_fn);\n",
       "\n",
       "    canvas_div.on(\"wheel\", function (event) {\n",
       "        event = event.originalEvent;\n",
       "        event['data'] = 'scroll'\n",
       "        if (event.deltaY < 0) {\n",
       "            event.step = 1;\n",
       "        } else {\n",
       "            event.step = -1;\n",
       "        }\n",
       "        mouse_event_fn(event);\n",
       "    });\n",
       "\n",
       "    canvas_div.append(canvas);\n",
       "    canvas_div.append(rubberband);\n",
       "\n",
       "    this.rubberband = rubberband;\n",
       "    this.rubberband_canvas = rubberband[0];\n",
       "    this.rubberband_context = rubberband[0].getContext(\"2d\");\n",
       "    this.rubberband_context.strokeStyle = \"#000000\";\n",
       "\n",
       "    this._resize_canvas = function(width, height) {\n",
       "        // Keep the size of the canvas, canvas container, and rubber band\n",
       "        // canvas in synch.\n",
       "        canvas_div.css('width', width)\n",
       "        canvas_div.css('height', height)\n",
       "\n",
       "        canvas.attr('width', width * mpl.ratio);\n",
       "        canvas.attr('height', height * mpl.ratio);\n",
       "        canvas.attr('style', 'width: ' + width + 'px; height: ' + height + 'px;');\n",
       "\n",
       "        rubberband.attr('width', width);\n",
       "        rubberband.attr('height', height);\n",
       "    }\n",
       "\n",
       "    // Set the figure to an initial 600x600px, this will subsequently be updated\n",
       "    // upon first draw.\n",
       "    this._resize_canvas(600, 600);\n",
       "\n",
       "    // Disable right mouse context menu.\n",
       "    $(this.rubberband_canvas).bind(\"contextmenu\",function(e){\n",
       "        return false;\n",
       "    });\n",
       "\n",
       "    function set_focus () {\n",
       "        canvas.focus();\n",
       "        canvas_div.focus();\n",
       "    }\n",
       "\n",
       "    window.setTimeout(set_focus, 100);\n",
       "}\n",
       "\n",
       "mpl.figure.prototype._init_toolbar = function() {\n",
       "    var fig = this;\n",
       "\n",
       "    var nav_element = $('<div/>')\n",
       "    nav_element.attr('style', 'width: 100%');\n",
       "    this.root.append(nav_element);\n",
       "\n",
       "    // Define a callback function for later on.\n",
       "    function toolbar_event(event) {\n",
       "        return fig.toolbar_button_onclick(event['data']);\n",
       "    }\n",
       "    function toolbar_mouse_event(event) {\n",
       "        return fig.toolbar_button_onmouseover(event['data']);\n",
       "    }\n",
       "\n",
       "    for(var toolbar_ind in mpl.toolbar_items) {\n",
       "        var name = mpl.toolbar_items[toolbar_ind][0];\n",
       "        var tooltip = mpl.toolbar_items[toolbar_ind][1];\n",
       "        var image = mpl.toolbar_items[toolbar_ind][2];\n",
       "        var method_name = mpl.toolbar_items[toolbar_ind][3];\n",
       "\n",
       "        if (!name) {\n",
       "            // put a spacer in here.\n",
       "            continue;\n",
       "        }\n",
       "        var button = $('<button/>');\n",
       "        button.addClass('ui-button ui-widget ui-state-default ui-corner-all ' +\n",
       "                        'ui-button-icon-only');\n",
       "        button.attr('role', 'button');\n",
       "        button.attr('aria-disabled', 'false');\n",
       "        button.click(method_name, toolbar_event);\n",
       "        button.mouseover(tooltip, toolbar_mouse_event);\n",
       "\n",
       "        var icon_img = $('<span/>');\n",
       "        icon_img.addClass('ui-button-icon-primary ui-icon');\n",
       "        icon_img.addClass(image);\n",
       "        icon_img.addClass('ui-corner-all');\n",
       "\n",
       "        var tooltip_span = $('<span/>');\n",
       "        tooltip_span.addClass('ui-button-text');\n",
       "        tooltip_span.html(tooltip);\n",
       "\n",
       "        button.append(icon_img);\n",
       "        button.append(tooltip_span);\n",
       "\n",
       "        nav_element.append(button);\n",
       "    }\n",
       "\n",
       "    var fmt_picker_span = $('<span/>');\n",
       "\n",
       "    var fmt_picker = $('<select/>');\n",
       "    fmt_picker.addClass('mpl-toolbar-option ui-widget ui-widget-content');\n",
       "    fmt_picker_span.append(fmt_picker);\n",
       "    nav_element.append(fmt_picker_span);\n",
       "    this.format_dropdown = fmt_picker[0];\n",
       "\n",
       "    for (var ind in mpl.extensions) {\n",
       "        var fmt = mpl.extensions[ind];\n",
       "        var option = $(\n",
       "            '<option/>', {selected: fmt === mpl.default_extension}).html(fmt);\n",
       "        fmt_picker.append(option)\n",
       "    }\n",
       "\n",
       "    // Add hover states to the ui-buttons\n",
       "    $( \".ui-button\" ).hover(\n",
       "        function() { $(this).addClass(\"ui-state-hover\");},\n",
       "        function() { $(this).removeClass(\"ui-state-hover\");}\n",
       "    );\n",
       "\n",
       "    var status_bar = $('<span class=\"mpl-message\"/>');\n",
       "    nav_element.append(status_bar);\n",
       "    this.message = status_bar[0];\n",
       "}\n",
       "\n",
       "mpl.figure.prototype.request_resize = function(x_pixels, y_pixels) {\n",
       "    // Request matplotlib to resize the figure. Matplotlib will then trigger a resize in the client,\n",
       "    // which will in turn request a refresh of the image.\n",
       "    this.send_message('resize', {'width': x_pixels, 'height': y_pixels});\n",
       "}\n",
       "\n",
       "mpl.figure.prototype.send_message = function(type, properties) {\n",
       "    properties['type'] = type;\n",
       "    properties['figure_id'] = this.id;\n",
       "    this.ws.send(JSON.stringify(properties));\n",
       "}\n",
       "\n",
       "mpl.figure.prototype.send_draw_message = function() {\n",
       "    if (!this.waiting) {\n",
       "        this.waiting = true;\n",
       "        this.ws.send(JSON.stringify({type: \"draw\", figure_id: this.id}));\n",
       "    }\n",
       "}\n",
       "\n",
       "\n",
       "mpl.figure.prototype.handle_save = function(fig, msg) {\n",
       "    var format_dropdown = fig.format_dropdown;\n",
       "    var format = format_dropdown.options[format_dropdown.selectedIndex].value;\n",
       "    fig.ondownload(fig, format);\n",
       "}\n",
       "\n",
       "\n",
       "mpl.figure.prototype.handle_resize = function(fig, msg) {\n",
       "    var size = msg['size'];\n",
       "    if (size[0] != fig.canvas.width || size[1] != fig.canvas.height) {\n",
       "        fig._resize_canvas(size[0], size[1]);\n",
       "        fig.send_message(\"refresh\", {});\n",
       "    };\n",
       "}\n",
       "\n",
       "mpl.figure.prototype.handle_rubberband = function(fig, msg) {\n",
       "    var x0 = msg['x0'] / mpl.ratio;\n",
       "    var y0 = (fig.canvas.height - msg['y0']) / mpl.ratio;\n",
       "    var x1 = msg['x1'] / mpl.ratio;\n",
       "    var y1 = (fig.canvas.height - msg['y1']) / mpl.ratio;\n",
       "    x0 = Math.floor(x0) + 0.5;\n",
       "    y0 = Math.floor(y0) + 0.5;\n",
       "    x1 = Math.floor(x1) + 0.5;\n",
       "    y1 = Math.floor(y1) + 0.5;\n",
       "    var min_x = Math.min(x0, x1);\n",
       "    var min_y = Math.min(y0, y1);\n",
       "    var width = Math.abs(x1 - x0);\n",
       "    var height = Math.abs(y1 - y0);\n",
       "\n",
       "    fig.rubberband_context.clearRect(\n",
       "        0, 0, fig.canvas.width, fig.canvas.height);\n",
       "\n",
       "    fig.rubberband_context.strokeRect(min_x, min_y, width, height);\n",
       "}\n",
       "\n",
       "mpl.figure.prototype.handle_figure_label = function(fig, msg) {\n",
       "    // Updates the figure title.\n",
       "    fig.header.textContent = msg['label'];\n",
       "}\n",
       "\n",
       "mpl.figure.prototype.handle_cursor = function(fig, msg) {\n",
       "    var cursor = msg['cursor'];\n",
       "    switch(cursor)\n",
       "    {\n",
       "    case 0:\n",
       "        cursor = 'pointer';\n",
       "        break;\n",
       "    case 1:\n",
       "        cursor = 'default';\n",
       "        break;\n",
       "    case 2:\n",
       "        cursor = 'crosshair';\n",
       "        break;\n",
       "    case 3:\n",
       "        cursor = 'move';\n",
       "        break;\n",
       "    }\n",
       "    fig.rubberband_canvas.style.cursor = cursor;\n",
       "}\n",
       "\n",
       "mpl.figure.prototype.handle_message = function(fig, msg) {\n",
       "    fig.message.textContent = msg['message'];\n",
       "}\n",
       "\n",
       "mpl.figure.prototype.handle_draw = function(fig, msg) {\n",
       "    // Request the server to send over a new figure.\n",
       "    fig.send_draw_message();\n",
       "}\n",
       "\n",
       "mpl.figure.prototype.handle_image_mode = function(fig, msg) {\n",
       "    fig.image_mode = msg['mode'];\n",
       "}\n",
       "\n",
       "mpl.figure.prototype.updated_canvas_event = function() {\n",
       "    // Called whenever the canvas gets updated.\n",
       "    this.send_message(\"ack\", {});\n",
       "}\n",
       "\n",
       "// A function to construct a web socket function for onmessage handling.\n",
       "// Called in the figure constructor.\n",
       "mpl.figure.prototype._make_on_message_function = function(fig) {\n",
       "    return function socket_on_message(evt) {\n",
       "        if (evt.data instanceof Blob) {\n",
       "            /* FIXME: We get \"Resource interpreted as Image but\n",
       "             * transferred with MIME type text/plain:\" errors on\n",
       "             * Chrome.  But how to set the MIME type?  It doesn't seem\n",
       "             * to be part of the websocket stream */\n",
       "            evt.data.type = \"image/png\";\n",
       "\n",
       "            /* Free the memory for the previous frames */\n",
       "            if (fig.imageObj.src) {\n",
       "                (window.URL || window.webkitURL).revokeObjectURL(\n",
       "                    fig.imageObj.src);\n",
       "            }\n",
       "\n",
       "            fig.imageObj.src = (window.URL || window.webkitURL).createObjectURL(\n",
       "                evt.data);\n",
       "            fig.updated_canvas_event();\n",
       "            fig.waiting = false;\n",
       "            return;\n",
       "        }\n",
       "        else if (typeof evt.data === 'string' && evt.data.slice(0, 21) == \"data:image/png;base64\") {\n",
       "            fig.imageObj.src = evt.data;\n",
       "            fig.updated_canvas_event();\n",
       "            fig.waiting = false;\n",
       "            return;\n",
       "        }\n",
       "\n",
       "        var msg = JSON.parse(evt.data);\n",
       "        var msg_type = msg['type'];\n",
       "\n",
       "        // Call the  \"handle_{type}\" callback, which takes\n",
       "        // the figure and JSON message as its only arguments.\n",
       "        try {\n",
       "            var callback = fig[\"handle_\" + msg_type];\n",
       "        } catch (e) {\n",
       "            console.log(\"No handler for the '\" + msg_type + \"' message type: \", msg);\n",
       "            return;\n",
       "        }\n",
       "\n",
       "        if (callback) {\n",
       "            try {\n",
       "                // console.log(\"Handling '\" + msg_type + \"' message: \", msg);\n",
       "                callback(fig, msg);\n",
       "            } catch (e) {\n",
       "                console.log(\"Exception inside the 'handler_\" + msg_type + \"' callback:\", e, e.stack, msg);\n",
       "            }\n",
       "        }\n",
       "    };\n",
       "}\n",
       "\n",
       "// from http://stackoverflow.com/questions/1114465/getting-mouse-location-in-canvas\n",
       "mpl.findpos = function(e) {\n",
       "    //this section is from http://www.quirksmode.org/js/events_properties.html\n",
       "    var targ;\n",
       "    if (!e)\n",
       "        e = window.event;\n",
       "    if (e.target)\n",
       "        targ = e.target;\n",
       "    else if (e.srcElement)\n",
       "        targ = e.srcElement;\n",
       "    if (targ.nodeType == 3) // defeat Safari bug\n",
       "        targ = targ.parentNode;\n",
       "\n",
       "    // jQuery normalizes the pageX and pageY\n",
       "    // pageX,Y are the mouse positions relative to the document\n",
       "    // offset() returns the position of the element relative to the document\n",
       "    var x = e.pageX - $(targ).offset().left;\n",
       "    var y = e.pageY - $(targ).offset().top;\n",
       "\n",
       "    return {\"x\": x, \"y\": y};\n",
       "};\n",
       "\n",
       "/*\n",
       " * return a copy of an object with only non-object keys\n",
       " * we need this to avoid circular references\n",
       " * http://stackoverflow.com/a/24161582/3208463\n",
       " */\n",
       "function simpleKeys (original) {\n",
       "  return Object.keys(original).reduce(function (obj, key) {\n",
       "    if (typeof original[key] !== 'object')\n",
       "        obj[key] = original[key]\n",
       "    return obj;\n",
       "  }, {});\n",
       "}\n",
       "\n",
       "mpl.figure.prototype.mouse_event = function(event, name) {\n",
       "    var canvas_pos = mpl.findpos(event)\n",
       "\n",
       "    if (name === 'button_press')\n",
       "    {\n",
       "        this.canvas.focus();\n",
       "        this.canvas_div.focus();\n",
       "    }\n",
       "\n",
       "    var x = canvas_pos.x * mpl.ratio;\n",
       "    var y = canvas_pos.y * mpl.ratio;\n",
       "\n",
       "    this.send_message(name, {x: x, y: y, button: event.button,\n",
       "                             step: event.step,\n",
       "                             guiEvent: simpleKeys(event)});\n",
       "\n",
       "    /* This prevents the web browser from automatically changing to\n",
       "     * the text insertion cursor when the button is pressed.  We want\n",
       "     * to control all of the cursor setting manually through the\n",
       "     * 'cursor' event from matplotlib */\n",
       "    event.preventDefault();\n",
       "    return false;\n",
       "}\n",
       "\n",
       "mpl.figure.prototype._key_event_extra = function(event, name) {\n",
       "    // Handle any extra behaviour associated with a key event\n",
       "}\n",
       "\n",
       "mpl.figure.prototype.key_event = function(event, name) {\n",
       "\n",
       "    // Prevent repeat events\n",
       "    if (name == 'key_press')\n",
       "    {\n",
       "        if (event.which === this._key)\n",
       "            return;\n",
       "        else\n",
       "            this._key = event.which;\n",
       "    }\n",
       "    if (name == 'key_release')\n",
       "        this._key = null;\n",
       "\n",
       "    var value = '';\n",
       "    if (event.ctrlKey && event.which != 17)\n",
       "        value += \"ctrl+\";\n",
       "    if (event.altKey && event.which != 18)\n",
       "        value += \"alt+\";\n",
       "    if (event.shiftKey && event.which != 16)\n",
       "        value += \"shift+\";\n",
       "\n",
       "    value += 'k';\n",
       "    value += event.which.toString();\n",
       "\n",
       "    this._key_event_extra(event, name);\n",
       "\n",
       "    this.send_message(name, {key: value,\n",
       "                             guiEvent: simpleKeys(event)});\n",
       "    return false;\n",
       "}\n",
       "\n",
       "mpl.figure.prototype.toolbar_button_onclick = function(name) {\n",
       "    if (name == 'download') {\n",
       "        this.handle_save(this, null);\n",
       "    } else {\n",
       "        this.send_message(\"toolbar_button\", {name: name});\n",
       "    }\n",
       "};\n",
       "\n",
       "mpl.figure.prototype.toolbar_button_onmouseover = function(tooltip) {\n",
       "    this.message.textContent = tooltip;\n",
       "};\n",
       "mpl.toolbar_items = [[\"Home\", \"Reset original view\", \"fa fa-home icon-home\", \"home\"], [\"Back\", \"Back to  previous view\", \"fa fa-arrow-left icon-arrow-left\", \"back\"], [\"Forward\", \"Forward to next view\", \"fa fa-arrow-right icon-arrow-right\", \"forward\"], [\"\", \"\", \"\", \"\"], [\"Pan\", \"Pan axes with left mouse, zoom with right\", \"fa fa-arrows icon-move\", \"pan\"], [\"Zoom\", \"Zoom to rectangle\", \"fa fa-square-o icon-check-empty\", \"zoom\"], [\"\", \"\", \"\", \"\"], [\"Download\", \"Download plot\", \"fa fa-floppy-o icon-save\", \"download\"]];\n",
       "\n",
       "mpl.extensions = [\"eps\", \"jpeg\", \"pdf\", \"png\", \"ps\", \"raw\", \"svg\", \"tif\"];\n",
       "\n",
       "mpl.default_extension = \"png\";var comm_websocket_adapter = function(comm) {\n",
       "    // Create a \"websocket\"-like object which calls the given IPython comm\n",
       "    // object with the appropriate methods. Currently this is a non binary\n",
       "    // socket, so there is still some room for performance tuning.\n",
       "    var ws = {};\n",
       "\n",
       "    ws.close = function() {\n",
       "        comm.close()\n",
       "    };\n",
       "    ws.send = function(m) {\n",
       "        //console.log('sending', m);\n",
       "        comm.send(m);\n",
       "    };\n",
       "    // Register the callback with on_msg.\n",
       "    comm.on_msg(function(msg) {\n",
       "        //console.log('receiving', msg['content']['data'], msg);\n",
       "        // Pass the mpl event to the overriden (by mpl) onmessage function.\n",
       "        ws.onmessage(msg['content']['data'])\n",
       "    });\n",
       "    return ws;\n",
       "}\n",
       "\n",
       "mpl.mpl_figure_comm = function(comm, msg) {\n",
       "    // This is the function which gets called when the mpl process\n",
       "    // starts-up an IPython Comm through the \"matplotlib\" channel.\n",
       "\n",
       "    var id = msg.content.data.id;\n",
       "    // Get hold of the div created by the display call when the Comm\n",
       "    // socket was opened in Python.\n",
       "    var element = $(\"#\" + id);\n",
       "    var ws_proxy = comm_websocket_adapter(comm)\n",
       "\n",
       "    function ondownload(figure, format) {\n",
       "        window.open(figure.imageObj.src);\n",
       "    }\n",
       "\n",
       "    var fig = new mpl.figure(id, ws_proxy,\n",
       "                           ondownload,\n",
       "                           element.get(0));\n",
       "\n",
       "    // Call onopen now - mpl needs it, as it is assuming we've passed it a real\n",
       "    // web socket which is closed, not our websocket->open comm proxy.\n",
       "    ws_proxy.onopen();\n",
       "\n",
       "    fig.parent_element = element.get(0);\n",
       "    fig.cell_info = mpl.find_output_cell(\"<div id='\" + id + \"'></div>\");\n",
       "    if (!fig.cell_info) {\n",
       "        console.error(\"Failed to find cell for figure\", id, fig);\n",
       "        return;\n",
       "    }\n",
       "\n",
       "    var output_index = fig.cell_info[2]\n",
       "    var cell = fig.cell_info[0];\n",
       "\n",
       "};\n",
       "\n",
       "mpl.figure.prototype.handle_close = function(fig, msg) {\n",
       "    var width = fig.canvas.width/mpl.ratio\n",
       "    fig.root.unbind('remove')\n",
       "\n",
       "    // Update the output cell to use the data from the current canvas.\n",
       "    fig.push_to_output();\n",
       "    var dataURL = fig.canvas.toDataURL();\n",
       "    // Re-enable the keyboard manager in IPython - without this line, in FF,\n",
       "    // the notebook keyboard shortcuts fail.\n",
       "    IPython.keyboard_manager.enable()\n",
       "    $(fig.parent_element).html('<img src=\"' + dataURL + '\" width=\"' + width + '\">');\n",
       "    fig.close_ws(fig, msg);\n",
       "}\n",
       "\n",
       "mpl.figure.prototype.close_ws = function(fig, msg){\n",
       "    fig.send_message('closing', msg);\n",
       "    // fig.ws.close()\n",
       "}\n",
       "\n",
       "mpl.figure.prototype.push_to_output = function(remove_interactive) {\n",
       "    // Turn the data on the canvas into data in the output cell.\n",
       "    var width = this.canvas.width/mpl.ratio\n",
       "    var dataURL = this.canvas.toDataURL();\n",
       "    this.cell_info[1]['text/html'] = '<img src=\"' + dataURL + '\" width=\"' + width + '\">';\n",
       "}\n",
       "\n",
       "mpl.figure.prototype.updated_canvas_event = function() {\n",
       "    // Tell IPython that the notebook contents must change.\n",
       "    IPython.notebook.set_dirty(true);\n",
       "    this.send_message(\"ack\", {});\n",
       "    var fig = this;\n",
       "    // Wait a second, then push the new image to the DOM so\n",
       "    // that it is saved nicely (might be nice to debounce this).\n",
       "    setTimeout(function () { fig.push_to_output() }, 1000);\n",
       "}\n",
       "\n",
       "mpl.figure.prototype._init_toolbar = function() {\n",
       "    var fig = this;\n",
       "\n",
       "    var nav_element = $('<div/>')\n",
       "    nav_element.attr('style', 'width: 100%');\n",
       "    this.root.append(nav_element);\n",
       "\n",
       "    // Define a callback function for later on.\n",
       "    function toolbar_event(event) {\n",
       "        return fig.toolbar_button_onclick(event['data']);\n",
       "    }\n",
       "    function toolbar_mouse_event(event) {\n",
       "        return fig.toolbar_button_onmouseover(event['data']);\n",
       "    }\n",
       "\n",
       "    for(var toolbar_ind in mpl.toolbar_items){\n",
       "        var name = mpl.toolbar_items[toolbar_ind][0];\n",
       "        var tooltip = mpl.toolbar_items[toolbar_ind][1];\n",
       "        var image = mpl.toolbar_items[toolbar_ind][2];\n",
       "        var method_name = mpl.toolbar_items[toolbar_ind][3];\n",
       "\n",
       "        if (!name) { continue; };\n",
       "\n",
       "        var button = $('<button class=\"btn btn-default\" href=\"#\" title=\"' + name + '\"><i class=\"fa ' + image + ' fa-lg\"></i></button>');\n",
       "        button.click(method_name, toolbar_event);\n",
       "        button.mouseover(tooltip, toolbar_mouse_event);\n",
       "        nav_element.append(button);\n",
       "    }\n",
       "\n",
       "    // Add the status bar.\n",
       "    var status_bar = $('<span class=\"mpl-message\" style=\"text-align:right; float: right;\"/>');\n",
       "    nav_element.append(status_bar);\n",
       "    this.message = status_bar[0];\n",
       "\n",
       "    // Add the close button to the window.\n",
       "    var buttongrp = $('<div class=\"btn-group inline pull-right\"></div>');\n",
       "    var button = $('<button class=\"btn btn-mini btn-primary\" href=\"#\" title=\"Stop Interaction\"><i class=\"fa fa-power-off icon-remove icon-large\"></i></button>');\n",
       "    button.click(function (evt) { fig.handle_close(fig, {}); } );\n",
       "    button.mouseover('Stop Interaction', toolbar_mouse_event);\n",
       "    buttongrp.append(button);\n",
       "    var titlebar = this.root.find($('.ui-dialog-titlebar'));\n",
       "    titlebar.prepend(buttongrp);\n",
       "}\n",
       "\n",
       "mpl.figure.prototype._root_extra_style = function(el){\n",
       "    var fig = this\n",
       "    el.on(\"remove\", function(){\n",
       "\tfig.close_ws(fig, {});\n",
       "    });\n",
       "}\n",
       "\n",
       "mpl.figure.prototype._canvas_extra_style = function(el){\n",
       "    // this is important to make the div 'focusable\n",
       "    el.attr('tabindex', 0)\n",
       "    // reach out to IPython and tell the keyboard manager to turn it's self\n",
       "    // off when our div gets focus\n",
       "\n",
       "    // location in version 3\n",
       "    if (IPython.notebook.keyboard_manager) {\n",
       "        IPython.notebook.keyboard_manager.register_events(el);\n",
       "    }\n",
       "    else {\n",
       "        // location in version 2\n",
       "        IPython.keyboard_manager.register_events(el);\n",
       "    }\n",
       "\n",
       "}\n",
       "\n",
       "mpl.figure.prototype._key_event_extra = function(event, name) {\n",
       "    var manager = IPython.notebook.keyboard_manager;\n",
       "    if (!manager)\n",
       "        manager = IPython.keyboard_manager;\n",
       "\n",
       "    // Check for shift+enter\n",
       "    if (event.shiftKey && event.which == 13) {\n",
       "        this.canvas_div.blur();\n",
       "        // select the cell after this one\n",
       "        var index = IPython.notebook.find_cell_index(this.cell_info[0]);\n",
       "        IPython.notebook.select(index + 1);\n",
       "    }\n",
       "}\n",
       "\n",
       "mpl.figure.prototype.handle_save = function(fig, msg) {\n",
       "    fig.ondownload(fig, null);\n",
       "}\n",
       "\n",
       "\n",
       "mpl.find_output_cell = function(html_output) {\n",
       "    // Return the cell and output element which can be found *uniquely* in the notebook.\n",
       "    // Note - this is a bit hacky, but it is done because the \"notebook_saving.Notebook\"\n",
       "    // IPython event is triggered only after the cells have been serialised, which for\n",
       "    // our purposes (turning an active figure into a static one), is too late.\n",
       "    var cells = IPython.notebook.get_cells();\n",
       "    var ncells = cells.length;\n",
       "    for (var i=0; i<ncells; i++) {\n",
       "        var cell = cells[i];\n",
       "        if (cell.cell_type === 'code'){\n",
       "            for (var j=0; j<cell.output_area.outputs.length; j++) {\n",
       "                var data = cell.output_area.outputs[j];\n",
       "                if (data.data) {\n",
       "                    // IPython >= 3 moved mimebundle to data attribute of output\n",
       "                    data = data.data;\n",
       "                }\n",
       "                if (data['text/html'] == html_output) {\n",
       "                    return [cell, data, j];\n",
       "                }\n",
       "            }\n",
       "        }\n",
       "    }\n",
       "}\n",
       "\n",
       "// Register the function which deals with the matplotlib target/channel.\n",
       "// The kernel may be null if the page has been refreshed.\n",
       "if (IPython.notebook.kernel != null) {\n",
       "    IPython.notebook.kernel.comm_manager.register_target('matplotlib', mpl.mpl_figure_comm);\n",
       "}\n"
      ],
      "text/plain": [
       "<IPython.core.display.Javascript object>"
      ]
     },
     "metadata": {},
     "output_type": "display_data"
    },
    {
     "data": {
      "text/html": [
       "<img src=\"data:image/png;base64,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\" width=\"640\">"
      ],
      "text/plain": [
       "<IPython.core.display.HTML object>"
      ]
     },
     "metadata": {},
     "output_type": "display_data"
    },
    {
     "data": {
      "text/plain": [
       "<matplotlib.text.Text at 0x2d00ab05d68>"
      ]
     },
     "execution_count": 10,
     "metadata": {},
     "output_type": "execute_result"
    }
   ],
   "source": [
    "pyplot.figure()\n",
    "pyplot.semilogy(z_vars_fft.T, alpha=0.2)\n",
    "pyplot.semilogy(z_vars_fft.mean(0), color=\"k\")\n",
    "pyplot.title(\"Zernike Power Spectrum\")\n",
    "pyplot.xlabel(\"Zernike Index\")\n",
    "pyplot.ylabel(\"Power ($\\mathrm{RMS Rad}^2$)\")"
   ]
  },
  {
   "cell_type": "code",
   "execution_count": 11,
   "metadata": {},
   "outputs": [
    {
     "data": {
      "application/javascript": [
       "/* Put everything inside the global mpl namespace */\n",
       "window.mpl = {};\n",
       "\n",
       "\n",
       "mpl.get_websocket_type = function() {\n",
       "    if (typeof(WebSocket) !== 'undefined') {\n",
       "        return WebSocket;\n",
       "    } else if (typeof(MozWebSocket) !== 'undefined') {\n",
       "        return MozWebSocket;\n",
       "    } else {\n",
       "        alert('Your browser does not have WebSocket support.' +\n",
       "              'Please try Chrome, Safari or Firefox ≥ 6. ' +\n",
       "              'Firefox 4 and 5 are also supported but you ' +\n",
       "              'have to enable WebSockets in about:config.');\n",
       "    };\n",
       "}\n",
       "\n",
       "mpl.figure = function(figure_id, websocket, ondownload, parent_element) {\n",
       "    this.id = figure_id;\n",
       "\n",
       "    this.ws = websocket;\n",
       "\n",
       "    this.supports_binary = (this.ws.binaryType != undefined);\n",
       "\n",
       "    if (!this.supports_binary) {\n",
       "        var warnings = document.getElementById(\"mpl-warnings\");\n",
       "        if (warnings) {\n",
       "            warnings.style.display = 'block';\n",
       "            warnings.textContent = (\n",
       "                \"This browser does not support binary websocket messages. \" +\n",
       "                    \"Performance may be slow.\");\n",
       "        }\n",
       "    }\n",
       "\n",
       "    this.imageObj = new Image();\n",
       "\n",
       "    this.context = undefined;\n",
       "    this.message = undefined;\n",
       "    this.canvas = undefined;\n",
       "    this.rubberband_canvas = undefined;\n",
       "    this.rubberband_context = undefined;\n",
       "    this.format_dropdown = undefined;\n",
       "\n",
       "    this.image_mode = 'full';\n",
       "\n",
       "    this.root = $('<div/>');\n",
       "    this._root_extra_style(this.root)\n",
       "    this.root.attr('style', 'display: inline-block');\n",
       "\n",
       "    $(parent_element).append(this.root);\n",
       "\n",
       "    this._init_header(this);\n",
       "    this._init_canvas(this);\n",
       "    this._init_toolbar(this);\n",
       "\n",
       "    var fig = this;\n",
       "\n",
       "    this.waiting = false;\n",
       "\n",
       "    this.ws.onopen =  function () {\n",
       "            fig.send_message(\"supports_binary\", {value: fig.supports_binary});\n",
       "            fig.send_message(\"send_image_mode\", {});\n",
       "            if (mpl.ratio != 1) {\n",
       "                fig.send_message(\"set_dpi_ratio\", {'dpi_ratio': mpl.ratio});\n",
       "            }\n",
       "            fig.send_message(\"refresh\", {});\n",
       "        }\n",
       "\n",
       "    this.imageObj.onload = function() {\n",
       "            if (fig.image_mode == 'full') {\n",
       "                // Full images could contain transparency (where diff images\n",
       "                // almost always do), so we need to clear the canvas so that\n",
       "                // there is no ghosting.\n",
       "                fig.context.clearRect(0, 0, fig.canvas.width, fig.canvas.height);\n",
       "            }\n",
       "            fig.context.drawImage(fig.imageObj, 0, 0);\n",
       "        };\n",
       "\n",
       "    this.imageObj.onunload = function() {\n",
       "        this.ws.close();\n",
       "    }\n",
       "\n",
       "    this.ws.onmessage = this._make_on_message_function(this);\n",
       "\n",
       "    this.ondownload = ondownload;\n",
       "}\n",
       "\n",
       "mpl.figure.prototype._init_header = function() {\n",
       "    var titlebar = $(\n",
       "        '<div class=\"ui-dialog-titlebar ui-widget-header ui-corner-all ' +\n",
       "        'ui-helper-clearfix\"/>');\n",
       "    var titletext = $(\n",
       "        '<div class=\"ui-dialog-title\" style=\"width: 100%; ' +\n",
       "        'text-align: center; padding: 3px;\"/>');\n",
       "    titlebar.append(titletext)\n",
       "    this.root.append(titlebar);\n",
       "    this.header = titletext[0];\n",
       "}\n",
       "\n",
       "\n",
       "\n",
       "mpl.figure.prototype._canvas_extra_style = function(canvas_div) {\n",
       "\n",
       "}\n",
       "\n",
       "\n",
       "mpl.figure.prototype._root_extra_style = function(canvas_div) {\n",
       "\n",
       "}\n",
       "\n",
       "mpl.figure.prototype._init_canvas = function() {\n",
       "    var fig = this;\n",
       "\n",
       "    var canvas_div = $('<div/>');\n",
       "\n",
       "    canvas_div.attr('style', 'position: relative; clear: both; outline: 0');\n",
       "\n",
       "    function canvas_keyboard_event(event) {\n",
       "        return fig.key_event(event, event['data']);\n",
       "    }\n",
       "\n",
       "    canvas_div.keydown('key_press', canvas_keyboard_event);\n",
       "    canvas_div.keyup('key_release', canvas_keyboard_event);\n",
       "    this.canvas_div = canvas_div\n",
       "    this._canvas_extra_style(canvas_div)\n",
       "    this.root.append(canvas_div);\n",
       "\n",
       "    var canvas = $('<canvas/>');\n",
       "    canvas.addClass('mpl-canvas');\n",
       "    canvas.attr('style', \"left: 0; top: 0; z-index: 0; outline: 0\")\n",
       "\n",
       "    this.canvas = canvas[0];\n",
       "    this.context = canvas[0].getContext(\"2d\");\n",
       "\n",
       "    var backingStore = this.context.backingStorePixelRatio ||\n",
       "\tthis.context.webkitBackingStorePixelRatio ||\n",
       "\tthis.context.mozBackingStorePixelRatio ||\n",
       "\tthis.context.msBackingStorePixelRatio ||\n",
       "\tthis.context.oBackingStorePixelRatio ||\n",
       "\tthis.context.backingStorePixelRatio || 1;\n",
       "\n",
       "    mpl.ratio = (window.devicePixelRatio || 1) / backingStore;\n",
       "\n",
       "    var rubberband = $('<canvas/>');\n",
       "    rubberband.attr('style', \"position: absolute; left: 0; top: 0; z-index: 1;\")\n",
       "\n",
       "    var pass_mouse_events = true;\n",
       "\n",
       "    canvas_div.resizable({\n",
       "        start: function(event, ui) {\n",
       "            pass_mouse_events = false;\n",
       "        },\n",
       "        resize: function(event, ui) {\n",
       "            fig.request_resize(ui.size.width, ui.size.height);\n",
       "        },\n",
       "        stop: function(event, ui) {\n",
       "            pass_mouse_events = true;\n",
       "            fig.request_resize(ui.size.width, ui.size.height);\n",
       "        },\n",
       "    });\n",
       "\n",
       "    function mouse_event_fn(event) {\n",
       "        if (pass_mouse_events)\n",
       "            return fig.mouse_event(event, event['data']);\n",
       "    }\n",
       "\n",
       "    rubberband.mousedown('button_press', mouse_event_fn);\n",
       "    rubberband.mouseup('button_release', mouse_event_fn);\n",
       "    // Throttle sequential mouse events to 1 every 20ms.\n",
       "    rubberband.mousemove('motion_notify', mouse_event_fn);\n",
       "\n",
       "    rubberband.mouseenter('figure_enter', mouse_event_fn);\n",
       "    rubberband.mouseleave('figure_leave', mouse_event_fn);\n",
       "\n",
       "    canvas_div.on(\"wheel\", function (event) {\n",
       "        event = event.originalEvent;\n",
       "        event['data'] = 'scroll'\n",
       "        if (event.deltaY < 0) {\n",
       "            event.step = 1;\n",
       "        } else {\n",
       "            event.step = -1;\n",
       "        }\n",
       "        mouse_event_fn(event);\n",
       "    });\n",
       "\n",
       "    canvas_div.append(canvas);\n",
       "    canvas_div.append(rubberband);\n",
       "\n",
       "    this.rubberband = rubberband;\n",
       "    this.rubberband_canvas = rubberband[0];\n",
       "    this.rubberband_context = rubberband[0].getContext(\"2d\");\n",
       "    this.rubberband_context.strokeStyle = \"#000000\";\n",
       "\n",
       "    this._resize_canvas = function(width, height) {\n",
       "        // Keep the size of the canvas, canvas container, and rubber band\n",
       "        // canvas in synch.\n",
       "        canvas_div.css('width', width)\n",
       "        canvas_div.css('height', height)\n",
       "\n",
       "        canvas.attr('width', width * mpl.ratio);\n",
       "        canvas.attr('height', height * mpl.ratio);\n",
       "        canvas.attr('style', 'width: ' + width + 'px; height: ' + height + 'px;');\n",
       "\n",
       "        rubberband.attr('width', width);\n",
       "        rubberband.attr('height', height);\n",
       "    }\n",
       "\n",
       "    // Set the figure to an initial 600x600px, this will subsequently be updated\n",
       "    // upon first draw.\n",
       "    this._resize_canvas(600, 600);\n",
       "\n",
       "    // Disable right mouse context menu.\n",
       "    $(this.rubberband_canvas).bind(\"contextmenu\",function(e){\n",
       "        return false;\n",
       "    });\n",
       "\n",
       "    function set_focus () {\n",
       "        canvas.focus();\n",
       "        canvas_div.focus();\n",
       "    }\n",
       "\n",
       "    window.setTimeout(set_focus, 100);\n",
       "}\n",
       "\n",
       "mpl.figure.prototype._init_toolbar = function() {\n",
       "    var fig = this;\n",
       "\n",
       "    var nav_element = $('<div/>')\n",
       "    nav_element.attr('style', 'width: 100%');\n",
       "    this.root.append(nav_element);\n",
       "\n",
       "    // Define a callback function for later on.\n",
       "    function toolbar_event(event) {\n",
       "        return fig.toolbar_button_onclick(event['data']);\n",
       "    }\n",
       "    function toolbar_mouse_event(event) {\n",
       "        return fig.toolbar_button_onmouseover(event['data']);\n",
       "    }\n",
       "\n",
       "    for(var toolbar_ind in mpl.toolbar_items) {\n",
       "        var name = mpl.toolbar_items[toolbar_ind][0];\n",
       "        var tooltip = mpl.toolbar_items[toolbar_ind][1];\n",
       "        var image = mpl.toolbar_items[toolbar_ind][2];\n",
       "        var method_name = mpl.toolbar_items[toolbar_ind][3];\n",
       "\n",
       "        if (!name) {\n",
       "            // put a spacer in here.\n",
       "            continue;\n",
       "        }\n",
       "        var button = $('<button/>');\n",
       "        button.addClass('ui-button ui-widget ui-state-default ui-corner-all ' +\n",
       "                        'ui-button-icon-only');\n",
       "        button.attr('role', 'button');\n",
       "        button.attr('aria-disabled', 'false');\n",
       "        button.click(method_name, toolbar_event);\n",
       "        button.mouseover(tooltip, toolbar_mouse_event);\n",
       "\n",
       "        var icon_img = $('<span/>');\n",
       "        icon_img.addClass('ui-button-icon-primary ui-icon');\n",
       "        icon_img.addClass(image);\n",
       "        icon_img.addClass('ui-corner-all');\n",
       "\n",
       "        var tooltip_span = $('<span/>');\n",
       "        tooltip_span.addClass('ui-button-text');\n",
       "        tooltip_span.html(tooltip);\n",
       "\n",
       "        button.append(icon_img);\n",
       "        button.append(tooltip_span);\n",
       "\n",
       "        nav_element.append(button);\n",
       "    }\n",
       "\n",
       "    var fmt_picker_span = $('<span/>');\n",
       "\n",
       "    var fmt_picker = $('<select/>');\n",
       "    fmt_picker.addClass('mpl-toolbar-option ui-widget ui-widget-content');\n",
       "    fmt_picker_span.append(fmt_picker);\n",
       "    nav_element.append(fmt_picker_span);\n",
       "    this.format_dropdown = fmt_picker[0];\n",
       "\n",
       "    for (var ind in mpl.extensions) {\n",
       "        var fmt = mpl.extensions[ind];\n",
       "        var option = $(\n",
       "            '<option/>', {selected: fmt === mpl.default_extension}).html(fmt);\n",
       "        fmt_picker.append(option)\n",
       "    }\n",
       "\n",
       "    // Add hover states to the ui-buttons\n",
       "    $( \".ui-button\" ).hover(\n",
       "        function() { $(this).addClass(\"ui-state-hover\");},\n",
       "        function() { $(this).removeClass(\"ui-state-hover\");}\n",
       "    );\n",
       "\n",
       "    var status_bar = $('<span class=\"mpl-message\"/>');\n",
       "    nav_element.append(status_bar);\n",
       "    this.message = status_bar[0];\n",
       "}\n",
       "\n",
       "mpl.figure.prototype.request_resize = function(x_pixels, y_pixels) {\n",
       "    // Request matplotlib to resize the figure. Matplotlib will then trigger a resize in the client,\n",
       "    // which will in turn request a refresh of the image.\n",
       "    this.send_message('resize', {'width': x_pixels, 'height': y_pixels});\n",
       "}\n",
       "\n",
       "mpl.figure.prototype.send_message = function(type, properties) {\n",
       "    properties['type'] = type;\n",
       "    properties['figure_id'] = this.id;\n",
       "    this.ws.send(JSON.stringify(properties));\n",
       "}\n",
       "\n",
       "mpl.figure.prototype.send_draw_message = function() {\n",
       "    if (!this.waiting) {\n",
       "        this.waiting = true;\n",
       "        this.ws.send(JSON.stringify({type: \"draw\", figure_id: this.id}));\n",
       "    }\n",
       "}\n",
       "\n",
       "\n",
       "mpl.figure.prototype.handle_save = function(fig, msg) {\n",
       "    var format_dropdown = fig.format_dropdown;\n",
       "    var format = format_dropdown.options[format_dropdown.selectedIndex].value;\n",
       "    fig.ondownload(fig, format);\n",
       "}\n",
       "\n",
       "\n",
       "mpl.figure.prototype.handle_resize = function(fig, msg) {\n",
       "    var size = msg['size'];\n",
       "    if (size[0] != fig.canvas.width || size[1] != fig.canvas.height) {\n",
       "        fig._resize_canvas(size[0], size[1]);\n",
       "        fig.send_message(\"refresh\", {});\n",
       "    };\n",
       "}\n",
       "\n",
       "mpl.figure.prototype.handle_rubberband = function(fig, msg) {\n",
       "    var x0 = msg['x0'] / mpl.ratio;\n",
       "    var y0 = (fig.canvas.height - msg['y0']) / mpl.ratio;\n",
       "    var x1 = msg['x1'] / mpl.ratio;\n",
       "    var y1 = (fig.canvas.height - msg['y1']) / mpl.ratio;\n",
       "    x0 = Math.floor(x0) + 0.5;\n",
       "    y0 = Math.floor(y0) + 0.5;\n",
       "    x1 = Math.floor(x1) + 0.5;\n",
       "    y1 = Math.floor(y1) + 0.5;\n",
       "    var min_x = Math.min(x0, x1);\n",
       "    var min_y = Math.min(y0, y1);\n",
       "    var width = Math.abs(x1 - x0);\n",
       "    var height = Math.abs(y1 - y0);\n",
       "\n",
       "    fig.rubberband_context.clearRect(\n",
       "        0, 0, fig.canvas.width, fig.canvas.height);\n",
       "\n",
       "    fig.rubberband_context.strokeRect(min_x, min_y, width, height);\n",
       "}\n",
       "\n",
       "mpl.figure.prototype.handle_figure_label = function(fig, msg) {\n",
       "    // Updates the figure title.\n",
       "    fig.header.textContent = msg['label'];\n",
       "}\n",
       "\n",
       "mpl.figure.prototype.handle_cursor = function(fig, msg) {\n",
       "    var cursor = msg['cursor'];\n",
       "    switch(cursor)\n",
       "    {\n",
       "    case 0:\n",
       "        cursor = 'pointer';\n",
       "        break;\n",
       "    case 1:\n",
       "        cursor = 'default';\n",
       "        break;\n",
       "    case 2:\n",
       "        cursor = 'crosshair';\n",
       "        break;\n",
       "    case 3:\n",
       "        cursor = 'move';\n",
       "        break;\n",
       "    }\n",
       "    fig.rubberband_canvas.style.cursor = cursor;\n",
       "}\n",
       "\n",
       "mpl.figure.prototype.handle_message = function(fig, msg) {\n",
       "    fig.message.textContent = msg['message'];\n",
       "}\n",
       "\n",
       "mpl.figure.prototype.handle_draw = function(fig, msg) {\n",
       "    // Request the server to send over a new figure.\n",
       "    fig.send_draw_message();\n",
       "}\n",
       "\n",
       "mpl.figure.prototype.handle_image_mode = function(fig, msg) {\n",
       "    fig.image_mode = msg['mode'];\n",
       "}\n",
       "\n",
       "mpl.figure.prototype.updated_canvas_event = function() {\n",
       "    // Called whenever the canvas gets updated.\n",
       "    this.send_message(\"ack\", {});\n",
       "}\n",
       "\n",
       "// A function to construct a web socket function for onmessage handling.\n",
       "// Called in the figure constructor.\n",
       "mpl.figure.prototype._make_on_message_function = function(fig) {\n",
       "    return function socket_on_message(evt) {\n",
       "        if (evt.data instanceof Blob) {\n",
       "            /* FIXME: We get \"Resource interpreted as Image but\n",
       "             * transferred with MIME type text/plain:\" errors on\n",
       "             * Chrome.  But how to set the MIME type?  It doesn't seem\n",
       "             * to be part of the websocket stream */\n",
       "            evt.data.type = \"image/png\";\n",
       "\n",
       "            /* Free the memory for the previous frames */\n",
       "            if (fig.imageObj.src) {\n",
       "                (window.URL || window.webkitURL).revokeObjectURL(\n",
       "                    fig.imageObj.src);\n",
       "            }\n",
       "\n",
       "            fig.imageObj.src = (window.URL || window.webkitURL).createObjectURL(\n",
       "                evt.data);\n",
       "            fig.updated_canvas_event();\n",
       "            fig.waiting = false;\n",
       "            return;\n",
       "        }\n",
       "        else if (typeof evt.data === 'string' && evt.data.slice(0, 21) == \"data:image/png;base64\") {\n",
       "            fig.imageObj.src = evt.data;\n",
       "            fig.updated_canvas_event();\n",
       "            fig.waiting = false;\n",
       "            return;\n",
       "        }\n",
       "\n",
       "        var msg = JSON.parse(evt.data);\n",
       "        var msg_type = msg['type'];\n",
       "\n",
       "        // Call the  \"handle_{type}\" callback, which takes\n",
       "        // the figure and JSON message as its only arguments.\n",
       "        try {\n",
       "            var callback = fig[\"handle_\" + msg_type];\n",
       "        } catch (e) {\n",
       "            console.log(\"No handler for the '\" + msg_type + \"' message type: \", msg);\n",
       "            return;\n",
       "        }\n",
       "\n",
       "        if (callback) {\n",
       "            try {\n",
       "                // console.log(\"Handling '\" + msg_type + \"' message: \", msg);\n",
       "                callback(fig, msg);\n",
       "            } catch (e) {\n",
       "                console.log(\"Exception inside the 'handler_\" + msg_type + \"' callback:\", e, e.stack, msg);\n",
       "            }\n",
       "        }\n",
       "    };\n",
       "}\n",
       "\n",
       "// from http://stackoverflow.com/questions/1114465/getting-mouse-location-in-canvas\n",
       "mpl.findpos = function(e) {\n",
       "    //this section is from http://www.quirksmode.org/js/events_properties.html\n",
       "    var targ;\n",
       "    if (!e)\n",
       "        e = window.event;\n",
       "    if (e.target)\n",
       "        targ = e.target;\n",
       "    else if (e.srcElement)\n",
       "        targ = e.srcElement;\n",
       "    if (targ.nodeType == 3) // defeat Safari bug\n",
       "        targ = targ.parentNode;\n",
       "\n",
       "    // jQuery normalizes the pageX and pageY\n",
       "    // pageX,Y are the mouse positions relative to the document\n",
       "    // offset() returns the position of the element relative to the document\n",
       "    var x = e.pageX - $(targ).offset().left;\n",
       "    var y = e.pageY - $(targ).offset().top;\n",
       "\n",
       "    return {\"x\": x, \"y\": y};\n",
       "};\n",
       "\n",
       "/*\n",
       " * return a copy of an object with only non-object keys\n",
       " * we need this to avoid circular references\n",
       " * http://stackoverflow.com/a/24161582/3208463\n",
       " */\n",
       "function simpleKeys (original) {\n",
       "  return Object.keys(original).reduce(function (obj, key) {\n",
       "    if (typeof original[key] !== 'object')\n",
       "        obj[key] = original[key]\n",
       "    return obj;\n",
       "  }, {});\n",
       "}\n",
       "\n",
       "mpl.figure.prototype.mouse_event = function(event, name) {\n",
       "    var canvas_pos = mpl.findpos(event)\n",
       "\n",
       "    if (name === 'button_press')\n",
       "    {\n",
       "        this.canvas.focus();\n",
       "        this.canvas_div.focus();\n",
       "    }\n",
       "\n",
       "    var x = canvas_pos.x * mpl.ratio;\n",
       "    var y = canvas_pos.y * mpl.ratio;\n",
       "\n",
       "    this.send_message(name, {x: x, y: y, button: event.button,\n",
       "                             step: event.step,\n",
       "                             guiEvent: simpleKeys(event)});\n",
       "\n",
       "    /* This prevents the web browser from automatically changing to\n",
       "     * the text insertion cursor when the button is pressed.  We want\n",
       "     * to control all of the cursor setting manually through the\n",
       "     * 'cursor' event from matplotlib */\n",
       "    event.preventDefault();\n",
       "    return false;\n",
       "}\n",
       "\n",
       "mpl.figure.prototype._key_event_extra = function(event, name) {\n",
       "    // Handle any extra behaviour associated with a key event\n",
       "}\n",
       "\n",
       "mpl.figure.prototype.key_event = function(event, name) {\n",
       "\n",
       "    // Prevent repeat events\n",
       "    if (name == 'key_press')\n",
       "    {\n",
       "        if (event.which === this._key)\n",
       "            return;\n",
       "        else\n",
       "            this._key = event.which;\n",
       "    }\n",
       "    if (name == 'key_release')\n",
       "        this._key = null;\n",
       "\n",
       "    var value = '';\n",
       "    if (event.ctrlKey && event.which != 17)\n",
       "        value += \"ctrl+\";\n",
       "    if (event.altKey && event.which != 18)\n",
       "        value += \"alt+\";\n",
       "    if (event.shiftKey && event.which != 16)\n",
       "        value += \"shift+\";\n",
       "\n",
       "    value += 'k';\n",
       "    value += event.which.toString();\n",
       "\n",
       "    this._key_event_extra(event, name);\n",
       "\n",
       "    this.send_message(name, {key: value,\n",
       "                             guiEvent: simpleKeys(event)});\n",
       "    return false;\n",
       "}\n",
       "\n",
       "mpl.figure.prototype.toolbar_button_onclick = function(name) {\n",
       "    if (name == 'download') {\n",
       "        this.handle_save(this, null);\n",
       "    } else {\n",
       "        this.send_message(\"toolbar_button\", {name: name});\n",
       "    }\n",
       "};\n",
       "\n",
       "mpl.figure.prototype.toolbar_button_onmouseover = function(tooltip) {\n",
       "    this.message.textContent = tooltip;\n",
       "};\n",
       "mpl.toolbar_items = [[\"Home\", \"Reset original view\", \"fa fa-home icon-home\", \"home\"], [\"Back\", \"Back to  previous view\", \"fa fa-arrow-left icon-arrow-left\", \"back\"], [\"Forward\", \"Forward to next view\", \"fa fa-arrow-right icon-arrow-right\", \"forward\"], [\"\", \"\", \"\", \"\"], [\"Pan\", \"Pan axes with left mouse, zoom with right\", \"fa fa-arrows icon-move\", \"pan\"], [\"Zoom\", \"Zoom to rectangle\", \"fa fa-square-o icon-check-empty\", \"zoom\"], [\"\", \"\", \"\", \"\"], [\"Download\", \"Download plot\", \"fa fa-floppy-o icon-save\", \"download\"]];\n",
       "\n",
       "mpl.extensions = [\"eps\", \"jpeg\", \"pdf\", \"png\", \"ps\", \"raw\", \"svg\", \"tif\"];\n",
       "\n",
       "mpl.default_extension = \"png\";var comm_websocket_adapter = function(comm) {\n",
       "    // Create a \"websocket\"-like object which calls the given IPython comm\n",
       "    // object with the appropriate methods. Currently this is a non binary\n",
       "    // socket, so there is still some room for performance tuning.\n",
       "    var ws = {};\n",
       "\n",
       "    ws.close = function() {\n",
       "        comm.close()\n",
       "    };\n",
       "    ws.send = function(m) {\n",
       "        //console.log('sending', m);\n",
       "        comm.send(m);\n",
       "    };\n",
       "    // Register the callback with on_msg.\n",
       "    comm.on_msg(function(msg) {\n",
       "        //console.log('receiving', msg['content']['data'], msg);\n",
       "        // Pass the mpl event to the overriden (by mpl) onmessage function.\n",
       "        ws.onmessage(msg['content']['data'])\n",
       "    });\n",
       "    return ws;\n",
       "}\n",
       "\n",
       "mpl.mpl_figure_comm = function(comm, msg) {\n",
       "    // This is the function which gets called when the mpl process\n",
       "    // starts-up an IPython Comm through the \"matplotlib\" channel.\n",
       "\n",
       "    var id = msg.content.data.id;\n",
       "    // Get hold of the div created by the display call when the Comm\n",
       "    // socket was opened in Python.\n",
       "    var element = $(\"#\" + id);\n",
       "    var ws_proxy = comm_websocket_adapter(comm)\n",
       "\n",
       "    function ondownload(figure, format) {\n",
       "        window.open(figure.imageObj.src);\n",
       "    }\n",
       "\n",
       "    var fig = new mpl.figure(id, ws_proxy,\n",
       "                           ondownload,\n",
       "                           element.get(0));\n",
       "\n",
       "    // Call onopen now - mpl needs it, as it is assuming we've passed it a real\n",
       "    // web socket which is closed, not our websocket->open comm proxy.\n",
       "    ws_proxy.onopen();\n",
       "\n",
       "    fig.parent_element = element.get(0);\n",
       "    fig.cell_info = mpl.find_output_cell(\"<div id='\" + id + \"'></div>\");\n",
       "    if (!fig.cell_info) {\n",
       "        console.error(\"Failed to find cell for figure\", id, fig);\n",
       "        return;\n",
       "    }\n",
       "\n",
       "    var output_index = fig.cell_info[2]\n",
       "    var cell = fig.cell_info[0];\n",
       "\n",
       "};\n",
       "\n",
       "mpl.figure.prototype.handle_close = function(fig, msg) {\n",
       "    var width = fig.canvas.width/mpl.ratio\n",
       "    fig.root.unbind('remove')\n",
       "\n",
       "    // Update the output cell to use the data from the current canvas.\n",
       "    fig.push_to_output();\n",
       "    var dataURL = fig.canvas.toDataURL();\n",
       "    // Re-enable the keyboard manager in IPython - without this line, in FF,\n",
       "    // the notebook keyboard shortcuts fail.\n",
       "    IPython.keyboard_manager.enable()\n",
       "    $(fig.parent_element).html('<img src=\"' + dataURL + '\" width=\"' + width + '\">');\n",
       "    fig.close_ws(fig, msg);\n",
       "}\n",
       "\n",
       "mpl.figure.prototype.close_ws = function(fig, msg){\n",
       "    fig.send_message('closing', msg);\n",
       "    // fig.ws.close()\n",
       "}\n",
       "\n",
       "mpl.figure.prototype.push_to_output = function(remove_interactive) {\n",
       "    // Turn the data on the canvas into data in the output cell.\n",
       "    var width = this.canvas.width/mpl.ratio\n",
       "    var dataURL = this.canvas.toDataURL();\n",
       "    this.cell_info[1]['text/html'] = '<img src=\"' + dataURL + '\" width=\"' + width + '\">';\n",
       "}\n",
       "\n",
       "mpl.figure.prototype.updated_canvas_event = function() {\n",
       "    // Tell IPython that the notebook contents must change.\n",
       "    IPython.notebook.set_dirty(true);\n",
       "    this.send_message(\"ack\", {});\n",
       "    var fig = this;\n",
       "    // Wait a second, then push the new image to the DOM so\n",
       "    // that it is saved nicely (might be nice to debounce this).\n",
       "    setTimeout(function () { fig.push_to_output() }, 1000);\n",
       "}\n",
       "\n",
       "mpl.figure.prototype._init_toolbar = function() {\n",
       "    var fig = this;\n",
       "\n",
       "    var nav_element = $('<div/>')\n",
       "    nav_element.attr('style', 'width: 100%');\n",
       "    this.root.append(nav_element);\n",
       "\n",
       "    // Define a callback function for later on.\n",
       "    function toolbar_event(event) {\n",
       "        return fig.toolbar_button_onclick(event['data']);\n",
       "    }\n",
       "    function toolbar_mouse_event(event) {\n",
       "        return fig.toolbar_button_onmouseover(event['data']);\n",
       "    }\n",
       "\n",
       "    for(var toolbar_ind in mpl.toolbar_items){\n",
       "        var name = mpl.toolbar_items[toolbar_ind][0];\n",
       "        var tooltip = mpl.toolbar_items[toolbar_ind][1];\n",
       "        var image = mpl.toolbar_items[toolbar_ind][2];\n",
       "        var method_name = mpl.toolbar_items[toolbar_ind][3];\n",
       "\n",
       "        if (!name) { continue; };\n",
       "\n",
       "        var button = $('<button class=\"btn btn-default\" href=\"#\" title=\"' + name + '\"><i class=\"fa ' + image + ' fa-lg\"></i></button>');\n",
       "        button.click(method_name, toolbar_event);\n",
       "        button.mouseover(tooltip, toolbar_mouse_event);\n",
       "        nav_element.append(button);\n",
       "    }\n",
       "\n",
       "    // Add the status bar.\n",
       "    var status_bar = $('<span class=\"mpl-message\" style=\"text-align:right; float: right;\"/>');\n",
       "    nav_element.append(status_bar);\n",
       "    this.message = status_bar[0];\n",
       "\n",
       "    // Add the close button to the window.\n",
       "    var buttongrp = $('<div class=\"btn-group inline pull-right\"></div>');\n",
       "    var button = $('<button class=\"btn btn-mini btn-primary\" href=\"#\" title=\"Stop Interaction\"><i class=\"fa fa-power-off icon-remove icon-large\"></i></button>');\n",
       "    button.click(function (evt) { fig.handle_close(fig, {}); } );\n",
       "    button.mouseover('Stop Interaction', toolbar_mouse_event);\n",
       "    buttongrp.append(button);\n",
       "    var titlebar = this.root.find($('.ui-dialog-titlebar'));\n",
       "    titlebar.prepend(buttongrp);\n",
       "}\n",
       "\n",
       "mpl.figure.prototype._root_extra_style = function(el){\n",
       "    var fig = this\n",
       "    el.on(\"remove\", function(){\n",
       "\tfig.close_ws(fig, {});\n",
       "    });\n",
       "}\n",
       "\n",
       "mpl.figure.prototype._canvas_extra_style = function(el){\n",
       "    // this is important to make the div 'focusable\n",
       "    el.attr('tabindex', 0)\n",
       "    // reach out to IPython and tell the keyboard manager to turn it's self\n",
       "    // off when our div gets focus\n",
       "\n",
       "    // location in version 3\n",
       "    if (IPython.notebook.keyboard_manager) {\n",
       "        IPython.notebook.keyboard_manager.register_events(el);\n",
       "    }\n",
       "    else {\n",
       "        // location in version 2\n",
       "        IPython.keyboard_manager.register_events(el);\n",
       "    }\n",
       "\n",
       "}\n",
       "\n",
       "mpl.figure.prototype._key_event_extra = function(event, name) {\n",
       "    var manager = IPython.notebook.keyboard_manager;\n",
       "    if (!manager)\n",
       "        manager = IPython.keyboard_manager;\n",
       "\n",
       "    // Check for shift+enter\n",
       "    if (event.shiftKey && event.which == 13) {\n",
       "        this.canvas_div.blur();\n",
       "        // select the cell after this one\n",
       "        var index = IPython.notebook.find_cell_index(this.cell_info[0]);\n",
       "        IPython.notebook.select(index + 1);\n",
       "    }\n",
       "}\n",
       "\n",
       "mpl.figure.prototype.handle_save = function(fig, msg) {\n",
       "    fig.ondownload(fig, null);\n",
       "}\n",
       "\n",
       "\n",
       "mpl.find_output_cell = function(html_output) {\n",
       "    // Return the cell and output element which can be found *uniquely* in the notebook.\n",
       "    // Note - this is a bit hacky, but it is done because the \"notebook_saving.Notebook\"\n",
       "    // IPython event is triggered only after the cells have been serialised, which for\n",
       "    // our purposes (turning an active figure into a static one), is too late.\n",
       "    var cells = IPython.notebook.get_cells();\n",
       "    var ncells = cells.length;\n",
       "    for (var i=0; i<ncells; i++) {\n",
       "        var cell = cells[i];\n",
       "        if (cell.cell_type === 'code'){\n",
       "            for (var j=0; j<cell.output_area.outputs.length; j++) {\n",
       "                var data = cell.output_area.outputs[j];\n",
       "                if (data.data) {\n",
       "                    // IPython >= 3 moved mimebundle to data attribute of output\n",
       "                    data = data.data;\n",
       "                }\n",
       "                if (data['text/html'] == html_output) {\n",
       "                    return [cell, data, j];\n",
       "                }\n",
       "            }\n",
       "        }\n",
       "    }\n",
       "}\n",
       "\n",
       "// Register the function which deals with the matplotlib target/channel.\n",
       "// The kernel may be null if the page has been refreshed.\n",
       "if (IPython.notebook.kernel != null) {\n",
       "    IPython.notebook.kernel.comm_manager.register_target('matplotlib', mpl.mpl_figure_comm);\n",
       "}\n"
      ],
      "text/plain": [
       "<IPython.core.display.Javascript object>"
      ]
     },
     "metadata": {},
     "output_type": "display_data"
    },
    {
     "data": {
      "text/html": [
       "<img src=\"data:image/png;base64,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\" width=\"640\">"
      ],
      "text/plain": [
       "<IPython.core.display.HTML object>"
      ]
     },
     "metadata": {},
     "output_type": "display_data"
    },
    {
     "name": "stdout",
     "output_type": "stream",
     "text": [
      "plot Z1\n",
      "plot Z6\n",
      "plot Z59\n"
     ]
    },
    {
     "data": {
      "text/plain": [
       "<matplotlib.legend.Legend at 0x2d00ab9cf28>"
      ]
     },
     "execution_count": 11,
     "metadata": {},
     "output_type": "execute_result"
    }
   ],
   "source": [
    "pyplot.figure()\n",
    "plot_zs = [1, 6,59]\n",
    "for i, z in enumerate(plot_zs):\n",
    "    print(\"plot Z{}\".format(z))\n",
    "    zn_coeffs = z_coeffs_fft.mean(0)[:, z]\n",
    "    z_ps = abs(numpy.fft.fft(zn_coeffs))**2\n",
    "    x_vals = numpy.fft.fftfreq(len(z_ps), d=time_step)\n",
    "    pyplot.loglog(x_vals[:n_scrns//2], z_ps[:n_scrns//2], label=\"Z_{}\".format(z))\n",
    "    pyplot.xlabel(\"Frequency (Hz)\")\n",
    "    pyplot.ylabel(\"Power ($\\mathrm{Rad RMS}^2$)\")\n",
    "    pyplot.grid()\n",
    "pyplot.legend()"
   ]
  },
  {
   "cell_type": "code",
   "execution_count": 12,
   "metadata": {
    "scrolled": false
   },
   "outputs": [
    {
     "data": {
      "application/javascript": [
       "/* Put everything inside the global mpl namespace */\n",
       "window.mpl = {};\n",
       "\n",
       "\n",
       "mpl.get_websocket_type = function() {\n",
       "    if (typeof(WebSocket) !== 'undefined') {\n",
       "        return WebSocket;\n",
       "    } else if (typeof(MozWebSocket) !== 'undefined') {\n",
       "        return MozWebSocket;\n",
       "    } else {\n",
       "        alert('Your browser does not have WebSocket support.' +\n",
       "              'Please try Chrome, Safari or Firefox ≥ 6. ' +\n",
       "              'Firefox 4 and 5 are also supported but you ' +\n",
       "              'have to enable WebSockets in about:config.');\n",
       "    };\n",
       "}\n",
       "\n",
       "mpl.figure = function(figure_id, websocket, ondownload, parent_element) {\n",
       "    this.id = figure_id;\n",
       "\n",
       "    this.ws = websocket;\n",
       "\n",
       "    this.supports_binary = (this.ws.binaryType != undefined);\n",
       "\n",
       "    if (!this.supports_binary) {\n",
       "        var warnings = document.getElementById(\"mpl-warnings\");\n",
       "        if (warnings) {\n",
       "            warnings.style.display = 'block';\n",
       "            warnings.textContent = (\n",
       "                \"This browser does not support binary websocket messages. \" +\n",
       "                    \"Performance may be slow.\");\n",
       "        }\n",
       "    }\n",
       "\n",
       "    this.imageObj = new Image();\n",
       "\n",
       "    this.context = undefined;\n",
       "    this.message = undefined;\n",
       "    this.canvas = undefined;\n",
       "    this.rubberband_canvas = undefined;\n",
       "    this.rubberband_context = undefined;\n",
       "    this.format_dropdown = undefined;\n",
       "\n",
       "    this.image_mode = 'full';\n",
       "\n",
       "    this.root = $('<div/>');\n",
       "    this._root_extra_style(this.root)\n",
       "    this.root.attr('style', 'display: inline-block');\n",
       "\n",
       "    $(parent_element).append(this.root);\n",
       "\n",
       "    this._init_header(this);\n",
       "    this._init_canvas(this);\n",
       "    this._init_toolbar(this);\n",
       "\n",
       "    var fig = this;\n",
       "\n",
       "    this.waiting = false;\n",
       "\n",
       "    this.ws.onopen =  function () {\n",
       "            fig.send_message(\"supports_binary\", {value: fig.supports_binary});\n",
       "            fig.send_message(\"send_image_mode\", {});\n",
       "            if (mpl.ratio != 1) {\n",
       "                fig.send_message(\"set_dpi_ratio\", {'dpi_ratio': mpl.ratio});\n",
       "            }\n",
       "            fig.send_message(\"refresh\", {});\n",
       "        }\n",
       "\n",
       "    this.imageObj.onload = function() {\n",
       "            if (fig.image_mode == 'full') {\n",
       "                // Full images could contain transparency (where diff images\n",
       "                // almost always do), so we need to clear the canvas so that\n",
       "                // there is no ghosting.\n",
       "                fig.context.clearRect(0, 0, fig.canvas.width, fig.canvas.height);\n",
       "            }\n",
       "            fig.context.drawImage(fig.imageObj, 0, 0);\n",
       "        };\n",
       "\n",
       "    this.imageObj.onunload = function() {\n",
       "        this.ws.close();\n",
       "    }\n",
       "\n",
       "    this.ws.onmessage = this._make_on_message_function(this);\n",
       "\n",
       "    this.ondownload = ondownload;\n",
       "}\n",
       "\n",
       "mpl.figure.prototype._init_header = function() {\n",
       "    var titlebar = $(\n",
       "        '<div class=\"ui-dialog-titlebar ui-widget-header ui-corner-all ' +\n",
       "        'ui-helper-clearfix\"/>');\n",
       "    var titletext = $(\n",
       "        '<div class=\"ui-dialog-title\" style=\"width: 100%; ' +\n",
       "        'text-align: center; padding: 3px;\"/>');\n",
       "    titlebar.append(titletext)\n",
       "    this.root.append(titlebar);\n",
       "    this.header = titletext[0];\n",
       "}\n",
       "\n",
       "\n",
       "\n",
       "mpl.figure.prototype._canvas_extra_style = function(canvas_div) {\n",
       "\n",
       "}\n",
       "\n",
       "\n",
       "mpl.figure.prototype._root_extra_style = function(canvas_div) {\n",
       "\n",
       "}\n",
       "\n",
       "mpl.figure.prototype._init_canvas = function() {\n",
       "    var fig = this;\n",
       "\n",
       "    var canvas_div = $('<div/>');\n",
       "\n",
       "    canvas_div.attr('style', 'position: relative; clear: both; outline: 0');\n",
       "\n",
       "    function canvas_keyboard_event(event) {\n",
       "        return fig.key_event(event, event['data']);\n",
       "    }\n",
       "\n",
       "    canvas_div.keydown('key_press', canvas_keyboard_event);\n",
       "    canvas_div.keyup('key_release', canvas_keyboard_event);\n",
       "    this.canvas_div = canvas_div\n",
       "    this._canvas_extra_style(canvas_div)\n",
       "    this.root.append(canvas_div);\n",
       "\n",
       "    var canvas = $('<canvas/>');\n",
       "    canvas.addClass('mpl-canvas');\n",
       "    canvas.attr('style', \"left: 0; top: 0; z-index: 0; outline: 0\")\n",
       "\n",
       "    this.canvas = canvas[0];\n",
       "    this.context = canvas[0].getContext(\"2d\");\n",
       "\n",
       "    var backingStore = this.context.backingStorePixelRatio ||\n",
       "\tthis.context.webkitBackingStorePixelRatio ||\n",
       "\tthis.context.mozBackingStorePixelRatio ||\n",
       "\tthis.context.msBackingStorePixelRatio ||\n",
       "\tthis.context.oBackingStorePixelRatio ||\n",
       "\tthis.context.backingStorePixelRatio || 1;\n",
       "\n",
       "    mpl.ratio = (window.devicePixelRatio || 1) / backingStore;\n",
       "\n",
       "    var rubberband = $('<canvas/>');\n",
       "    rubberband.attr('style', \"position: absolute; left: 0; top: 0; z-index: 1;\")\n",
       "\n",
       "    var pass_mouse_events = true;\n",
       "\n",
       "    canvas_div.resizable({\n",
       "        start: function(event, ui) {\n",
       "            pass_mouse_events = false;\n",
       "        },\n",
       "        resize: function(event, ui) {\n",
       "            fig.request_resize(ui.size.width, ui.size.height);\n",
       "        },\n",
       "        stop: function(event, ui) {\n",
       "            pass_mouse_events = true;\n",
       "            fig.request_resize(ui.size.width, ui.size.height);\n",
       "        },\n",
       "    });\n",
       "\n",
       "    function mouse_event_fn(event) {\n",
       "        if (pass_mouse_events)\n",
       "            return fig.mouse_event(event, event['data']);\n",
       "    }\n",
       "\n",
       "    rubberband.mousedown('button_press', mouse_event_fn);\n",
       "    rubberband.mouseup('button_release', mouse_event_fn);\n",
       "    // Throttle sequential mouse events to 1 every 20ms.\n",
       "    rubberband.mousemove('motion_notify', mouse_event_fn);\n",
       "\n",
       "    rubberband.mouseenter('figure_enter', mouse_event_fn);\n",
       "    rubberband.mouseleave('figure_leave', mouse_event_fn);\n",
       "\n",
       "    canvas_div.on(\"wheel\", function (event) {\n",
       "        event = event.originalEvent;\n",
       "        event['data'] = 'scroll'\n",
       "        if (event.deltaY < 0) {\n",
       "            event.step = 1;\n",
       "        } else {\n",
       "            event.step = -1;\n",
       "        }\n",
       "        mouse_event_fn(event);\n",
       "    });\n",
       "\n",
       "    canvas_div.append(canvas);\n",
       "    canvas_div.append(rubberband);\n",
       "\n",
       "    this.rubberband = rubberband;\n",
       "    this.rubberband_canvas = rubberband[0];\n",
       "    this.rubberband_context = rubberband[0].getContext(\"2d\");\n",
       "    this.rubberband_context.strokeStyle = \"#000000\";\n",
       "\n",
       "    this._resize_canvas = function(width, height) {\n",
       "        // Keep the size of the canvas, canvas container, and rubber band\n",
       "        // canvas in synch.\n",
       "        canvas_div.css('width', width)\n",
       "        canvas_div.css('height', height)\n",
       "\n",
       "        canvas.attr('width', width * mpl.ratio);\n",
       "        canvas.attr('height', height * mpl.ratio);\n",
       "        canvas.attr('style', 'width: ' + width + 'px; height: ' + height + 'px;');\n",
       "\n",
       "        rubberband.attr('width', width);\n",
       "        rubberband.attr('height', height);\n",
       "    }\n",
       "\n",
       "    // Set the figure to an initial 600x600px, this will subsequently be updated\n",
       "    // upon first draw.\n",
       "    this._resize_canvas(600, 600);\n",
       "\n",
       "    // Disable right mouse context menu.\n",
       "    $(this.rubberband_canvas).bind(\"contextmenu\",function(e){\n",
       "        return false;\n",
       "    });\n",
       "\n",
       "    function set_focus () {\n",
       "        canvas.focus();\n",
       "        canvas_div.focus();\n",
       "    }\n",
       "\n",
       "    window.setTimeout(set_focus, 100);\n",
       "}\n",
       "\n",
       "mpl.figure.prototype._init_toolbar = function() {\n",
       "    var fig = this;\n",
       "\n",
       "    var nav_element = $('<div/>')\n",
       "    nav_element.attr('style', 'width: 100%');\n",
       "    this.root.append(nav_element);\n",
       "\n",
       "    // Define a callback function for later on.\n",
       "    function toolbar_event(event) {\n",
       "        return fig.toolbar_button_onclick(event['data']);\n",
       "    }\n",
       "    function toolbar_mouse_event(event) {\n",
       "        return fig.toolbar_button_onmouseover(event['data']);\n",
       "    }\n",
       "\n",
       "    for(var toolbar_ind in mpl.toolbar_items) {\n",
       "        var name = mpl.toolbar_items[toolbar_ind][0];\n",
       "        var tooltip = mpl.toolbar_items[toolbar_ind][1];\n",
       "        var image = mpl.toolbar_items[toolbar_ind][2];\n",
       "        var method_name = mpl.toolbar_items[toolbar_ind][3];\n",
       "\n",
       "        if (!name) {\n",
       "            // put a spacer in here.\n",
       "            continue;\n",
       "        }\n",
       "        var button = $('<button/>');\n",
       "        button.addClass('ui-button ui-widget ui-state-default ui-corner-all ' +\n",
       "                        'ui-button-icon-only');\n",
       "        button.attr('role', 'button');\n",
       "        button.attr('aria-disabled', 'false');\n",
       "        button.click(method_name, toolbar_event);\n",
       "        button.mouseover(tooltip, toolbar_mouse_event);\n",
       "\n",
       "        var icon_img = $('<span/>');\n",
       "        icon_img.addClass('ui-button-icon-primary ui-icon');\n",
       "        icon_img.addClass(image);\n",
       "        icon_img.addClass('ui-corner-all');\n",
       "\n",
       "        var tooltip_span = $('<span/>');\n",
       "        tooltip_span.addClass('ui-button-text');\n",
       "        tooltip_span.html(tooltip);\n",
       "\n",
       "        button.append(icon_img);\n",
       "        button.append(tooltip_span);\n",
       "\n",
       "        nav_element.append(button);\n",
       "    }\n",
       "\n",
       "    var fmt_picker_span = $('<span/>');\n",
       "\n",
       "    var fmt_picker = $('<select/>');\n",
       "    fmt_picker.addClass('mpl-toolbar-option ui-widget ui-widget-content');\n",
       "    fmt_picker_span.append(fmt_picker);\n",
       "    nav_element.append(fmt_picker_span);\n",
       "    this.format_dropdown = fmt_picker[0];\n",
       "\n",
       "    for (var ind in mpl.extensions) {\n",
       "        var fmt = mpl.extensions[ind];\n",
       "        var option = $(\n",
       "            '<option/>', {selected: fmt === mpl.default_extension}).html(fmt);\n",
       "        fmt_picker.append(option)\n",
       "    }\n",
       "\n",
       "    // Add hover states to the ui-buttons\n",
       "    $( \".ui-button\" ).hover(\n",
       "        function() { $(this).addClass(\"ui-state-hover\");},\n",
       "        function() { $(this).removeClass(\"ui-state-hover\");}\n",
       "    );\n",
       "\n",
       "    var status_bar = $('<span class=\"mpl-message\"/>');\n",
       "    nav_element.append(status_bar);\n",
       "    this.message = status_bar[0];\n",
       "}\n",
       "\n",
       "mpl.figure.prototype.request_resize = function(x_pixels, y_pixels) {\n",
       "    // Request matplotlib to resize the figure. Matplotlib will then trigger a resize in the client,\n",
       "    // which will in turn request a refresh of the image.\n",
       "    this.send_message('resize', {'width': x_pixels, 'height': y_pixels});\n",
       "}\n",
       "\n",
       "mpl.figure.prototype.send_message = function(type, properties) {\n",
       "    properties['type'] = type;\n",
       "    properties['figure_id'] = this.id;\n",
       "    this.ws.send(JSON.stringify(properties));\n",
       "}\n",
       "\n",
       "mpl.figure.prototype.send_draw_message = function() {\n",
       "    if (!this.waiting) {\n",
       "        this.waiting = true;\n",
       "        this.ws.send(JSON.stringify({type: \"draw\", figure_id: this.id}));\n",
       "    }\n",
       "}\n",
       "\n",
       "\n",
       "mpl.figure.prototype.handle_save = function(fig, msg) {\n",
       "    var format_dropdown = fig.format_dropdown;\n",
       "    var format = format_dropdown.options[format_dropdown.selectedIndex].value;\n",
       "    fig.ondownload(fig, format);\n",
       "}\n",
       "\n",
       "\n",
       "mpl.figure.prototype.handle_resize = function(fig, msg) {\n",
       "    var size = msg['size'];\n",
       "    if (size[0] != fig.canvas.width || size[1] != fig.canvas.height) {\n",
       "        fig._resize_canvas(size[0], size[1]);\n",
       "        fig.send_message(\"refresh\", {});\n",
       "    };\n",
       "}\n",
       "\n",
       "mpl.figure.prototype.handle_rubberband = function(fig, msg) {\n",
       "    var x0 = msg['x0'] / mpl.ratio;\n",
       "    var y0 = (fig.canvas.height - msg['y0']) / mpl.ratio;\n",
       "    var x1 = msg['x1'] / mpl.ratio;\n",
       "    var y1 = (fig.canvas.height - msg['y1']) / mpl.ratio;\n",
       "    x0 = Math.floor(x0) + 0.5;\n",
       "    y0 = Math.floor(y0) + 0.5;\n",
       "    x1 = Math.floor(x1) + 0.5;\n",
       "    y1 = Math.floor(y1) + 0.5;\n",
       "    var min_x = Math.min(x0, x1);\n",
       "    var min_y = Math.min(y0, y1);\n",
       "    var width = Math.abs(x1 - x0);\n",
       "    var height = Math.abs(y1 - y0);\n",
       "\n",
       "    fig.rubberband_context.clearRect(\n",
       "        0, 0, fig.canvas.width, fig.canvas.height);\n",
       "\n",
       "    fig.rubberband_context.strokeRect(min_x, min_y, width, height);\n",
       "}\n",
       "\n",
       "mpl.figure.prototype.handle_figure_label = function(fig, msg) {\n",
       "    // Updates the figure title.\n",
       "    fig.header.textContent = msg['label'];\n",
       "}\n",
       "\n",
       "mpl.figure.prototype.handle_cursor = function(fig, msg) {\n",
       "    var cursor = msg['cursor'];\n",
       "    switch(cursor)\n",
       "    {\n",
       "    case 0:\n",
       "        cursor = 'pointer';\n",
       "        break;\n",
       "    case 1:\n",
       "        cursor = 'default';\n",
       "        break;\n",
       "    case 2:\n",
       "        cursor = 'crosshair';\n",
       "        break;\n",
       "    case 3:\n",
       "        cursor = 'move';\n",
       "        break;\n",
       "    }\n",
       "    fig.rubberband_canvas.style.cursor = cursor;\n",
       "}\n",
       "\n",
       "mpl.figure.prototype.handle_message = function(fig, msg) {\n",
       "    fig.message.textContent = msg['message'];\n",
       "}\n",
       "\n",
       "mpl.figure.prototype.handle_draw = function(fig, msg) {\n",
       "    // Request the server to send over a new figure.\n",
       "    fig.send_draw_message();\n",
       "}\n",
       "\n",
       "mpl.figure.prototype.handle_image_mode = function(fig, msg) {\n",
       "    fig.image_mode = msg['mode'];\n",
       "}\n",
       "\n",
       "mpl.figure.prototype.updated_canvas_event = function() {\n",
       "    // Called whenever the canvas gets updated.\n",
       "    this.send_message(\"ack\", {});\n",
       "}\n",
       "\n",
       "// A function to construct a web socket function for onmessage handling.\n",
       "// Called in the figure constructor.\n",
       "mpl.figure.prototype._make_on_message_function = function(fig) {\n",
       "    return function socket_on_message(evt) {\n",
       "        if (evt.data instanceof Blob) {\n",
       "            /* FIXME: We get \"Resource interpreted as Image but\n",
       "             * transferred with MIME type text/plain:\" errors on\n",
       "             * Chrome.  But how to set the MIME type?  It doesn't seem\n",
       "             * to be part of the websocket stream */\n",
       "            evt.data.type = \"image/png\";\n",
       "\n",
       "            /* Free the memory for the previous frames */\n",
       "            if (fig.imageObj.src) {\n",
       "                (window.URL || window.webkitURL).revokeObjectURL(\n",
       "                    fig.imageObj.src);\n",
       "            }\n",
       "\n",
       "            fig.imageObj.src = (window.URL || window.webkitURL).createObjectURL(\n",
       "                evt.data);\n",
       "            fig.updated_canvas_event();\n",
       "            fig.waiting = false;\n",
       "            return;\n",
       "        }\n",
       "        else if (typeof evt.data === 'string' && evt.data.slice(0, 21) == \"data:image/png;base64\") {\n",
       "            fig.imageObj.src = evt.data;\n",
       "            fig.updated_canvas_event();\n",
       "            fig.waiting = false;\n",
       "            return;\n",
       "        }\n",
       "\n",
       "        var msg = JSON.parse(evt.data);\n",
       "        var msg_type = msg['type'];\n",
       "\n",
       "        // Call the  \"handle_{type}\" callback, which takes\n",
       "        // the figure and JSON message as its only arguments.\n",
       "        try {\n",
       "            var callback = fig[\"handle_\" + msg_type];\n",
       "        } catch (e) {\n",
       "            console.log(\"No handler for the '\" + msg_type + \"' message type: \", msg);\n",
       "            return;\n",
       "        }\n",
       "\n",
       "        if (callback) {\n",
       "            try {\n",
       "                // console.log(\"Handling '\" + msg_type + \"' message: \", msg);\n",
       "                callback(fig, msg);\n",
       "            } catch (e) {\n",
       "                console.log(\"Exception inside the 'handler_\" + msg_type + \"' callback:\", e, e.stack, msg);\n",
       "            }\n",
       "        }\n",
       "    };\n",
       "}\n",
       "\n",
       "// from http://stackoverflow.com/questions/1114465/getting-mouse-location-in-canvas\n",
       "mpl.findpos = function(e) {\n",
       "    //this section is from http://www.quirksmode.org/js/events_properties.html\n",
       "    var targ;\n",
       "    if (!e)\n",
       "        e = window.event;\n",
       "    if (e.target)\n",
       "        targ = e.target;\n",
       "    else if (e.srcElement)\n",
       "        targ = e.srcElement;\n",
       "    if (targ.nodeType == 3) // defeat Safari bug\n",
       "        targ = targ.parentNode;\n",
       "\n",
       "    // jQuery normalizes the pageX and pageY\n",
       "    // pageX,Y are the mouse positions relative to the document\n",
       "    // offset() returns the position of the element relative to the document\n",
       "    var x = e.pageX - $(targ).offset().left;\n",
       "    var y = e.pageY - $(targ).offset().top;\n",
       "\n",
       "    return {\"x\": x, \"y\": y};\n",
       "};\n",
       "\n",
       "/*\n",
       " * return a copy of an object with only non-object keys\n",
       " * we need this to avoid circular references\n",
       " * http://stackoverflow.com/a/24161582/3208463\n",
       " */\n",
       "function simpleKeys (original) {\n",
       "  return Object.keys(original).reduce(function (obj, key) {\n",
       "    if (typeof original[key] !== 'object')\n",
       "        obj[key] = original[key]\n",
       "    return obj;\n",
       "  }, {});\n",
       "}\n",
       "\n",
       "mpl.figure.prototype.mouse_event = function(event, name) {\n",
       "    var canvas_pos = mpl.findpos(event)\n",
       "\n",
       "    if (name === 'button_press')\n",
       "    {\n",
       "        this.canvas.focus();\n",
       "        this.canvas_div.focus();\n",
       "    }\n",
       "\n",
       "    var x = canvas_pos.x * mpl.ratio;\n",
       "    var y = canvas_pos.y * mpl.ratio;\n",
       "\n",
       "    this.send_message(name, {x: x, y: y, button: event.button,\n",
       "                             step: event.step,\n",
       "                             guiEvent: simpleKeys(event)});\n",
       "\n",
       "    /* This prevents the web browser from automatically changing to\n",
       "     * the text insertion cursor when the button is pressed.  We want\n",
       "     * to control all of the cursor setting manually through the\n",
       "     * 'cursor' event from matplotlib */\n",
       "    event.preventDefault();\n",
       "    return false;\n",
       "}\n",
       "\n",
       "mpl.figure.prototype._key_event_extra = function(event, name) {\n",
       "    // Handle any extra behaviour associated with a key event\n",
       "}\n",
       "\n",
       "mpl.figure.prototype.key_event = function(event, name) {\n",
       "\n",
       "    // Prevent repeat events\n",
       "    if (name == 'key_press')\n",
       "    {\n",
       "        if (event.which === this._key)\n",
       "            return;\n",
       "        else\n",
       "            this._key = event.which;\n",
       "    }\n",
       "    if (name == 'key_release')\n",
       "        this._key = null;\n",
       "\n",
       "    var value = '';\n",
       "    if (event.ctrlKey && event.which != 17)\n",
       "        value += \"ctrl+\";\n",
       "    if (event.altKey && event.which != 18)\n",
       "        value += \"alt+\";\n",
       "    if (event.shiftKey && event.which != 16)\n",
       "        value += \"shift+\";\n",
       "\n",
       "    value += 'k';\n",
       "    value += event.which.toString();\n",
       "\n",
       "    this._key_event_extra(event, name);\n",
       "\n",
       "    this.send_message(name, {key: value,\n",
       "                             guiEvent: simpleKeys(event)});\n",
       "    return false;\n",
       "}\n",
       "\n",
       "mpl.figure.prototype.toolbar_button_onclick = function(name) {\n",
       "    if (name == 'download') {\n",
       "        this.handle_save(this, null);\n",
       "    } else {\n",
       "        this.send_message(\"toolbar_button\", {name: name});\n",
       "    }\n",
       "};\n",
       "\n",
       "mpl.figure.prototype.toolbar_button_onmouseover = function(tooltip) {\n",
       "    this.message.textContent = tooltip;\n",
       "};\n",
       "mpl.toolbar_items = [[\"Home\", \"Reset original view\", \"fa fa-home icon-home\", \"home\"], [\"Back\", \"Back to  previous view\", \"fa fa-arrow-left icon-arrow-left\", \"back\"], [\"Forward\", \"Forward to next view\", \"fa fa-arrow-right icon-arrow-right\", \"forward\"], [\"\", \"\", \"\", \"\"], [\"Pan\", \"Pan axes with left mouse, zoom with right\", \"fa fa-arrows icon-move\", \"pan\"], [\"Zoom\", \"Zoom to rectangle\", \"fa fa-square-o icon-check-empty\", \"zoom\"], [\"\", \"\", \"\", \"\"], [\"Download\", \"Download plot\", \"fa fa-floppy-o icon-save\", \"download\"]];\n",
       "\n",
       "mpl.extensions = [\"eps\", \"jpeg\", \"pdf\", \"png\", \"ps\", \"raw\", \"svg\", \"tif\"];\n",
       "\n",
       "mpl.default_extension = \"png\";var comm_websocket_adapter = function(comm) {\n",
       "    // Create a \"websocket\"-like object which calls the given IPython comm\n",
       "    // object with the appropriate methods. Currently this is a non binary\n",
       "    // socket, so there is still some room for performance tuning.\n",
       "    var ws = {};\n",
       "\n",
       "    ws.close = function() {\n",
       "        comm.close()\n",
       "    };\n",
       "    ws.send = function(m) {\n",
       "        //console.log('sending', m);\n",
       "        comm.send(m);\n",
       "    };\n",
       "    // Register the callback with on_msg.\n",
       "    comm.on_msg(function(msg) {\n",
       "        //console.log('receiving', msg['content']['data'], msg);\n",
       "        // Pass the mpl event to the overriden (by mpl) onmessage function.\n",
       "        ws.onmessage(msg['content']['data'])\n",
       "    });\n",
       "    return ws;\n",
       "}\n",
       "\n",
       "mpl.mpl_figure_comm = function(comm, msg) {\n",
       "    // This is the function which gets called when the mpl process\n",
       "    // starts-up an IPython Comm through the \"matplotlib\" channel.\n",
       "\n",
       "    var id = msg.content.data.id;\n",
       "    // Get hold of the div created by the display call when the Comm\n",
       "    // socket was opened in Python.\n",
       "    var element = $(\"#\" + id);\n",
       "    var ws_proxy = comm_websocket_adapter(comm)\n",
       "\n",
       "    function ondownload(figure, format) {\n",
       "        window.open(figure.imageObj.src);\n",
       "    }\n",
       "\n",
       "    var fig = new mpl.figure(id, ws_proxy,\n",
       "                           ondownload,\n",
       "                           element.get(0));\n",
       "\n",
       "    // Call onopen now - mpl needs it, as it is assuming we've passed it a real\n",
       "    // web socket which is closed, not our websocket->open comm proxy.\n",
       "    ws_proxy.onopen();\n",
       "\n",
       "    fig.parent_element = element.get(0);\n",
       "    fig.cell_info = mpl.find_output_cell(\"<div id='\" + id + \"'></div>\");\n",
       "    if (!fig.cell_info) {\n",
       "        console.error(\"Failed to find cell for figure\", id, fig);\n",
       "        return;\n",
       "    }\n",
       "\n",
       "    var output_index = fig.cell_info[2]\n",
       "    var cell = fig.cell_info[0];\n",
       "\n",
       "};\n",
       "\n",
       "mpl.figure.prototype.handle_close = function(fig, msg) {\n",
       "    var width = fig.canvas.width/mpl.ratio\n",
       "    fig.root.unbind('remove')\n",
       "\n",
       "    // Update the output cell to use the data from the current canvas.\n",
       "    fig.push_to_output();\n",
       "    var dataURL = fig.canvas.toDataURL();\n",
       "    // Re-enable the keyboard manager in IPython - without this line, in FF,\n",
       "    // the notebook keyboard shortcuts fail.\n",
       "    IPython.keyboard_manager.enable()\n",
       "    $(fig.parent_element).html('<img src=\"' + dataURL + '\" width=\"' + width + '\">');\n",
       "    fig.close_ws(fig, msg);\n",
       "}\n",
       "\n",
       "mpl.figure.prototype.close_ws = function(fig, msg){\n",
       "    fig.send_message('closing', msg);\n",
       "    // fig.ws.close()\n",
       "}\n",
       "\n",
       "mpl.figure.prototype.push_to_output = function(remove_interactive) {\n",
       "    // Turn the data on the canvas into data in the output cell.\n",
       "    var width = this.canvas.width/mpl.ratio\n",
       "    var dataURL = this.canvas.toDataURL();\n",
       "    this.cell_info[1]['text/html'] = '<img src=\"' + dataURL + '\" width=\"' + width + '\">';\n",
       "}\n",
       "\n",
       "mpl.figure.prototype.updated_canvas_event = function() {\n",
       "    // Tell IPython that the notebook contents must change.\n",
       "    IPython.notebook.set_dirty(true);\n",
       "    this.send_message(\"ack\", {});\n",
       "    var fig = this;\n",
       "    // Wait a second, then push the new image to the DOM so\n",
       "    // that it is saved nicely (might be nice to debounce this).\n",
       "    setTimeout(function () { fig.push_to_output() }, 1000);\n",
       "}\n",
       "\n",
       "mpl.figure.prototype._init_toolbar = function() {\n",
       "    var fig = this;\n",
       "\n",
       "    var nav_element = $('<div/>')\n",
       "    nav_element.attr('style', 'width: 100%');\n",
       "    this.root.append(nav_element);\n",
       "\n",
       "    // Define a callback function for later on.\n",
       "    function toolbar_event(event) {\n",
       "        return fig.toolbar_button_onclick(event['data']);\n",
       "    }\n",
       "    function toolbar_mouse_event(event) {\n",
       "        return fig.toolbar_button_onmouseover(event['data']);\n",
       "    }\n",
       "\n",
       "    for(var toolbar_ind in mpl.toolbar_items){\n",
       "        var name = mpl.toolbar_items[toolbar_ind][0];\n",
       "        var tooltip = mpl.toolbar_items[toolbar_ind][1];\n",
       "        var image = mpl.toolbar_items[toolbar_ind][2];\n",
       "        var method_name = mpl.toolbar_items[toolbar_ind][3];\n",
       "\n",
       "        if (!name) { continue; };\n",
       "\n",
       "        var button = $('<button class=\"btn btn-default\" href=\"#\" title=\"' + name + '\"><i class=\"fa ' + image + ' fa-lg\"></i></button>');\n",
       "        button.click(method_name, toolbar_event);\n",
       "        button.mouseover(tooltip, toolbar_mouse_event);\n",
       "        nav_element.append(button);\n",
       "    }\n",
       "\n",
       "    // Add the status bar.\n",
       "    var status_bar = $('<span class=\"mpl-message\" style=\"text-align:right; float: right;\"/>');\n",
       "    nav_element.append(status_bar);\n",
       "    this.message = status_bar[0];\n",
       "\n",
       "    // Add the close button to the window.\n",
       "    var buttongrp = $('<div class=\"btn-group inline pull-right\"></div>');\n",
       "    var button = $('<button class=\"btn btn-mini btn-primary\" href=\"#\" title=\"Stop Interaction\"><i class=\"fa fa-power-off icon-remove icon-large\"></i></button>');\n",
       "    button.click(function (evt) { fig.handle_close(fig, {}); } );\n",
       "    button.mouseover('Stop Interaction', toolbar_mouse_event);\n",
       "    buttongrp.append(button);\n",
       "    var titlebar = this.root.find($('.ui-dialog-titlebar'));\n",
       "    titlebar.prepend(buttongrp);\n",
       "}\n",
       "\n",
       "mpl.figure.prototype._root_extra_style = function(el){\n",
       "    var fig = this\n",
       "    el.on(\"remove\", function(){\n",
       "\tfig.close_ws(fig, {});\n",
       "    });\n",
       "}\n",
       "\n",
       "mpl.figure.prototype._canvas_extra_style = function(el){\n",
       "    // this is important to make the div 'focusable\n",
       "    el.attr('tabindex', 0)\n",
       "    // reach out to IPython and tell the keyboard manager to turn it's self\n",
       "    // off when our div gets focus\n",
       "\n",
       "    // location in version 3\n",
       "    if (IPython.notebook.keyboard_manager) {\n",
       "        IPython.notebook.keyboard_manager.register_events(el);\n",
       "    }\n",
       "    else {\n",
       "        // location in version 2\n",
       "        IPython.keyboard_manager.register_events(el);\n",
       "    }\n",
       "\n",
       "}\n",
       "\n",
       "mpl.figure.prototype._key_event_extra = function(event, name) {\n",
       "    var manager = IPython.notebook.keyboard_manager;\n",
       "    if (!manager)\n",
       "        manager = IPython.keyboard_manager;\n",
       "\n",
       "    // Check for shift+enter\n",
       "    if (event.shiftKey && event.which == 13) {\n",
       "        this.canvas_div.blur();\n",
       "        // select the cell after this one\n",
       "        var index = IPython.notebook.find_cell_index(this.cell_info[0]);\n",
       "        IPython.notebook.select(index + 1);\n",
       "    }\n",
       "}\n",
       "\n",
       "mpl.figure.prototype.handle_save = function(fig, msg) {\n",
       "    fig.ondownload(fig, null);\n",
       "}\n",
       "\n",
       "\n",
       "mpl.find_output_cell = function(html_output) {\n",
       "    // Return the cell and output element which can be found *uniquely* in the notebook.\n",
       "    // Note - this is a bit hacky, but it is done because the \"notebook_saving.Notebook\"\n",
       "    // IPython event is triggered only after the cells have been serialised, which for\n",
       "    // our purposes (turning an active figure into a static one), is too late.\n",
       "    var cells = IPython.notebook.get_cells();\n",
       "    var ncells = cells.length;\n",
       "    for (var i=0; i<ncells; i++) {\n",
       "        var cell = cells[i];\n",
       "        if (cell.cell_type === 'code'){\n",
       "            for (var j=0; j<cell.output_area.outputs.length; j++) {\n",
       "                var data = cell.output_area.outputs[j];\n",
       "                if (data.data) {\n",
       "                    // IPython >= 3 moved mimebundle to data attribute of output\n",
       "                    data = data.data;\n",
       "                }\n",
       "                if (data['text/html'] == html_output) {\n",
       "                    return [cell, data, j];\n",
       "                }\n",
       "            }\n",
       "        }\n",
       "    }\n",
       "}\n",
       "\n",
       "// Register the function which deals with the matplotlib target/channel.\n",
       "// The kernel may be null if the page has been refreshed.\n",
       "if (IPython.notebook.kernel != null) {\n",
       "    IPython.notebook.kernel.comm_manager.register_target('matplotlib', mpl.mpl_figure_comm);\n",
       "}\n"
      ],
      "text/plain": [
       "<IPython.core.display.Javascript object>"
      ]
     },
     "metadata": {},
     "output_type": "display_data"
    },
    {
     "data": {
      "text/html": [
       "<img src=\"data:image/png;base64,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\" width=\"640\">"
      ],
      "text/plain": [
       "<IPython.core.display.HTML object>"
      ]
     },
     "metadata": {},
     "output_type": "display_data"
    },
    {
     "data": {
      "text/plain": [
       "<matplotlib.legend.Legend at 0x2d00dc21240>"
      ]
     },
     "execution_count": 12,
     "metadata": {},
     "output_type": "execute_result"
    }
   ],
   "source": [
    "pyplot.figure()\n",
    "pyplot.semilogy(z_vars_inf.mean(0), label=\"Infinite\")\n",
    "pyplot.semilogy(z_vars_fft.mean(0), label=\"fft\")\n",
    "pyplot.semilogy(range(1, n_zerns+1), noll[:n_zerns] , label=\"noll\", color=\"k\") \n",
    "pyplot.title(\"Zernike Power Spectrum\")\n",
    "pyplot.xlabel(\"Zernike Index\")\n",
    "pyplot.ylabel(\"Power ($\\mathrm{RMS Rad}^2$)\")\n",
    "pyplot.legend()"
   ]
  },
  {
   "cell_type": "markdown",
   "metadata": {
    "collapsed": true
   },
   "source": [
    "# Run tests with higher sampling"
   ]
  },
  {
   "cell_type": "code",
   "execution_count": null,
   "metadata": {
    "collapsed": true
   },
   "outputs": [],
   "source": [
    "n_zerns = 60\n",
    "nx_size = 128\n",
    "D = 4.2\n",
    "pxl_scale = D/nx_size\n",
    "r0 = 0.164\n",
    "L0 = 100\n",
    "wind_speed = 10 #m/s - just arbitrarily set\n",
    "n_tests = 16\n",
    "n_scrns = 10000\n",
    "noll = fits.getdata(\"resources/noll.fits\").diagonal() * (D/r0)**(5./3)\n",
    "stencil_length_factor = 32"
   ]
  },
  {
   "cell_type": "code",
   "execution_count": null,
   "metadata": {
    "collapsed": true
   },
   "outputs": [],
   "source": []
  },
  {
   "cell_type": "code",
   "execution_count": null,
   "metadata": {
    "collapsed": true
   },
   "outputs": [],
   "source": []
  },
  {
   "cell_type": "code",
   "execution_count": null,
   "metadata": {
    "collapsed": true
   },
   "outputs": [],
   "source": []
  }
 ],
 "metadata": {
  "kernelspec": {
   "display_name": "Python 3",
   "language": "python",
   "name": "python3"
  },
  "language_info": {
   "codemirror_mode": {
    "name": "ipython",
    "version": 3
   },
   "file_extension": ".py",
   "mimetype": "text/x-python",
   "name": "python",
   "nbconvert_exporter": "python",
   "pygments_lexer": "ipython3",
   "version": "3.6.1"
  },
  "widgets": {
   "state": {
    "032a1e0cad22444f9f365cf2c566e2fc": {
     "views": [
      {
       "cell_index": 14
      }
     ]
    },
    "0b902c59a12843619dc5c76154695696": {
     "views": [
      {
       "cell_index": 4
      }
     ]
    },
    "121e3bc829424b8eaa18100ce1b30426": {
     "views": [
      {
       "cell_index": 11
      }
     ]
    },
    "176b6a0d8f5a4b8a9a6fb3970367febc": {
     "views": [
      {
       "cell_index": 14
      }
     ]
    },
    "183a8a61d9ee43eeb39d1fad69d68704": {
     "views": [
      {
       "cell_index": 4
      }
     ]
    },
    "1da4765c06a84f458a5785628e8ab877": {
     "views": [
      {
       "cell_index": 11
      }
     ]
    },
    "1ea1999a067e4e0694f4dd0e25f3d944": {
     "views": [
      {
       "cell_index": 4
      }
     ]
    },
    "214301755a474cae9f9866e9d6443b8a": {
     "views": [
      {
       "cell_index": 11
      }
     ]
    },
    "21e7fdb22ea6420499e36ac64cbe18ef": {
     "views": [
      {
       "cell_index": 11
      }
     ]
    },
    "241aca68555f490c9f408fd52e29138c": {
     "views": [
      {
       "cell_index": 8
      }
     ]
    },
    "2adb6362238c445794064af1d0ff8a3e": {
     "views": [
      {
       "cell_index": 4
      }
     ]
    },
    "30029b7bc6934109be4b88149ddc4aa6": {
     "views": [
      {
       "cell_index": 8
      }
     ]
    },
    "3125fcfe03214f61a3ae8e4cd85f181e": {
     "views": [
      {
       "cell_index": 8
      }
     ]
    },
    "3b0a5e2e080946209fe58ba111f1b4b9": {
     "views": [
      {
       "cell_index": 14
      }
     ]
    },
    "3b7c8be9a914439da83daff37906304a": {
     "views": [
      {
       "cell_index": 14
      }
     ]
    },
    "3d976ce8b9c640fe8d87448e7501b89a": {
     "views": [
      {
       "cell_index": 8
      }
     ]
    },
    "3f166f44fb2247cb9731db23bd79f3db": {
     "views": [
      {
       "cell_index": 8
      }
     ]
    },
    "41e22b3c465a4c77afefe3d5e9bafe1c": {
     "views": [
      {
       "cell_index": 14
      }
     ]
    },
    "4256d9d41b244a22af16cc7aec7628f0": {
     "views": [
      {
       "cell_index": 4
      }
     ]
    },
    "43f055e958544556ba23ff3fc07f664f": {
     "views": [
      {
       "cell_index": 4
      }
     ]
    },
    "4508c0efed60478d8c6cccf7bd40d3bf": {
     "views": [
      {
       "cell_index": 14
      }
     ]
    },
    "48ce20e3b0ce43b3a127b1c39d840c92": {
     "views": [
      {
       "cell_index": 8
      }
     ]
    },
    "604d3e10a2b84936b1d68ad243a50f14": {
     "views": [
      {
       "cell_index": 11
      }
     ]
    },
    "617723e2a01d482d8dad88a5ff8deff7": {
     "views": [
      {
       "cell_index": 8
      }
     ]
    },
    "6425190bb97d43a693227ca2074e57a2": {
     "views": [
      {
       "cell_index": 4
      }
     ]
    },
    "65ed7fcf6b6e4cddbc3cb7ba5c10cce9": {
     "views": [
      {
       "cell_index": 14
      }
     ]
    },
    "662afe4ad1f7453997aa6f85e9ec8e99": {
     "views": [
      {
       "cell_index": 8
      }
     ]
    },
    "6635d76ed1f641c0bbf3866f382c942c": {
     "views": [
      {
       "cell_index": 11
      }
     ]
    },
    "6b6adc4d5cf84ec184bb4951690d48d1": {
     "views": [
      {
       "cell_index": 11
      }
     ]
    },
    "6fe9fc9ec6934656a2fd1a391542d788": {
     "views": [
      {
       "cell_index": 4
      }
     ]
    },
    "77d4cc3e4e2443f185f5ce1e89e256ef": {
     "views": [
      {
       "cell_index": 11
      }
     ]
    },
    "79c59a8637fa429698228c78e0141818": {
     "views": [
      {
       "cell_index": 4
      }
     ]
    },
    "7e1d12fa72da4e5cad13446ec2429223": {
     "views": [
      {
       "cell_index": 11
      }
     ]
    },
    "893b4de7ff2b45868d24008331e27fa7": {
     "views": [
      {
       "cell_index": 4
      }
     ]
    },
    "89bda1eb7ba545e88ed545d18aa1e91e": {
     "views": [
      {
       "cell_index": 11
      }
     ]
    },
    "8acff852a1fe4dbb8dd568b702ff9a15": {
     "views": [
      {
       "cell_index": 14
      }
     ]
    },
    "8b066eea6a9942c4b23f6413da65a9a6": {
     "views": [
      {
       "cell_index": 11
      }
     ]
    },
    "8c0b1e91c5134c9b94af9e1c27c8ae4b": {
     "views": [
      {
       "cell_index": 14
      }
     ]
    },
    "903302b7df944565bbaf30d614cb8919": {
     "views": [
      {
       "cell_index": 4
      }
     ]
    },
    "93117d627e32446ab607605a6bbe6a4d": {
     "views": [
      {
       "cell_index": 14
      }
     ]
    },
    "9660514ac3bf45da9f2609aa3091d80f": {
     "views": [
      {
       "cell_index": 4
      }
     ]
    },
    "9698852c5a51416ba64af8f30b442e37": {
     "views": [
      {
       "cell_index": 11
      }
     ]
    },
    "a07bf51e000a4de6b58f77d44e8503f6": {
     "views": [
      {
       "cell_index": 14
      }
     ]
    },
    "a6cb183feccc45fabca9e76a5af0ecbf": {
     "views": [
      {
       "cell_index": 4
      }
     ]
    },
    "a8170ad3030b45b3b852317498ae0b6e": {
     "views": [
      {
       "cell_index": 11
      }
     ]
    },
    "af883a0525be43b3a8e81734577f2878": {
     "views": [
      {
       "cell_index": 14
      }
     ]
    },
    "b791f693ffd048a4a6bd1b1f56e2c222": {
     "views": [
      {
       "cell_index": 8
      }
     ]
    },
    "b7ebee31ba2147ffa5d43141bd19acf3": {
     "views": [
      {
       "cell_index": 4
      }
     ]
    },
    "bd0e49e3a1344f72aea1e73f4353e76d": {
     "views": [
      {
       "cell_index": 4
      }
     ]
    },
    "c0be3d38636b499096c09cbe01b2949c": {
     "views": [
      {
       "cell_index": 4
      }
     ]
    },
    "c392675d1925401eb74f3f29b9b9884b": {
     "views": [
      {
       "cell_index": 8
      }
     ]
    },
    "c3a0ca0023754a3aa9eba29f5432db74": {
     "views": [
      {
       "cell_index": 11
      }
     ]
    },
    "c7d939eee0094d67abc76f75550e64ec": {
     "views": [
      {
       "cell_index": 8
      }
     ]
    },
    "cb54b941cc3842ec9815e39741cb34a2": {
     "views": [
      {
       "cell_index": 8
      }
     ]
    },
    "db55349b77a54ba49a7b28c8e505aeee": {
     "views": [
      {
       "cell_index": 8
      }
     ]
    },
    "de9ab00322c94cbdb9c71736cf16262d": {
     "views": [
      {
       "cell_index": 8
      }
     ]
    },
    "e4ccd1fa4431475f80e85cc5421d7977": {
     "views": [
      {
       "cell_index": 14
      }
     ]
    },
    "ea3a7a59194340048f64f4a1d108dc34": {
     "views": [
      {
       "cell_index": 14
      }
     ]
    },
    "ebacff1e0f75484489458b0a5563e2b7": {
     "views": [
      {
       "cell_index": 11
      }
     ]
    },
    "ebb2f88fa1454b1c822e4cf07a1bdaef": {
     "views": [
      {
       "cell_index": 4
      }
     ]
    },
    "ec527461aca64b9f89bd6721d81db527": {
     "views": [
      {
       "cell_index": 14
      }
     ]
    },
    "f0e53d233f7b470faa01d62583e04160": {
     "views": [
      {
       "cell_index": 14
      }
     ]
    },
    "f3027031837a4b3caefdda085dd40bf9": {
     "views": [
      {
       "cell_index": 11
      }
     ]
    },
    "f670193002d24aedbf206c7087e9f6e8": {
     "views": [
      {
       "cell_index": 11
      }
     ]
    },
    "f8dbcb0192fb4f32a760292e5bf93649": {
     "views": [
      {
       "cell_index": 8
      }
     ]
    },
    "f8f1b9465838432984dedb7f36dbb75b": {
     "views": [
      {
       "cell_index": 8
      }
     ]
    },
    "faf29f20be5e440abc4496068bb0303a": {
     "views": [
      {
       "cell_index": 8
      }
     ]
    },
    "fc862c2668f4457ca796d4d24a7c9978": {
     "views": [
      {
       "cell_index": 14
      }
     ]
    }
   },
   "version": "1.2.0"
  }
 },
 "nbformat": 4,
 "nbformat_minor": 2
}
