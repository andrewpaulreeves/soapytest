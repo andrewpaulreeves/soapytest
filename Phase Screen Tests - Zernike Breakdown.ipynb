{
 "cells": [
  {
   "cell_type": "code",
   "execution_count": 1,
   "metadata": {
    "collapsed": true
   },
   "outputs": [],
   "source": [
    "import numpy\n",
    "%matplotlib nbagg\n",
    "from matplotlib import pyplot\n",
    "from tqdm import tqdm, tnrange\n",
    "from astropy.io import fits\n",
    "\n",
    "import aotools\n",
    "from aotools.turbulence import infinitephasescreen, phasescreen\n"
   ]
  },
  {
   "cell_type": "code",
   "execution_count": 2,
   "metadata": {
    "collapsed": true
   },
   "outputs": [],
   "source": [
    "n_zerns = 60\n",
    "nx_size = 256\n",
    "D = 4.2\n",
    "pxl_scale = D/nx_size\n",
    "r0 = 0.164\n",
    "L0 = 100\n",
    "wind_speed = 10 #m/s - just arbitrarily set\n",
    "n_tests = 16\n",
    "n_scrns = 10000\n",
    "noll = fits.getdata(\"resources/noll.fits\").diagonal() * (D/r0)**(5./3)\n",
    "stencil_length_factor = 32"
   ]
  },
  {
   "cell_type": "code",
   "execution_count": null,
   "metadata": {},
   "outputs": [
    {
     "name": "stdout",
     "output_type": "stream",
     "text": [
      "Make Zernikes...\n"
     ]
    }
   ],
   "source": [
    "# Create arrary of zernikes\n",
    "print(\"Make Zernikes...\")\n",
    "Zs = aotools.zernikeArray(n_zerns, nx_size)"
   ]
  },
  {
   "cell_type": "markdown",
   "metadata": {},
   "source": [
    "# Test Infinite (Assemat) Phase Screen"
   ]
  },
  {
   "cell_type": "code",
   "execution_count": null,
   "metadata": {
    "scrolled": true
   },
   "outputs": [
    {
     "name": "stdout",
     "output_type": "stream",
     "text": [
      "Run tests\n"
     ]
    },
    {
     "data": {
      "application/vnd.jupyter.widget-view+json": {
       "model_id": "bf684fbe6ffd4ab0af1b69e0f27859d4"
      }
     },
     "metadata": {},
     "output_type": "display_data"
    },
    {
     "name": "stdout",
     "output_type": "stream",
     "text": [
      "Init phase screen\n"
     ]
    },
    {
     "data": {
      "application/vnd.jupyter.widget-view+json": {
       "model_id": "a7daac1bc2a94e00bad7c3e85e8159ca"
      }
     },
     "metadata": {},
     "output_type": "display_data"
    }
   ],
   "source": [
    "nCol = 2\n",
    "time_step = pxl_scale/wind_speed # This is timestep, as one pixel added on each iteration\n",
    "\n",
    "print(\"Run tests\")\n",
    "z_coeffs_inf = numpy.zeros((n_tests, n_scrns, n_zerns))\n",
    "# fig = pyplot.figure()\n",
    "\n",
    "for n in tnrange(n_tests):\n",
    "    print(\"Init phase screen\")\n",
    "    phase_screen = infinitephasescreen.PhaseScreenVonKarman(nx_size, pxl_scale, r0, L0, n_columns=nCol)\n",
    "    for i in tnrange(n_scrns):\n",
    "        \n",
    "        # Go in all directions\n",
    "        phase_screen.add_row()\n",
    "        if n%4 == 0:\n",
    "            scrn = phase_screen.scrn\n",
    "        elif n%4 == 1:\n",
    "            scrn = phase_screen.scrn.T\n",
    "        elif n%4 == 2:\n",
    "            scrn = phase_screen.scrn[::-1]\n",
    "        else:\n",
    "            scrn = phase_screen.scrn[::-1].T\n",
    "            \n",
    "        z_coeffs_inf[n, i] = (scrn * Zs).sum((-1, -2))/(Zs[0].sum())\n",
    "    \n",
    "#         pyplot.cla()\n",
    "#         pyplot.imshow(scrn)\n",
    "#         fig.canvas.draw()\n",
    "    \n",
    "z_vars_inf = z_coeffs_inf.var(1)"
   ]
  },
  {
   "cell_type": "code",
   "execution_count": null,
   "metadata": {},
   "outputs": [],
   "source": [
    "pyplot.figure()\n",
    "pyplot.semilogy(z_vars_inf.T, alpha=0.2)\n",
    "pyplot.semilogy(z_vars_inf.mean(0), color=\"k\")\n",
    "pyplot.title(\"Zernike Power Spectrum\")\n",
    "pyplot.xlabel(\"Zernike Index\")\n",
    "pyplot.ylabel(\"Power ($\\mathrm{RMS Rad}^2$)\")"
   ]
  },
  {
   "cell_type": "markdown",
   "metadata": {},
   "source": [
    "# Zernike breakdown of standard FFT screen"
   ]
  },
  {
   "cell_type": "code",
   "execution_count": null,
   "metadata": {},
   "outputs": [],
   "source": [
    "total_scrn_size = stencil_length_factor * nx_size\n",
    "print(\"Total Screen Size: {}\".format(total_scrn_size))\n",
    "\n",
    "time_step = pxl_scale/wind_speed # This is timestep, as one pixel added on each iteration\n",
    "print(\"Time step: {}s\".format(time_step))\n",
    "\n",
    "n_scrns = total_scrn_size - nx_size\n",
    "\n",
    "z_coeffs_fft = numpy.zeros((n_tests, n_scrns, n_zerns))\n",
    "z_vars_fft = numpy.zeros((n_tests, n_zerns))\n",
    "for n in tnrange(n_tests):\n",
    "    print(\"Make large phase screen...\")\n",
    "    phase_screen = phasescreen.ft_phase_screen(r0, total_scrn_size, pxl_scale, L0, 0.01)[:, :nx_size]\n",
    "\n",
    "    print(\"Get Zernike Coeffs\")\n",
    "#     fig = pyplot.figure()\n",
    "    for i in tnrange(n_scrns):\n",
    "        scrn = phase_screen[i:i+nx_size]\n",
    "        \n",
    "        if n%4 == 0:\n",
    "            scrn = scrn\n",
    "        elif n%4 == 1:\n",
    "            scrn = scrn.T\n",
    "        elif n%4 == 2:\n",
    "            scrn = scrn[::-1]\n",
    "        else:\n",
    "            scrn = scrn[::-1].T\n",
    "        \n",
    "#         pyplot.cla()\n",
    "#         pyplot.imshow(scrn)\n",
    "#         fig.canvas.draw()\n",
    "        z_coeffs_fft[n, i] = (scrn * Zs).sum((-1, -2))/(Zs[0].sum())\n",
    "\n",
    "    z_vars_fft[n] = z_coeffs_fft[n].var(0)"
   ]
  },
  {
   "cell_type": "code",
   "execution_count": null,
   "metadata": {
    "collapsed": true
   },
   "outputs": [],
   "source": [
    "pyplot.figure()\n",
    "pyplot.semilogy(z_vars_fft.T, alpha=0.2)\n",
    "pyplot.semilogy(z_vars_fft.mean(0), color=\"k\")\n",
    "pyplot.title(\"Zernike Power Spectrum\")\n",
    "pyplot.xlabel(\"Zernike Index\")\n",
    "pyplot.ylabel(\"Power ($\\mathrm{RMS Rad}^2$)\")"
   ]
  },
  {
   "cell_type": "code",
   "execution_count": null,
   "metadata": {
    "collapsed": true
   },
   "outputs": [],
   "source": [
    "pyplot.figure()\n",
    "plot_zs = [1, 6,59]\n",
    "for i, z in enumerate(plot_zs):\n",
    "    print(\"plot Z{}\".format(z))\n",
    "    zn_coeffs = z_coeffs_fft.mean(0)[:, z]\n",
    "    z_ps = abs(numpy.fft.fft(zn_coeffs))**2\n",
    "    x_vals = numpy.fft.fftfreq(len(z_ps), d=time_step)\n",
    "    pyplot.loglog(x_vals[:n_scrns//2], z_ps[:n_scrns//2], label=\"Z_{}\".format(z))\n",
    "    pyplot.xlabel(\"Frequency (Hz)\")\n",
    "    pyplot.ylabel(\"Power ($\\mathrm{Rad RMS}^2$)\")\n",
    "    pyplot.grid()\n",
    "pyplot.legend()"
   ]
  },
  {
   "cell_type": "code",
   "execution_count": null,
   "metadata": {
    "collapsed": true,
    "scrolled": false
   },
   "outputs": [],
   "source": [
    "pyplot.figure()\n",
    "pyplot.semilogy(z_vars_inf.mean(0), label=\"Infinite\")\n",
    "pyplot.semilogy(z_vars_fft.mean(0), label=\"fft\")\n",
    "pyplot.semilogy(range(1, n_zerns+1), noll[:n_zerns] , label=\"noll\", color=\"k\") \n",
    "pyplot.title(\"Zernike Power Spectrum\")\n",
    "pyplot.xlabel(\"Zernike Index\")\n",
    "pyplot.ylabel(\"Power ($\\mathrm{RMS Rad}^2$)\")\n",
    "pyplot.legend()"
   ]
  },
  {
   "cell_type": "code",
   "execution_count": null,
   "metadata": {
    "collapsed": true
   },
   "outputs": [],
   "source": []
  },
  {
   "cell_type": "code",
   "execution_count": null,
   "metadata": {
    "collapsed": true
   },
   "outputs": [],
   "source": []
  },
  {
   "cell_type": "code",
   "execution_count": null,
   "metadata": {
    "collapsed": true
   },
   "outputs": [],
   "source": []
  },
  {
   "cell_type": "code",
   "execution_count": null,
   "metadata": {
    "collapsed": true
   },
   "outputs": [],
   "source": []
  },
  {
   "cell_type": "code",
   "execution_count": null,
   "metadata": {
    "collapsed": true
   },
   "outputs": [],
   "source": []
  }
 ],
 "metadata": {
  "kernelspec": {
   "display_name": "Python 3",
   "language": "python",
   "name": "python3"
  },
  "language_info": {
   "codemirror_mode": {
    "name": "ipython",
    "version": 3
   },
   "file_extension": ".py",
   "mimetype": "text/x-python",
   "name": "python",
   "nbconvert_exporter": "python",
   "pygments_lexer": "ipython3",
   "version": "3.6.1"
  },
  "widgets": {
   "state": {
    "032a1e0cad22444f9f365cf2c566e2fc": {
     "views": [
      {
       "cell_index": 14
      }
     ]
    },
    "0b902c59a12843619dc5c76154695696": {
     "views": [
      {
       "cell_index": 4
      }
     ]
    },
    "121e3bc829424b8eaa18100ce1b30426": {
     "views": [
      {
       "cell_index": 11
      }
     ]
    },
    "176b6a0d8f5a4b8a9a6fb3970367febc": {
     "views": [
      {
       "cell_index": 14
      }
     ]
    },
    "183a8a61d9ee43eeb39d1fad69d68704": {
     "views": [
      {
       "cell_index": 4
      }
     ]
    },
    "1da4765c06a84f458a5785628e8ab877": {
     "views": [
      {
       "cell_index": 11
      }
     ]
    },
    "1ea1999a067e4e0694f4dd0e25f3d944": {
     "views": [
      {
       "cell_index": 4
      }
     ]
    },
    "214301755a474cae9f9866e9d6443b8a": {
     "views": [
      {
       "cell_index": 11
      }
     ]
    },
    "21e7fdb22ea6420499e36ac64cbe18ef": {
     "views": [
      {
       "cell_index": 11
      }
     ]
    },
    "241aca68555f490c9f408fd52e29138c": {
     "views": [
      {
       "cell_index": 8
      }
     ]
    },
    "2adb6362238c445794064af1d0ff8a3e": {
     "views": [
      {
       "cell_index": 4
      }
     ]
    },
    "30029b7bc6934109be4b88149ddc4aa6": {
     "views": [
      {
       "cell_index": 8
      }
     ]
    },
    "3125fcfe03214f61a3ae8e4cd85f181e": {
     "views": [
      {
       "cell_index": 8
      }
     ]
    },
    "3b0a5e2e080946209fe58ba111f1b4b9": {
     "views": [
      {
       "cell_index": 14
      }
     ]
    },
    "3b7c8be9a914439da83daff37906304a": {
     "views": [
      {
       "cell_index": 14
      }
     ]
    },
    "3d976ce8b9c640fe8d87448e7501b89a": {
     "views": [
      {
       "cell_index": 8
      }
     ]
    },
    "3f166f44fb2247cb9731db23bd79f3db": {
     "views": [
      {
       "cell_index": 8
      }
     ]
    },
    "41e22b3c465a4c77afefe3d5e9bafe1c": {
     "views": [
      {
       "cell_index": 14
      }
     ]
    },
    "4256d9d41b244a22af16cc7aec7628f0": {
     "views": [
      {
       "cell_index": 4
      }
     ]
    },
    "43f055e958544556ba23ff3fc07f664f": {
     "views": [
      {
       "cell_index": 4
      }
     ]
    },
    "4508c0efed60478d8c6cccf7bd40d3bf": {
     "views": [
      {
       "cell_index": 14
      }
     ]
    },
    "48ce20e3b0ce43b3a127b1c39d840c92": {
     "views": [
      {
       "cell_index": 8
      }
     ]
    },
    "604d3e10a2b84936b1d68ad243a50f14": {
     "views": [
      {
       "cell_index": 11
      }
     ]
    },
    "617723e2a01d482d8dad88a5ff8deff7": {
     "views": [
      {
       "cell_index": 8
      }
     ]
    },
    "6425190bb97d43a693227ca2074e57a2": {
     "views": [
      {
       "cell_index": 4
      }
     ]
    },
    "65ed7fcf6b6e4cddbc3cb7ba5c10cce9": {
     "views": [
      {
       "cell_index": 14
      }
     ]
    },
    "662afe4ad1f7453997aa6f85e9ec8e99": {
     "views": [
      {
       "cell_index": 8
      }
     ]
    },
    "6635d76ed1f641c0bbf3866f382c942c": {
     "views": [
      {
       "cell_index": 11
      }
     ]
    },
    "6b6adc4d5cf84ec184bb4951690d48d1": {
     "views": [
      {
       "cell_index": 11
      }
     ]
    },
    "6fe9fc9ec6934656a2fd1a391542d788": {
     "views": [
      {
       "cell_index": 4
      }
     ]
    },
    "77d4cc3e4e2443f185f5ce1e89e256ef": {
     "views": [
      {
       "cell_index": 11
      }
     ]
    },
    "79c59a8637fa429698228c78e0141818": {
     "views": [
      {
       "cell_index": 4
      }
     ]
    },
    "7e1d12fa72da4e5cad13446ec2429223": {
     "views": [
      {
       "cell_index": 11
      }
     ]
    },
    "893b4de7ff2b45868d24008331e27fa7": {
     "views": [
      {
       "cell_index": 4
      }
     ]
    },
    "89bda1eb7ba545e88ed545d18aa1e91e": {
     "views": [
      {
       "cell_index": 11
      }
     ]
    },
    "8acff852a1fe4dbb8dd568b702ff9a15": {
     "views": [
      {
       "cell_index": 14
      }
     ]
    },
    "8b066eea6a9942c4b23f6413da65a9a6": {
     "views": [
      {
       "cell_index": 11
      }
     ]
    },
    "8c0b1e91c5134c9b94af9e1c27c8ae4b": {
     "views": [
      {
       "cell_index": 14
      }
     ]
    },
    "903302b7df944565bbaf30d614cb8919": {
     "views": [
      {
       "cell_index": 4
      }
     ]
    },
    "93117d627e32446ab607605a6bbe6a4d": {
     "views": [
      {
       "cell_index": 14
      }
     ]
    },
    "9660514ac3bf45da9f2609aa3091d80f": {
     "views": [
      {
       "cell_index": 4
      }
     ]
    },
    "9698852c5a51416ba64af8f30b442e37": {
     "views": [
      {
       "cell_index": 11
      }
     ]
    },
    "a07bf51e000a4de6b58f77d44e8503f6": {
     "views": [
      {
       "cell_index": 14
      }
     ]
    },
    "a6cb183feccc45fabca9e76a5af0ecbf": {
     "views": [
      {
       "cell_index": 4
      }
     ]
    },
    "a8170ad3030b45b3b852317498ae0b6e": {
     "views": [
      {
       "cell_index": 11
      }
     ]
    },
    "af883a0525be43b3a8e81734577f2878": {
     "views": [
      {
       "cell_index": 14
      }
     ]
    },
    "b791f693ffd048a4a6bd1b1f56e2c222": {
     "views": [
      {
       "cell_index": 8
      }
     ]
    },
    "b7ebee31ba2147ffa5d43141bd19acf3": {
     "views": [
      {
       "cell_index": 4
      }
     ]
    },
    "bd0e49e3a1344f72aea1e73f4353e76d": {
     "views": [
      {
       "cell_index": 4
      }
     ]
    },
    "c0be3d38636b499096c09cbe01b2949c": {
     "views": [
      {
       "cell_index": 4
      }
     ]
    },
    "c392675d1925401eb74f3f29b9b9884b": {
     "views": [
      {
       "cell_index": 8
      }
     ]
    },
    "c3a0ca0023754a3aa9eba29f5432db74": {
     "views": [
      {
       "cell_index": 11
      }
     ]
    },
    "c7d939eee0094d67abc76f75550e64ec": {
     "views": [
      {
       "cell_index": 8
      }
     ]
    },
    "cb54b941cc3842ec9815e39741cb34a2": {
     "views": [
      {
       "cell_index": 8
      }
     ]
    },
    "db55349b77a54ba49a7b28c8e505aeee": {
     "views": [
      {
       "cell_index": 8
      }
     ]
    },
    "de9ab00322c94cbdb9c71736cf16262d": {
     "views": [
      {
       "cell_index": 8
      }
     ]
    },
    "e4ccd1fa4431475f80e85cc5421d7977": {
     "views": [
      {
       "cell_index": 14
      }
     ]
    },
    "ea3a7a59194340048f64f4a1d108dc34": {
     "views": [
      {
       "cell_index": 14
      }
     ]
    },
    "ebacff1e0f75484489458b0a5563e2b7": {
     "views": [
      {
       "cell_index": 11
      }
     ]
    },
    "ebb2f88fa1454b1c822e4cf07a1bdaef": {
     "views": [
      {
       "cell_index": 4
      }
     ]
    },
    "ec527461aca64b9f89bd6721d81db527": {
     "views": [
      {
       "cell_index": 14
      }
     ]
    },
    "f0e53d233f7b470faa01d62583e04160": {
     "views": [
      {
       "cell_index": 14
      }
     ]
    },
    "f3027031837a4b3caefdda085dd40bf9": {
     "views": [
      {
       "cell_index": 11
      }
     ]
    },
    "f670193002d24aedbf206c7087e9f6e8": {
     "views": [
      {
       "cell_index": 11
      }
     ]
    },
    "f8dbcb0192fb4f32a760292e5bf93649": {
     "views": [
      {
       "cell_index": 8
      }
     ]
    },
    "f8f1b9465838432984dedb7f36dbb75b": {
     "views": [
      {
       "cell_index": 8
      }
     ]
    },
    "faf29f20be5e440abc4496068bb0303a": {
     "views": [
      {
       "cell_index": 8
      }
     ]
    },
    "fc862c2668f4457ca796d4d24a7c9978": {
     "views": [
      {
       "cell_index": 14
      }
     ]
    }
   },
   "version": "1.2.0"
  }
 },
 "nbformat": 4,
 "nbformat_minor": 2
}
