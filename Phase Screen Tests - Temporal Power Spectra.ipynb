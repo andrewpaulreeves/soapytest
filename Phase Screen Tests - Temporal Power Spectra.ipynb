{
 "cells": [
  {
   "cell_type": "code",
   "execution_count": 2,
   "metadata": {},
   "outputs": [],
   "source": [
    "import numpy\n",
    "%matplotlib nbagg\n",
    "from matplotlib import pyplot\n",
    "from tqdm import tqdm, tnrange\n",
    "\n",
    "import aotools\n",
    "from aotools.turbulence import phasescreen, infinitephasescreen\n",
    "import zernike"
   ]
  },
  {
   "cell_type": "code",
   "execution_count": 13,
   "metadata": {
    "collapsed": true
   },
   "outputs": [],
   "source": [
    "def plot_temporal_power_spectrum(x_vals, power_spectra, scale, r0=None, L0=None, wind_speed=None):\n",
    "    pyplot.figure()\n",
    "    pyplot.grid()\n",
    "    if L0 is not None:\n",
    "        L0_cutoff = wind_speed/L0\n",
    "        pyplot.text(L0_cutoff+0.2, 5e9, \"V/L0\")\n",
    "        pyplot.plot([L0_cutoff, L0_cutoff], [10, 10e11], linestyle=\"--\",linewidth=1, color=\"k\")\n",
    "\n",
    "\n",
    "    pyplot.loglog(x_vals, power_spectra.T, alpha=0.2)\n",
    "    pyplot.loglog(x_vals, power_spectra.mean(0), color=\"blue\")\n",
    "    pyplot.plot(x_vals, scale * x_vals**(-8./3), color=\"k\", linestyle=\":\")\n",
    "    pyplot.xlabel(\"Frequency (Hz)\")\n",
    "    pyplot.ylabel(\"Power ($\\mathrm{rad}^2$)\")"
   ]
  },
  {
   "cell_type": "code",
   "execution_count": 6,
   "metadata": {
    "collapsed": true
   },
   "outputs": [],
   "source": [
    "nx_size = 128\n",
    "pxl_scale = 8./nx_size # m/pixel\n",
    "r0 = 0.2\n",
    "L0 = 10.\n",
    "n_tests = 16\n",
    "wind_speed = 10 #m/s - just arbitrarily set\n",
    "n_col = 2\n",
    "n_tests = 16\n",
    "stencil_length_factor = 16\n",
    "n_scrns = 10000"
   ]
  },
  {
   "cell_type": "markdown",
   "metadata": {},
   "source": [
    "# Test Infinite (Assemat) Phase Screen"
   ]
  },
  {
   "cell_type": "code",
   "execution_count": 8,
   "metadata": {
    "scrolled": true,
    "slideshow": {
     "slide_type": "slide"
    }
   },
   "outputs": [
    {
     "name": "stdout",
     "output_type": "stream",
     "text": [
      "Time Step: 0.00625 s\n"
     ]
    },
    {
     "data": {
      "application/vnd.jupyter.widget-view+json": {
       "model_id": "8bf99f8179de4a24b40c99287ef88b35"
      }
     },
     "metadata": {},
     "output_type": "display_data"
    },
    {
     "name": "stdout",
     "output_type": "stream",
     "text": [
      "Init phase screen\n",
      "Total Stencil Size: 128.0m (128 pixels)\n",
      "alloc screen buffer\n"
     ]
    },
    {
     "data": {
      "application/vnd.jupyter.widget-view+json": {
       "model_id": "a7fb960341b8418e95a3ba092968329a"
      }
     },
     "metadata": {},
     "output_type": "display_data"
    },
    {
     "name": "stdout",
     "output_type": "stream",
     "text": [
      "Do FFT...\n",
      "Init phase screen\n",
      "Total Stencil Size: 128.0m (128 pixels)\n",
      "alloc screen buffer\n"
     ]
    },
    {
     "data": {
      "application/vnd.jupyter.widget-view+json": {
       "model_id": "b3ae0117612942abb6fac4dbab5f2674"
      }
     },
     "metadata": {},
     "output_type": "display_data"
    },
    {
     "name": "stdout",
     "output_type": "stream",
     "text": [
      "Do FFT...\n",
      "Init phase screen\n",
      "Total Stencil Size: 128.0m (128 pixels)\n",
      "alloc screen buffer\n"
     ]
    },
    {
     "data": {
      "application/vnd.jupyter.widget-view+json": {
       "model_id": "8318374ac56b4a56bceab03c825df690"
      }
     },
     "metadata": {},
     "output_type": "display_data"
    },
    {
     "name": "stdout",
     "output_type": "stream",
     "text": [
      "Do FFT...\n",
      "Init phase screen\n",
      "Total Stencil Size: 128.0m (128 pixels)\n",
      "alloc screen buffer\n"
     ]
    },
    {
     "data": {
      "application/vnd.jupyter.widget-view+json": {
       "model_id": "7b7fafa7173f40389ebb42496fdc7057"
      }
     },
     "metadata": {},
     "output_type": "display_data"
    },
    {
     "name": "stdout",
     "output_type": "stream",
     "text": [
      "Do FFT...\n",
      "Init phase screen\n",
      "Total Stencil Size: 128.0m (128 pixels)\n",
      "alloc screen buffer\n"
     ]
    },
    {
     "data": {
      "application/vnd.jupyter.widget-view+json": {
       "model_id": "952383ff83f6475da678951243619a71"
      }
     },
     "metadata": {},
     "output_type": "display_data"
    },
    {
     "name": "stdout",
     "output_type": "stream",
     "text": [
      "Do FFT...\n",
      "Init phase screen\n",
      "Total Stencil Size: 128.0m (128 pixels)\n",
      "alloc screen buffer\n"
     ]
    },
    {
     "data": {
      "application/vnd.jupyter.widget-view+json": {
       "model_id": "5a17eb463a00454db9c9285c8300fb36"
      }
     },
     "metadata": {},
     "output_type": "display_data"
    },
    {
     "name": "stdout",
     "output_type": "stream",
     "text": [
      "Do FFT...\n",
      "Init phase screen\n",
      "Total Stencil Size: 128.0m (128 pixels)\n",
      "alloc screen buffer\n"
     ]
    },
    {
     "data": {
      "application/vnd.jupyter.widget-view+json": {
       "model_id": "ec72712354594b99be5f7c8d62c1ef1e"
      }
     },
     "metadata": {},
     "output_type": "display_data"
    },
    {
     "name": "stdout",
     "output_type": "stream",
     "text": [
      "Do FFT...\n",
      "Init phase screen\n",
      "Total Stencil Size: 128.0m (128 pixels)\n",
      "alloc screen buffer\n"
     ]
    },
    {
     "data": {
      "application/vnd.jupyter.widget-view+json": {
       "model_id": "29c7962c800f4fe4971014dbddc1d007"
      }
     },
     "metadata": {},
     "output_type": "display_data"
    },
    {
     "name": "stdout",
     "output_type": "stream",
     "text": [
      "Do FFT...\n",
      "Init phase screen\n",
      "Total Stencil Size: 128.0m (128 pixels)\n",
      "alloc screen buffer\n"
     ]
    },
    {
     "data": {
      "application/vnd.jupyter.widget-view+json": {
       "model_id": "eb18daa6b5d24039bd28e26573304f12"
      }
     },
     "metadata": {},
     "output_type": "display_data"
    },
    {
     "name": "stdout",
     "output_type": "stream",
     "text": [
      "Do FFT...\n",
      "Init phase screen\n",
      "Total Stencil Size: 128.0m (128 pixels)\n",
      "alloc screen buffer\n"
     ]
    },
    {
     "data": {
      "application/vnd.jupyter.widget-view+json": {
       "model_id": "3d36269a2ee44944b06a9296a247e417"
      }
     },
     "metadata": {},
     "output_type": "display_data"
    },
    {
     "name": "stdout",
     "output_type": "stream",
     "text": [
      "Do FFT...\n",
      "Init phase screen\n",
      "Total Stencil Size: 128.0m (128 pixels)\n",
      "alloc screen buffer\n"
     ]
    },
    {
     "data": {
      "application/vnd.jupyter.widget-view+json": {
       "model_id": "3af34bddc27a44dba43653caded1473c"
      }
     },
     "metadata": {},
     "output_type": "display_data"
    },
    {
     "name": "stdout",
     "output_type": "stream",
     "text": [
      "Do FFT...\n",
      "Init phase screen\n",
      "Total Stencil Size: 128.0m (128 pixels)\n",
      "alloc screen buffer\n"
     ]
    },
    {
     "data": {
      "application/vnd.jupyter.widget-view+json": {
       "model_id": "56aba1bebb364e7b9dd0eccff3e9f2ee"
      }
     },
     "metadata": {},
     "output_type": "display_data"
    },
    {
     "name": "stdout",
     "output_type": "stream",
     "text": [
      "Do FFT...\n",
      "Init phase screen\n",
      "Total Stencil Size: 128.0m (128 pixels)\n",
      "alloc screen buffer\n"
     ]
    },
    {
     "data": {
      "application/vnd.jupyter.widget-view+json": {
       "model_id": "c74b98dd3841435d8782bfcf7ab2c36a"
      }
     },
     "metadata": {},
     "output_type": "display_data"
    },
    {
     "name": "stdout",
     "output_type": "stream",
     "text": [
      "Do FFT...\n",
      "Init phase screen\n",
      "Total Stencil Size: 128.0m (128 pixels)\n",
      "alloc screen buffer\n"
     ]
    },
    {
     "data": {
      "application/vnd.jupyter.widget-view+json": {
       "model_id": "eb5892394ad24c19bba9a86094b5d89c"
      }
     },
     "metadata": {},
     "output_type": "display_data"
    },
    {
     "name": "stdout",
     "output_type": "stream",
     "text": [
      "Do FFT...\n",
      "Init phase screen\n",
      "Total Stencil Size: 128.0m (128 pixels)\n",
      "alloc screen buffer\n"
     ]
    },
    {
     "data": {
      "application/vnd.jupyter.widget-view+json": {
       "model_id": "fb7df2cc3da04ecd8886bdeb4f6f5d8a"
      }
     },
     "metadata": {},
     "output_type": "display_data"
    },
    {
     "name": "stdout",
     "output_type": "stream",
     "text": [
      "Do FFT...\n",
      "Init phase screen\n",
      "Total Stencil Size: 128.0m (128 pixels)\n",
      "alloc screen buffer\n"
     ]
    },
    {
     "data": {
      "application/vnd.jupyter.widget-view+json": {
       "model_id": "1e3395febb6c4fec979904a34af6403a"
      }
     },
     "metadata": {},
     "output_type": "display_data"
    },
    {
     "name": "stdout",
     "output_type": "stream",
     "text": [
      "Do FFT...\n",
      "\n"
     ]
    }
   ],
   "source": [
    "time_step = pxl_scale/wind_speed # This is timestep, as one pixel added on each iteration\n",
    "\n",
    "print(\"Time Step: {} s\".format(time_step))\n",
    "\n",
    "\n",
    "power_spectrum_inf = numpy.zeros((n_tests, n_scrns))\n",
    "\n",
    "for n in tnrange(n_tests):\n",
    "    print(\"Init phase screen\")\n",
    "    phase_screen = infinitephasescreen.PhaseScreenVonKarman(nx_size, pxl_scale, r0, L0, n_columns=n_col)\n",
    "    print(\"Total Stencil Size: {}m ({} pixels)\".format(stencil_length_factor*phase_screen.nx_size * pxl_scale, phase_screen.stencil_length))\n",
    "\n",
    "    print(\"alloc screen buffer\")\n",
    "    screen_buffer = numpy.zeros((n_scrns, nx_size**2))\n",
    "\n",
    "    for i in tnrange(n_scrns):\n",
    "        phase_screen.add_row()\n",
    "        scrn = phase_screen.scrn\n",
    "        if n%4 == 0:\n",
    "            scrn = scrn\n",
    "        elif n%4 == 1:\n",
    "            scrn = scrn.T\n",
    "        elif n%4 == 2:\n",
    "            scrn = scrn[::-1]\n",
    "        else:\n",
    "            scrn = scrn[::-1].T\n",
    "            \n",
    "        screen_buffer[i] = scrn.flatten()\n",
    "\n",
    "    print(\"Do FFT...\")\n",
    "\n",
    "    power_spectra = abs(numpy.fft.fft(screen_buffer, axis=0))**2\n",
    "    power_spectrum_inf[n] = power_spectra.mean(1)\n",
    "\n",
    "\n",
    "x_vals_inf = numpy.fft.fftfreq(n_scrns, d=time_step)\n",
    "power_spectrum_inf = power_spectrum_inf[:, :n_scrns//2]\n",
    "x_vals_inf = x_vals_inf[:n_scrns//2]\n"
   ]
  },
  {
   "cell_type": "code",
   "execution_count": 14,
   "metadata": {},
   "outputs": [
    {
     "data": {
      "application/javascript": [
       "/* Put everything inside the global mpl namespace */\n",
       "window.mpl = {};\n",
       "\n",
       "\n",
       "mpl.get_websocket_type = function() {\n",
       "    if (typeof(WebSocket) !== 'undefined') {\n",
       "        return WebSocket;\n",
       "    } else if (typeof(MozWebSocket) !== 'undefined') {\n",
       "        return MozWebSocket;\n",
       "    } else {\n",
       "        alert('Your browser does not have WebSocket support.' +\n",
       "              'Please try Chrome, Safari or Firefox ≥ 6. ' +\n",
       "              'Firefox 4 and 5 are also supported but you ' +\n",
       "              'have to enable WebSockets in about:config.');\n",
       "    };\n",
       "}\n",
       "\n",
       "mpl.figure = function(figure_id, websocket, ondownload, parent_element) {\n",
       "    this.id = figure_id;\n",
       "\n",
       "    this.ws = websocket;\n",
       "\n",
       "    this.supports_binary = (this.ws.binaryType != undefined);\n",
       "\n",
       "    if (!this.supports_binary) {\n",
       "        var warnings = document.getElementById(\"mpl-warnings\");\n",
       "        if (warnings) {\n",
       "            warnings.style.display = 'block';\n",
       "            warnings.textContent = (\n",
       "                \"This browser does not support binary websocket messages. \" +\n",
       "                    \"Performance may be slow.\");\n",
       "        }\n",
       "    }\n",
       "\n",
       "    this.imageObj = new Image();\n",
       "\n",
       "    this.context = undefined;\n",
       "    this.message = undefined;\n",
       "    this.canvas = undefined;\n",
       "    this.rubberband_canvas = undefined;\n",
       "    this.rubberband_context = undefined;\n",
       "    this.format_dropdown = undefined;\n",
       "\n",
       "    this.image_mode = 'full';\n",
       "\n",
       "    this.root = $('<div/>');\n",
       "    this._root_extra_style(this.root)\n",
       "    this.root.attr('style', 'display: inline-block');\n",
       "\n",
       "    $(parent_element).append(this.root);\n",
       "\n",
       "    this._init_header(this);\n",
       "    this._init_canvas(this);\n",
       "    this._init_toolbar(this);\n",
       "\n",
       "    var fig = this;\n",
       "\n",
       "    this.waiting = false;\n",
       "\n",
       "    this.ws.onopen =  function () {\n",
       "            fig.send_message(\"supports_binary\", {value: fig.supports_binary});\n",
       "            fig.send_message(\"send_image_mode\", {});\n",
       "            if (mpl.ratio != 1) {\n",
       "                fig.send_message(\"set_dpi_ratio\", {'dpi_ratio': mpl.ratio});\n",
       "            }\n",
       "            fig.send_message(\"refresh\", {});\n",
       "        }\n",
       "\n",
       "    this.imageObj.onload = function() {\n",
       "            if (fig.image_mode == 'full') {\n",
       "                // Full images could contain transparency (where diff images\n",
       "                // almost always do), so we need to clear the canvas so that\n",
       "                // there is no ghosting.\n",
       "                fig.context.clearRect(0, 0, fig.canvas.width, fig.canvas.height);\n",
       "            }\n",
       "            fig.context.drawImage(fig.imageObj, 0, 0);\n",
       "        };\n",
       "\n",
       "    this.imageObj.onunload = function() {\n",
       "        this.ws.close();\n",
       "    }\n",
       "\n",
       "    this.ws.onmessage = this._make_on_message_function(this);\n",
       "\n",
       "    this.ondownload = ondownload;\n",
       "}\n",
       "\n",
       "mpl.figure.prototype._init_header = function() {\n",
       "    var titlebar = $(\n",
       "        '<div class=\"ui-dialog-titlebar ui-widget-header ui-corner-all ' +\n",
       "        'ui-helper-clearfix\"/>');\n",
       "    var titletext = $(\n",
       "        '<div class=\"ui-dialog-title\" style=\"width: 100%; ' +\n",
       "        'text-align: center; padding: 3px;\"/>');\n",
       "    titlebar.append(titletext)\n",
       "    this.root.append(titlebar);\n",
       "    this.header = titletext[0];\n",
       "}\n",
       "\n",
       "\n",
       "\n",
       "mpl.figure.prototype._canvas_extra_style = function(canvas_div) {\n",
       "\n",
       "}\n",
       "\n",
       "\n",
       "mpl.figure.prototype._root_extra_style = function(canvas_div) {\n",
       "\n",
       "}\n",
       "\n",
       "mpl.figure.prototype._init_canvas = function() {\n",
       "    var fig = this;\n",
       "\n",
       "    var canvas_div = $('<div/>');\n",
       "\n",
       "    canvas_div.attr('style', 'position: relative; clear: both; outline: 0');\n",
       "\n",
       "    function canvas_keyboard_event(event) {\n",
       "        return fig.key_event(event, event['data']);\n",
       "    }\n",
       "\n",
       "    canvas_div.keydown('key_press', canvas_keyboard_event);\n",
       "    canvas_div.keyup('key_release', canvas_keyboard_event);\n",
       "    this.canvas_div = canvas_div\n",
       "    this._canvas_extra_style(canvas_div)\n",
       "    this.root.append(canvas_div);\n",
       "\n",
       "    var canvas = $('<canvas/>');\n",
       "    canvas.addClass('mpl-canvas');\n",
       "    canvas.attr('style', \"left: 0; top: 0; z-index: 0; outline: 0\")\n",
       "\n",
       "    this.canvas = canvas[0];\n",
       "    this.context = canvas[0].getContext(\"2d\");\n",
       "\n",
       "    var backingStore = this.context.backingStorePixelRatio ||\n",
       "\tthis.context.webkitBackingStorePixelRatio ||\n",
       "\tthis.context.mozBackingStorePixelRatio ||\n",
       "\tthis.context.msBackingStorePixelRatio ||\n",
       "\tthis.context.oBackingStorePixelRatio ||\n",
       "\tthis.context.backingStorePixelRatio || 1;\n",
       "\n",
       "    mpl.ratio = (window.devicePixelRatio || 1) / backingStore;\n",
       "\n",
       "    var rubberband = $('<canvas/>');\n",
       "    rubberband.attr('style', \"position: absolute; left: 0; top: 0; z-index: 1;\")\n",
       "\n",
       "    var pass_mouse_events = true;\n",
       "\n",
       "    canvas_div.resizable({\n",
       "        start: function(event, ui) {\n",
       "            pass_mouse_events = false;\n",
       "        },\n",
       "        resize: function(event, ui) {\n",
       "            fig.request_resize(ui.size.width, ui.size.height);\n",
       "        },\n",
       "        stop: function(event, ui) {\n",
       "            pass_mouse_events = true;\n",
       "            fig.request_resize(ui.size.width, ui.size.height);\n",
       "        },\n",
       "    });\n",
       "\n",
       "    function mouse_event_fn(event) {\n",
       "        if (pass_mouse_events)\n",
       "            return fig.mouse_event(event, event['data']);\n",
       "    }\n",
       "\n",
       "    rubberband.mousedown('button_press', mouse_event_fn);\n",
       "    rubberband.mouseup('button_release', mouse_event_fn);\n",
       "    // Throttle sequential mouse events to 1 every 20ms.\n",
       "    rubberband.mousemove('motion_notify', mouse_event_fn);\n",
       "\n",
       "    rubberband.mouseenter('figure_enter', mouse_event_fn);\n",
       "    rubberband.mouseleave('figure_leave', mouse_event_fn);\n",
       "\n",
       "    canvas_div.on(\"wheel\", function (event) {\n",
       "        event = event.originalEvent;\n",
       "        event['data'] = 'scroll'\n",
       "        if (event.deltaY < 0) {\n",
       "            event.step = 1;\n",
       "        } else {\n",
       "            event.step = -1;\n",
       "        }\n",
       "        mouse_event_fn(event);\n",
       "    });\n",
       "\n",
       "    canvas_div.append(canvas);\n",
       "    canvas_div.append(rubberband);\n",
       "\n",
       "    this.rubberband = rubberband;\n",
       "    this.rubberband_canvas = rubberband[0];\n",
       "    this.rubberband_context = rubberband[0].getContext(\"2d\");\n",
       "    this.rubberband_context.strokeStyle = \"#000000\";\n",
       "\n",
       "    this._resize_canvas = function(width, height) {\n",
       "        // Keep the size of the canvas, canvas container, and rubber band\n",
       "        // canvas in synch.\n",
       "        canvas_div.css('width', width)\n",
       "        canvas_div.css('height', height)\n",
       "\n",
       "        canvas.attr('width', width * mpl.ratio);\n",
       "        canvas.attr('height', height * mpl.ratio);\n",
       "        canvas.attr('style', 'width: ' + width + 'px; height: ' + height + 'px;');\n",
       "\n",
       "        rubberband.attr('width', width);\n",
       "        rubberband.attr('height', height);\n",
       "    }\n",
       "\n",
       "    // Set the figure to an initial 600x600px, this will subsequently be updated\n",
       "    // upon first draw.\n",
       "    this._resize_canvas(600, 600);\n",
       "\n",
       "    // Disable right mouse context menu.\n",
       "    $(this.rubberband_canvas).bind(\"contextmenu\",function(e){\n",
       "        return false;\n",
       "    });\n",
       "\n",
       "    function set_focus () {\n",
       "        canvas.focus();\n",
       "        canvas_div.focus();\n",
       "    }\n",
       "\n",
       "    window.setTimeout(set_focus, 100);\n",
       "}\n",
       "\n",
       "mpl.figure.prototype._init_toolbar = function() {\n",
       "    var fig = this;\n",
       "\n",
       "    var nav_element = $('<div/>')\n",
       "    nav_element.attr('style', 'width: 100%');\n",
       "    this.root.append(nav_element);\n",
       "\n",
       "    // Define a callback function for later on.\n",
       "    function toolbar_event(event) {\n",
       "        return fig.toolbar_button_onclick(event['data']);\n",
       "    }\n",
       "    function toolbar_mouse_event(event) {\n",
       "        return fig.toolbar_button_onmouseover(event['data']);\n",
       "    }\n",
       "\n",
       "    for(var toolbar_ind in mpl.toolbar_items) {\n",
       "        var name = mpl.toolbar_items[toolbar_ind][0];\n",
       "        var tooltip = mpl.toolbar_items[toolbar_ind][1];\n",
       "        var image = mpl.toolbar_items[toolbar_ind][2];\n",
       "        var method_name = mpl.toolbar_items[toolbar_ind][3];\n",
       "\n",
       "        if (!name) {\n",
       "            // put a spacer in here.\n",
       "            continue;\n",
       "        }\n",
       "        var button = $('<button/>');\n",
       "        button.addClass('ui-button ui-widget ui-state-default ui-corner-all ' +\n",
       "                        'ui-button-icon-only');\n",
       "        button.attr('role', 'button');\n",
       "        button.attr('aria-disabled', 'false');\n",
       "        button.click(method_name, toolbar_event);\n",
       "        button.mouseover(tooltip, toolbar_mouse_event);\n",
       "\n",
       "        var icon_img = $('<span/>');\n",
       "        icon_img.addClass('ui-button-icon-primary ui-icon');\n",
       "        icon_img.addClass(image);\n",
       "        icon_img.addClass('ui-corner-all');\n",
       "\n",
       "        var tooltip_span = $('<span/>');\n",
       "        tooltip_span.addClass('ui-button-text');\n",
       "        tooltip_span.html(tooltip);\n",
       "\n",
       "        button.append(icon_img);\n",
       "        button.append(tooltip_span);\n",
       "\n",
       "        nav_element.append(button);\n",
       "    }\n",
       "\n",
       "    var fmt_picker_span = $('<span/>');\n",
       "\n",
       "    var fmt_picker = $('<select/>');\n",
       "    fmt_picker.addClass('mpl-toolbar-option ui-widget ui-widget-content');\n",
       "    fmt_picker_span.append(fmt_picker);\n",
       "    nav_element.append(fmt_picker_span);\n",
       "    this.format_dropdown = fmt_picker[0];\n",
       "\n",
       "    for (var ind in mpl.extensions) {\n",
       "        var fmt = mpl.extensions[ind];\n",
       "        var option = $(\n",
       "            '<option/>', {selected: fmt === mpl.default_extension}).html(fmt);\n",
       "        fmt_picker.append(option)\n",
       "    }\n",
       "\n",
       "    // Add hover states to the ui-buttons\n",
       "    $( \".ui-button\" ).hover(\n",
       "        function() { $(this).addClass(\"ui-state-hover\");},\n",
       "        function() { $(this).removeClass(\"ui-state-hover\");}\n",
       "    );\n",
       "\n",
       "    var status_bar = $('<span class=\"mpl-message\"/>');\n",
       "    nav_element.append(status_bar);\n",
       "    this.message = status_bar[0];\n",
       "}\n",
       "\n",
       "mpl.figure.prototype.request_resize = function(x_pixels, y_pixels) {\n",
       "    // Request matplotlib to resize the figure. Matplotlib will then trigger a resize in the client,\n",
       "    // which will in turn request a refresh of the image.\n",
       "    this.send_message('resize', {'width': x_pixels, 'height': y_pixels});\n",
       "}\n",
       "\n",
       "mpl.figure.prototype.send_message = function(type, properties) {\n",
       "    properties['type'] = type;\n",
       "    properties['figure_id'] = this.id;\n",
       "    this.ws.send(JSON.stringify(properties));\n",
       "}\n",
       "\n",
       "mpl.figure.prototype.send_draw_message = function() {\n",
       "    if (!this.waiting) {\n",
       "        this.waiting = true;\n",
       "        this.ws.send(JSON.stringify({type: \"draw\", figure_id: this.id}));\n",
       "    }\n",
       "}\n",
       "\n",
       "\n",
       "mpl.figure.prototype.handle_save = function(fig, msg) {\n",
       "    var format_dropdown = fig.format_dropdown;\n",
       "    var format = format_dropdown.options[format_dropdown.selectedIndex].value;\n",
       "    fig.ondownload(fig, format);\n",
       "}\n",
       "\n",
       "\n",
       "mpl.figure.prototype.handle_resize = function(fig, msg) {\n",
       "    var size = msg['size'];\n",
       "    if (size[0] != fig.canvas.width || size[1] != fig.canvas.height) {\n",
       "        fig._resize_canvas(size[0], size[1]);\n",
       "        fig.send_message(\"refresh\", {});\n",
       "    };\n",
       "}\n",
       "\n",
       "mpl.figure.prototype.handle_rubberband = function(fig, msg) {\n",
       "    var x0 = msg['x0'] / mpl.ratio;\n",
       "    var y0 = (fig.canvas.height - msg['y0']) / mpl.ratio;\n",
       "    var x1 = msg['x1'] / mpl.ratio;\n",
       "    var y1 = (fig.canvas.height - msg['y1']) / mpl.ratio;\n",
       "    x0 = Math.floor(x0) + 0.5;\n",
       "    y0 = Math.floor(y0) + 0.5;\n",
       "    x1 = Math.floor(x1) + 0.5;\n",
       "    y1 = Math.floor(y1) + 0.5;\n",
       "    var min_x = Math.min(x0, x1);\n",
       "    var min_y = Math.min(y0, y1);\n",
       "    var width = Math.abs(x1 - x0);\n",
       "    var height = Math.abs(y1 - y0);\n",
       "\n",
       "    fig.rubberband_context.clearRect(\n",
       "        0, 0, fig.canvas.width, fig.canvas.height);\n",
       "\n",
       "    fig.rubberband_context.strokeRect(min_x, min_y, width, height);\n",
       "}\n",
       "\n",
       "mpl.figure.prototype.handle_figure_label = function(fig, msg) {\n",
       "    // Updates the figure title.\n",
       "    fig.header.textContent = msg['label'];\n",
       "}\n",
       "\n",
       "mpl.figure.prototype.handle_cursor = function(fig, msg) {\n",
       "    var cursor = msg['cursor'];\n",
       "    switch(cursor)\n",
       "    {\n",
       "    case 0:\n",
       "        cursor = 'pointer';\n",
       "        break;\n",
       "    case 1:\n",
       "        cursor = 'default';\n",
       "        break;\n",
       "    case 2:\n",
       "        cursor = 'crosshair';\n",
       "        break;\n",
       "    case 3:\n",
       "        cursor = 'move';\n",
       "        break;\n",
       "    }\n",
       "    fig.rubberband_canvas.style.cursor = cursor;\n",
       "}\n",
       "\n",
       "mpl.figure.prototype.handle_message = function(fig, msg) {\n",
       "    fig.message.textContent = msg['message'];\n",
       "}\n",
       "\n",
       "mpl.figure.prototype.handle_draw = function(fig, msg) {\n",
       "    // Request the server to send over a new figure.\n",
       "    fig.send_draw_message();\n",
       "}\n",
       "\n",
       "mpl.figure.prototype.handle_image_mode = function(fig, msg) {\n",
       "    fig.image_mode = msg['mode'];\n",
       "}\n",
       "\n",
       "mpl.figure.prototype.updated_canvas_event = function() {\n",
       "    // Called whenever the canvas gets updated.\n",
       "    this.send_message(\"ack\", {});\n",
       "}\n",
       "\n",
       "// A function to construct a web socket function for onmessage handling.\n",
       "// Called in the figure constructor.\n",
       "mpl.figure.prototype._make_on_message_function = function(fig) {\n",
       "    return function socket_on_message(evt) {\n",
       "        if (evt.data instanceof Blob) {\n",
       "            /* FIXME: We get \"Resource interpreted as Image but\n",
       "             * transferred with MIME type text/plain:\" errors on\n",
       "             * Chrome.  But how to set the MIME type?  It doesn't seem\n",
       "             * to be part of the websocket stream */\n",
       "            evt.data.type = \"image/png\";\n",
       "\n",
       "            /* Free the memory for the previous frames */\n",
       "            if (fig.imageObj.src) {\n",
       "                (window.URL || window.webkitURL).revokeObjectURL(\n",
       "                    fig.imageObj.src);\n",
       "            }\n",
       "\n",
       "            fig.imageObj.src = (window.URL || window.webkitURL).createObjectURL(\n",
       "                evt.data);\n",
       "            fig.updated_canvas_event();\n",
       "            fig.waiting = false;\n",
       "            return;\n",
       "        }\n",
       "        else if (typeof evt.data === 'string' && evt.data.slice(0, 21) == \"data:image/png;base64\") {\n",
       "            fig.imageObj.src = evt.data;\n",
       "            fig.updated_canvas_event();\n",
       "            fig.waiting = false;\n",
       "            return;\n",
       "        }\n",
       "\n",
       "        var msg = JSON.parse(evt.data);\n",
       "        var msg_type = msg['type'];\n",
       "\n",
       "        // Call the  \"handle_{type}\" callback, which takes\n",
       "        // the figure and JSON message as its only arguments.\n",
       "        try {\n",
       "            var callback = fig[\"handle_\" + msg_type];\n",
       "        } catch (e) {\n",
       "            console.log(\"No handler for the '\" + msg_type + \"' message type: \", msg);\n",
       "            return;\n",
       "        }\n",
       "\n",
       "        if (callback) {\n",
       "            try {\n",
       "                // console.log(\"Handling '\" + msg_type + \"' message: \", msg);\n",
       "                callback(fig, msg);\n",
       "            } catch (e) {\n",
       "                console.log(\"Exception inside the 'handler_\" + msg_type + \"' callback:\", e, e.stack, msg);\n",
       "            }\n",
       "        }\n",
       "    };\n",
       "}\n",
       "\n",
       "// from http://stackoverflow.com/questions/1114465/getting-mouse-location-in-canvas\n",
       "mpl.findpos = function(e) {\n",
       "    //this section is from http://www.quirksmode.org/js/events_properties.html\n",
       "    var targ;\n",
       "    if (!e)\n",
       "        e = window.event;\n",
       "    if (e.target)\n",
       "        targ = e.target;\n",
       "    else if (e.srcElement)\n",
       "        targ = e.srcElement;\n",
       "    if (targ.nodeType == 3) // defeat Safari bug\n",
       "        targ = targ.parentNode;\n",
       "\n",
       "    // jQuery normalizes the pageX and pageY\n",
       "    // pageX,Y are the mouse positions relative to the document\n",
       "    // offset() returns the position of the element relative to the document\n",
       "    var x = e.pageX - $(targ).offset().left;\n",
       "    var y = e.pageY - $(targ).offset().top;\n",
       "\n",
       "    return {\"x\": x, \"y\": y};\n",
       "};\n",
       "\n",
       "/*\n",
       " * return a copy of an object with only non-object keys\n",
       " * we need this to avoid circular references\n",
       " * http://stackoverflow.com/a/24161582/3208463\n",
       " */\n",
       "function simpleKeys (original) {\n",
       "  return Object.keys(original).reduce(function (obj, key) {\n",
       "    if (typeof original[key] !== 'object')\n",
       "        obj[key] = original[key]\n",
       "    return obj;\n",
       "  }, {});\n",
       "}\n",
       "\n",
       "mpl.figure.prototype.mouse_event = function(event, name) {\n",
       "    var canvas_pos = mpl.findpos(event)\n",
       "\n",
       "    if (name === 'button_press')\n",
       "    {\n",
       "        this.canvas.focus();\n",
       "        this.canvas_div.focus();\n",
       "    }\n",
       "\n",
       "    var x = canvas_pos.x * mpl.ratio;\n",
       "    var y = canvas_pos.y * mpl.ratio;\n",
       "\n",
       "    this.send_message(name, {x: x, y: y, button: event.button,\n",
       "                             step: event.step,\n",
       "                             guiEvent: simpleKeys(event)});\n",
       "\n",
       "    /* This prevents the web browser from automatically changing to\n",
       "     * the text insertion cursor when the button is pressed.  We want\n",
       "     * to control all of the cursor setting manually through the\n",
       "     * 'cursor' event from matplotlib */\n",
       "    event.preventDefault();\n",
       "    return false;\n",
       "}\n",
       "\n",
       "mpl.figure.prototype._key_event_extra = function(event, name) {\n",
       "    // Handle any extra behaviour associated with a key event\n",
       "}\n",
       "\n",
       "mpl.figure.prototype.key_event = function(event, name) {\n",
       "\n",
       "    // Prevent repeat events\n",
       "    if (name == 'key_press')\n",
       "    {\n",
       "        if (event.which === this._key)\n",
       "            return;\n",
       "        else\n",
       "            this._key = event.which;\n",
       "    }\n",
       "    if (name == 'key_release')\n",
       "        this._key = null;\n",
       "\n",
       "    var value = '';\n",
       "    if (event.ctrlKey && event.which != 17)\n",
       "        value += \"ctrl+\";\n",
       "    if (event.altKey && event.which != 18)\n",
       "        value += \"alt+\";\n",
       "    if (event.shiftKey && event.which != 16)\n",
       "        value += \"shift+\";\n",
       "\n",
       "    value += 'k';\n",
       "    value += event.which.toString();\n",
       "\n",
       "    this._key_event_extra(event, name);\n",
       "\n",
       "    this.send_message(name, {key: value,\n",
       "                             guiEvent: simpleKeys(event)});\n",
       "    return false;\n",
       "}\n",
       "\n",
       "mpl.figure.prototype.toolbar_button_onclick = function(name) {\n",
       "    if (name == 'download') {\n",
       "        this.handle_save(this, null);\n",
       "    } else {\n",
       "        this.send_message(\"toolbar_button\", {name: name});\n",
       "    }\n",
       "};\n",
       "\n",
       "mpl.figure.prototype.toolbar_button_onmouseover = function(tooltip) {\n",
       "    this.message.textContent = tooltip;\n",
       "};\n",
       "mpl.toolbar_items = [[\"Home\", \"Reset original view\", \"fa fa-home icon-home\", \"home\"], [\"Back\", \"Back to  previous view\", \"fa fa-arrow-left icon-arrow-left\", \"back\"], [\"Forward\", \"Forward to next view\", \"fa fa-arrow-right icon-arrow-right\", \"forward\"], [\"\", \"\", \"\", \"\"], [\"Pan\", \"Pan axes with left mouse, zoom with right\", \"fa fa-arrows icon-move\", \"pan\"], [\"Zoom\", \"Zoom to rectangle\", \"fa fa-square-o icon-check-empty\", \"zoom\"], [\"\", \"\", \"\", \"\"], [\"Download\", \"Download plot\", \"fa fa-floppy-o icon-save\", \"download\"]];\n",
       "\n",
       "mpl.extensions = [\"eps\", \"jpeg\", \"pdf\", \"png\", \"ps\", \"raw\", \"svg\", \"tif\"];\n",
       "\n",
       "mpl.default_extension = \"png\";var comm_websocket_adapter = function(comm) {\n",
       "    // Create a \"websocket\"-like object which calls the given IPython comm\n",
       "    // object with the appropriate methods. Currently this is a non binary\n",
       "    // socket, so there is still some room for performance tuning.\n",
       "    var ws = {};\n",
       "\n",
       "    ws.close = function() {\n",
       "        comm.close()\n",
       "    };\n",
       "    ws.send = function(m) {\n",
       "        //console.log('sending', m);\n",
       "        comm.send(m);\n",
       "    };\n",
       "    // Register the callback with on_msg.\n",
       "    comm.on_msg(function(msg) {\n",
       "        //console.log('receiving', msg['content']['data'], msg);\n",
       "        // Pass the mpl event to the overriden (by mpl) onmessage function.\n",
       "        ws.onmessage(msg['content']['data'])\n",
       "    });\n",
       "    return ws;\n",
       "}\n",
       "\n",
       "mpl.mpl_figure_comm = function(comm, msg) {\n",
       "    // This is the function which gets called when the mpl process\n",
       "    // starts-up an IPython Comm through the \"matplotlib\" channel.\n",
       "\n",
       "    var id = msg.content.data.id;\n",
       "    // Get hold of the div created by the display call when the Comm\n",
       "    // socket was opened in Python.\n",
       "    var element = $(\"#\" + id);\n",
       "    var ws_proxy = comm_websocket_adapter(comm)\n",
       "\n",
       "    function ondownload(figure, format) {\n",
       "        window.open(figure.imageObj.src);\n",
       "    }\n",
       "\n",
       "    var fig = new mpl.figure(id, ws_proxy,\n",
       "                           ondownload,\n",
       "                           element.get(0));\n",
       "\n",
       "    // Call onopen now - mpl needs it, as it is assuming we've passed it a real\n",
       "    // web socket which is closed, not our websocket->open comm proxy.\n",
       "    ws_proxy.onopen();\n",
       "\n",
       "    fig.parent_element = element.get(0);\n",
       "    fig.cell_info = mpl.find_output_cell(\"<div id='\" + id + \"'></div>\");\n",
       "    if (!fig.cell_info) {\n",
       "        console.error(\"Failed to find cell for figure\", id, fig);\n",
       "        return;\n",
       "    }\n",
       "\n",
       "    var output_index = fig.cell_info[2]\n",
       "    var cell = fig.cell_info[0];\n",
       "\n",
       "};\n",
       "\n",
       "mpl.figure.prototype.handle_close = function(fig, msg) {\n",
       "    var width = fig.canvas.width/mpl.ratio\n",
       "    fig.root.unbind('remove')\n",
       "\n",
       "    // Update the output cell to use the data from the current canvas.\n",
       "    fig.push_to_output();\n",
       "    var dataURL = fig.canvas.toDataURL();\n",
       "    // Re-enable the keyboard manager in IPython - without this line, in FF,\n",
       "    // the notebook keyboard shortcuts fail.\n",
       "    IPython.keyboard_manager.enable()\n",
       "    $(fig.parent_element).html('<img src=\"' + dataURL + '\" width=\"' + width + '\">');\n",
       "    fig.close_ws(fig, msg);\n",
       "}\n",
       "\n",
       "mpl.figure.prototype.close_ws = function(fig, msg){\n",
       "    fig.send_message('closing', msg);\n",
       "    // fig.ws.close()\n",
       "}\n",
       "\n",
       "mpl.figure.prototype.push_to_output = function(remove_interactive) {\n",
       "    // Turn the data on the canvas into data in the output cell.\n",
       "    var width = this.canvas.width/mpl.ratio\n",
       "    var dataURL = this.canvas.toDataURL();\n",
       "    this.cell_info[1]['text/html'] = '<img src=\"' + dataURL + '\" width=\"' + width + '\">';\n",
       "}\n",
       "\n",
       "mpl.figure.prototype.updated_canvas_event = function() {\n",
       "    // Tell IPython that the notebook contents must change.\n",
       "    IPython.notebook.set_dirty(true);\n",
       "    this.send_message(\"ack\", {});\n",
       "    var fig = this;\n",
       "    // Wait a second, then push the new image to the DOM so\n",
       "    // that it is saved nicely (might be nice to debounce this).\n",
       "    setTimeout(function () { fig.push_to_output() }, 1000);\n",
       "}\n",
       "\n",
       "mpl.figure.prototype._init_toolbar = function() {\n",
       "    var fig = this;\n",
       "\n",
       "    var nav_element = $('<div/>')\n",
       "    nav_element.attr('style', 'width: 100%');\n",
       "    this.root.append(nav_element);\n",
       "\n",
       "    // Define a callback function for later on.\n",
       "    function toolbar_event(event) {\n",
       "        return fig.toolbar_button_onclick(event['data']);\n",
       "    }\n",
       "    function toolbar_mouse_event(event) {\n",
       "        return fig.toolbar_button_onmouseover(event['data']);\n",
       "    }\n",
       "\n",
       "    for(var toolbar_ind in mpl.toolbar_items){\n",
       "        var name = mpl.toolbar_items[toolbar_ind][0];\n",
       "        var tooltip = mpl.toolbar_items[toolbar_ind][1];\n",
       "        var image = mpl.toolbar_items[toolbar_ind][2];\n",
       "        var method_name = mpl.toolbar_items[toolbar_ind][3];\n",
       "\n",
       "        if (!name) { continue; };\n",
       "\n",
       "        var button = $('<button class=\"btn btn-default\" href=\"#\" title=\"' + name + '\"><i class=\"fa ' + image + ' fa-lg\"></i></button>');\n",
       "        button.click(method_name, toolbar_event);\n",
       "        button.mouseover(tooltip, toolbar_mouse_event);\n",
       "        nav_element.append(button);\n",
       "    }\n",
       "\n",
       "    // Add the status bar.\n",
       "    var status_bar = $('<span class=\"mpl-message\" style=\"text-align:right; float: right;\"/>');\n",
       "    nav_element.append(status_bar);\n",
       "    this.message = status_bar[0];\n",
       "\n",
       "    // Add the close button to the window.\n",
       "    var buttongrp = $('<div class=\"btn-group inline pull-right\"></div>');\n",
       "    var button = $('<button class=\"btn btn-mini btn-primary\" href=\"#\" title=\"Stop Interaction\"><i class=\"fa fa-power-off icon-remove icon-large\"></i></button>');\n",
       "    button.click(function (evt) { fig.handle_close(fig, {}); } );\n",
       "    button.mouseover('Stop Interaction', toolbar_mouse_event);\n",
       "    buttongrp.append(button);\n",
       "    var titlebar = this.root.find($('.ui-dialog-titlebar'));\n",
       "    titlebar.prepend(buttongrp);\n",
       "}\n",
       "\n",
       "mpl.figure.prototype._root_extra_style = function(el){\n",
       "    var fig = this\n",
       "    el.on(\"remove\", function(){\n",
       "\tfig.close_ws(fig, {});\n",
       "    });\n",
       "}\n",
       "\n",
       "mpl.figure.prototype._canvas_extra_style = function(el){\n",
       "    // this is important to make the div 'focusable\n",
       "    el.attr('tabindex', 0)\n",
       "    // reach out to IPython and tell the keyboard manager to turn it's self\n",
       "    // off when our div gets focus\n",
       "\n",
       "    // location in version 3\n",
       "    if (IPython.notebook.keyboard_manager) {\n",
       "        IPython.notebook.keyboard_manager.register_events(el);\n",
       "    }\n",
       "    else {\n",
       "        // location in version 2\n",
       "        IPython.keyboard_manager.register_events(el);\n",
       "    }\n",
       "\n",
       "}\n",
       "\n",
       "mpl.figure.prototype._key_event_extra = function(event, name) {\n",
       "    var manager = IPython.notebook.keyboard_manager;\n",
       "    if (!manager)\n",
       "        manager = IPython.keyboard_manager;\n",
       "\n",
       "    // Check for shift+enter\n",
       "    if (event.shiftKey && event.which == 13) {\n",
       "        this.canvas_div.blur();\n",
       "        // select the cell after this one\n",
       "        var index = IPython.notebook.find_cell_index(this.cell_info[0]);\n",
       "        IPython.notebook.select(index + 1);\n",
       "    }\n",
       "}\n",
       "\n",
       "mpl.figure.prototype.handle_save = function(fig, msg) {\n",
       "    fig.ondownload(fig, null);\n",
       "}\n",
       "\n",
       "\n",
       "mpl.find_output_cell = function(html_output) {\n",
       "    // Return the cell and output element which can be found *uniquely* in the notebook.\n",
       "    // Note - this is a bit hacky, but it is done because the \"notebook_saving.Notebook\"\n",
       "    // IPython event is triggered only after the cells have been serialised, which for\n",
       "    // our purposes (turning an active figure into a static one), is too late.\n",
       "    var cells = IPython.notebook.get_cells();\n",
       "    var ncells = cells.length;\n",
       "    for (var i=0; i<ncells; i++) {\n",
       "        var cell = cells[i];\n",
       "        if (cell.cell_type === 'code'){\n",
       "            for (var j=0; j<cell.output_area.outputs.length; j++) {\n",
       "                var data = cell.output_area.outputs[j];\n",
       "                if (data.data) {\n",
       "                    // IPython >= 3 moved mimebundle to data attribute of output\n",
       "                    data = data.data;\n",
       "                }\n",
       "                if (data['text/html'] == html_output) {\n",
       "                    return [cell, data, j];\n",
       "                }\n",
       "            }\n",
       "        }\n",
       "    }\n",
       "}\n",
       "\n",
       "// Register the function which deals with the matplotlib target/channel.\n",
       "// The kernel may be null if the page has been refreshed.\n",
       "if (IPython.notebook.kernel != null) {\n",
       "    IPython.notebook.kernel.comm_manager.register_target('matplotlib', mpl.mpl_figure_comm);\n",
       "}\n"
      ],
      "text/plain": [
       "<IPython.core.display.Javascript object>"
      ]
     },
     "metadata": {},
     "output_type": "display_data"
    },
    {
     "data": {
      "text/html": [
       "<img src=\"data:image/png;base64,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\" width=\"640\">"
      ],
      "text/plain": [
       "<IPython.core.display.HTML object>"
      ]
     },
     "metadata": {},
     "output_type": "display_data"
    },
    {
     "name": "stderr",
     "output_type": "stream",
     "text": [
      "C:\\ProgramData\\Anaconda3\\lib\\site-packages\\matplotlib\\axes\\_base.py:2917: UserWarning: Attempting to set identical left==right results\n",
      "in singular transformations; automatically expanding.\n",
      "left=1.0, right=1.0\n",
      "  'left=%s, right=%s') % (left, right))\n",
      "C:\\ProgramData\\Anaconda3\\lib\\site-packages\\ipykernel_launcher.py:12: RuntimeWarning: divide by zero encountered in power\n",
      "  if sys.path[0] == '':\n"
     ]
    }
   ],
   "source": [
    "plot_temporal_power_spectrum(x_vals_inf, power_spectrum_inf, scale=4e7, r0=r0, L0=L0, wind_speed=wind_speed)"
   ]
  },
  {
   "cell_type": "markdown",
   "metadata": {},
   "source": [
    "# Test FFT Phase Screen"
   ]
  },
  {
   "cell_type": "code",
   "execution_count": 15,
   "metadata": {},
   "outputs": [
    {
     "name": "stdout",
     "output_type": "stream",
     "text": [
      "Time Step: 0.00625 s\n"
     ]
    },
    {
     "data": {
      "application/vnd.jupyter.widget-view+json": {
       "model_id": "d3a25bbaba634bb48ee86a365a7ef5f5"
      }
     },
     "metadata": {},
     "output_type": "display_data"
    },
    {
     "name": "stdout",
     "output_type": "stream",
     "text": [
      "alloc screen buffer\n"
     ]
    },
    {
     "data": {
      "application/vnd.jupyter.widget-view+json": {
       "model_id": "737bf09583e64222816a28cd29c54ccb"
      }
     },
     "metadata": {},
     "output_type": "display_data"
    },
    {
     "name": "stdout",
     "output_type": "stream",
     "text": [
      "Do FFT...\n",
      "alloc screen buffer\n"
     ]
    },
    {
     "data": {
      "application/vnd.jupyter.widget-view+json": {
       "model_id": "6528a2dd35be4c3788f3d39b7d3171a7"
      }
     },
     "metadata": {},
     "output_type": "display_data"
    },
    {
     "name": "stdout",
     "output_type": "stream",
     "text": [
      "Do FFT...\n",
      "alloc screen buffer\n"
     ]
    },
    {
     "data": {
      "application/vnd.jupyter.widget-view+json": {
       "model_id": "2bdb7ea39e1748de96947fa6b389d174"
      }
     },
     "metadata": {},
     "output_type": "display_data"
    },
    {
     "name": "stdout",
     "output_type": "stream",
     "text": [
      "Do FFT...\n",
      "alloc screen buffer\n"
     ]
    },
    {
     "data": {
      "application/vnd.jupyter.widget-view+json": {
       "model_id": "55e4ae182c504d8ba0962c38260bf1d1"
      }
     },
     "metadata": {},
     "output_type": "display_data"
    },
    {
     "name": "stdout",
     "output_type": "stream",
     "text": [
      "Do FFT...\n",
      "alloc screen buffer\n"
     ]
    },
    {
     "data": {
      "application/vnd.jupyter.widget-view+json": {
       "model_id": "944413f80e1d43508ef2ca4b41f8a2a5"
      }
     },
     "metadata": {},
     "output_type": "display_data"
    },
    {
     "name": "stdout",
     "output_type": "stream",
     "text": [
      "Do FFT...\n",
      "alloc screen buffer\n"
     ]
    },
    {
     "data": {
      "application/vnd.jupyter.widget-view+json": {
       "model_id": "ce3a878cd31246b6a49589dfe6c7ab1b"
      }
     },
     "metadata": {},
     "output_type": "display_data"
    },
    {
     "name": "stdout",
     "output_type": "stream",
     "text": [
      "Do FFT...\n",
      "alloc screen buffer\n"
     ]
    },
    {
     "data": {
      "application/vnd.jupyter.widget-view+json": {
       "model_id": "21f57225a271493b841548c01cb578d9"
      }
     },
     "metadata": {},
     "output_type": "display_data"
    },
    {
     "name": "stdout",
     "output_type": "stream",
     "text": [
      "Do FFT...\n",
      "alloc screen buffer\n"
     ]
    },
    {
     "data": {
      "application/vnd.jupyter.widget-view+json": {
       "model_id": "01abca9fe04946e09c944d56e55bf398"
      }
     },
     "metadata": {},
     "output_type": "display_data"
    },
    {
     "name": "stdout",
     "output_type": "stream",
     "text": [
      "Do FFT...\n",
      "alloc screen buffer\n"
     ]
    },
    {
     "data": {
      "application/vnd.jupyter.widget-view+json": {
       "model_id": "7948bafcafc640bf98252b6aa7d7f1b7"
      }
     },
     "metadata": {},
     "output_type": "display_data"
    },
    {
     "name": "stdout",
     "output_type": "stream",
     "text": [
      "Do FFT...\n",
      "alloc screen buffer\n"
     ]
    },
    {
     "data": {
      "application/vnd.jupyter.widget-view+json": {
       "model_id": "d4d59846561c4acfb8fc46295768b7cf"
      }
     },
     "metadata": {},
     "output_type": "display_data"
    },
    {
     "name": "stdout",
     "output_type": "stream",
     "text": [
      "Do FFT...\n",
      "alloc screen buffer\n"
     ]
    },
    {
     "data": {
      "application/vnd.jupyter.widget-view+json": {
       "model_id": "b5dd24aa25f3468a8719cb4acd97eb6d"
      }
     },
     "metadata": {},
     "output_type": "display_data"
    },
    {
     "name": "stdout",
     "output_type": "stream",
     "text": [
      "Do FFT...\n",
      "alloc screen buffer\n"
     ]
    },
    {
     "data": {
      "application/vnd.jupyter.widget-view+json": {
       "model_id": "f4c14ca3c6e145fc83ec223d82b3bc16"
      }
     },
     "metadata": {},
     "output_type": "display_data"
    },
    {
     "name": "stdout",
     "output_type": "stream",
     "text": [
      "Do FFT...\n",
      "alloc screen buffer\n"
     ]
    },
    {
     "data": {
      "application/vnd.jupyter.widget-view+json": {
       "model_id": "4fbded5e2c90404c81c62dbb9c284445"
      }
     },
     "metadata": {},
     "output_type": "display_data"
    },
    {
     "name": "stdout",
     "output_type": "stream",
     "text": [
      "Do FFT...\n",
      "alloc screen buffer\n"
     ]
    },
    {
     "data": {
      "application/vnd.jupyter.widget-view+json": {
       "model_id": "30d98a207fb5421abae5881106c207c9"
      }
     },
     "metadata": {},
     "output_type": "display_data"
    },
    {
     "name": "stdout",
     "output_type": "stream",
     "text": [
      "Do FFT...\n",
      "alloc screen buffer\n"
     ]
    },
    {
     "data": {
      "application/vnd.jupyter.widget-view+json": {
       "model_id": "7df1f262df694e18b54bebe02a5a9835"
      }
     },
     "metadata": {},
     "output_type": "display_data"
    },
    {
     "name": "stdout",
     "output_type": "stream",
     "text": [
      "Do FFT...\n",
      "alloc screen buffer\n"
     ]
    },
    {
     "data": {
      "application/vnd.jupyter.widget-view+json": {
       "model_id": "50ae51957d1a433a8f6ffe74c3347a4f"
      }
     },
     "metadata": {},
     "output_type": "display_data"
    },
    {
     "name": "stdout",
     "output_type": "stream",
     "text": [
      "Do FFT...\n",
      "\n"
     ]
    }
   ],
   "source": [
    "total_scrn_size = stencil_length_factor * nx_size\n",
    "time_step = pxl_scale/wind_speed # This is timestep, as one pixel moved on each iteration\n",
    "\n",
    "n_scrns = total_scrn_size - nx_size\n",
    "\n",
    "print(\"Time Step: {} s\".format(time_step))\n",
    "\n",
    "power_spectrum_fft = numpy.zeros((n_tests, n_scrns))\n",
    "\n",
    "for n in tnrange(n_tests):\n",
    "    print(\"alloc screen buffer\")\n",
    "    screen_buffer = numpy.zeros((n_scrns, nx_size**2))\n",
    "\n",
    "    phase_screen = phasescreen.ft_phase_screen(r0, total_scrn_size, pxl_scale, L0, 0.01)[:, :nx_size]\n",
    "\n",
    "    \n",
    "    for i in tnrange(n_scrns):\n",
    "        scrn = phase_screen[i:i+nx_size]\n",
    "        if n%4 == 0:\n",
    "            scrn = scrn\n",
    "        elif n%4 == 1:\n",
    "            scrn = scrn.T\n",
    "        elif n%4 == 2:\n",
    "            scrn = scrn[::-1]\n",
    "        else:\n",
    "            scrn = scrn[::-1].T\n",
    "            \n",
    "        screen_buffer[i] = scrn.flatten()\n",
    "\n",
    "        \n",
    "    print(\"Do FFT...\")\n",
    "\n",
    "    power_spectra = abs(numpy.fft.fft(screen_buffer, axis=0))**2\n",
    "    power_spectrum_fft[n] = power_spectra.mean(1)\n",
    "\n",
    "\n",
    "x_vals_fft = numpy.fft.fftfreq(n_scrns, d=time_step)\n",
    "power_spectrum_fft = power_spectrum_fft[:, :n_scrns//2]\n",
    "x_vals_fft = x_vals_fft[:n_scrns//2]"
   ]
  },
  {
   "cell_type": "code",
   "execution_count": 19,
   "metadata": {},
   "outputs": [
    {
     "data": {
      "application/javascript": [
       "/* Put everything inside the global mpl namespace */\n",
       "window.mpl = {};\n",
       "\n",
       "\n",
       "mpl.get_websocket_type = function() {\n",
       "    if (typeof(WebSocket) !== 'undefined') {\n",
       "        return WebSocket;\n",
       "    } else if (typeof(MozWebSocket) !== 'undefined') {\n",
       "        return MozWebSocket;\n",
       "    } else {\n",
       "        alert('Your browser does not have WebSocket support.' +\n",
       "              'Please try Chrome, Safari or Firefox ≥ 6. ' +\n",
       "              'Firefox 4 and 5 are also supported but you ' +\n",
       "              'have to enable WebSockets in about:config.');\n",
       "    };\n",
       "}\n",
       "\n",
       "mpl.figure = function(figure_id, websocket, ondownload, parent_element) {\n",
       "    this.id = figure_id;\n",
       "\n",
       "    this.ws = websocket;\n",
       "\n",
       "    this.supports_binary = (this.ws.binaryType != undefined);\n",
       "\n",
       "    if (!this.supports_binary) {\n",
       "        var warnings = document.getElementById(\"mpl-warnings\");\n",
       "        if (warnings) {\n",
       "            warnings.style.display = 'block';\n",
       "            warnings.textContent = (\n",
       "                \"This browser does not support binary websocket messages. \" +\n",
       "                    \"Performance may be slow.\");\n",
       "        }\n",
       "    }\n",
       "\n",
       "    this.imageObj = new Image();\n",
       "\n",
       "    this.context = undefined;\n",
       "    this.message = undefined;\n",
       "    this.canvas = undefined;\n",
       "    this.rubberband_canvas = undefined;\n",
       "    this.rubberband_context = undefined;\n",
       "    this.format_dropdown = undefined;\n",
       "\n",
       "    this.image_mode = 'full';\n",
       "\n",
       "    this.root = $('<div/>');\n",
       "    this._root_extra_style(this.root)\n",
       "    this.root.attr('style', 'display: inline-block');\n",
       "\n",
       "    $(parent_element).append(this.root);\n",
       "\n",
       "    this._init_header(this);\n",
       "    this._init_canvas(this);\n",
       "    this._init_toolbar(this);\n",
       "\n",
       "    var fig = this;\n",
       "\n",
       "    this.waiting = false;\n",
       "\n",
       "    this.ws.onopen =  function () {\n",
       "            fig.send_message(\"supports_binary\", {value: fig.supports_binary});\n",
       "            fig.send_message(\"send_image_mode\", {});\n",
       "            if (mpl.ratio != 1) {\n",
       "                fig.send_message(\"set_dpi_ratio\", {'dpi_ratio': mpl.ratio});\n",
       "            }\n",
       "            fig.send_message(\"refresh\", {});\n",
       "        }\n",
       "\n",
       "    this.imageObj.onload = function() {\n",
       "            if (fig.image_mode == 'full') {\n",
       "                // Full images could contain transparency (where diff images\n",
       "                // almost always do), so we need to clear the canvas so that\n",
       "                // there is no ghosting.\n",
       "                fig.context.clearRect(0, 0, fig.canvas.width, fig.canvas.height);\n",
       "            }\n",
       "            fig.context.drawImage(fig.imageObj, 0, 0);\n",
       "        };\n",
       "\n",
       "    this.imageObj.onunload = function() {\n",
       "        this.ws.close();\n",
       "    }\n",
       "\n",
       "    this.ws.onmessage = this._make_on_message_function(this);\n",
       "\n",
       "    this.ondownload = ondownload;\n",
       "}\n",
       "\n",
       "mpl.figure.prototype._init_header = function() {\n",
       "    var titlebar = $(\n",
       "        '<div class=\"ui-dialog-titlebar ui-widget-header ui-corner-all ' +\n",
       "        'ui-helper-clearfix\"/>');\n",
       "    var titletext = $(\n",
       "        '<div class=\"ui-dialog-title\" style=\"width: 100%; ' +\n",
       "        'text-align: center; padding: 3px;\"/>');\n",
       "    titlebar.append(titletext)\n",
       "    this.root.append(titlebar);\n",
       "    this.header = titletext[0];\n",
       "}\n",
       "\n",
       "\n",
       "\n",
       "mpl.figure.prototype._canvas_extra_style = function(canvas_div) {\n",
       "\n",
       "}\n",
       "\n",
       "\n",
       "mpl.figure.prototype._root_extra_style = function(canvas_div) {\n",
       "\n",
       "}\n",
       "\n",
       "mpl.figure.prototype._init_canvas = function() {\n",
       "    var fig = this;\n",
       "\n",
       "    var canvas_div = $('<div/>');\n",
       "\n",
       "    canvas_div.attr('style', 'position: relative; clear: both; outline: 0');\n",
       "\n",
       "    function canvas_keyboard_event(event) {\n",
       "        return fig.key_event(event, event['data']);\n",
       "    }\n",
       "\n",
       "    canvas_div.keydown('key_press', canvas_keyboard_event);\n",
       "    canvas_div.keyup('key_release', canvas_keyboard_event);\n",
       "    this.canvas_div = canvas_div\n",
       "    this._canvas_extra_style(canvas_div)\n",
       "    this.root.append(canvas_div);\n",
       "\n",
       "    var canvas = $('<canvas/>');\n",
       "    canvas.addClass('mpl-canvas');\n",
       "    canvas.attr('style', \"left: 0; top: 0; z-index: 0; outline: 0\")\n",
       "\n",
       "    this.canvas = canvas[0];\n",
       "    this.context = canvas[0].getContext(\"2d\");\n",
       "\n",
       "    var backingStore = this.context.backingStorePixelRatio ||\n",
       "\tthis.context.webkitBackingStorePixelRatio ||\n",
       "\tthis.context.mozBackingStorePixelRatio ||\n",
       "\tthis.context.msBackingStorePixelRatio ||\n",
       "\tthis.context.oBackingStorePixelRatio ||\n",
       "\tthis.context.backingStorePixelRatio || 1;\n",
       "\n",
       "    mpl.ratio = (window.devicePixelRatio || 1) / backingStore;\n",
       "\n",
       "    var rubberband = $('<canvas/>');\n",
       "    rubberband.attr('style', \"position: absolute; left: 0; top: 0; z-index: 1;\")\n",
       "\n",
       "    var pass_mouse_events = true;\n",
       "\n",
       "    canvas_div.resizable({\n",
       "        start: function(event, ui) {\n",
       "            pass_mouse_events = false;\n",
       "        },\n",
       "        resize: function(event, ui) {\n",
       "            fig.request_resize(ui.size.width, ui.size.height);\n",
       "        },\n",
       "        stop: function(event, ui) {\n",
       "            pass_mouse_events = true;\n",
       "            fig.request_resize(ui.size.width, ui.size.height);\n",
       "        },\n",
       "    });\n",
       "\n",
       "    function mouse_event_fn(event) {\n",
       "        if (pass_mouse_events)\n",
       "            return fig.mouse_event(event, event['data']);\n",
       "    }\n",
       "\n",
       "    rubberband.mousedown('button_press', mouse_event_fn);\n",
       "    rubberband.mouseup('button_release', mouse_event_fn);\n",
       "    // Throttle sequential mouse events to 1 every 20ms.\n",
       "    rubberband.mousemove('motion_notify', mouse_event_fn);\n",
       "\n",
       "    rubberband.mouseenter('figure_enter', mouse_event_fn);\n",
       "    rubberband.mouseleave('figure_leave', mouse_event_fn);\n",
       "\n",
       "    canvas_div.on(\"wheel\", function (event) {\n",
       "        event = event.originalEvent;\n",
       "        event['data'] = 'scroll'\n",
       "        if (event.deltaY < 0) {\n",
       "            event.step = 1;\n",
       "        } else {\n",
       "            event.step = -1;\n",
       "        }\n",
       "        mouse_event_fn(event);\n",
       "    });\n",
       "\n",
       "    canvas_div.append(canvas);\n",
       "    canvas_div.append(rubberband);\n",
       "\n",
       "    this.rubberband = rubberband;\n",
       "    this.rubberband_canvas = rubberband[0];\n",
       "    this.rubberband_context = rubberband[0].getContext(\"2d\");\n",
       "    this.rubberband_context.strokeStyle = \"#000000\";\n",
       "\n",
       "    this._resize_canvas = function(width, height) {\n",
       "        // Keep the size of the canvas, canvas container, and rubber band\n",
       "        // canvas in synch.\n",
       "        canvas_div.css('width', width)\n",
       "        canvas_div.css('height', height)\n",
       "\n",
       "        canvas.attr('width', width * mpl.ratio);\n",
       "        canvas.attr('height', height * mpl.ratio);\n",
       "        canvas.attr('style', 'width: ' + width + 'px; height: ' + height + 'px;');\n",
       "\n",
       "        rubberband.attr('width', width);\n",
       "        rubberband.attr('height', height);\n",
       "    }\n",
       "\n",
       "    // Set the figure to an initial 600x600px, this will subsequently be updated\n",
       "    // upon first draw.\n",
       "    this._resize_canvas(600, 600);\n",
       "\n",
       "    // Disable right mouse context menu.\n",
       "    $(this.rubberband_canvas).bind(\"contextmenu\",function(e){\n",
       "        return false;\n",
       "    });\n",
       "\n",
       "    function set_focus () {\n",
       "        canvas.focus();\n",
       "        canvas_div.focus();\n",
       "    }\n",
       "\n",
       "    window.setTimeout(set_focus, 100);\n",
       "}\n",
       "\n",
       "mpl.figure.prototype._init_toolbar = function() {\n",
       "    var fig = this;\n",
       "\n",
       "    var nav_element = $('<div/>')\n",
       "    nav_element.attr('style', 'width: 100%');\n",
       "    this.root.append(nav_element);\n",
       "\n",
       "    // Define a callback function for later on.\n",
       "    function toolbar_event(event) {\n",
       "        return fig.toolbar_button_onclick(event['data']);\n",
       "    }\n",
       "    function toolbar_mouse_event(event) {\n",
       "        return fig.toolbar_button_onmouseover(event['data']);\n",
       "    }\n",
       "\n",
       "    for(var toolbar_ind in mpl.toolbar_items) {\n",
       "        var name = mpl.toolbar_items[toolbar_ind][0];\n",
       "        var tooltip = mpl.toolbar_items[toolbar_ind][1];\n",
       "        var image = mpl.toolbar_items[toolbar_ind][2];\n",
       "        var method_name = mpl.toolbar_items[toolbar_ind][3];\n",
       "\n",
       "        if (!name) {\n",
       "            // put a spacer in here.\n",
       "            continue;\n",
       "        }\n",
       "        var button = $('<button/>');\n",
       "        button.addClass('ui-button ui-widget ui-state-default ui-corner-all ' +\n",
       "                        'ui-button-icon-only');\n",
       "        button.attr('role', 'button');\n",
       "        button.attr('aria-disabled', 'false');\n",
       "        button.click(method_name, toolbar_event);\n",
       "        button.mouseover(tooltip, toolbar_mouse_event);\n",
       "\n",
       "        var icon_img = $('<span/>');\n",
       "        icon_img.addClass('ui-button-icon-primary ui-icon');\n",
       "        icon_img.addClass(image);\n",
       "        icon_img.addClass('ui-corner-all');\n",
       "\n",
       "        var tooltip_span = $('<span/>');\n",
       "        tooltip_span.addClass('ui-button-text');\n",
       "        tooltip_span.html(tooltip);\n",
       "\n",
       "        button.append(icon_img);\n",
       "        button.append(tooltip_span);\n",
       "\n",
       "        nav_element.append(button);\n",
       "    }\n",
       "\n",
       "    var fmt_picker_span = $('<span/>');\n",
       "\n",
       "    var fmt_picker = $('<select/>');\n",
       "    fmt_picker.addClass('mpl-toolbar-option ui-widget ui-widget-content');\n",
       "    fmt_picker_span.append(fmt_picker);\n",
       "    nav_element.append(fmt_picker_span);\n",
       "    this.format_dropdown = fmt_picker[0];\n",
       "\n",
       "    for (var ind in mpl.extensions) {\n",
       "        var fmt = mpl.extensions[ind];\n",
       "        var option = $(\n",
       "            '<option/>', {selected: fmt === mpl.default_extension}).html(fmt);\n",
       "        fmt_picker.append(option)\n",
       "    }\n",
       "\n",
       "    // Add hover states to the ui-buttons\n",
       "    $( \".ui-button\" ).hover(\n",
       "        function() { $(this).addClass(\"ui-state-hover\");},\n",
       "        function() { $(this).removeClass(\"ui-state-hover\");}\n",
       "    );\n",
       "\n",
       "    var status_bar = $('<span class=\"mpl-message\"/>');\n",
       "    nav_element.append(status_bar);\n",
       "    this.message = status_bar[0];\n",
       "}\n",
       "\n",
       "mpl.figure.prototype.request_resize = function(x_pixels, y_pixels) {\n",
       "    // Request matplotlib to resize the figure. Matplotlib will then trigger a resize in the client,\n",
       "    // which will in turn request a refresh of the image.\n",
       "    this.send_message('resize', {'width': x_pixels, 'height': y_pixels});\n",
       "}\n",
       "\n",
       "mpl.figure.prototype.send_message = function(type, properties) {\n",
       "    properties['type'] = type;\n",
       "    properties['figure_id'] = this.id;\n",
       "    this.ws.send(JSON.stringify(properties));\n",
       "}\n",
       "\n",
       "mpl.figure.prototype.send_draw_message = function() {\n",
       "    if (!this.waiting) {\n",
       "        this.waiting = true;\n",
       "        this.ws.send(JSON.stringify({type: \"draw\", figure_id: this.id}));\n",
       "    }\n",
       "}\n",
       "\n",
       "\n",
       "mpl.figure.prototype.handle_save = function(fig, msg) {\n",
       "    var format_dropdown = fig.format_dropdown;\n",
       "    var format = format_dropdown.options[format_dropdown.selectedIndex].value;\n",
       "    fig.ondownload(fig, format);\n",
       "}\n",
       "\n",
       "\n",
       "mpl.figure.prototype.handle_resize = function(fig, msg) {\n",
       "    var size = msg['size'];\n",
       "    if (size[0] != fig.canvas.width || size[1] != fig.canvas.height) {\n",
       "        fig._resize_canvas(size[0], size[1]);\n",
       "        fig.send_message(\"refresh\", {});\n",
       "    };\n",
       "}\n",
       "\n",
       "mpl.figure.prototype.handle_rubberband = function(fig, msg) {\n",
       "    var x0 = msg['x0'] / mpl.ratio;\n",
       "    var y0 = (fig.canvas.height - msg['y0']) / mpl.ratio;\n",
       "    var x1 = msg['x1'] / mpl.ratio;\n",
       "    var y1 = (fig.canvas.height - msg['y1']) / mpl.ratio;\n",
       "    x0 = Math.floor(x0) + 0.5;\n",
       "    y0 = Math.floor(y0) + 0.5;\n",
       "    x1 = Math.floor(x1) + 0.5;\n",
       "    y1 = Math.floor(y1) + 0.5;\n",
       "    var min_x = Math.min(x0, x1);\n",
       "    var min_y = Math.min(y0, y1);\n",
       "    var width = Math.abs(x1 - x0);\n",
       "    var height = Math.abs(y1 - y0);\n",
       "\n",
       "    fig.rubberband_context.clearRect(\n",
       "        0, 0, fig.canvas.width, fig.canvas.height);\n",
       "\n",
       "    fig.rubberband_context.strokeRect(min_x, min_y, width, height);\n",
       "}\n",
       "\n",
       "mpl.figure.prototype.handle_figure_label = function(fig, msg) {\n",
       "    // Updates the figure title.\n",
       "    fig.header.textContent = msg['label'];\n",
       "}\n",
       "\n",
       "mpl.figure.prototype.handle_cursor = function(fig, msg) {\n",
       "    var cursor = msg['cursor'];\n",
       "    switch(cursor)\n",
       "    {\n",
       "    case 0:\n",
       "        cursor = 'pointer';\n",
       "        break;\n",
       "    case 1:\n",
       "        cursor = 'default';\n",
       "        break;\n",
       "    case 2:\n",
       "        cursor = 'crosshair';\n",
       "        break;\n",
       "    case 3:\n",
       "        cursor = 'move';\n",
       "        break;\n",
       "    }\n",
       "    fig.rubberband_canvas.style.cursor = cursor;\n",
       "}\n",
       "\n",
       "mpl.figure.prototype.handle_message = function(fig, msg) {\n",
       "    fig.message.textContent = msg['message'];\n",
       "}\n",
       "\n",
       "mpl.figure.prototype.handle_draw = function(fig, msg) {\n",
       "    // Request the server to send over a new figure.\n",
       "    fig.send_draw_message();\n",
       "}\n",
       "\n",
       "mpl.figure.prototype.handle_image_mode = function(fig, msg) {\n",
       "    fig.image_mode = msg['mode'];\n",
       "}\n",
       "\n",
       "mpl.figure.prototype.updated_canvas_event = function() {\n",
       "    // Called whenever the canvas gets updated.\n",
       "    this.send_message(\"ack\", {});\n",
       "}\n",
       "\n",
       "// A function to construct a web socket function for onmessage handling.\n",
       "// Called in the figure constructor.\n",
       "mpl.figure.prototype._make_on_message_function = function(fig) {\n",
       "    return function socket_on_message(evt) {\n",
       "        if (evt.data instanceof Blob) {\n",
       "            /* FIXME: We get \"Resource interpreted as Image but\n",
       "             * transferred with MIME type text/plain:\" errors on\n",
       "             * Chrome.  But how to set the MIME type?  It doesn't seem\n",
       "             * to be part of the websocket stream */\n",
       "            evt.data.type = \"image/png\";\n",
       "\n",
       "            /* Free the memory for the previous frames */\n",
       "            if (fig.imageObj.src) {\n",
       "                (window.URL || window.webkitURL).revokeObjectURL(\n",
       "                    fig.imageObj.src);\n",
       "            }\n",
       "\n",
       "            fig.imageObj.src = (window.URL || window.webkitURL).createObjectURL(\n",
       "                evt.data);\n",
       "            fig.updated_canvas_event();\n",
       "            fig.waiting = false;\n",
       "            return;\n",
       "        }\n",
       "        else if (typeof evt.data === 'string' && evt.data.slice(0, 21) == \"data:image/png;base64\") {\n",
       "            fig.imageObj.src = evt.data;\n",
       "            fig.updated_canvas_event();\n",
       "            fig.waiting = false;\n",
       "            return;\n",
       "        }\n",
       "\n",
       "        var msg = JSON.parse(evt.data);\n",
       "        var msg_type = msg['type'];\n",
       "\n",
       "        // Call the  \"handle_{type}\" callback, which takes\n",
       "        // the figure and JSON message as its only arguments.\n",
       "        try {\n",
       "            var callback = fig[\"handle_\" + msg_type];\n",
       "        } catch (e) {\n",
       "            console.log(\"No handler for the '\" + msg_type + \"' message type: \", msg);\n",
       "            return;\n",
       "        }\n",
       "\n",
       "        if (callback) {\n",
       "            try {\n",
       "                // console.log(\"Handling '\" + msg_type + \"' message: \", msg);\n",
       "                callback(fig, msg);\n",
       "            } catch (e) {\n",
       "                console.log(\"Exception inside the 'handler_\" + msg_type + \"' callback:\", e, e.stack, msg);\n",
       "            }\n",
       "        }\n",
       "    };\n",
       "}\n",
       "\n",
       "// from http://stackoverflow.com/questions/1114465/getting-mouse-location-in-canvas\n",
       "mpl.findpos = function(e) {\n",
       "    //this section is from http://www.quirksmode.org/js/events_properties.html\n",
       "    var targ;\n",
       "    if (!e)\n",
       "        e = window.event;\n",
       "    if (e.target)\n",
       "        targ = e.target;\n",
       "    else if (e.srcElement)\n",
       "        targ = e.srcElement;\n",
       "    if (targ.nodeType == 3) // defeat Safari bug\n",
       "        targ = targ.parentNode;\n",
       "\n",
       "    // jQuery normalizes the pageX and pageY\n",
       "    // pageX,Y are the mouse positions relative to the document\n",
       "    // offset() returns the position of the element relative to the document\n",
       "    var x = e.pageX - $(targ).offset().left;\n",
       "    var y = e.pageY - $(targ).offset().top;\n",
       "\n",
       "    return {\"x\": x, \"y\": y};\n",
       "};\n",
       "\n",
       "/*\n",
       " * return a copy of an object with only non-object keys\n",
       " * we need this to avoid circular references\n",
       " * http://stackoverflow.com/a/24161582/3208463\n",
       " */\n",
       "function simpleKeys (original) {\n",
       "  return Object.keys(original).reduce(function (obj, key) {\n",
       "    if (typeof original[key] !== 'object')\n",
       "        obj[key] = original[key]\n",
       "    return obj;\n",
       "  }, {});\n",
       "}\n",
       "\n",
       "mpl.figure.prototype.mouse_event = function(event, name) {\n",
       "    var canvas_pos = mpl.findpos(event)\n",
       "\n",
       "    if (name === 'button_press')\n",
       "    {\n",
       "        this.canvas.focus();\n",
       "        this.canvas_div.focus();\n",
       "    }\n",
       "\n",
       "    var x = canvas_pos.x * mpl.ratio;\n",
       "    var y = canvas_pos.y * mpl.ratio;\n",
       "\n",
       "    this.send_message(name, {x: x, y: y, button: event.button,\n",
       "                             step: event.step,\n",
       "                             guiEvent: simpleKeys(event)});\n",
       "\n",
       "    /* This prevents the web browser from automatically changing to\n",
       "     * the text insertion cursor when the button is pressed.  We want\n",
       "     * to control all of the cursor setting manually through the\n",
       "     * 'cursor' event from matplotlib */\n",
       "    event.preventDefault();\n",
       "    return false;\n",
       "}\n",
       "\n",
       "mpl.figure.prototype._key_event_extra = function(event, name) {\n",
       "    // Handle any extra behaviour associated with a key event\n",
       "}\n",
       "\n",
       "mpl.figure.prototype.key_event = function(event, name) {\n",
       "\n",
       "    // Prevent repeat events\n",
       "    if (name == 'key_press')\n",
       "    {\n",
       "        if (event.which === this._key)\n",
       "            return;\n",
       "        else\n",
       "            this._key = event.which;\n",
       "    }\n",
       "    if (name == 'key_release')\n",
       "        this._key = null;\n",
       "\n",
       "    var value = '';\n",
       "    if (event.ctrlKey && event.which != 17)\n",
       "        value += \"ctrl+\";\n",
       "    if (event.altKey && event.which != 18)\n",
       "        value += \"alt+\";\n",
       "    if (event.shiftKey && event.which != 16)\n",
       "        value += \"shift+\";\n",
       "\n",
       "    value += 'k';\n",
       "    value += event.which.toString();\n",
       "\n",
       "    this._key_event_extra(event, name);\n",
       "\n",
       "    this.send_message(name, {key: value,\n",
       "                             guiEvent: simpleKeys(event)});\n",
       "    return false;\n",
       "}\n",
       "\n",
       "mpl.figure.prototype.toolbar_button_onclick = function(name) {\n",
       "    if (name == 'download') {\n",
       "        this.handle_save(this, null);\n",
       "    } else {\n",
       "        this.send_message(\"toolbar_button\", {name: name});\n",
       "    }\n",
       "};\n",
       "\n",
       "mpl.figure.prototype.toolbar_button_onmouseover = function(tooltip) {\n",
       "    this.message.textContent = tooltip;\n",
       "};\n",
       "mpl.toolbar_items = [[\"Home\", \"Reset original view\", \"fa fa-home icon-home\", \"home\"], [\"Back\", \"Back to  previous view\", \"fa fa-arrow-left icon-arrow-left\", \"back\"], [\"Forward\", \"Forward to next view\", \"fa fa-arrow-right icon-arrow-right\", \"forward\"], [\"\", \"\", \"\", \"\"], [\"Pan\", \"Pan axes with left mouse, zoom with right\", \"fa fa-arrows icon-move\", \"pan\"], [\"Zoom\", \"Zoom to rectangle\", \"fa fa-square-o icon-check-empty\", \"zoom\"], [\"\", \"\", \"\", \"\"], [\"Download\", \"Download plot\", \"fa fa-floppy-o icon-save\", \"download\"]];\n",
       "\n",
       "mpl.extensions = [\"eps\", \"jpeg\", \"pdf\", \"png\", \"ps\", \"raw\", \"svg\", \"tif\"];\n",
       "\n",
       "mpl.default_extension = \"png\";var comm_websocket_adapter = function(comm) {\n",
       "    // Create a \"websocket\"-like object which calls the given IPython comm\n",
       "    // object with the appropriate methods. Currently this is a non binary\n",
       "    // socket, so there is still some room for performance tuning.\n",
       "    var ws = {};\n",
       "\n",
       "    ws.close = function() {\n",
       "        comm.close()\n",
       "    };\n",
       "    ws.send = function(m) {\n",
       "        //console.log('sending', m);\n",
       "        comm.send(m);\n",
       "    };\n",
       "    // Register the callback with on_msg.\n",
       "    comm.on_msg(function(msg) {\n",
       "        //console.log('receiving', msg['content']['data'], msg);\n",
       "        // Pass the mpl event to the overriden (by mpl) onmessage function.\n",
       "        ws.onmessage(msg['content']['data'])\n",
       "    });\n",
       "    return ws;\n",
       "}\n",
       "\n",
       "mpl.mpl_figure_comm = function(comm, msg) {\n",
       "    // This is the function which gets called when the mpl process\n",
       "    // starts-up an IPython Comm through the \"matplotlib\" channel.\n",
       "\n",
       "    var id = msg.content.data.id;\n",
       "    // Get hold of the div created by the display call when the Comm\n",
       "    // socket was opened in Python.\n",
       "    var element = $(\"#\" + id);\n",
       "    var ws_proxy = comm_websocket_adapter(comm)\n",
       "\n",
       "    function ondownload(figure, format) {\n",
       "        window.open(figure.imageObj.src);\n",
       "    }\n",
       "\n",
       "    var fig = new mpl.figure(id, ws_proxy,\n",
       "                           ondownload,\n",
       "                           element.get(0));\n",
       "\n",
       "    // Call onopen now - mpl needs it, as it is assuming we've passed it a real\n",
       "    // web socket which is closed, not our websocket->open comm proxy.\n",
       "    ws_proxy.onopen();\n",
       "\n",
       "    fig.parent_element = element.get(0);\n",
       "    fig.cell_info = mpl.find_output_cell(\"<div id='\" + id + \"'></div>\");\n",
       "    if (!fig.cell_info) {\n",
       "        console.error(\"Failed to find cell for figure\", id, fig);\n",
       "        return;\n",
       "    }\n",
       "\n",
       "    var output_index = fig.cell_info[2]\n",
       "    var cell = fig.cell_info[0];\n",
       "\n",
       "};\n",
       "\n",
       "mpl.figure.prototype.handle_close = function(fig, msg) {\n",
       "    var width = fig.canvas.width/mpl.ratio\n",
       "    fig.root.unbind('remove')\n",
       "\n",
       "    // Update the output cell to use the data from the current canvas.\n",
       "    fig.push_to_output();\n",
       "    var dataURL = fig.canvas.toDataURL();\n",
       "    // Re-enable the keyboard manager in IPython - without this line, in FF,\n",
       "    // the notebook keyboard shortcuts fail.\n",
       "    IPython.keyboard_manager.enable()\n",
       "    $(fig.parent_element).html('<img src=\"' + dataURL + '\" width=\"' + width + '\">');\n",
       "    fig.close_ws(fig, msg);\n",
       "}\n",
       "\n",
       "mpl.figure.prototype.close_ws = function(fig, msg){\n",
       "    fig.send_message('closing', msg);\n",
       "    // fig.ws.close()\n",
       "}\n",
       "\n",
       "mpl.figure.prototype.push_to_output = function(remove_interactive) {\n",
       "    // Turn the data on the canvas into data in the output cell.\n",
       "    var width = this.canvas.width/mpl.ratio\n",
       "    var dataURL = this.canvas.toDataURL();\n",
       "    this.cell_info[1]['text/html'] = '<img src=\"' + dataURL + '\" width=\"' + width + '\">';\n",
       "}\n",
       "\n",
       "mpl.figure.prototype.updated_canvas_event = function() {\n",
       "    // Tell IPython that the notebook contents must change.\n",
       "    IPython.notebook.set_dirty(true);\n",
       "    this.send_message(\"ack\", {});\n",
       "    var fig = this;\n",
       "    // Wait a second, then push the new image to the DOM so\n",
       "    // that it is saved nicely (might be nice to debounce this).\n",
       "    setTimeout(function () { fig.push_to_output() }, 1000);\n",
       "}\n",
       "\n",
       "mpl.figure.prototype._init_toolbar = function() {\n",
       "    var fig = this;\n",
       "\n",
       "    var nav_element = $('<div/>')\n",
       "    nav_element.attr('style', 'width: 100%');\n",
       "    this.root.append(nav_element);\n",
       "\n",
       "    // Define a callback function for later on.\n",
       "    function toolbar_event(event) {\n",
       "        return fig.toolbar_button_onclick(event['data']);\n",
       "    }\n",
       "    function toolbar_mouse_event(event) {\n",
       "        return fig.toolbar_button_onmouseover(event['data']);\n",
       "    }\n",
       "\n",
       "    for(var toolbar_ind in mpl.toolbar_items){\n",
       "        var name = mpl.toolbar_items[toolbar_ind][0];\n",
       "        var tooltip = mpl.toolbar_items[toolbar_ind][1];\n",
       "        var image = mpl.toolbar_items[toolbar_ind][2];\n",
       "        var method_name = mpl.toolbar_items[toolbar_ind][3];\n",
       "\n",
       "        if (!name) { continue; };\n",
       "\n",
       "        var button = $('<button class=\"btn btn-default\" href=\"#\" title=\"' + name + '\"><i class=\"fa ' + image + ' fa-lg\"></i></button>');\n",
       "        button.click(method_name, toolbar_event);\n",
       "        button.mouseover(tooltip, toolbar_mouse_event);\n",
       "        nav_element.append(button);\n",
       "    }\n",
       "\n",
       "    // Add the status bar.\n",
       "    var status_bar = $('<span class=\"mpl-message\" style=\"text-align:right; float: right;\"/>');\n",
       "    nav_element.append(status_bar);\n",
       "    this.message = status_bar[0];\n",
       "\n",
       "    // Add the close button to the window.\n",
       "    var buttongrp = $('<div class=\"btn-group inline pull-right\"></div>');\n",
       "    var button = $('<button class=\"btn btn-mini btn-primary\" href=\"#\" title=\"Stop Interaction\"><i class=\"fa fa-power-off icon-remove icon-large\"></i></button>');\n",
       "    button.click(function (evt) { fig.handle_close(fig, {}); } );\n",
       "    button.mouseover('Stop Interaction', toolbar_mouse_event);\n",
       "    buttongrp.append(button);\n",
       "    var titlebar = this.root.find($('.ui-dialog-titlebar'));\n",
       "    titlebar.prepend(buttongrp);\n",
       "}\n",
       "\n",
       "mpl.figure.prototype._root_extra_style = function(el){\n",
       "    var fig = this\n",
       "    el.on(\"remove\", function(){\n",
       "\tfig.close_ws(fig, {});\n",
       "    });\n",
       "}\n",
       "\n",
       "mpl.figure.prototype._canvas_extra_style = function(el){\n",
       "    // this is important to make the div 'focusable\n",
       "    el.attr('tabindex', 0)\n",
       "    // reach out to IPython and tell the keyboard manager to turn it's self\n",
       "    // off when our div gets focus\n",
       "\n",
       "    // location in version 3\n",
       "    if (IPython.notebook.keyboard_manager) {\n",
       "        IPython.notebook.keyboard_manager.register_events(el);\n",
       "    }\n",
       "    else {\n",
       "        // location in version 2\n",
       "        IPython.keyboard_manager.register_events(el);\n",
       "    }\n",
       "\n",
       "}\n",
       "\n",
       "mpl.figure.prototype._key_event_extra = function(event, name) {\n",
       "    var manager = IPython.notebook.keyboard_manager;\n",
       "    if (!manager)\n",
       "        manager = IPython.keyboard_manager;\n",
       "\n",
       "    // Check for shift+enter\n",
       "    if (event.shiftKey && event.which == 13) {\n",
       "        this.canvas_div.blur();\n",
       "        // select the cell after this one\n",
       "        var index = IPython.notebook.find_cell_index(this.cell_info[0]);\n",
       "        IPython.notebook.select(index + 1);\n",
       "    }\n",
       "}\n",
       "\n",
       "mpl.figure.prototype.handle_save = function(fig, msg) {\n",
       "    fig.ondownload(fig, null);\n",
       "}\n",
       "\n",
       "\n",
       "mpl.find_output_cell = function(html_output) {\n",
       "    // Return the cell and output element which can be found *uniquely* in the notebook.\n",
       "    // Note - this is a bit hacky, but it is done because the \"notebook_saving.Notebook\"\n",
       "    // IPython event is triggered only after the cells have been serialised, which for\n",
       "    // our purposes (turning an active figure into a static one), is too late.\n",
       "    var cells = IPython.notebook.get_cells();\n",
       "    var ncells = cells.length;\n",
       "    for (var i=0; i<ncells; i++) {\n",
       "        var cell = cells[i];\n",
       "        if (cell.cell_type === 'code'){\n",
       "            for (var j=0; j<cell.output_area.outputs.length; j++) {\n",
       "                var data = cell.output_area.outputs[j];\n",
       "                if (data.data) {\n",
       "                    // IPython >= 3 moved mimebundle to data attribute of output\n",
       "                    data = data.data;\n",
       "                }\n",
       "                if (data['text/html'] == html_output) {\n",
       "                    return [cell, data, j];\n",
       "                }\n",
       "            }\n",
       "        }\n",
       "    }\n",
       "}\n",
       "\n",
       "// Register the function which deals with the matplotlib target/channel.\n",
       "// The kernel may be null if the page has been refreshed.\n",
       "if (IPython.notebook.kernel != null) {\n",
       "    IPython.notebook.kernel.comm_manager.register_target('matplotlib', mpl.mpl_figure_comm);\n",
       "}\n"
      ],
      "text/plain": [
       "<IPython.core.display.Javascript object>"
      ]
     },
     "metadata": {},
     "output_type": "display_data"
    },
    {
     "data": {
      "text/html": [
       "<img src=\"data:image/png;base64,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\" width=\"640\">"
      ],
      "text/plain": [
       "<IPython.core.display.HTML object>"
      ]
     },
     "metadata": {},
     "output_type": "display_data"
    },
    {
     "name": "stderr",
     "output_type": "stream",
     "text": [
      "C:\\ProgramData\\Anaconda3\\lib\\site-packages\\matplotlib\\axes\\_base.py:2917: UserWarning: Attempting to set identical left==right results\n",
      "in singular transformations; automatically expanding.\n",
      "left=1.0, right=1.0\n",
      "  'left=%s, right=%s') % (left, right))\n",
      "C:\\ProgramData\\Anaconda3\\lib\\site-packages\\ipykernel_launcher.py:12: RuntimeWarning: divide by zero encountered in power\n",
      "  if sys.path[0] == '':\n"
     ]
    },
    {
     "data": {
      "text/plain": [
       "<matplotlib.text.Text at 0x1eba8eafef0>"
      ]
     },
     "execution_count": 19,
     "metadata": {},
     "output_type": "execute_result"
    }
   ],
   "source": [
    "plot_temporal_power_spectrum(x_vals_fft, power_spectrum_fft, scale=1e7, r0=r0, L0=L0, wind_speed=wind_speed)\n",
    "pyplot.title(\"Temporal Power Specra of FFT phase screen\")"
   ]
  },
  {
   "cell_type": "code",
   "execution_count": null,
   "metadata": {
    "collapsed": true
   },
   "outputs": [],
   "source": []
  },
  {
   "cell_type": "code",
   "execution_count": 22,
   "metadata": {},
   "outputs": [
    {
     "data": {
      "application/javascript": [
       "/* Put everything inside the global mpl namespace */\n",
       "window.mpl = {};\n",
       "\n",
       "\n",
       "mpl.get_websocket_type = function() {\n",
       "    if (typeof(WebSocket) !== 'undefined') {\n",
       "        return WebSocket;\n",
       "    } else if (typeof(MozWebSocket) !== 'undefined') {\n",
       "        return MozWebSocket;\n",
       "    } else {\n",
       "        alert('Your browser does not have WebSocket support.' +\n",
       "              'Please try Chrome, Safari or Firefox ≥ 6. ' +\n",
       "              'Firefox 4 and 5 are also supported but you ' +\n",
       "              'have to enable WebSockets in about:config.');\n",
       "    };\n",
       "}\n",
       "\n",
       "mpl.figure = function(figure_id, websocket, ondownload, parent_element) {\n",
       "    this.id = figure_id;\n",
       "\n",
       "    this.ws = websocket;\n",
       "\n",
       "    this.supports_binary = (this.ws.binaryType != undefined);\n",
       "\n",
       "    if (!this.supports_binary) {\n",
       "        var warnings = document.getElementById(\"mpl-warnings\");\n",
       "        if (warnings) {\n",
       "            warnings.style.display = 'block';\n",
       "            warnings.textContent = (\n",
       "                \"This browser does not support binary websocket messages. \" +\n",
       "                    \"Performance may be slow.\");\n",
       "        }\n",
       "    }\n",
       "\n",
       "    this.imageObj = new Image();\n",
       "\n",
       "    this.context = undefined;\n",
       "    this.message = undefined;\n",
       "    this.canvas = undefined;\n",
       "    this.rubberband_canvas = undefined;\n",
       "    this.rubberband_context = undefined;\n",
       "    this.format_dropdown = undefined;\n",
       "\n",
       "    this.image_mode = 'full';\n",
       "\n",
       "    this.root = $('<div/>');\n",
       "    this._root_extra_style(this.root)\n",
       "    this.root.attr('style', 'display: inline-block');\n",
       "\n",
       "    $(parent_element).append(this.root);\n",
       "\n",
       "    this._init_header(this);\n",
       "    this._init_canvas(this);\n",
       "    this._init_toolbar(this);\n",
       "\n",
       "    var fig = this;\n",
       "\n",
       "    this.waiting = false;\n",
       "\n",
       "    this.ws.onopen =  function () {\n",
       "            fig.send_message(\"supports_binary\", {value: fig.supports_binary});\n",
       "            fig.send_message(\"send_image_mode\", {});\n",
       "            if (mpl.ratio != 1) {\n",
       "                fig.send_message(\"set_dpi_ratio\", {'dpi_ratio': mpl.ratio});\n",
       "            }\n",
       "            fig.send_message(\"refresh\", {});\n",
       "        }\n",
       "\n",
       "    this.imageObj.onload = function() {\n",
       "            if (fig.image_mode == 'full') {\n",
       "                // Full images could contain transparency (where diff images\n",
       "                // almost always do), so we need to clear the canvas so that\n",
       "                // there is no ghosting.\n",
       "                fig.context.clearRect(0, 0, fig.canvas.width, fig.canvas.height);\n",
       "            }\n",
       "            fig.context.drawImage(fig.imageObj, 0, 0);\n",
       "        };\n",
       "\n",
       "    this.imageObj.onunload = function() {\n",
       "        this.ws.close();\n",
       "    }\n",
       "\n",
       "    this.ws.onmessage = this._make_on_message_function(this);\n",
       "\n",
       "    this.ondownload = ondownload;\n",
       "}\n",
       "\n",
       "mpl.figure.prototype._init_header = function() {\n",
       "    var titlebar = $(\n",
       "        '<div class=\"ui-dialog-titlebar ui-widget-header ui-corner-all ' +\n",
       "        'ui-helper-clearfix\"/>');\n",
       "    var titletext = $(\n",
       "        '<div class=\"ui-dialog-title\" style=\"width: 100%; ' +\n",
       "        'text-align: center; padding: 3px;\"/>');\n",
       "    titlebar.append(titletext)\n",
       "    this.root.append(titlebar);\n",
       "    this.header = titletext[0];\n",
       "}\n",
       "\n",
       "\n",
       "\n",
       "mpl.figure.prototype._canvas_extra_style = function(canvas_div) {\n",
       "\n",
       "}\n",
       "\n",
       "\n",
       "mpl.figure.prototype._root_extra_style = function(canvas_div) {\n",
       "\n",
       "}\n",
       "\n",
       "mpl.figure.prototype._init_canvas = function() {\n",
       "    var fig = this;\n",
       "\n",
       "    var canvas_div = $('<div/>');\n",
       "\n",
       "    canvas_div.attr('style', 'position: relative; clear: both; outline: 0');\n",
       "\n",
       "    function canvas_keyboard_event(event) {\n",
       "        return fig.key_event(event, event['data']);\n",
       "    }\n",
       "\n",
       "    canvas_div.keydown('key_press', canvas_keyboard_event);\n",
       "    canvas_div.keyup('key_release', canvas_keyboard_event);\n",
       "    this.canvas_div = canvas_div\n",
       "    this._canvas_extra_style(canvas_div)\n",
       "    this.root.append(canvas_div);\n",
       "\n",
       "    var canvas = $('<canvas/>');\n",
       "    canvas.addClass('mpl-canvas');\n",
       "    canvas.attr('style', \"left: 0; top: 0; z-index: 0; outline: 0\")\n",
       "\n",
       "    this.canvas = canvas[0];\n",
       "    this.context = canvas[0].getContext(\"2d\");\n",
       "\n",
       "    var backingStore = this.context.backingStorePixelRatio ||\n",
       "\tthis.context.webkitBackingStorePixelRatio ||\n",
       "\tthis.context.mozBackingStorePixelRatio ||\n",
       "\tthis.context.msBackingStorePixelRatio ||\n",
       "\tthis.context.oBackingStorePixelRatio ||\n",
       "\tthis.context.backingStorePixelRatio || 1;\n",
       "\n",
       "    mpl.ratio = (window.devicePixelRatio || 1) / backingStore;\n",
       "\n",
       "    var rubberband = $('<canvas/>');\n",
       "    rubberband.attr('style', \"position: absolute; left: 0; top: 0; z-index: 1;\")\n",
       "\n",
       "    var pass_mouse_events = true;\n",
       "\n",
       "    canvas_div.resizable({\n",
       "        start: function(event, ui) {\n",
       "            pass_mouse_events = false;\n",
       "        },\n",
       "        resize: function(event, ui) {\n",
       "            fig.request_resize(ui.size.width, ui.size.height);\n",
       "        },\n",
       "        stop: function(event, ui) {\n",
       "            pass_mouse_events = true;\n",
       "            fig.request_resize(ui.size.width, ui.size.height);\n",
       "        },\n",
       "    });\n",
       "\n",
       "    function mouse_event_fn(event) {\n",
       "        if (pass_mouse_events)\n",
       "            return fig.mouse_event(event, event['data']);\n",
       "    }\n",
       "\n",
       "    rubberband.mousedown('button_press', mouse_event_fn);\n",
       "    rubberband.mouseup('button_release', mouse_event_fn);\n",
       "    // Throttle sequential mouse events to 1 every 20ms.\n",
       "    rubberband.mousemove('motion_notify', mouse_event_fn);\n",
       "\n",
       "    rubberband.mouseenter('figure_enter', mouse_event_fn);\n",
       "    rubberband.mouseleave('figure_leave', mouse_event_fn);\n",
       "\n",
       "    canvas_div.on(\"wheel\", function (event) {\n",
       "        event = event.originalEvent;\n",
       "        event['data'] = 'scroll'\n",
       "        if (event.deltaY < 0) {\n",
       "            event.step = 1;\n",
       "        } else {\n",
       "            event.step = -1;\n",
       "        }\n",
       "        mouse_event_fn(event);\n",
       "    });\n",
       "\n",
       "    canvas_div.append(canvas);\n",
       "    canvas_div.append(rubberband);\n",
       "\n",
       "    this.rubberband = rubberband;\n",
       "    this.rubberband_canvas = rubberband[0];\n",
       "    this.rubberband_context = rubberband[0].getContext(\"2d\");\n",
       "    this.rubberband_context.strokeStyle = \"#000000\";\n",
       "\n",
       "    this._resize_canvas = function(width, height) {\n",
       "        // Keep the size of the canvas, canvas container, and rubber band\n",
       "        // canvas in synch.\n",
       "        canvas_div.css('width', width)\n",
       "        canvas_div.css('height', height)\n",
       "\n",
       "        canvas.attr('width', width * mpl.ratio);\n",
       "        canvas.attr('height', height * mpl.ratio);\n",
       "        canvas.attr('style', 'width: ' + width + 'px; height: ' + height + 'px;');\n",
       "\n",
       "        rubberband.attr('width', width);\n",
       "        rubberband.attr('height', height);\n",
       "    }\n",
       "\n",
       "    // Set the figure to an initial 600x600px, this will subsequently be updated\n",
       "    // upon first draw.\n",
       "    this._resize_canvas(600, 600);\n",
       "\n",
       "    // Disable right mouse context menu.\n",
       "    $(this.rubberband_canvas).bind(\"contextmenu\",function(e){\n",
       "        return false;\n",
       "    });\n",
       "\n",
       "    function set_focus () {\n",
       "        canvas.focus();\n",
       "        canvas_div.focus();\n",
       "    }\n",
       "\n",
       "    window.setTimeout(set_focus, 100);\n",
       "}\n",
       "\n",
       "mpl.figure.prototype._init_toolbar = function() {\n",
       "    var fig = this;\n",
       "\n",
       "    var nav_element = $('<div/>')\n",
       "    nav_element.attr('style', 'width: 100%');\n",
       "    this.root.append(nav_element);\n",
       "\n",
       "    // Define a callback function for later on.\n",
       "    function toolbar_event(event) {\n",
       "        return fig.toolbar_button_onclick(event['data']);\n",
       "    }\n",
       "    function toolbar_mouse_event(event) {\n",
       "        return fig.toolbar_button_onmouseover(event['data']);\n",
       "    }\n",
       "\n",
       "    for(var toolbar_ind in mpl.toolbar_items) {\n",
       "        var name = mpl.toolbar_items[toolbar_ind][0];\n",
       "        var tooltip = mpl.toolbar_items[toolbar_ind][1];\n",
       "        var image = mpl.toolbar_items[toolbar_ind][2];\n",
       "        var method_name = mpl.toolbar_items[toolbar_ind][3];\n",
       "\n",
       "        if (!name) {\n",
       "            // put a spacer in here.\n",
       "            continue;\n",
       "        }\n",
       "        var button = $('<button/>');\n",
       "        button.addClass('ui-button ui-widget ui-state-default ui-corner-all ' +\n",
       "                        'ui-button-icon-only');\n",
       "        button.attr('role', 'button');\n",
       "        button.attr('aria-disabled', 'false');\n",
       "        button.click(method_name, toolbar_event);\n",
       "        button.mouseover(tooltip, toolbar_mouse_event);\n",
       "\n",
       "        var icon_img = $('<span/>');\n",
       "        icon_img.addClass('ui-button-icon-primary ui-icon');\n",
       "        icon_img.addClass(image);\n",
       "        icon_img.addClass('ui-corner-all');\n",
       "\n",
       "        var tooltip_span = $('<span/>');\n",
       "        tooltip_span.addClass('ui-button-text');\n",
       "        tooltip_span.html(tooltip);\n",
       "\n",
       "        button.append(icon_img);\n",
       "        button.append(tooltip_span);\n",
       "\n",
       "        nav_element.append(button);\n",
       "    }\n",
       "\n",
       "    var fmt_picker_span = $('<span/>');\n",
       "\n",
       "    var fmt_picker = $('<select/>');\n",
       "    fmt_picker.addClass('mpl-toolbar-option ui-widget ui-widget-content');\n",
       "    fmt_picker_span.append(fmt_picker);\n",
       "    nav_element.append(fmt_picker_span);\n",
       "    this.format_dropdown = fmt_picker[0];\n",
       "\n",
       "    for (var ind in mpl.extensions) {\n",
       "        var fmt = mpl.extensions[ind];\n",
       "        var option = $(\n",
       "            '<option/>', {selected: fmt === mpl.default_extension}).html(fmt);\n",
       "        fmt_picker.append(option)\n",
       "    }\n",
       "\n",
       "    // Add hover states to the ui-buttons\n",
       "    $( \".ui-button\" ).hover(\n",
       "        function() { $(this).addClass(\"ui-state-hover\");},\n",
       "        function() { $(this).removeClass(\"ui-state-hover\");}\n",
       "    );\n",
       "\n",
       "    var status_bar = $('<span class=\"mpl-message\"/>');\n",
       "    nav_element.append(status_bar);\n",
       "    this.message = status_bar[0];\n",
       "}\n",
       "\n",
       "mpl.figure.prototype.request_resize = function(x_pixels, y_pixels) {\n",
       "    // Request matplotlib to resize the figure. Matplotlib will then trigger a resize in the client,\n",
       "    // which will in turn request a refresh of the image.\n",
       "    this.send_message('resize', {'width': x_pixels, 'height': y_pixels});\n",
       "}\n",
       "\n",
       "mpl.figure.prototype.send_message = function(type, properties) {\n",
       "    properties['type'] = type;\n",
       "    properties['figure_id'] = this.id;\n",
       "    this.ws.send(JSON.stringify(properties));\n",
       "}\n",
       "\n",
       "mpl.figure.prototype.send_draw_message = function() {\n",
       "    if (!this.waiting) {\n",
       "        this.waiting = true;\n",
       "        this.ws.send(JSON.stringify({type: \"draw\", figure_id: this.id}));\n",
       "    }\n",
       "}\n",
       "\n",
       "\n",
       "mpl.figure.prototype.handle_save = function(fig, msg) {\n",
       "    var format_dropdown = fig.format_dropdown;\n",
       "    var format = format_dropdown.options[format_dropdown.selectedIndex].value;\n",
       "    fig.ondownload(fig, format);\n",
       "}\n",
       "\n",
       "\n",
       "mpl.figure.prototype.handle_resize = function(fig, msg) {\n",
       "    var size = msg['size'];\n",
       "    if (size[0] != fig.canvas.width || size[1] != fig.canvas.height) {\n",
       "        fig._resize_canvas(size[0], size[1]);\n",
       "        fig.send_message(\"refresh\", {});\n",
       "    };\n",
       "}\n",
       "\n",
       "mpl.figure.prototype.handle_rubberband = function(fig, msg) {\n",
       "    var x0 = msg['x0'] / mpl.ratio;\n",
       "    var y0 = (fig.canvas.height - msg['y0']) / mpl.ratio;\n",
       "    var x1 = msg['x1'] / mpl.ratio;\n",
       "    var y1 = (fig.canvas.height - msg['y1']) / mpl.ratio;\n",
       "    x0 = Math.floor(x0) + 0.5;\n",
       "    y0 = Math.floor(y0) + 0.5;\n",
       "    x1 = Math.floor(x1) + 0.5;\n",
       "    y1 = Math.floor(y1) + 0.5;\n",
       "    var min_x = Math.min(x0, x1);\n",
       "    var min_y = Math.min(y0, y1);\n",
       "    var width = Math.abs(x1 - x0);\n",
       "    var height = Math.abs(y1 - y0);\n",
       "\n",
       "    fig.rubberband_context.clearRect(\n",
       "        0, 0, fig.canvas.width, fig.canvas.height);\n",
       "\n",
       "    fig.rubberband_context.strokeRect(min_x, min_y, width, height);\n",
       "}\n",
       "\n",
       "mpl.figure.prototype.handle_figure_label = function(fig, msg) {\n",
       "    // Updates the figure title.\n",
       "    fig.header.textContent = msg['label'];\n",
       "}\n",
       "\n",
       "mpl.figure.prototype.handle_cursor = function(fig, msg) {\n",
       "    var cursor = msg['cursor'];\n",
       "    switch(cursor)\n",
       "    {\n",
       "    case 0:\n",
       "        cursor = 'pointer';\n",
       "        break;\n",
       "    case 1:\n",
       "        cursor = 'default';\n",
       "        break;\n",
       "    case 2:\n",
       "        cursor = 'crosshair';\n",
       "        break;\n",
       "    case 3:\n",
       "        cursor = 'move';\n",
       "        break;\n",
       "    }\n",
       "    fig.rubberband_canvas.style.cursor = cursor;\n",
       "}\n",
       "\n",
       "mpl.figure.prototype.handle_message = function(fig, msg) {\n",
       "    fig.message.textContent = msg['message'];\n",
       "}\n",
       "\n",
       "mpl.figure.prototype.handle_draw = function(fig, msg) {\n",
       "    // Request the server to send over a new figure.\n",
       "    fig.send_draw_message();\n",
       "}\n",
       "\n",
       "mpl.figure.prototype.handle_image_mode = function(fig, msg) {\n",
       "    fig.image_mode = msg['mode'];\n",
       "}\n",
       "\n",
       "mpl.figure.prototype.updated_canvas_event = function() {\n",
       "    // Called whenever the canvas gets updated.\n",
       "    this.send_message(\"ack\", {});\n",
       "}\n",
       "\n",
       "// A function to construct a web socket function for onmessage handling.\n",
       "// Called in the figure constructor.\n",
       "mpl.figure.prototype._make_on_message_function = function(fig) {\n",
       "    return function socket_on_message(evt) {\n",
       "        if (evt.data instanceof Blob) {\n",
       "            /* FIXME: We get \"Resource interpreted as Image but\n",
       "             * transferred with MIME type text/plain:\" errors on\n",
       "             * Chrome.  But how to set the MIME type?  It doesn't seem\n",
       "             * to be part of the websocket stream */\n",
       "            evt.data.type = \"image/png\";\n",
       "\n",
       "            /* Free the memory for the previous frames */\n",
       "            if (fig.imageObj.src) {\n",
       "                (window.URL || window.webkitURL).revokeObjectURL(\n",
       "                    fig.imageObj.src);\n",
       "            }\n",
       "\n",
       "            fig.imageObj.src = (window.URL || window.webkitURL).createObjectURL(\n",
       "                evt.data);\n",
       "            fig.updated_canvas_event();\n",
       "            fig.waiting = false;\n",
       "            return;\n",
       "        }\n",
       "        else if (typeof evt.data === 'string' && evt.data.slice(0, 21) == \"data:image/png;base64\") {\n",
       "            fig.imageObj.src = evt.data;\n",
       "            fig.updated_canvas_event();\n",
       "            fig.waiting = false;\n",
       "            return;\n",
       "        }\n",
       "\n",
       "        var msg = JSON.parse(evt.data);\n",
       "        var msg_type = msg['type'];\n",
       "\n",
       "        // Call the  \"handle_{type}\" callback, which takes\n",
       "        // the figure and JSON message as its only arguments.\n",
       "        try {\n",
       "            var callback = fig[\"handle_\" + msg_type];\n",
       "        } catch (e) {\n",
       "            console.log(\"No handler for the '\" + msg_type + \"' message type: \", msg);\n",
       "            return;\n",
       "        }\n",
       "\n",
       "        if (callback) {\n",
       "            try {\n",
       "                // console.log(\"Handling '\" + msg_type + \"' message: \", msg);\n",
       "                callback(fig, msg);\n",
       "            } catch (e) {\n",
       "                console.log(\"Exception inside the 'handler_\" + msg_type + \"' callback:\", e, e.stack, msg);\n",
       "            }\n",
       "        }\n",
       "    };\n",
       "}\n",
       "\n",
       "// from http://stackoverflow.com/questions/1114465/getting-mouse-location-in-canvas\n",
       "mpl.findpos = function(e) {\n",
       "    //this section is from http://www.quirksmode.org/js/events_properties.html\n",
       "    var targ;\n",
       "    if (!e)\n",
       "        e = window.event;\n",
       "    if (e.target)\n",
       "        targ = e.target;\n",
       "    else if (e.srcElement)\n",
       "        targ = e.srcElement;\n",
       "    if (targ.nodeType == 3) // defeat Safari bug\n",
       "        targ = targ.parentNode;\n",
       "\n",
       "    // jQuery normalizes the pageX and pageY\n",
       "    // pageX,Y are the mouse positions relative to the document\n",
       "    // offset() returns the position of the element relative to the document\n",
       "    var x = e.pageX - $(targ).offset().left;\n",
       "    var y = e.pageY - $(targ).offset().top;\n",
       "\n",
       "    return {\"x\": x, \"y\": y};\n",
       "};\n",
       "\n",
       "/*\n",
       " * return a copy of an object with only non-object keys\n",
       " * we need this to avoid circular references\n",
       " * http://stackoverflow.com/a/24161582/3208463\n",
       " */\n",
       "function simpleKeys (original) {\n",
       "  return Object.keys(original).reduce(function (obj, key) {\n",
       "    if (typeof original[key] !== 'object')\n",
       "        obj[key] = original[key]\n",
       "    return obj;\n",
       "  }, {});\n",
       "}\n",
       "\n",
       "mpl.figure.prototype.mouse_event = function(event, name) {\n",
       "    var canvas_pos = mpl.findpos(event)\n",
       "\n",
       "    if (name === 'button_press')\n",
       "    {\n",
       "        this.canvas.focus();\n",
       "        this.canvas_div.focus();\n",
       "    }\n",
       "\n",
       "    var x = canvas_pos.x * mpl.ratio;\n",
       "    var y = canvas_pos.y * mpl.ratio;\n",
       "\n",
       "    this.send_message(name, {x: x, y: y, button: event.button,\n",
       "                             step: event.step,\n",
       "                             guiEvent: simpleKeys(event)});\n",
       "\n",
       "    /* This prevents the web browser from automatically changing to\n",
       "     * the text insertion cursor when the button is pressed.  We want\n",
       "     * to control all of the cursor setting manually through the\n",
       "     * 'cursor' event from matplotlib */\n",
       "    event.preventDefault();\n",
       "    return false;\n",
       "}\n",
       "\n",
       "mpl.figure.prototype._key_event_extra = function(event, name) {\n",
       "    // Handle any extra behaviour associated with a key event\n",
       "}\n",
       "\n",
       "mpl.figure.prototype.key_event = function(event, name) {\n",
       "\n",
       "    // Prevent repeat events\n",
       "    if (name == 'key_press')\n",
       "    {\n",
       "        if (event.which === this._key)\n",
       "            return;\n",
       "        else\n",
       "            this._key = event.which;\n",
       "    }\n",
       "    if (name == 'key_release')\n",
       "        this._key = null;\n",
       "\n",
       "    var value = '';\n",
       "    if (event.ctrlKey && event.which != 17)\n",
       "        value += \"ctrl+\";\n",
       "    if (event.altKey && event.which != 18)\n",
       "        value += \"alt+\";\n",
       "    if (event.shiftKey && event.which != 16)\n",
       "        value += \"shift+\";\n",
       "\n",
       "    value += 'k';\n",
       "    value += event.which.toString();\n",
       "\n",
       "    this._key_event_extra(event, name);\n",
       "\n",
       "    this.send_message(name, {key: value,\n",
       "                             guiEvent: simpleKeys(event)});\n",
       "    return false;\n",
       "}\n",
       "\n",
       "mpl.figure.prototype.toolbar_button_onclick = function(name) {\n",
       "    if (name == 'download') {\n",
       "        this.handle_save(this, null);\n",
       "    } else {\n",
       "        this.send_message(\"toolbar_button\", {name: name});\n",
       "    }\n",
       "};\n",
       "\n",
       "mpl.figure.prototype.toolbar_button_onmouseover = function(tooltip) {\n",
       "    this.message.textContent = tooltip;\n",
       "};\n",
       "mpl.toolbar_items = [[\"Home\", \"Reset original view\", \"fa fa-home icon-home\", \"home\"], [\"Back\", \"Back to  previous view\", \"fa fa-arrow-left icon-arrow-left\", \"back\"], [\"Forward\", \"Forward to next view\", \"fa fa-arrow-right icon-arrow-right\", \"forward\"], [\"\", \"\", \"\", \"\"], [\"Pan\", \"Pan axes with left mouse, zoom with right\", \"fa fa-arrows icon-move\", \"pan\"], [\"Zoom\", \"Zoom to rectangle\", \"fa fa-square-o icon-check-empty\", \"zoom\"], [\"\", \"\", \"\", \"\"], [\"Download\", \"Download plot\", \"fa fa-floppy-o icon-save\", \"download\"]];\n",
       "\n",
       "mpl.extensions = [\"eps\", \"jpeg\", \"pdf\", \"png\", \"ps\", \"raw\", \"svg\", \"tif\"];\n",
       "\n",
       "mpl.default_extension = \"png\";var comm_websocket_adapter = function(comm) {\n",
       "    // Create a \"websocket\"-like object which calls the given IPython comm\n",
       "    // object with the appropriate methods. Currently this is a non binary\n",
       "    // socket, so there is still some room for performance tuning.\n",
       "    var ws = {};\n",
       "\n",
       "    ws.close = function() {\n",
       "        comm.close()\n",
       "    };\n",
       "    ws.send = function(m) {\n",
       "        //console.log('sending', m);\n",
       "        comm.send(m);\n",
       "    };\n",
       "    // Register the callback with on_msg.\n",
       "    comm.on_msg(function(msg) {\n",
       "        //console.log('receiving', msg['content']['data'], msg);\n",
       "        // Pass the mpl event to the overriden (by mpl) onmessage function.\n",
       "        ws.onmessage(msg['content']['data'])\n",
       "    });\n",
       "    return ws;\n",
       "}\n",
       "\n",
       "mpl.mpl_figure_comm = function(comm, msg) {\n",
       "    // This is the function which gets called when the mpl process\n",
       "    // starts-up an IPython Comm through the \"matplotlib\" channel.\n",
       "\n",
       "    var id = msg.content.data.id;\n",
       "    // Get hold of the div created by the display call when the Comm\n",
       "    // socket was opened in Python.\n",
       "    var element = $(\"#\" + id);\n",
       "    var ws_proxy = comm_websocket_adapter(comm)\n",
       "\n",
       "    function ondownload(figure, format) {\n",
       "        window.open(figure.imageObj.src);\n",
       "    }\n",
       "\n",
       "    var fig = new mpl.figure(id, ws_proxy,\n",
       "                           ondownload,\n",
       "                           element.get(0));\n",
       "\n",
       "    // Call onopen now - mpl needs it, as it is assuming we've passed it a real\n",
       "    // web socket which is closed, not our websocket->open comm proxy.\n",
       "    ws_proxy.onopen();\n",
       "\n",
       "    fig.parent_element = element.get(0);\n",
       "    fig.cell_info = mpl.find_output_cell(\"<div id='\" + id + \"'></div>\");\n",
       "    if (!fig.cell_info) {\n",
       "        console.error(\"Failed to find cell for figure\", id, fig);\n",
       "        return;\n",
       "    }\n",
       "\n",
       "    var output_index = fig.cell_info[2]\n",
       "    var cell = fig.cell_info[0];\n",
       "\n",
       "};\n",
       "\n",
       "mpl.figure.prototype.handle_close = function(fig, msg) {\n",
       "    var width = fig.canvas.width/mpl.ratio\n",
       "    fig.root.unbind('remove')\n",
       "\n",
       "    // Update the output cell to use the data from the current canvas.\n",
       "    fig.push_to_output();\n",
       "    var dataURL = fig.canvas.toDataURL();\n",
       "    // Re-enable the keyboard manager in IPython - without this line, in FF,\n",
       "    // the notebook keyboard shortcuts fail.\n",
       "    IPython.keyboard_manager.enable()\n",
       "    $(fig.parent_element).html('<img src=\"' + dataURL + '\" width=\"' + width + '\">');\n",
       "    fig.close_ws(fig, msg);\n",
       "}\n",
       "\n",
       "mpl.figure.prototype.close_ws = function(fig, msg){\n",
       "    fig.send_message('closing', msg);\n",
       "    // fig.ws.close()\n",
       "}\n",
       "\n",
       "mpl.figure.prototype.push_to_output = function(remove_interactive) {\n",
       "    // Turn the data on the canvas into data in the output cell.\n",
       "    var width = this.canvas.width/mpl.ratio\n",
       "    var dataURL = this.canvas.toDataURL();\n",
       "    this.cell_info[1]['text/html'] = '<img src=\"' + dataURL + '\" width=\"' + width + '\">';\n",
       "}\n",
       "\n",
       "mpl.figure.prototype.updated_canvas_event = function() {\n",
       "    // Tell IPython that the notebook contents must change.\n",
       "    IPython.notebook.set_dirty(true);\n",
       "    this.send_message(\"ack\", {});\n",
       "    var fig = this;\n",
       "    // Wait a second, then push the new image to the DOM so\n",
       "    // that it is saved nicely (might be nice to debounce this).\n",
       "    setTimeout(function () { fig.push_to_output() }, 1000);\n",
       "}\n",
       "\n",
       "mpl.figure.prototype._init_toolbar = function() {\n",
       "    var fig = this;\n",
       "\n",
       "    var nav_element = $('<div/>')\n",
       "    nav_element.attr('style', 'width: 100%');\n",
       "    this.root.append(nav_element);\n",
       "\n",
       "    // Define a callback function for later on.\n",
       "    function toolbar_event(event) {\n",
       "        return fig.toolbar_button_onclick(event['data']);\n",
       "    }\n",
       "    function toolbar_mouse_event(event) {\n",
       "        return fig.toolbar_button_onmouseover(event['data']);\n",
       "    }\n",
       "\n",
       "    for(var toolbar_ind in mpl.toolbar_items){\n",
       "        var name = mpl.toolbar_items[toolbar_ind][0];\n",
       "        var tooltip = mpl.toolbar_items[toolbar_ind][1];\n",
       "        var image = mpl.toolbar_items[toolbar_ind][2];\n",
       "        var method_name = mpl.toolbar_items[toolbar_ind][3];\n",
       "\n",
       "        if (!name) { continue; };\n",
       "\n",
       "        var button = $('<button class=\"btn btn-default\" href=\"#\" title=\"' + name + '\"><i class=\"fa ' + image + ' fa-lg\"></i></button>');\n",
       "        button.click(method_name, toolbar_event);\n",
       "        button.mouseover(tooltip, toolbar_mouse_event);\n",
       "        nav_element.append(button);\n",
       "    }\n",
       "\n",
       "    // Add the status bar.\n",
       "    var status_bar = $('<span class=\"mpl-message\" style=\"text-align:right; float: right;\"/>');\n",
       "    nav_element.append(status_bar);\n",
       "    this.message = status_bar[0];\n",
       "\n",
       "    // Add the close button to the window.\n",
       "    var buttongrp = $('<div class=\"btn-group inline pull-right\"></div>');\n",
       "    var button = $('<button class=\"btn btn-mini btn-primary\" href=\"#\" title=\"Stop Interaction\"><i class=\"fa fa-power-off icon-remove icon-large\"></i></button>');\n",
       "    button.click(function (evt) { fig.handle_close(fig, {}); } );\n",
       "    button.mouseover('Stop Interaction', toolbar_mouse_event);\n",
       "    buttongrp.append(button);\n",
       "    var titlebar = this.root.find($('.ui-dialog-titlebar'));\n",
       "    titlebar.prepend(buttongrp);\n",
       "}\n",
       "\n",
       "mpl.figure.prototype._root_extra_style = function(el){\n",
       "    var fig = this\n",
       "    el.on(\"remove\", function(){\n",
       "\tfig.close_ws(fig, {});\n",
       "    });\n",
       "}\n",
       "\n",
       "mpl.figure.prototype._canvas_extra_style = function(el){\n",
       "    // this is important to make the div 'focusable\n",
       "    el.attr('tabindex', 0)\n",
       "    // reach out to IPython and tell the keyboard manager to turn it's self\n",
       "    // off when our div gets focus\n",
       "\n",
       "    // location in version 3\n",
       "    if (IPython.notebook.keyboard_manager) {\n",
       "        IPython.notebook.keyboard_manager.register_events(el);\n",
       "    }\n",
       "    else {\n",
       "        // location in version 2\n",
       "        IPython.keyboard_manager.register_events(el);\n",
       "    }\n",
       "\n",
       "}\n",
       "\n",
       "mpl.figure.prototype._key_event_extra = function(event, name) {\n",
       "    var manager = IPython.notebook.keyboard_manager;\n",
       "    if (!manager)\n",
       "        manager = IPython.keyboard_manager;\n",
       "\n",
       "    // Check for shift+enter\n",
       "    if (event.shiftKey && event.which == 13) {\n",
       "        this.canvas_div.blur();\n",
       "        // select the cell after this one\n",
       "        var index = IPython.notebook.find_cell_index(this.cell_info[0]);\n",
       "        IPython.notebook.select(index + 1);\n",
       "    }\n",
       "}\n",
       "\n",
       "mpl.figure.prototype.handle_save = function(fig, msg) {\n",
       "    fig.ondownload(fig, null);\n",
       "}\n",
       "\n",
       "\n",
       "mpl.find_output_cell = function(html_output) {\n",
       "    // Return the cell and output element which can be found *uniquely* in the notebook.\n",
       "    // Note - this is a bit hacky, but it is done because the \"notebook_saving.Notebook\"\n",
       "    // IPython event is triggered only after the cells have been serialised, which for\n",
       "    // our purposes (turning an active figure into a static one), is too late.\n",
       "    var cells = IPython.notebook.get_cells();\n",
       "    var ncells = cells.length;\n",
       "    for (var i=0; i<ncells; i++) {\n",
       "        var cell = cells[i];\n",
       "        if (cell.cell_type === 'code'){\n",
       "            for (var j=0; j<cell.output_area.outputs.length; j++) {\n",
       "                var data = cell.output_area.outputs[j];\n",
       "                if (data.data) {\n",
       "                    // IPython >= 3 moved mimebundle to data attribute of output\n",
       "                    data = data.data;\n",
       "                }\n",
       "                if (data['text/html'] == html_output) {\n",
       "                    return [cell, data, j];\n",
       "                }\n",
       "            }\n",
       "        }\n",
       "    }\n",
       "}\n",
       "\n",
       "// Register the function which deals with the matplotlib target/channel.\n",
       "// The kernel may be null if the page has been refreshed.\n",
       "if (IPython.notebook.kernel != null) {\n",
       "    IPython.notebook.kernel.comm_manager.register_target('matplotlib', mpl.mpl_figure_comm);\n",
       "}\n"
      ],
      "text/plain": [
       "<IPython.core.display.Javascript object>"
      ]
     },
     "metadata": {},
     "output_type": "display_data"
    },
    {
     "data": {
      "text/html": [
       "<img src=\"data:image/png;base64,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\" width=\"640\">"
      ],
      "text/plain": [
       "<IPython.core.display.HTML object>"
      ]
     },
     "metadata": {},
     "output_type": "display_data"
    }
   ],
   "source": [
    "pyplot.figure()\n",
    "pyplot.loglog(x_vals_inf, power_spectrum_inf.mean(0), label=\"Assemate Infinite Phase Screen\")\n",
    "pyplot.loglog(x_vals_fft, power_spectrum_fft.mean(0), label=\"FFT phase screen\")\n",
    "\n",
    "pyplot.legend()\n",
    "pyplot.xlabel(\"Frequency (Hz)\")\n",
    "pyplot.ylabel(\"Power ($\\mathrm{rad}^2$ @500nm)\")\n",
    "pyplot.grid()"
   ]
  },
  {
   "cell_type": "code",
   "execution_count": 18,
   "metadata": {},
   "outputs": [
    {
     "data": {
      "text/plain": [
       "(5000,)"
      ]
     },
     "execution_count": 18,
     "metadata": {},
     "output_type": "execute_result"
    }
   ],
   "source": []
  },
  {
   "cell_type": "code",
   "execution_count": null,
   "metadata": {
    "collapsed": true
   },
   "outputs": [],
   "source": []
  }
 ],
 "metadata": {
  "kernelspec": {
   "display_name": "Python 3",
   "language": "python",
   "name": "python3"
  },
  "language_info": {
   "codemirror_mode": {
    "name": "ipython",
    "version": 3
   },
   "file_extension": ".py",
   "mimetype": "text/x-python",
   "name": "python",
   "nbconvert_exporter": "python",
   "pygments_lexer": "ipython3",
   "version": "3.6.1"
  },
  "widgets": {
   "state": {
    "015cd2a7c1644764b480523d43fa5fce": {
     "views": [
      {
       "cell_index": 3
      }
     ]
    },
    "022cdee92f6142c7bda58b22845a1c28": {
     "views": [
      {
       "cell_index": 5
      }
     ]
    },
    "04c1f6ddca6f4cd98bd92b0071879c08": {
     "views": [
      {
       "cell_index": 5
      }
     ]
    },
    "0a8ab0e3710e4fd4a3df37fda0adff5b": {
     "views": [
      {
       "cell_index": 3
      }
     ]
    },
    "0a936c77329e4b02bd95f4251648ab78": {
     "views": [
      {
       "cell_index": 7
      }
     ]
    },
    "183163255af84c5ebf2311f200a33eb2": {
     "views": [
      {
       "cell_index": 5
      }
     ]
    },
    "1bc60d9b10a048569609cc4f0fc5b124": {
     "views": [
      {
       "cell_index": 3
      }
     ]
    },
    "1c7c7da234e64ab3aa28894cb880026b": {
     "views": [
      {
       "cell_index": 3
      }
     ]
    },
    "1c99b607047743d58b147d96ff80a2dd": {
     "views": [
      {
       "cell_index": 3
      }
     ]
    },
    "23da5b61b9324b0b8326b74b6a9250f1": {
     "views": [
      {
       "cell_index": 5
      }
     ]
    },
    "25087e55a315465ab6bb4e6e71524932": {
     "views": [
      {
       "cell_index": 3
      }
     ]
    },
    "2769722b55d34580909f6e7efabe1c42": {
     "views": [
      {
       "cell_index": 5
      }
     ]
    },
    "2b918344ca4b402da17205cb045d1ea8": {
     "views": [
      {
       "cell_index": 5
      }
     ]
    },
    "2e8dda6c2618411a8f279f970e020522": {
     "views": [
      {
       "cell_index": 5
      }
     ]
    },
    "2ff3b9b9172647dfa3b732cfeb5fc375": {
     "views": [
      {
       "cell_index": 5
      }
     ]
    },
    "34d369c4f4ca471cb04d8b06d4323b3a": {
     "views": [
      {
       "cell_index": 5
      }
     ]
    },
    "37e0ab809e6140a398b7ea1baa80b6b0": {
     "views": [
      {
       "cell_index": 5
      }
     ]
    },
    "383c5cfb737942f2915d57b836b68f3f": {
     "views": [
      {
       "cell_index": 5
      }
     ]
    },
    "493900dce68c45b3b1e2caf91b0c1d66": {
     "views": [
      {
       "cell_index": 5
      }
     ]
    },
    "4a9360764c284733a1df46bbbbbae25e": {
     "views": [
      {
       "cell_index": 5
      }
     ]
    },
    "50df9fe371fc4a7fa93c92dea1203deb": {
     "views": [
      {
       "cell_index": 3
      }
     ]
    },
    "522b11abd2f64646a079a2172d8912a8": {
     "views": [
      {
       "cell_index": 5
      }
     ]
    },
    "5291ae23fec44586b5745b0e854b6b91": {
     "views": [
      {
       "cell_index": 3
      }
     ]
    },
    "55858a3fa3fa4e408f534f3a1f699010": {
     "views": [
      {
       "cell_index": 5
      }
     ]
    },
    "5de37d7f796341c48629d841af61fb1a": {
     "views": [
      {
       "cell_index": 5
      }
     ]
    },
    "5e325a084e514791b734a3388a3c6f21": {
     "views": [
      {
       "cell_index": 7
      }
     ]
    },
    "60565c06003048d59f9ec3be4a8334e5": {
     "views": [
      {
       "cell_index": 7
      }
     ]
    },
    "61e473d32fb74e22a1a98830e55ceaef": {
     "views": [
      {
       "cell_index": 7
      }
     ]
    },
    "652171fb44d84e86aa8cc657b4a879b9": {
     "views": [
      {
       "cell_index": 7
      }
     ]
    },
    "7575b6df029c44eb80ae06f9fa6570a5": {
     "views": [
      {
       "cell_index": 7
      }
     ]
    },
    "758164903b8144adb5224ec1b031912e": {
     "views": [
      {
       "cell_index": 5
      }
     ]
    },
    "769033a2e6ae4cbd8c31fc73449b0ead": {
     "views": [
      {
       "cell_index": 5
      }
     ]
    },
    "7952b4052959439399bb0f4d13577699": {
     "views": [
      {
       "cell_index": 5
      }
     ]
    },
    "7a23472f38f0488c9c1ed34c93293937": {
     "views": [
      {
       "cell_index": 3
      }
     ]
    },
    "7d54f24d68434811afa9a9b3dcc90562": {
     "views": [
      {
       "cell_index": 7
      }
     ]
    },
    "7f7616a514b044e8a834295121f07dde": {
     "views": [
      {
       "cell_index": 5
      }
     ]
    },
    "85731f4e05c9423386cf202945e998c1": {
     "views": [
      {
       "cell_index": 7
      }
     ]
    },
    "85efc645512d447e972211477b354082": {
     "views": [
      {
       "cell_index": 5
      }
     ]
    },
    "87b6700a2ea049d0a5a3cfadaff1a730": {
     "views": [
      {
       "cell_index": 5
      }
     ]
    },
    "8e633230bf8a423784fecd18c83a7e5a": {
     "views": [
      {
       "cell_index": 7
      }
     ]
    },
    "90d6747c238f4ea6a04a2ec395a745da": {
     "views": [
      {
       "cell_index": 5
      }
     ]
    },
    "9551563621ba48ff956174781d1535b4": {
     "views": [
      {
       "cell_index": 3
      }
     ]
    },
    "a114c43f095d4ac8aa11a94c27323075": {
     "views": [
      {
       "cell_index": 5
      }
     ]
    },
    "a456646b310042b0bc6d3a28959a1504": {
     "views": [
      {
       "cell_index": 3
      }
     ]
    },
    "a6bad8bb6c7c4411a2b909146bb8c11f": {
     "views": [
      {
       "cell_index": 5
      }
     ]
    },
    "a9085d3034f3411fb15a1aecd0aa90f1": {
     "views": [
      {
       "cell_index": 5
      }
     ]
    },
    "aae6f9e478574c3e9ae961c93a5b2d1b": {
     "views": [
      {
       "cell_index": 5
      }
     ]
    },
    "ac18a61e34c0496ea621152afd2719b8": {
     "views": [
      {
       "cell_index": 3
      }
     ]
    },
    "b109910559424927a3347d2419d2549d": {
     "views": [
      {
       "cell_index": 7
      }
     ]
    },
    "b25310dd01de4aebbfed9ede4dbee548": {
     "views": [
      {
       "cell_index": 3
      }
     ]
    },
    "b4872ea0a58c46afab5f84633a6df75e": {
     "views": [
      {
       "cell_index": 3
      }
     ]
    },
    "b517e10bdd3b4c8db12811626d7e0f16": {
     "views": [
      {
       "cell_index": 7
      }
     ]
    },
    "b8a2df0c986e4cdea697f4625b68af8a": {
     "views": [
      {
       "cell_index": 7
      }
     ]
    },
    "bec8d4d159064ff19ac0b882e8241d79": {
     "views": [
      {
       "cell_index": 5
      }
     ]
    },
    "c15df21288304bd0a5d8a83cfbc1d628": {
     "views": [
      {
       "cell_index": 5
      }
     ]
    },
    "c40c31b51a2a41e08f567c1729d5eaeb": {
     "views": [
      {
       "cell_index": 3
      }
     ]
    },
    "c5092923a5614fa4916ccafb95ddc0b6": {
     "views": [
      {
       "cell_index": 5
      }
     ]
    },
    "c66f1da10fb347e9a396e6ecb8e02889": {
     "views": [
      {
       "cell_index": 3
      }
     ]
    },
    "c8fb62585d4c4be29aae2cc718a39193": {
     "views": [
      {
       "cell_index": 7
      }
     ]
    },
    "c9bfd327c40d40a69420a02f536e405d": {
     "views": [
      {
       "cell_index": 5
      }
     ]
    },
    "cec11632c06b4e94a386b0a23b9bc25a": {
     "views": [
      {
       "cell_index": 7
      }
     ]
    },
    "d2092e8958774fbbbf674f8d2ed2c915": {
     "views": [
      {
       "cell_index": 3
      }
     ]
    },
    "d313f51365b8456a8f96af066ceef784": {
     "views": [
      {
       "cell_index": 5
      }
     ]
    },
    "db25d98247384e82b71544547c8b7ac2": {
     "views": [
      {
       "cell_index": 5
      }
     ]
    },
    "deb44e146cdc4621a1c6eaafd59ed67e": {
     "views": [
      {
       "cell_index": 3
      }
     ]
    },
    "df290e917ef642f38fff49f53f5e35f0": {
     "views": [
      {
       "cell_index": 5
      }
     ]
    },
    "e11bb2a1de0a4feaae06518996473cc2": {
     "views": [
      {
       "cell_index": 7
      }
     ]
    },
    "e28288227aad46ebb78f8e9c5928489b": {
     "views": [
      {
       "cell_index": 5
      }
     ]
    },
    "e31af7ce2c3542bca2cee56f61df6f1a": {
     "views": [
      {
       "cell_index": 5
      }
     ]
    },
    "e3582946581941abbafd3a792ebeb828": {
     "views": [
      {
       "cell_index": 3
      }
     ]
    },
    "e39f6a0a2690492280735e9b5a0aff67": {
     "views": [
      {
       "cell_index": 7
      }
     ]
    },
    "e78905b6c4334d2496e8647b1ba96886": {
     "views": [
      {
       "cell_index": 7
      }
     ]
    },
    "eb55fb7d5b834a39b475e6101f818357": {
     "views": [
      {
       "cell_index": 3
      }
     ]
    },
    "f09f1863f65f4894aea1b0d51bc252a8": {
     "views": [
      {
       "cell_index": 7
      }
     ]
    },
    "f1e876fda5f74f8fb149acc76184440c": {
     "views": [
      {
       "cell_index": 3
      }
     ]
    },
    "f72c9fe6e79f4480b32dd8d6090e8a6e": {
     "views": [
      {
       "cell_index": 5
      }
     ]
    },
    "f799b5c73d834accb7f28c8d7fb56315": {
     "views": [
      {
       "cell_index": 5
      }
     ]
    },
    "f7aa2ac399fb41dea565bc13d290447d": {
     "views": [
      {
       "cell_index": 3
      }
     ]
    },
    "f7b88452d3c64fad984740d588775364": {
     "views": [
      {
       "cell_index": 5
      }
     ]
    },
    "f866b9a2ba374965ab5714df6e51a41e": {
     "views": [
      {
       "cell_index": 5
      }
     ]
    },
    "f9aa8acc02124637bbd9dc2bb58e7241": {
     "views": [
      {
       "cell_index": 5
      }
     ]
    },
    "fb3cf2ecf810430b9a1eb6421819c8e4": {
     "views": [
      {
       "cell_index": 3
      }
     ]
    },
    "fbf1d13913bc4975bae03eef56b2f1fc": {
     "views": [
      {
       "cell_index": 3
      }
     ]
    },
    "fda1496985704c0abf3d13efdc2a88e2": {
     "views": [
      {
       "cell_index": 3
      }
     ]
    }
   },
   "version": "1.2.0"
  }
 },
 "nbformat": 4,
 "nbformat_minor": 2
}
