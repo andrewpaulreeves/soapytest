{
 "cells": [
  {
   "cell_type": "code",
   "execution_count": 1,
   "metadata": {
    "collapsed": true
   },
   "outputs": [],
   "source": [
    "import numpy\n",
    "%matplotlib nbagg\n",
    "from matplotlib import pyplot\n",
    "from tqdm import tqdm, tnrange\n",
    "\n",
    "import aotools\n",
    "from aotools.turbulence import phasescreen, infinitephasescreen\n",
    "import zernike"
   ]
  },
  {
   "cell_type": "code",
   "execution_count": 2,
   "metadata": {
    "collapsed": true
   },
   "outputs": [],
   "source": [
    "def plot_temporal_power_spectrum(x_vals, power_spectra, scale, r0=None, L0=None):\n",
    "    pyplot.figure()\n",
    "    pyplot.grid()\n",
    "    if L0 is not None:\n",
    "        L0_cutoff = wind_speed/L0\n",
    "        pyplot.text(L0_cutoff+0.2, 10e8, \"V/L0\")\n",
    "        pyplot.plot([L0_cutoff, L0_cutoff], [10, 10e11], linestyle=\"--\",linewidth=1, color=\"k\")\n",
    "\n",
    "\n",
    "    pyplot.loglog(x_vals, power_spectra.T, alpha=0.2)\n",
    "    pyplot.loglog(x_vals, power_spectra.mean(0), color=\"blue\")\n",
    "    pyplot.plot(x_vals, scale * x_vals**(-8./3), color=\"k\", linestyle=\":\")\n",
    "    pyplot.xlabel(\"Frequency (Hz)\")\n",
    "    pyplot.ylabel(\"Power ($\\mathrm{rad}^2$)\")"
   ]
  },
  {
   "cell_type": "code",
   "execution_count": 3,
   "metadata": {
    "collapsed": true
   },
   "outputs": [],
   "source": [
    "nx_size = 256\n",
    "D = 8.\n",
    "pxl_scale = D/nx_size # m/pixel\n",
    "r0 = 0.2\n",
    "L0 = 10.\n",
    "n_tests = 16\n",
    "wind_speed = 10 #m/s - just arbitrarily set\n",
    "n_scrns = 10000\n",
    "stencil_length_factor = 16\n",
    "n_columns = 2"
   ]
  },
  {
   "cell_type": "markdown",
   "metadata": {},
   "source": [
    "# FFT Phase Screen"
   ]
  },
  {
   "cell_type": "code",
   "execution_count": null,
   "metadata": {},
   "outputs": [
    {
     "name": "stdout",
     "output_type": "stream",
     "text": [
      "Time Step: 0.003125 s\n"
     ]
    },
    {
     "data": {
      "application/vnd.jupyter.widget-view+json": {
       "model_id": "1391788fd3c544ce89195135c1422633"
      }
     },
     "metadata": {},
     "output_type": "display_data"
    },
    {
     "name": "stdout",
     "output_type": "stream",
     "text": [
      "alloc screen buffer\n"
     ]
    },
    {
     "data": {
      "application/vnd.jupyter.widget-view+json": {
       "model_id": "18caba004d58467c8d4391e980dea7c2"
      }
     },
     "metadata": {},
     "output_type": "display_data"
    },
    {
     "name": "stdout",
     "output_type": "stream",
     "text": [
      "Do FFT...\n",
      "alloc screen buffer\n"
     ]
    },
    {
     "data": {
      "application/vnd.jupyter.widget-view+json": {
       "model_id": "37e264dedebe4977a7cd1eab07616fbe"
      }
     },
     "metadata": {},
     "output_type": "display_data"
    },
    {
     "name": "stdout",
     "output_type": "stream",
     "text": [
      "Do FFT...\n",
      "alloc screen buffer\n"
     ]
    },
    {
     "data": {
      "application/vnd.jupyter.widget-view+json": {
       "model_id": "f09c219c4e1f4ce191bb962f0068a3ca"
      }
     },
     "metadata": {},
     "output_type": "display_data"
    },
    {
     "name": "stdout",
     "output_type": "stream",
     "text": [
      "Do FFT...\n",
      "alloc screen buffer\n"
     ]
    },
    {
     "data": {
      "application/vnd.jupyter.widget-view+json": {
       "model_id": "23607ee8ae664aaa838689fc49cd2eb6"
      }
     },
     "metadata": {},
     "output_type": "display_data"
    },
    {
     "name": "stdout",
     "output_type": "stream",
     "text": [
      "Do FFT...\n",
      "alloc screen buffer\n"
     ]
    },
    {
     "data": {
      "application/vnd.jupyter.widget-view+json": {
       "model_id": "aa6d10c340a948f089ad25d1b1a81158"
      }
     },
     "metadata": {},
     "output_type": "display_data"
    },
    {
     "name": "stdout",
     "output_type": "stream",
     "text": [
      "Do FFT...\n",
      "alloc screen buffer\n"
     ]
    },
    {
     "data": {
      "application/vnd.jupyter.widget-view+json": {
       "model_id": "c65feda62c3e42ac8b799e058a17de68"
      }
     },
     "metadata": {},
     "output_type": "display_data"
    },
    {
     "name": "stdout",
     "output_type": "stream",
     "text": [
      "Do FFT...\n",
      "alloc screen buffer\n"
     ]
    },
    {
     "data": {
      "application/vnd.jupyter.widget-view+json": {
       "model_id": "df52624b511f40c9bb7b7b42a78d8255"
      }
     },
     "metadata": {},
     "output_type": "display_data"
    },
    {
     "name": "stdout",
     "output_type": "stream",
     "text": [
      "Do FFT...\n",
      "alloc screen buffer\n"
     ]
    },
    {
     "data": {
      "application/vnd.jupyter.widget-view+json": {
       "model_id": "40d52b73ad9e4a8d97dc94116f15108f"
      }
     },
     "metadata": {},
     "output_type": "display_data"
    },
    {
     "name": "stdout",
     "output_type": "stream",
     "text": [
      "Do FFT...\n",
      "alloc screen buffer\n"
     ]
    },
    {
     "data": {
      "application/vnd.jupyter.widget-view+json": {
       "model_id": "938a7d0977eb44c6b2697c50ea43d4af"
      }
     },
     "metadata": {},
     "output_type": "display_data"
    },
    {
     "name": "stdout",
     "output_type": "stream",
     "text": [
      "Do FFT...\n",
      "alloc screen buffer\n"
     ]
    },
    {
     "data": {
      "application/vnd.jupyter.widget-view+json": {
       "model_id": "96b0ccf115d749bba77af5aa2118d70d"
      }
     },
     "metadata": {},
     "output_type": "display_data"
    },
    {
     "name": "stdout",
     "output_type": "stream",
     "text": [
      "Do FFT...\n"
     ]
    }
   ],
   "source": [
    "\n",
    "total_scrn_size = stencil_length_factor * nx_size\n",
    "time_step = pxl_scale/wind_speed # This is timestep, as one pixel moved on each iteration\n",
    "\n",
    "n_scrns = total_scrn_size - nx_size\n",
    "\n",
    "print(\"Time Step: {} s\".format(time_step))\n",
    "\n",
    "power_spectrum_fft = numpy.zeros((n_tests, n_scrns))\n",
    "\n",
    "for n in tnrange(n_tests):\n",
    "    print(\"alloc screen buffer\")\n",
    "    screen_buffer = numpy.zeros((n_scrns, nx_size**2))\n",
    "\n",
    "    phase_screen = phasescreen.ft_phase_screen(r0, total_scrn_size, pxl_scale, L0, 0.01)[:, :nx_size]\n",
    "\n",
    "    \n",
    "    for i in tnrange(n_scrns):\n",
    "        scrn = phase_screen[i:i+nx_size]\n",
    "        if n%4 == 0:\n",
    "            scrn = scrn\n",
    "        elif n%4 == 1:\n",
    "            scrn = scrn.T\n",
    "        elif n%4 == 2:\n",
    "            scrn = scrn[::-1]\n",
    "        else:\n",
    "            scrn = scrn[::-1].T\n",
    "            \n",
    "        screen_buffer[i] = scrn.flatten()\n",
    "\n",
    "    print(\"Do FFT...\")\n",
    "\n",
    "    power_spectra = abs(numpy.fft.fft(screen_buffer, axis=0))**2\n",
    "    power_spectrum_fft[n] = power_spectra.mean(1)\n",
    "\n",
    "\n",
    "x_vals_fft = numpy.fft.fftfreq(n_scrns, d=time_step)\n",
    "power_spectrum_fft = power_spectrum_fft[:, :n_scrns//2]\n",
    "x_vals_fft = x_vals_fft[:n_scrns//2]"
   ]
  },
  {
   "cell_type": "code",
   "execution_count": 7,
   "metadata": {
    "scrolled": true
   },
   "outputs": [
    {
     "data": {
      "application/javascript": [
       "/* Put everything inside the global mpl namespace */\n",
       "window.mpl = {};\n",
       "\n",
       "\n",
       "mpl.get_websocket_type = function() {\n",
       "    if (typeof(WebSocket) !== 'undefined') {\n",
       "        return WebSocket;\n",
       "    } else if (typeof(MozWebSocket) !== 'undefined') {\n",
       "        return MozWebSocket;\n",
       "    } else {\n",
       "        alert('Your browser does not have WebSocket support.' +\n",
       "              'Please try Chrome, Safari or Firefox ≥ 6. ' +\n",
       "              'Firefox 4 and 5 are also supported but you ' +\n",
       "              'have to enable WebSockets in about:config.');\n",
       "    };\n",
       "}\n",
       "\n",
       "mpl.figure = function(figure_id, websocket, ondownload, parent_element) {\n",
       "    this.id = figure_id;\n",
       "\n",
       "    this.ws = websocket;\n",
       "\n",
       "    this.supports_binary = (this.ws.binaryType != undefined);\n",
       "\n",
       "    if (!this.supports_binary) {\n",
       "        var warnings = document.getElementById(\"mpl-warnings\");\n",
       "        if (warnings) {\n",
       "            warnings.style.display = 'block';\n",
       "            warnings.textContent = (\n",
       "                \"This browser does not support binary websocket messages. \" +\n",
       "                    \"Performance may be slow.\");\n",
       "        }\n",
       "    }\n",
       "\n",
       "    this.imageObj = new Image();\n",
       "\n",
       "    this.context = undefined;\n",
       "    this.message = undefined;\n",
       "    this.canvas = undefined;\n",
       "    this.rubberband_canvas = undefined;\n",
       "    this.rubberband_context = undefined;\n",
       "    this.format_dropdown = undefined;\n",
       "\n",
       "    this.image_mode = 'full';\n",
       "\n",
       "    this.root = $('<div/>');\n",
       "    this._root_extra_style(this.root)\n",
       "    this.root.attr('style', 'display: inline-block');\n",
       "\n",
       "    $(parent_element).append(this.root);\n",
       "\n",
       "    this._init_header(this);\n",
       "    this._init_canvas(this);\n",
       "    this._init_toolbar(this);\n",
       "\n",
       "    var fig = this;\n",
       "\n",
       "    this.waiting = false;\n",
       "\n",
       "    this.ws.onopen =  function () {\n",
       "            fig.send_message(\"supports_binary\", {value: fig.supports_binary});\n",
       "            fig.send_message(\"send_image_mode\", {});\n",
       "            if (mpl.ratio != 1) {\n",
       "                fig.send_message(\"set_dpi_ratio\", {'dpi_ratio': mpl.ratio});\n",
       "            }\n",
       "            fig.send_message(\"refresh\", {});\n",
       "        }\n",
       "\n",
       "    this.imageObj.onload = function() {\n",
       "            if (fig.image_mode == 'full') {\n",
       "                // Full images could contain transparency (where diff images\n",
       "                // almost always do), so we need to clear the canvas so that\n",
       "                // there is no ghosting.\n",
       "                fig.context.clearRect(0, 0, fig.canvas.width, fig.canvas.height);\n",
       "            }\n",
       "            fig.context.drawImage(fig.imageObj, 0, 0);\n",
       "        };\n",
       "\n",
       "    this.imageObj.onunload = function() {\n",
       "        this.ws.close();\n",
       "    }\n",
       "\n",
       "    this.ws.onmessage = this._make_on_message_function(this);\n",
       "\n",
       "    this.ondownload = ondownload;\n",
       "}\n",
       "\n",
       "mpl.figure.prototype._init_header = function() {\n",
       "    var titlebar = $(\n",
       "        '<div class=\"ui-dialog-titlebar ui-widget-header ui-corner-all ' +\n",
       "        'ui-helper-clearfix\"/>');\n",
       "    var titletext = $(\n",
       "        '<div class=\"ui-dialog-title\" style=\"width: 100%; ' +\n",
       "        'text-align: center; padding: 3px;\"/>');\n",
       "    titlebar.append(titletext)\n",
       "    this.root.append(titlebar);\n",
       "    this.header = titletext[0];\n",
       "}\n",
       "\n",
       "\n",
       "\n",
       "mpl.figure.prototype._canvas_extra_style = function(canvas_div) {\n",
       "\n",
       "}\n",
       "\n",
       "\n",
       "mpl.figure.prototype._root_extra_style = function(canvas_div) {\n",
       "\n",
       "}\n",
       "\n",
       "mpl.figure.prototype._init_canvas = function() {\n",
       "    var fig = this;\n",
       "\n",
       "    var canvas_div = $('<div/>');\n",
       "\n",
       "    canvas_div.attr('style', 'position: relative; clear: both; outline: 0');\n",
       "\n",
       "    function canvas_keyboard_event(event) {\n",
       "        return fig.key_event(event, event['data']);\n",
       "    }\n",
       "\n",
       "    canvas_div.keydown('key_press', canvas_keyboard_event);\n",
       "    canvas_div.keyup('key_release', canvas_keyboard_event);\n",
       "    this.canvas_div = canvas_div\n",
       "    this._canvas_extra_style(canvas_div)\n",
       "    this.root.append(canvas_div);\n",
       "\n",
       "    var canvas = $('<canvas/>');\n",
       "    canvas.addClass('mpl-canvas');\n",
       "    canvas.attr('style', \"left: 0; top: 0; z-index: 0; outline: 0\")\n",
       "\n",
       "    this.canvas = canvas[0];\n",
       "    this.context = canvas[0].getContext(\"2d\");\n",
       "\n",
       "    var backingStore = this.context.backingStorePixelRatio ||\n",
       "\tthis.context.webkitBackingStorePixelRatio ||\n",
       "\tthis.context.mozBackingStorePixelRatio ||\n",
       "\tthis.context.msBackingStorePixelRatio ||\n",
       "\tthis.context.oBackingStorePixelRatio ||\n",
       "\tthis.context.backingStorePixelRatio || 1;\n",
       "\n",
       "    mpl.ratio = (window.devicePixelRatio || 1) / backingStore;\n",
       "\n",
       "    var rubberband = $('<canvas/>');\n",
       "    rubberband.attr('style', \"position: absolute; left: 0; top: 0; z-index: 1;\")\n",
       "\n",
       "    var pass_mouse_events = true;\n",
       "\n",
       "    canvas_div.resizable({\n",
       "        start: function(event, ui) {\n",
       "            pass_mouse_events = false;\n",
       "        },\n",
       "        resize: function(event, ui) {\n",
       "            fig.request_resize(ui.size.width, ui.size.height);\n",
       "        },\n",
       "        stop: function(event, ui) {\n",
       "            pass_mouse_events = true;\n",
       "            fig.request_resize(ui.size.width, ui.size.height);\n",
       "        },\n",
       "    });\n",
       "\n",
       "    function mouse_event_fn(event) {\n",
       "        if (pass_mouse_events)\n",
       "            return fig.mouse_event(event, event['data']);\n",
       "    }\n",
       "\n",
       "    rubberband.mousedown('button_press', mouse_event_fn);\n",
       "    rubberband.mouseup('button_release', mouse_event_fn);\n",
       "    // Throttle sequential mouse events to 1 every 20ms.\n",
       "    rubberband.mousemove('motion_notify', mouse_event_fn);\n",
       "\n",
       "    rubberband.mouseenter('figure_enter', mouse_event_fn);\n",
       "    rubberband.mouseleave('figure_leave', mouse_event_fn);\n",
       "\n",
       "    canvas_div.on(\"wheel\", function (event) {\n",
       "        event = event.originalEvent;\n",
       "        event['data'] = 'scroll'\n",
       "        if (event.deltaY < 0) {\n",
       "            event.step = 1;\n",
       "        } else {\n",
       "            event.step = -1;\n",
       "        }\n",
       "        mouse_event_fn(event);\n",
       "    });\n",
       "\n",
       "    canvas_div.append(canvas);\n",
       "    canvas_div.append(rubberband);\n",
       "\n",
       "    this.rubberband = rubberband;\n",
       "    this.rubberband_canvas = rubberband[0];\n",
       "    this.rubberband_context = rubberband[0].getContext(\"2d\");\n",
       "    this.rubberband_context.strokeStyle = \"#000000\";\n",
       "\n",
       "    this._resize_canvas = function(width, height) {\n",
       "        // Keep the size of the canvas, canvas container, and rubber band\n",
       "        // canvas in synch.\n",
       "        canvas_div.css('width', width)\n",
       "        canvas_div.css('height', height)\n",
       "\n",
       "        canvas.attr('width', width * mpl.ratio);\n",
       "        canvas.attr('height', height * mpl.ratio);\n",
       "        canvas.attr('style', 'width: ' + width + 'px; height: ' + height + 'px;');\n",
       "\n",
       "        rubberband.attr('width', width);\n",
       "        rubberband.attr('height', height);\n",
       "    }\n",
       "\n",
       "    // Set the figure to an initial 600x600px, this will subsequently be updated\n",
       "    // upon first draw.\n",
       "    this._resize_canvas(600, 600);\n",
       "\n",
       "    // Disable right mouse context menu.\n",
       "    $(this.rubberband_canvas).bind(\"contextmenu\",function(e){\n",
       "        return false;\n",
       "    });\n",
       "\n",
       "    function set_focus () {\n",
       "        canvas.focus();\n",
       "        canvas_div.focus();\n",
       "    }\n",
       "\n",
       "    window.setTimeout(set_focus, 100);\n",
       "}\n",
       "\n",
       "mpl.figure.prototype._init_toolbar = function() {\n",
       "    var fig = this;\n",
       "\n",
       "    var nav_element = $('<div/>')\n",
       "    nav_element.attr('style', 'width: 100%');\n",
       "    this.root.append(nav_element);\n",
       "\n",
       "    // Define a callback function for later on.\n",
       "    function toolbar_event(event) {\n",
       "        return fig.toolbar_button_onclick(event['data']);\n",
       "    }\n",
       "    function toolbar_mouse_event(event) {\n",
       "        return fig.toolbar_button_onmouseover(event['data']);\n",
       "    }\n",
       "\n",
       "    for(var toolbar_ind in mpl.toolbar_items) {\n",
       "        var name = mpl.toolbar_items[toolbar_ind][0];\n",
       "        var tooltip = mpl.toolbar_items[toolbar_ind][1];\n",
       "        var image = mpl.toolbar_items[toolbar_ind][2];\n",
       "        var method_name = mpl.toolbar_items[toolbar_ind][3];\n",
       "\n",
       "        if (!name) {\n",
       "            // put a spacer in here.\n",
       "            continue;\n",
       "        }\n",
       "        var button = $('<button/>');\n",
       "        button.addClass('ui-button ui-widget ui-state-default ui-corner-all ' +\n",
       "                        'ui-button-icon-only');\n",
       "        button.attr('role', 'button');\n",
       "        button.attr('aria-disabled', 'false');\n",
       "        button.click(method_name, toolbar_event);\n",
       "        button.mouseover(tooltip, toolbar_mouse_event);\n",
       "\n",
       "        var icon_img = $('<span/>');\n",
       "        icon_img.addClass('ui-button-icon-primary ui-icon');\n",
       "        icon_img.addClass(image);\n",
       "        icon_img.addClass('ui-corner-all');\n",
       "\n",
       "        var tooltip_span = $('<span/>');\n",
       "        tooltip_span.addClass('ui-button-text');\n",
       "        tooltip_span.html(tooltip);\n",
       "\n",
       "        button.append(icon_img);\n",
       "        button.append(tooltip_span);\n",
       "\n",
       "        nav_element.append(button);\n",
       "    }\n",
       "\n",
       "    var fmt_picker_span = $('<span/>');\n",
       "\n",
       "    var fmt_picker = $('<select/>');\n",
       "    fmt_picker.addClass('mpl-toolbar-option ui-widget ui-widget-content');\n",
       "    fmt_picker_span.append(fmt_picker);\n",
       "    nav_element.append(fmt_picker_span);\n",
       "    this.format_dropdown = fmt_picker[0];\n",
       "\n",
       "    for (var ind in mpl.extensions) {\n",
       "        var fmt = mpl.extensions[ind];\n",
       "        var option = $(\n",
       "            '<option/>', {selected: fmt === mpl.default_extension}).html(fmt);\n",
       "        fmt_picker.append(option)\n",
       "    }\n",
       "\n",
       "    // Add hover states to the ui-buttons\n",
       "    $( \".ui-button\" ).hover(\n",
       "        function() { $(this).addClass(\"ui-state-hover\");},\n",
       "        function() { $(this).removeClass(\"ui-state-hover\");}\n",
       "    );\n",
       "\n",
       "    var status_bar = $('<span class=\"mpl-message\"/>');\n",
       "    nav_element.append(status_bar);\n",
       "    this.message = status_bar[0];\n",
       "}\n",
       "\n",
       "mpl.figure.prototype.request_resize = function(x_pixels, y_pixels) {\n",
       "    // Request matplotlib to resize the figure. Matplotlib will then trigger a resize in the client,\n",
       "    // which will in turn request a refresh of the image.\n",
       "    this.send_message('resize', {'width': x_pixels, 'height': y_pixels});\n",
       "}\n",
       "\n",
       "mpl.figure.prototype.send_message = function(type, properties) {\n",
       "    properties['type'] = type;\n",
       "    properties['figure_id'] = this.id;\n",
       "    this.ws.send(JSON.stringify(properties));\n",
       "}\n",
       "\n",
       "mpl.figure.prototype.send_draw_message = function() {\n",
       "    if (!this.waiting) {\n",
       "        this.waiting = true;\n",
       "        this.ws.send(JSON.stringify({type: \"draw\", figure_id: this.id}));\n",
       "    }\n",
       "}\n",
       "\n",
       "\n",
       "mpl.figure.prototype.handle_save = function(fig, msg) {\n",
       "    var format_dropdown = fig.format_dropdown;\n",
       "    var format = format_dropdown.options[format_dropdown.selectedIndex].value;\n",
       "    fig.ondownload(fig, format);\n",
       "}\n",
       "\n",
       "\n",
       "mpl.figure.prototype.handle_resize = function(fig, msg) {\n",
       "    var size = msg['size'];\n",
       "    if (size[0] != fig.canvas.width || size[1] != fig.canvas.height) {\n",
       "        fig._resize_canvas(size[0], size[1]);\n",
       "        fig.send_message(\"refresh\", {});\n",
       "    };\n",
       "}\n",
       "\n",
       "mpl.figure.prototype.handle_rubberband = function(fig, msg) {\n",
       "    var x0 = msg['x0'] / mpl.ratio;\n",
       "    var y0 = (fig.canvas.height - msg['y0']) / mpl.ratio;\n",
       "    var x1 = msg['x1'] / mpl.ratio;\n",
       "    var y1 = (fig.canvas.height - msg['y1']) / mpl.ratio;\n",
       "    x0 = Math.floor(x0) + 0.5;\n",
       "    y0 = Math.floor(y0) + 0.5;\n",
       "    x1 = Math.floor(x1) + 0.5;\n",
       "    y1 = Math.floor(y1) + 0.5;\n",
       "    var min_x = Math.min(x0, x1);\n",
       "    var min_y = Math.min(y0, y1);\n",
       "    var width = Math.abs(x1 - x0);\n",
       "    var height = Math.abs(y1 - y0);\n",
       "\n",
       "    fig.rubberband_context.clearRect(\n",
       "        0, 0, fig.canvas.width, fig.canvas.height);\n",
       "\n",
       "    fig.rubberband_context.strokeRect(min_x, min_y, width, height);\n",
       "}\n",
       "\n",
       "mpl.figure.prototype.handle_figure_label = function(fig, msg) {\n",
       "    // Updates the figure title.\n",
       "    fig.header.textContent = msg['label'];\n",
       "}\n",
       "\n",
       "mpl.figure.prototype.handle_cursor = function(fig, msg) {\n",
       "    var cursor = msg['cursor'];\n",
       "    switch(cursor)\n",
       "    {\n",
       "    case 0:\n",
       "        cursor = 'pointer';\n",
       "        break;\n",
       "    case 1:\n",
       "        cursor = 'default';\n",
       "        break;\n",
       "    case 2:\n",
       "        cursor = 'crosshair';\n",
       "        break;\n",
       "    case 3:\n",
       "        cursor = 'move';\n",
       "        break;\n",
       "    }\n",
       "    fig.rubberband_canvas.style.cursor = cursor;\n",
       "}\n",
       "\n",
       "mpl.figure.prototype.handle_message = function(fig, msg) {\n",
       "    fig.message.textContent = msg['message'];\n",
       "}\n",
       "\n",
       "mpl.figure.prototype.handle_draw = function(fig, msg) {\n",
       "    // Request the server to send over a new figure.\n",
       "    fig.send_draw_message();\n",
       "}\n",
       "\n",
       "mpl.figure.prototype.handle_image_mode = function(fig, msg) {\n",
       "    fig.image_mode = msg['mode'];\n",
       "}\n",
       "\n",
       "mpl.figure.prototype.updated_canvas_event = function() {\n",
       "    // Called whenever the canvas gets updated.\n",
       "    this.send_message(\"ack\", {});\n",
       "}\n",
       "\n",
       "// A function to construct a web socket function for onmessage handling.\n",
       "// Called in the figure constructor.\n",
       "mpl.figure.prototype._make_on_message_function = function(fig) {\n",
       "    return function socket_on_message(evt) {\n",
       "        if (evt.data instanceof Blob) {\n",
       "            /* FIXME: We get \"Resource interpreted as Image but\n",
       "             * transferred with MIME type text/plain:\" errors on\n",
       "             * Chrome.  But how to set the MIME type?  It doesn't seem\n",
       "             * to be part of the websocket stream */\n",
       "            evt.data.type = \"image/png\";\n",
       "\n",
       "            /* Free the memory for the previous frames */\n",
       "            if (fig.imageObj.src) {\n",
       "                (window.URL || window.webkitURL).revokeObjectURL(\n",
       "                    fig.imageObj.src);\n",
       "            }\n",
       "\n",
       "            fig.imageObj.src = (window.URL || window.webkitURL).createObjectURL(\n",
       "                evt.data);\n",
       "            fig.updated_canvas_event();\n",
       "            fig.waiting = false;\n",
       "            return;\n",
       "        }\n",
       "        else if (typeof evt.data === 'string' && evt.data.slice(0, 21) == \"data:image/png;base64\") {\n",
       "            fig.imageObj.src = evt.data;\n",
       "            fig.updated_canvas_event();\n",
       "            fig.waiting = false;\n",
       "            return;\n",
       "        }\n",
       "\n",
       "        var msg = JSON.parse(evt.data);\n",
       "        var msg_type = msg['type'];\n",
       "\n",
       "        // Call the  \"handle_{type}\" callback, which takes\n",
       "        // the figure and JSON message as its only arguments.\n",
       "        try {\n",
       "            var callback = fig[\"handle_\" + msg_type];\n",
       "        } catch (e) {\n",
       "            console.log(\"No handler for the '\" + msg_type + \"' message type: \", msg);\n",
       "            return;\n",
       "        }\n",
       "\n",
       "        if (callback) {\n",
       "            try {\n",
       "                // console.log(\"Handling '\" + msg_type + \"' message: \", msg);\n",
       "                callback(fig, msg);\n",
       "            } catch (e) {\n",
       "                console.log(\"Exception inside the 'handler_\" + msg_type + \"' callback:\", e, e.stack, msg);\n",
       "            }\n",
       "        }\n",
       "    };\n",
       "}\n",
       "\n",
       "// from http://stackoverflow.com/questions/1114465/getting-mouse-location-in-canvas\n",
       "mpl.findpos = function(e) {\n",
       "    //this section is from http://www.quirksmode.org/js/events_properties.html\n",
       "    var targ;\n",
       "    if (!e)\n",
       "        e = window.event;\n",
       "    if (e.target)\n",
       "        targ = e.target;\n",
       "    else if (e.srcElement)\n",
       "        targ = e.srcElement;\n",
       "    if (targ.nodeType == 3) // defeat Safari bug\n",
       "        targ = targ.parentNode;\n",
       "\n",
       "    // jQuery normalizes the pageX and pageY\n",
       "    // pageX,Y are the mouse positions relative to the document\n",
       "    // offset() returns the position of the element relative to the document\n",
       "    var x = e.pageX - $(targ).offset().left;\n",
       "    var y = e.pageY - $(targ).offset().top;\n",
       "\n",
       "    return {\"x\": x, \"y\": y};\n",
       "};\n",
       "\n",
       "/*\n",
       " * return a copy of an object with only non-object keys\n",
       " * we need this to avoid circular references\n",
       " * http://stackoverflow.com/a/24161582/3208463\n",
       " */\n",
       "function simpleKeys (original) {\n",
       "  return Object.keys(original).reduce(function (obj, key) {\n",
       "    if (typeof original[key] !== 'object')\n",
       "        obj[key] = original[key]\n",
       "    return obj;\n",
       "  }, {});\n",
       "}\n",
       "\n",
       "mpl.figure.prototype.mouse_event = function(event, name) {\n",
       "    var canvas_pos = mpl.findpos(event)\n",
       "\n",
       "    if (name === 'button_press')\n",
       "    {\n",
       "        this.canvas.focus();\n",
       "        this.canvas_div.focus();\n",
       "    }\n",
       "\n",
       "    var x = canvas_pos.x * mpl.ratio;\n",
       "    var y = canvas_pos.y * mpl.ratio;\n",
       "\n",
       "    this.send_message(name, {x: x, y: y, button: event.button,\n",
       "                             step: event.step,\n",
       "                             guiEvent: simpleKeys(event)});\n",
       "\n",
       "    /* This prevents the web browser from automatically changing to\n",
       "     * the text insertion cursor when the button is pressed.  We want\n",
       "     * to control all of the cursor setting manually through the\n",
       "     * 'cursor' event from matplotlib */\n",
       "    event.preventDefault();\n",
       "    return false;\n",
       "}\n",
       "\n",
       "mpl.figure.prototype._key_event_extra = function(event, name) {\n",
       "    // Handle any extra behaviour associated with a key event\n",
       "}\n",
       "\n",
       "mpl.figure.prototype.key_event = function(event, name) {\n",
       "\n",
       "    // Prevent repeat events\n",
       "    if (name == 'key_press')\n",
       "    {\n",
       "        if (event.which === this._key)\n",
       "            return;\n",
       "        else\n",
       "            this._key = event.which;\n",
       "    }\n",
       "    if (name == 'key_release')\n",
       "        this._key = null;\n",
       "\n",
       "    var value = '';\n",
       "    if (event.ctrlKey && event.which != 17)\n",
       "        value += \"ctrl+\";\n",
       "    if (event.altKey && event.which != 18)\n",
       "        value += \"alt+\";\n",
       "    if (event.shiftKey && event.which != 16)\n",
       "        value += \"shift+\";\n",
       "\n",
       "    value += 'k';\n",
       "    value += event.which.toString();\n",
       "\n",
       "    this._key_event_extra(event, name);\n",
       "\n",
       "    this.send_message(name, {key: value,\n",
       "                             guiEvent: simpleKeys(event)});\n",
       "    return false;\n",
       "}\n",
       "\n",
       "mpl.figure.prototype.toolbar_button_onclick = function(name) {\n",
       "    if (name == 'download') {\n",
       "        this.handle_save(this, null);\n",
       "    } else {\n",
       "        this.send_message(\"toolbar_button\", {name: name});\n",
       "    }\n",
       "};\n",
       "\n",
       "mpl.figure.prototype.toolbar_button_onmouseover = function(tooltip) {\n",
       "    this.message.textContent = tooltip;\n",
       "};\n",
       "mpl.toolbar_items = [[\"Home\", \"Reset original view\", \"fa fa-home icon-home\", \"home\"], [\"Back\", \"Back to  previous view\", \"fa fa-arrow-left icon-arrow-left\", \"back\"], [\"Forward\", \"Forward to next view\", \"fa fa-arrow-right icon-arrow-right\", \"forward\"], [\"\", \"\", \"\", \"\"], [\"Pan\", \"Pan axes with left mouse, zoom with right\", \"fa fa-arrows icon-move\", \"pan\"], [\"Zoom\", \"Zoom to rectangle\", \"fa fa-square-o icon-check-empty\", \"zoom\"], [\"\", \"\", \"\", \"\"], [\"Download\", \"Download plot\", \"fa fa-floppy-o icon-save\", \"download\"]];\n",
       "\n",
       "mpl.extensions = [\"eps\", \"jpeg\", \"pdf\", \"png\", \"ps\", \"raw\", \"svg\", \"tif\"];\n",
       "\n",
       "mpl.default_extension = \"png\";var comm_websocket_adapter = function(comm) {\n",
       "    // Create a \"websocket\"-like object which calls the given IPython comm\n",
       "    // object with the appropriate methods. Currently this is a non binary\n",
       "    // socket, so there is still some room for performance tuning.\n",
       "    var ws = {};\n",
       "\n",
       "    ws.close = function() {\n",
       "        comm.close()\n",
       "    };\n",
       "    ws.send = function(m) {\n",
       "        //console.log('sending', m);\n",
       "        comm.send(m);\n",
       "    };\n",
       "    // Register the callback with on_msg.\n",
       "    comm.on_msg(function(msg) {\n",
       "        //console.log('receiving', msg['content']['data'], msg);\n",
       "        // Pass the mpl event to the overriden (by mpl) onmessage function.\n",
       "        ws.onmessage(msg['content']['data'])\n",
       "    });\n",
       "    return ws;\n",
       "}\n",
       "\n",
       "mpl.mpl_figure_comm = function(comm, msg) {\n",
       "    // This is the function which gets called when the mpl process\n",
       "    // starts-up an IPython Comm through the \"matplotlib\" channel.\n",
       "\n",
       "    var id = msg.content.data.id;\n",
       "    // Get hold of the div created by the display call when the Comm\n",
       "    // socket was opened in Python.\n",
       "    var element = $(\"#\" + id);\n",
       "    var ws_proxy = comm_websocket_adapter(comm)\n",
       "\n",
       "    function ondownload(figure, format) {\n",
       "        window.open(figure.imageObj.src);\n",
       "    }\n",
       "\n",
       "    var fig = new mpl.figure(id, ws_proxy,\n",
       "                           ondownload,\n",
       "                           element.get(0));\n",
       "\n",
       "    // Call onopen now - mpl needs it, as it is assuming we've passed it a real\n",
       "    // web socket which is closed, not our websocket->open comm proxy.\n",
       "    ws_proxy.onopen();\n",
       "\n",
       "    fig.parent_element = element.get(0);\n",
       "    fig.cell_info = mpl.find_output_cell(\"<div id='\" + id + \"'></div>\");\n",
       "    if (!fig.cell_info) {\n",
       "        console.error(\"Failed to find cell for figure\", id, fig);\n",
       "        return;\n",
       "    }\n",
       "\n",
       "    var output_index = fig.cell_info[2]\n",
       "    var cell = fig.cell_info[0];\n",
       "\n",
       "};\n",
       "\n",
       "mpl.figure.prototype.handle_close = function(fig, msg) {\n",
       "    var width = fig.canvas.width/mpl.ratio\n",
       "    fig.root.unbind('remove')\n",
       "\n",
       "    // Update the output cell to use the data from the current canvas.\n",
       "    fig.push_to_output();\n",
       "    var dataURL = fig.canvas.toDataURL();\n",
       "    // Re-enable the keyboard manager in IPython - without this line, in FF,\n",
       "    // the notebook keyboard shortcuts fail.\n",
       "    IPython.keyboard_manager.enable()\n",
       "    $(fig.parent_element).html('<img src=\"' + dataURL + '\" width=\"' + width + '\">');\n",
       "    fig.close_ws(fig, msg);\n",
       "}\n",
       "\n",
       "mpl.figure.prototype.close_ws = function(fig, msg){\n",
       "    fig.send_message('closing', msg);\n",
       "    // fig.ws.close()\n",
       "}\n",
       "\n",
       "mpl.figure.prototype.push_to_output = function(remove_interactive) {\n",
       "    // Turn the data on the canvas into data in the output cell.\n",
       "    var width = this.canvas.width/mpl.ratio\n",
       "    var dataURL = this.canvas.toDataURL();\n",
       "    this.cell_info[1]['text/html'] = '<img src=\"' + dataURL + '\" width=\"' + width + '\">';\n",
       "}\n",
       "\n",
       "mpl.figure.prototype.updated_canvas_event = function() {\n",
       "    // Tell IPython that the notebook contents must change.\n",
       "    IPython.notebook.set_dirty(true);\n",
       "    this.send_message(\"ack\", {});\n",
       "    var fig = this;\n",
       "    // Wait a second, then push the new image to the DOM so\n",
       "    // that it is saved nicely (might be nice to debounce this).\n",
       "    setTimeout(function () { fig.push_to_output() }, 1000);\n",
       "}\n",
       "\n",
       "mpl.figure.prototype._init_toolbar = function() {\n",
       "    var fig = this;\n",
       "\n",
       "    var nav_element = $('<div/>')\n",
       "    nav_element.attr('style', 'width: 100%');\n",
       "    this.root.append(nav_element);\n",
       "\n",
       "    // Define a callback function for later on.\n",
       "    function toolbar_event(event) {\n",
       "        return fig.toolbar_button_onclick(event['data']);\n",
       "    }\n",
       "    function toolbar_mouse_event(event) {\n",
       "        return fig.toolbar_button_onmouseover(event['data']);\n",
       "    }\n",
       "\n",
       "    for(var toolbar_ind in mpl.toolbar_items){\n",
       "        var name = mpl.toolbar_items[toolbar_ind][0];\n",
       "        var tooltip = mpl.toolbar_items[toolbar_ind][1];\n",
       "        var image = mpl.toolbar_items[toolbar_ind][2];\n",
       "        var method_name = mpl.toolbar_items[toolbar_ind][3];\n",
       "\n",
       "        if (!name) { continue; };\n",
       "\n",
       "        var button = $('<button class=\"btn btn-default\" href=\"#\" title=\"' + name + '\"><i class=\"fa ' + image + ' fa-lg\"></i></button>');\n",
       "        button.click(method_name, toolbar_event);\n",
       "        button.mouseover(tooltip, toolbar_mouse_event);\n",
       "        nav_element.append(button);\n",
       "    }\n",
       "\n",
       "    // Add the status bar.\n",
       "    var status_bar = $('<span class=\"mpl-message\" style=\"text-align:right; float: right;\"/>');\n",
       "    nav_element.append(status_bar);\n",
       "    this.message = status_bar[0];\n",
       "\n",
       "    // Add the close button to the window.\n",
       "    var buttongrp = $('<div class=\"btn-group inline pull-right\"></div>');\n",
       "    var button = $('<button class=\"btn btn-mini btn-primary\" href=\"#\" title=\"Stop Interaction\"><i class=\"fa fa-power-off icon-remove icon-large\"></i></button>');\n",
       "    button.click(function (evt) { fig.handle_close(fig, {}); } );\n",
       "    button.mouseover('Stop Interaction', toolbar_mouse_event);\n",
       "    buttongrp.append(button);\n",
       "    var titlebar = this.root.find($('.ui-dialog-titlebar'));\n",
       "    titlebar.prepend(buttongrp);\n",
       "}\n",
       "\n",
       "mpl.figure.prototype._root_extra_style = function(el){\n",
       "    var fig = this\n",
       "    el.on(\"remove\", function(){\n",
       "\tfig.close_ws(fig, {});\n",
       "    });\n",
       "}\n",
       "\n",
       "mpl.figure.prototype._canvas_extra_style = function(el){\n",
       "    // this is important to make the div 'focusable\n",
       "    el.attr('tabindex', 0)\n",
       "    // reach out to IPython and tell the keyboard manager to turn it's self\n",
       "    // off when our div gets focus\n",
       "\n",
       "    // location in version 3\n",
       "    if (IPython.notebook.keyboard_manager) {\n",
       "        IPython.notebook.keyboard_manager.register_events(el);\n",
       "    }\n",
       "    else {\n",
       "        // location in version 2\n",
       "        IPython.keyboard_manager.register_events(el);\n",
       "    }\n",
       "\n",
       "}\n",
       "\n",
       "mpl.figure.prototype._key_event_extra = function(event, name) {\n",
       "    var manager = IPython.notebook.keyboard_manager;\n",
       "    if (!manager)\n",
       "        manager = IPython.keyboard_manager;\n",
       "\n",
       "    // Check for shift+enter\n",
       "    if (event.shiftKey && event.which == 13) {\n",
       "        this.canvas_div.blur();\n",
       "        // select the cell after this one\n",
       "        var index = IPython.notebook.find_cell_index(this.cell_info[0]);\n",
       "        IPython.notebook.select(index + 1);\n",
       "    }\n",
       "}\n",
       "\n",
       "mpl.figure.prototype.handle_save = function(fig, msg) {\n",
       "    fig.ondownload(fig, null);\n",
       "}\n",
       "\n",
       "\n",
       "mpl.find_output_cell = function(html_output) {\n",
       "    // Return the cell and output element which can be found *uniquely* in the notebook.\n",
       "    // Note - this is a bit hacky, but it is done because the \"notebook_saving.Notebook\"\n",
       "    // IPython event is triggered only after the cells have been serialised, which for\n",
       "    // our purposes (turning an active figure into a static one), is too late.\n",
       "    var cells = IPython.notebook.get_cells();\n",
       "    var ncells = cells.length;\n",
       "    for (var i=0; i<ncells; i++) {\n",
       "        var cell = cells[i];\n",
       "        if (cell.cell_type === 'code'){\n",
       "            for (var j=0; j<cell.output_area.outputs.length; j++) {\n",
       "                var data = cell.output_area.outputs[j];\n",
       "                if (data.data) {\n",
       "                    // IPython >= 3 moved mimebundle to data attribute of output\n",
       "                    data = data.data;\n",
       "                }\n",
       "                if (data['text/html'] == html_output) {\n",
       "                    return [cell, data, j];\n",
       "                }\n",
       "            }\n",
       "        }\n",
       "    }\n",
       "}\n",
       "\n",
       "// Register the function which deals with the matplotlib target/channel.\n",
       "// The kernel may be null if the page has been refreshed.\n",
       "if (IPython.notebook.kernel != null) {\n",
       "    IPython.notebook.kernel.comm_manager.register_target('matplotlib', mpl.mpl_figure_comm);\n",
       "}\n"
      ],
      "text/plain": [
       "<IPython.core.display.Javascript object>"
      ]
     },
     "metadata": {},
     "output_type": "display_data"
    },
    {
     "data": {
      "text/html": [
       "<img src=\"data:image/png;base64,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\" width=\"640\">"
      ],
      "text/plain": [
       "<IPython.core.display.HTML object>"
      ]
     },
     "metadata": {},
     "output_type": "display_data"
    },
    {
     "name": "stderr",
     "output_type": "stream",
     "text": [
      "/opt/anaconda3/lib/python3.6/site-packages/matplotlib/axes/_base.py:2917: UserWarning: Attempting to set identical left==right results\n",
      "in singular transformations; automatically expanding.\n",
      "left=1.0, right=1.0\n",
      "  'left=%s, right=%s') % (left, right))\n",
      "/opt/anaconda3/lib/python3.6/site-packages/ipykernel_launcher.py:12: RuntimeWarning: divide by zero encountered in power\n",
      "  if sys.path[0] == '':\n"
     ]
    },
    {
     "data": {
      "text/plain": [
       "<matplotlib.text.Text at 0x7fa65e360860>"
      ]
     },
     "execution_count": 7,
     "metadata": {},
     "output_type": "execute_result"
    }
   ],
   "source": [
    "plot_temporal_power_spectrum(x_vals_fft, power_spectrum_fft, scale=8e6, r0=r0, L0=L0)\n",
    "pyplot.title(\"Temporal Power Specra of FFT phase screen\")"
   ]
  },
  {
   "cell_type": "markdown",
   "metadata": {},
   "source": [
    "# Infinite Phase Screens"
   ]
  },
  {
   "cell_type": "code",
   "execution_count": null,
   "metadata": {
    "slideshow": {
     "slide_type": "slide"
    }
   },
   "outputs": [],
   "source": [
    "\n",
    "time_step = pxl_scale/wind_speed # This is timestep, as one pixel added on each iteration\n",
    "\n",
    "print(\"Time Step: {} s\".format(time_step))\n",
    "\n",
    "\n",
    "power_spectrum_inf = numpy.zeros((n_tests, n_scrns))\n",
    "\n",
    "for n in tnrange(n_tests):\n",
    "    print(\"Init phase screen\")\n",
    "    phase_screen = infinitephasescreen.PhaseScreenVonKarman(nx_size, pxl_scale, r0, L0, n_columns=n_columns)\n",
    "    print(\"Total Stencil Size: {}m ({} pixels)\".format(stencil_length_factor*phase_screen.nx_size * pxl_scale, phase_screen.stencil_length))\n",
    "\n",
    "    print(\"alloc screen buffer\")\n",
    "    screen_buffer = numpy.zeros((n_scrns, nx_size**2))\n",
    "\n",
    "    for i in tnrange(n_scrns):\n",
    "        phase_screen.add_row()\n",
    "        scrn = phase_screen.scrn\n",
    "        if n%4 == 0:\n",
    "            scrn = scrn\n",
    "        elif n%4 == 1:\n",
    "            scrn = scrn.T\n",
    "        elif n%4 == 2:\n",
    "            scrn = scrn[::-1]\n",
    "        else:\n",
    "            scrn = scrn[::-1].T\n",
    "            \n",
    "        screen_buffer[i] = scrn.flatten()\n",
    "\n",
    "    print(\"Do FFT...\")\n",
    "\n",
    "    power_spectra = abs(numpy.fft.fft(screen_buffer, axis=0))**2\n",
    "    power_spectrum_inf[n] = power_spectra.mean(1)\n",
    "\n",
    "\n",
    "x_vals_inf = numpy.fft.fftfreq(n_scrns, d=time_step)\n",
    "power_spectrum_inf = power_spectrum_inf[:, :n_scrns//2]\n",
    "x_vals_inf = x_vals_inf[:n_scrns//2]\n"
   ]
  },
  {
   "cell_type": "code",
   "execution_count": null,
   "metadata": {},
   "outputs": [],
   "source": [
    "plot_temporal_power_spectrum(x_vals_inf, power_spectrum_inf, scale=10e7, r0=r0, L0=L0)"
   ]
  },
  {
   "cell_type": "markdown",
   "metadata": {},
   "source": []
  },
  {
   "cell_type": "markdown",
   "metadata": {},
   "source": []
  },
  {
   "cell_type": "code",
   "execution_count": null,
   "metadata": {},
   "outputs": [],
   "source": [
    "pyplot.figure()\n",
    "pyplot.loglog(x_vals_inf_f, power_spectrum_inf_f.mean(0), label=\"Fried Infinite Phase Screen\")\n",
    "pyplot.loglog(x_vals_inf_a, power_spectrum_inf_a.mean(0), label=\"Assemat Infinite Phase Screen\")\n",
    "pyplot.loglog(x_vals_inf_a2, power_spectrum_inf_a2.mean(0), label=\"Assemat Infinite Phase screen (new code)\")\n",
    "pyplot.loglog(x_vals_fft, power_spectrum_fft.mean(0), label=\"FFT phase screen\")\n",
    "\n",
    "pyplot.loglog(x_vals_fft,  2e7 * (D*r0) * x_vals_fft**(-8./3), color=\"k\", linestyle=\"--\", linewidth=0.6)\n",
    "\n",
    "L0_cutoff = wind_speed/L0\n",
    "pyplot.text(L0_cutoff+0.2, 10e8, \"V/L0\")\n",
    "pyplot.plot([L0_cutoff, L0_cutoff], [10, 10e11], linestyle=\"--\",linewidth=0.6, color=\"k\")\n",
    "\n",
    "pyplot.legend()\n",
    "pyplot.xlabel(\"Frequency (Hz)\")\n",
    "pyplot.ylabel(\"Power ($\\mathrm{rad}^2$)\")\n",
    "pyplot.grid()"
   ]
  },
  {
   "cell_type": "code",
   "execution_count": null,
   "metadata": {
    "collapsed": true
   },
   "outputs": [],
   "source": []
  }
 ],
 "metadata": {
  "kernelspec": {
   "display_name": "Python 3",
   "language": "python",
   "name": "python3"
  },
  "language_info": {
   "codemirror_mode": {
    "name": "ipython",
    "version": 3
   },
   "file_extension": ".py",
   "mimetype": "text/x-python",
   "name": "python",
   "nbconvert_exporter": "python",
   "pygments_lexer": "ipython3",
   "version": "3.6.1"
  },
  "widgets": {
   "state": {
    "0312f19be8144ab2bbd022a8db89ec4b": {
     "views": [
      {
       "cell_index": 6
      }
     ]
    },
    "13a09f4e05bf43719bae810f4abd554b": {
     "views": [
      {
       "cell_index": 6
      }
     ]
    },
    "25bd2eb7bc4246a8bc5a9f11e36659a4": {
     "views": [
      {
       "cell_index": 3
      }
     ]
    },
    "26ab9273046642deb528528359d685e6": {
     "views": [
      {
       "cell_index": 12
      }
     ]
    },
    "2a9252f4742d45579e1a745487fec56a": {
     "views": [
      {
       "cell_index": 6
      }
     ]
    },
    "2ad143d55b5d44deb6bd57cd34f1e805": {
     "views": [
      {
       "cell_index": 9
      }
     ]
    },
    "2bc5bb3070b24e388c168800d034cfd4": {
     "views": [
      {
       "cell_index": 12
      }
     ]
    },
    "2d72557db13f4d11b0ee4a3c8b9783bb": {
     "views": [
      {
       "cell_index": 6
      }
     ]
    },
    "305c9e4a5b9d41ebaffe8bd9c969da8b": {
     "views": [
      {
       "cell_index": 9
      }
     ]
    },
    "30da3bb4fb954665960d93bb105c9056": {
     "views": [
      {
       "cell_index": 12
      }
     ]
    },
    "3262375efa304a16bf2c63668ed300d8": {
     "views": [
      {
       "cell_index": 3
      }
     ]
    },
    "3269e0a21386475982b5e384460117e5": {
     "views": [
      {
       "cell_index": 12
      }
     ]
    },
    "33de3886f95641638eb40155a57b9421": {
     "views": [
      {
       "cell_index": 6
      }
     ]
    },
    "34a87277a46c4806801a0e2b8c52281d": {
     "views": [
      {
       "cell_index": 9
      }
     ]
    },
    "36f4a884604a415abf40e127b69d48ba": {
     "views": [
      {
       "cell_index": 12
      }
     ]
    },
    "3a486943ccc44c59a90b678427cff320": {
     "views": [
      {
       "cell_index": 12
      }
     ]
    },
    "45f6f77d75c0479c86f5c9cc07015d08": {
     "views": [
      {
       "cell_index": 12
      }
     ]
    },
    "47ad2931f2a848e6b5071b61eecda3db": {
     "views": [
      {
       "cell_index": 3
      }
     ]
    },
    "4843129a7e144c1daa31938cfcab4e99": {
     "views": [
      {
       "cell_index": 12
      }
     ]
    },
    "4a9f05fa2d6046c29b484add404a952e": {
     "views": [
      {
       "cell_index": 12
      }
     ]
    },
    "502ebe80666c4693ba3800a9aeac7e57": {
     "views": [
      {
       "cell_index": 3
      }
     ]
    },
    "510c133dc76d44819cbbb9e53530ba63": {
     "views": [
      {
       "cell_index": 6
      }
     ]
    },
    "52a2954264094d118f6358c293d91999": {
     "views": [
      {
       "cell_index": 12
      }
     ]
    },
    "577c2a56a8ea400b96b542a33ad9089d": {
     "views": [
      {
       "cell_index": 9
      }
     ]
    },
    "5af9ffc075564ae4ae17457563d7938c": {
     "views": [
      {
       "cell_index": 3
      }
     ]
    },
    "5bab5cbeaa4844fc824c8b0233318c63": {
     "views": [
      {
       "cell_index": 9
      }
     ]
    },
    "5ef7cbce7d4c412da4c76f07640748b5": {
     "views": [
      {
       "cell_index": 12
      }
     ]
    },
    "687d360ea8984dd3a0fcb8c11dfdd10b": {
     "views": [
      {
       "cell_index": 12
      }
     ]
    },
    "6ae7bca11d8e49e7b039129357239002": {
     "views": [
      {
       "cell_index": 6
      }
     ]
    },
    "6d4f46714fb040f6956e91385d572255": {
     "views": [
      {
       "cell_index": 6
      }
     ]
    },
    "6dcc9414ab9a4726ac9b7829a654fdd2": {
     "views": [
      {
       "cell_index": 12
      }
     ]
    },
    "6ebfbdabb8f545dcb658dd6ec05977e8": {
     "views": [
      {
       "cell_index": 3
      }
     ]
    },
    "70f8b9ff5c1741b2bbbabdeb804db144": {
     "views": [
      {
       "cell_index": 9
      }
     ]
    },
    "739439608aa8408ebc5a729710293893": {
     "views": [
      {
       "cell_index": 3
      }
     ]
    },
    "75075c6450174a9f8ab7f5ed3a2638a4": {
     "views": [
      {
       "cell_index": 9
      }
     ]
    },
    "7a36edc4655143abb70060886b9236ea": {
     "views": [
      {
       "cell_index": 9
      }
     ]
    },
    "8cf7edb4855c419398e0e6156d4a05a8": {
     "views": [
      {
       "cell_index": 9
      }
     ]
    },
    "92142c6d3f8b4e928cb6039fac71aff1": {
     "views": [
      {
       "cell_index": 6
      }
     ]
    },
    "943c896d75244fc69c15d2370c90cd00": {
     "views": [
      {
       "cell_index": 6
      }
     ]
    },
    "949ea3cbc68049f3a669deb8073c9feb": {
     "views": [
      {
       "cell_index": 12
      }
     ]
    },
    "94d97a84c6c446cd86cd182ab2056c65": {
     "views": [
      {
       "cell_index": 9
      }
     ]
    },
    "96ae6bc1999c464a99d86fa8d0ce95ef": {
     "views": [
      {
       "cell_index": 3
      }
     ]
    },
    "9c0568fddb2844f3937fa0f6a4af7683": {
     "views": [
      {
       "cell_index": 6
      }
     ]
    },
    "9e311e15671e4ceaaed0b4206fd54f3e": {
     "views": [
      {
       "cell_index": 12
      }
     ]
    },
    "a1e3a8e1432c40f48fbb1958ab0bc228": {
     "views": [
      {
       "cell_index": 3
      }
     ]
    },
    "a3d58eb17d154da882bdd5c046cd9491": {
     "views": [
      {
       "cell_index": 6
      }
     ]
    },
    "a4a4bd7dfeea46268bf63ff8b49fae90": {
     "views": [
      {
       "cell_index": 3
      }
     ]
    },
    "a4b289add1f4491d89b4e5e66a24b388": {
     "views": [
      {
       "cell_index": 3
      }
     ]
    },
    "a5f664cccbf349ebbd16577f4518672e": {
     "views": [
      {
       "cell_index": 3
      }
     ]
    },
    "a8a3b3c5b6704f2abca5c0c29ab7dea4": {
     "views": [
      {
       "cell_index": 12
      }
     ]
    },
    "ae3ba24734d34aad97ce91d839f00880": {
     "views": [
      {
       "cell_index": 3
      }
     ]
    },
    "b27176c365494b0eba51f91a390c470c": {
     "views": [
      {
       "cell_index": 3
      }
     ]
    },
    "b6ac7e2353f14f5dafb399bafffb1eba": {
     "views": [
      {
       "cell_index": 12
      }
     ]
    },
    "b80bb2ca40b141378f462cc1601346dc": {
     "views": [
      {
       "cell_index": 6
      }
     ]
    },
    "bb8730794a2b4c1f9b1b8eee81684fed": {
     "views": [
      {
       "cell_index": 12
      }
     ]
    },
    "bdf452cc1bad4b9aa7016e7828c1a39d": {
     "views": [
      {
       "cell_index": 9
      }
     ]
    },
    "c5a45e4b4f4d4aa29131a7cd91835692": {
     "views": [
      {
       "cell_index": 9
      }
     ]
    },
    "c64405495c7e4baa90fc804e8e58d46e": {
     "views": [
      {
       "cell_index": 6
      }
     ]
    },
    "c8ccf674d35b46b79ea8d4c1518a0ef4": {
     "views": [
      {
       "cell_index": 12
      }
     ]
    },
    "cbe7a7a7d8a2418f9dab4108601912ed": {
     "views": [
      {
       "cell_index": 9
      }
     ]
    },
    "ce9cad44a72648358e8503deb4d3a927": {
     "views": [
      {
       "cell_index": 3
      }
     ]
    },
    "cebb9a516cb64ba98a80d612e61f3d9e": {
     "views": [
      {
       "cell_index": 9
      }
     ]
    },
    "cffe56d2791f461a9090d6d3b21dbc3f": {
     "views": [
      {
       "cell_index": 9
      }
     ]
    },
    "d0c18844539d4145a9b711f5e8a40f59": {
     "views": [
      {
       "cell_index": 9
      }
     ]
    },
    "d438b7c958a94f4a8e2f3f25b9d0ec85": {
     "views": [
      {
       "cell_index": 12
      }
     ]
    },
    "d87205742ade48719a6e81bc3b0f6b4e": {
     "views": [
      {
       "cell_index": 3
      }
     ]
    },
    "d87c0bd7618d4cc69040f25542b7e6c4": {
     "views": [
      {
       "cell_index": 6
      }
     ]
    },
    "dcb2706ae82e46eea7897b49502538ba": {
     "views": [
      {
       "cell_index": 3
      }
     ]
    },
    "dcf24326d69746fc8dcd953b915ac85a": {
     "views": [
      {
       "cell_index": 12
      }
     ]
    },
    "e2270aaa96c14f1ab2216b0c4c388a67": {
     "views": [
      {
       "cell_index": 12
      }
     ]
    },
    "e7a19473ab1c43178d30ada23348ba29": {
     "views": [
      {
       "cell_index": 3
      }
     ]
    },
    "e89da0bfe8ff41708ae6990325bea409": {
     "views": [
      {
       "cell_index": 12
      }
     ]
    },
    "ead40a44b3c74018b9b191c6862837ac": {
     "views": [
      {
       "cell_index": 9
      }
     ]
    },
    "f613c0cbf03a4f8d92774bf1629675d6": {
     "views": [
      {
       "cell_index": 12
      }
     ]
    },
    "f80a39b235094c5092780662bb86af26": {
     "views": [
      {
       "cell_index": 12
      }
     ]
    },
    "f86febfab05b46e994bc2c422d30920d": {
     "views": [
      {
       "cell_index": 6
      }
     ]
    },
    "f8d9b1e6f9634931a356cde30d08a842": {
     "views": [
      {
       "cell_index": 6
      }
     ]
    }
   },
   "version": "1.2.0"
  }
 },
 "nbformat": 4,
 "nbformat_minor": 2
}
