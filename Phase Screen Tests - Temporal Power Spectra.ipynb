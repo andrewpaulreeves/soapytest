{
 "cells": [
  {
   "cell_type": "code",
   "execution_count": 1,
   "metadata": {
    "collapsed": true
   },
   "outputs": [],
   "source": [
    "import numpy\n",
    "%matplotlib nbagg\n",
    "from matplotlib import pyplot\n",
    "from tqdm import tqdm, tnrange\n",
    "\n",
    "import aotools\n",
    "from aotools.turbulence import phasescreen, infinitephasescreen\n",
    "import zernike"
   ]
  },
  {
   "cell_type": "code",
   "execution_count": 2,
   "metadata": {
    "collapsed": true
   },
   "outputs": [],
   "source": [
    "def plot_temporal_power_spectrum(x_vals, power_spectra, scale, r0=None, L0=None):\n",
    "    pyplot.figure()\n",
    "    pyplot.grid()\n",
    "    if L0 is not None:\n",
    "        L0_cutoff = wind_speed/L0\n",
    "        pyplot.text(L0_cutoff+0.2, 10e8, \"V/L0\")\n",
    "        pyplot.plot([L0_cutoff, L0_cutoff], [10, 10e11], linestyle=\"--\",linewidth=1, color=\"k\")\n",
    "\n",
    "\n",
    "    pyplot.loglog(x_vals, power_spectra.T, alpha=0.2)\n",
    "    pyplot.loglog(x_vals, power_spectra.mean(0), color=\"blue\")\n",
    "    pyplot.plot(x_vals, scale * x_vals**(-8./3), color=\"k\", linestyle=\":\")\n",
    "    pyplot.xlabel(\"Frequency (Hz)\")\n",
    "    pyplot.ylabel(\"Power ($\\mathrm{rad}^2$)\")"
   ]
  },
  {
   "cell_type": "code",
   "execution_count": 3,
   "metadata": {
    "collapsed": true
   },
   "outputs": [],
   "source": [
    "nx_size = 256\n",
    "D = 8.\n",
    "pxl_scale = D/nx_size # m/pixel\n",
    "r0 = 0.2\n",
    "L0 = 10.\n",
    "n_tests = 16\n",
    "wind_speed = 10 #m/s - just arbitrarily set\n",
    "n_scrns = 10000\n",
    "stencil_length_factor = 16\n"
   ]
  },
  {
   "cell_type": "markdown",
   "metadata": {},
   "source": [
    "# Infinite (Assemat) Phase Screens"
   ]
  },
  {
   "cell_type": "code",
   "execution_count": 4,
   "metadata": {
    "slideshow": {
     "slide_type": "slide"
    }
   },
   "outputs": [
    {
     "name": "stdout",
     "output_type": "stream",
     "text": [
      "Time Step: 0.003125 s\n"
     ]
    },
    {
     "name": "stderr",
     "output_type": "stream",
     "text": [
      "Widget Javascript not detected.  It may not be installed or enabled properly.\n"
     ]
    },
    {
     "data": {
      "application/vnd.jupyter.widget-view+json": {
       "model_id": "b24ea4127dfd44a0b59747e0f0fa6661"
      }
     },
     "metadata": {},
     "output_type": "display_data"
    },
    {
     "name": "stdout",
     "output_type": "stream",
     "text": [
      "Init phase screen\n",
      "alloc screen buffer\n"
     ]
    },
    {
     "name": "stderr",
     "output_type": "stream",
     "text": [
      "Widget Javascript not detected.  It may not be installed or enabled properly.\n"
     ]
    },
    {
     "data": {
      "application/vnd.jupyter.widget-view+json": {
       "model_id": "974f5b534b4c4bc2a97bee79eede3ea7"
      }
     },
     "metadata": {},
     "output_type": "display_data"
    },
    {
     "name": "stdout",
     "output_type": "stream",
     "text": [
      "Do FFT...\n",
      "Init phase screen\n",
      "alloc screen buffer\n"
     ]
    },
    {
     "name": "stderr",
     "output_type": "stream",
     "text": [
      "Widget Javascript not detected.  It may not be installed or enabled properly.\n"
     ]
    },
    {
     "data": {
      "application/vnd.jupyter.widget-view+json": {
       "model_id": "4d18d983aad84975897879b39426be95"
      }
     },
     "metadata": {},
     "output_type": "display_data"
    },
    {
     "name": "stdout",
     "output_type": "stream",
     "text": [
      "Do FFT...\n",
      "Init phase screen\n",
      "alloc screen buffer\n"
     ]
    },
    {
     "name": "stderr",
     "output_type": "stream",
     "text": [
      "Widget Javascript not detected.  It may not be installed or enabled properly.\n"
     ]
    },
    {
     "data": {
      "application/vnd.jupyter.widget-view+json": {
       "model_id": "e899455608524c5da307d48f2d74ed2e"
      }
     },
     "metadata": {},
     "output_type": "display_data"
    },
    {
     "name": "stdout",
     "output_type": "stream",
     "text": [
      "Do FFT...\n",
      "Init phase screen\n",
      "alloc screen buffer\n"
     ]
    },
    {
     "name": "stderr",
     "output_type": "stream",
     "text": [
      "Widget Javascript not detected.  It may not be installed or enabled properly.\n"
     ]
    },
    {
     "data": {
      "application/vnd.jupyter.widget-view+json": {
       "model_id": "c327fe5bba4c4969808c07254e3af696"
      }
     },
     "metadata": {},
     "output_type": "display_data"
    },
    {
     "name": "stdout",
     "output_type": "stream",
     "text": [
      "Do FFT...\n",
      "Init phase screen\n",
      "alloc screen buffer\n"
     ]
    },
    {
     "name": "stderr",
     "output_type": "stream",
     "text": [
      "Widget Javascript not detected.  It may not be installed or enabled properly.\n"
     ]
    },
    {
     "data": {
      "application/vnd.jupyter.widget-view+json": {
       "model_id": "d51c2924e5e946baba45f3a930468cbd"
      }
     },
     "metadata": {},
     "output_type": "display_data"
    },
    {
     "name": "stdout",
     "output_type": "stream",
     "text": [
      "Do FFT...\n",
      "Init phase screen\n",
      "alloc screen buffer\n"
     ]
    },
    {
     "name": "stderr",
     "output_type": "stream",
     "text": [
      "Widget Javascript not detected.  It may not be installed or enabled properly.\n"
     ]
    },
    {
     "data": {
      "application/vnd.jupyter.widget-view+json": {
       "model_id": "f25ce96ba3244b5996b93579247d5e47"
      }
     },
     "metadata": {},
     "output_type": "display_data"
    },
    {
     "name": "stdout",
     "output_type": "stream",
     "text": [
      "Do FFT...\n",
      "Init phase screen\n",
      "alloc screen buffer\n"
     ]
    },
    {
     "name": "stderr",
     "output_type": "stream",
     "text": [
      "Widget Javascript not detected.  It may not be installed or enabled properly.\n"
     ]
    },
    {
     "data": {
      "application/vnd.jupyter.widget-view+json": {
       "model_id": "a4e76f3c8b534f209281d4000788761f"
      }
     },
     "metadata": {},
     "output_type": "display_data"
    },
    {
     "name": "stdout",
     "output_type": "stream",
     "text": [
      "Do FFT...\n",
      "Init phase screen\n",
      "alloc screen buffer\n"
     ]
    },
    {
     "name": "stderr",
     "output_type": "stream",
     "text": [
      "Widget Javascript not detected.  It may not be installed or enabled properly.\n"
     ]
    },
    {
     "data": {
      "application/vnd.jupyter.widget-view+json": {
       "model_id": "22542a095c5d4db6ac31f740bfa33c84"
      }
     },
     "metadata": {},
     "output_type": "display_data"
    },
    {
     "name": "stdout",
     "output_type": "stream",
     "text": [
      "Do FFT...\n",
      "Init phase screen\n",
      "alloc screen buffer\n"
     ]
    },
    {
     "name": "stderr",
     "output_type": "stream",
     "text": [
      "Widget Javascript not detected.  It may not be installed or enabled properly.\n"
     ]
    },
    {
     "data": {
      "application/vnd.jupyter.widget-view+json": {
       "model_id": "96769dce16e54f76b4e2b35047456af2"
      }
     },
     "metadata": {},
     "output_type": "display_data"
    },
    {
     "name": "stdout",
     "output_type": "stream",
     "text": [
      "Do FFT...\n",
      "Init phase screen\n",
      "alloc screen buffer\n"
     ]
    },
    {
     "name": "stderr",
     "output_type": "stream",
     "text": [
      "Widget Javascript not detected.  It may not be installed or enabled properly.\n"
     ]
    },
    {
     "data": {
      "application/vnd.jupyter.widget-view+json": {
       "model_id": "a7e3ccd10404405888ff92a17bddeb18"
      }
     },
     "metadata": {},
     "output_type": "display_data"
    },
    {
     "name": "stdout",
     "output_type": "stream",
     "text": [
      "Do FFT...\n",
      "Init phase screen\n",
      "alloc screen buffer\n"
     ]
    },
    {
     "name": "stderr",
     "output_type": "stream",
     "text": [
      "Widget Javascript not detected.  It may not be installed or enabled properly.\n"
     ]
    },
    {
     "data": {
      "application/vnd.jupyter.widget-view+json": {
       "model_id": "f3d39f67dbfd4781a1ca580cb9a5e214"
      }
     },
     "metadata": {},
     "output_type": "display_data"
    },
    {
     "name": "stdout",
     "output_type": "stream",
     "text": [
      "Do FFT...\n",
      "Init phase screen\n",
      "alloc screen buffer\n"
     ]
    },
    {
     "name": "stderr",
     "output_type": "stream",
     "text": [
      "Widget Javascript not detected.  It may not be installed or enabled properly.\n"
     ]
    },
    {
     "data": {
      "application/vnd.jupyter.widget-view+json": {
       "model_id": "5d46653619454e9eaad1f04169454993"
      }
     },
     "metadata": {},
     "output_type": "display_data"
    },
    {
     "name": "stdout",
     "output_type": "stream",
     "text": [
      "Do FFT...\n",
      "Init phase screen\n",
      "alloc screen buffer\n"
     ]
    },
    {
     "name": "stderr",
     "output_type": "stream",
     "text": [
      "Widget Javascript not detected.  It may not be installed or enabled properly.\n"
     ]
    },
    {
     "data": {
      "application/vnd.jupyter.widget-view+json": {
       "model_id": "f085e49efe644932a9cc8f16531c5c73"
      }
     },
     "metadata": {},
     "output_type": "display_data"
    },
    {
     "name": "stdout",
     "output_type": "stream",
     "text": [
      "Do FFT...\n",
      "Init phase screen\n",
      "alloc screen buffer\n"
     ]
    },
    {
     "name": "stderr",
     "output_type": "stream",
     "text": [
      "Widget Javascript not detected.  It may not be installed or enabled properly.\n"
     ]
    },
    {
     "data": {
      "application/vnd.jupyter.widget-view+json": {
       "model_id": "6e8a2c2f1f964dec8949aeb8a37438ad"
      }
     },
     "metadata": {},
     "output_type": "display_data"
    },
    {
     "name": "stdout",
     "output_type": "stream",
     "text": [
      "Do FFT...\n",
      "Init phase screen\n",
      "alloc screen buffer\n"
     ]
    },
    {
     "name": "stderr",
     "output_type": "stream",
     "text": [
      "Widget Javascript not detected.  It may not be installed or enabled properly.\n"
     ]
    },
    {
     "data": {
      "application/vnd.jupyter.widget-view+json": {
       "model_id": "f4ba5da84ba947739ef445c67ad1bd72"
      }
     },
     "metadata": {},
     "output_type": "display_data"
    },
    {
     "name": "stdout",
     "output_type": "stream",
     "text": [
      "Do FFT...\n",
      "Init phase screen\n",
      "alloc screen buffer\n"
     ]
    },
    {
     "name": "stderr",
     "output_type": "stream",
     "text": [
      "Widget Javascript not detected.  It may not be installed or enabled properly.\n"
     ]
    },
    {
     "data": {
      "application/vnd.jupyter.widget-view+json": {
       "model_id": "de0212f8701046cdb716c01a09287239"
      }
     },
     "metadata": {},
     "output_type": "display_data"
    },
    {
     "name": "stdout",
     "output_type": "stream",
     "text": [
      "Do FFT...\n",
      "\n"
     ]
    }
   ],
   "source": [
    "nCol = 2\n",
    "time_step = pxl_scale/wind_speed # This is timestep, as one pixel added on each iteration\n",
    "\n",
    "print(\"Time Step: {} s\".format(time_step))\n",
    "\n",
    "\n",
    "power_spectrum_inf = numpy.zeros((n_tests, n_scrns))\n",
    "\n",
    "for n in tnrange(n_tests):\n",
    "    print(\"Init phase screen\")\n",
    "    phase_screen = infinitephasescreen.PhaseScreenVonKarman(nx_size, pxl_scale, r0, L0, n_columns=nCol)\n",
    "\n",
    "    print(\"alloc screen buffer\")\n",
    "    screen_buffer = numpy.zeros((n_scrns, nx_size**2))\n",
    "\n",
    "    for i in tnrange(n_scrns):\n",
    "        phase_screen.add_row()\n",
    "        scrn = phase_screen.scrn\n",
    "        if n%4 == 0:\n",
    "            scrn = scrn\n",
    "        elif n%4 == 1:\n",
    "            scrn = scrn.T\n",
    "        elif n%4 == 2:\n",
    "            scrn = scrn[::-1]\n",
    "        else:\n",
    "            scrn = scrn[::-1].T\n",
    "            \n",
    "        screen_buffer[i] = scrn.flatten()\n",
    "\n",
    "    print(\"Do FFT...\")\n",
    "\n",
    "    power_spectra = abs(numpy.fft.fft(screen_buffer, axis=0))**2\n",
    "    power_spectrum_inf[n] = power_spectra.mean(1)\n",
    "\n",
    "\n",
    "x_vals_inf = numpy.fft.fftfreq(n_scrns, d=time_step)\n",
    "power_spectrum_inf = power_spectrum_inf[:, :n_scrns//2]\n",
    "x_vals_inf = x_vals_inf[:n_scrns//2]"
   ]
  },
  {
   "cell_type": "code",
   "execution_count": 5,
   "metadata": {},
   "outputs": [
    {
     "data": {
      "application/javascript": [
       "/* Put everything inside the global mpl namespace */\n",
       "window.mpl = {};\n",
       "\n",
       "\n",
       "mpl.get_websocket_type = function() {\n",
       "    if (typeof(WebSocket) !== 'undefined') {\n",
       "        return WebSocket;\n",
       "    } else if (typeof(MozWebSocket) !== 'undefined') {\n",
       "        return MozWebSocket;\n",
       "    } else {\n",
       "        alert('Your browser does not have WebSocket support.' +\n",
       "              'Please try Chrome, Safari or Firefox ≥ 6. ' +\n",
       "              'Firefox 4 and 5 are also supported but you ' +\n",
       "              'have to enable WebSockets in about:config.');\n",
       "    };\n",
       "}\n",
       "\n",
       "mpl.figure = function(figure_id, websocket, ondownload, parent_element) {\n",
       "    this.id = figure_id;\n",
       "\n",
       "    this.ws = websocket;\n",
       "\n",
       "    this.supports_binary = (this.ws.binaryType != undefined);\n",
       "\n",
       "    if (!this.supports_binary) {\n",
       "        var warnings = document.getElementById(\"mpl-warnings\");\n",
       "        if (warnings) {\n",
       "            warnings.style.display = 'block';\n",
       "            warnings.textContent = (\n",
       "                \"This browser does not support binary websocket messages. \" +\n",
       "                    \"Performance may be slow.\");\n",
       "        }\n",
       "    }\n",
       "\n",
       "    this.imageObj = new Image();\n",
       "\n",
       "    this.context = undefined;\n",
       "    this.message = undefined;\n",
       "    this.canvas = undefined;\n",
       "    this.rubberband_canvas = undefined;\n",
       "    this.rubberband_context = undefined;\n",
       "    this.format_dropdown = undefined;\n",
       "\n",
       "    this.image_mode = 'full';\n",
       "\n",
       "    this.root = $('<div/>');\n",
       "    this._root_extra_style(this.root)\n",
       "    this.root.attr('style', 'display: inline-block');\n",
       "\n",
       "    $(parent_element).append(this.root);\n",
       "\n",
       "    this._init_header(this);\n",
       "    this._init_canvas(this);\n",
       "    this._init_toolbar(this);\n",
       "\n",
       "    var fig = this;\n",
       "\n",
       "    this.waiting = false;\n",
       "\n",
       "    this.ws.onopen =  function () {\n",
       "            fig.send_message(\"supports_binary\", {value: fig.supports_binary});\n",
       "            fig.send_message(\"send_image_mode\", {});\n",
       "            if (mpl.ratio != 1) {\n",
       "                fig.send_message(\"set_dpi_ratio\", {'dpi_ratio': mpl.ratio});\n",
       "            }\n",
       "            fig.send_message(\"refresh\", {});\n",
       "        }\n",
       "\n",
       "    this.imageObj.onload = function() {\n",
       "            if (fig.image_mode == 'full') {\n",
       "                // Full images could contain transparency (where diff images\n",
       "                // almost always do), so we need to clear the canvas so that\n",
       "                // there is no ghosting.\n",
       "                fig.context.clearRect(0, 0, fig.canvas.width, fig.canvas.height);\n",
       "            }\n",
       "            fig.context.drawImage(fig.imageObj, 0, 0);\n",
       "        };\n",
       "\n",
       "    this.imageObj.onunload = function() {\n",
       "        this.ws.close();\n",
       "    }\n",
       "\n",
       "    this.ws.onmessage = this._make_on_message_function(this);\n",
       "\n",
       "    this.ondownload = ondownload;\n",
       "}\n",
       "\n",
       "mpl.figure.prototype._init_header = function() {\n",
       "    var titlebar = $(\n",
       "        '<div class=\"ui-dialog-titlebar ui-widget-header ui-corner-all ' +\n",
       "        'ui-helper-clearfix\"/>');\n",
       "    var titletext = $(\n",
       "        '<div class=\"ui-dialog-title\" style=\"width: 100%; ' +\n",
       "        'text-align: center; padding: 3px;\"/>');\n",
       "    titlebar.append(titletext)\n",
       "    this.root.append(titlebar);\n",
       "    this.header = titletext[0];\n",
       "}\n",
       "\n",
       "\n",
       "\n",
       "mpl.figure.prototype._canvas_extra_style = function(canvas_div) {\n",
       "\n",
       "}\n",
       "\n",
       "\n",
       "mpl.figure.prototype._root_extra_style = function(canvas_div) {\n",
       "\n",
       "}\n",
       "\n",
       "mpl.figure.prototype._init_canvas = function() {\n",
       "    var fig = this;\n",
       "\n",
       "    var canvas_div = $('<div/>');\n",
       "\n",
       "    canvas_div.attr('style', 'position: relative; clear: both; outline: 0');\n",
       "\n",
       "    function canvas_keyboard_event(event) {\n",
       "        return fig.key_event(event, event['data']);\n",
       "    }\n",
       "\n",
       "    canvas_div.keydown('key_press', canvas_keyboard_event);\n",
       "    canvas_div.keyup('key_release', canvas_keyboard_event);\n",
       "    this.canvas_div = canvas_div\n",
       "    this._canvas_extra_style(canvas_div)\n",
       "    this.root.append(canvas_div);\n",
       "\n",
       "    var canvas = $('<canvas/>');\n",
       "    canvas.addClass('mpl-canvas');\n",
       "    canvas.attr('style', \"left: 0; top: 0; z-index: 0; outline: 0\")\n",
       "\n",
       "    this.canvas = canvas[0];\n",
       "    this.context = canvas[0].getContext(\"2d\");\n",
       "\n",
       "    var backingStore = this.context.backingStorePixelRatio ||\n",
       "\tthis.context.webkitBackingStorePixelRatio ||\n",
       "\tthis.context.mozBackingStorePixelRatio ||\n",
       "\tthis.context.msBackingStorePixelRatio ||\n",
       "\tthis.context.oBackingStorePixelRatio ||\n",
       "\tthis.context.backingStorePixelRatio || 1;\n",
       "\n",
       "    mpl.ratio = (window.devicePixelRatio || 1) / backingStore;\n",
       "\n",
       "    var rubberband = $('<canvas/>');\n",
       "    rubberband.attr('style', \"position: absolute; left: 0; top: 0; z-index: 1;\")\n",
       "\n",
       "    var pass_mouse_events = true;\n",
       "\n",
       "    canvas_div.resizable({\n",
       "        start: function(event, ui) {\n",
       "            pass_mouse_events = false;\n",
       "        },\n",
       "        resize: function(event, ui) {\n",
       "            fig.request_resize(ui.size.width, ui.size.height);\n",
       "        },\n",
       "        stop: function(event, ui) {\n",
       "            pass_mouse_events = true;\n",
       "            fig.request_resize(ui.size.width, ui.size.height);\n",
       "        },\n",
       "    });\n",
       "\n",
       "    function mouse_event_fn(event) {\n",
       "        if (pass_mouse_events)\n",
       "            return fig.mouse_event(event, event['data']);\n",
       "    }\n",
       "\n",
       "    rubberband.mousedown('button_press', mouse_event_fn);\n",
       "    rubberband.mouseup('button_release', mouse_event_fn);\n",
       "    // Throttle sequential mouse events to 1 every 20ms.\n",
       "    rubberband.mousemove('motion_notify', mouse_event_fn);\n",
       "\n",
       "    rubberband.mouseenter('figure_enter', mouse_event_fn);\n",
       "    rubberband.mouseleave('figure_leave', mouse_event_fn);\n",
       "\n",
       "    canvas_div.on(\"wheel\", function (event) {\n",
       "        event = event.originalEvent;\n",
       "        event['data'] = 'scroll'\n",
       "        if (event.deltaY < 0) {\n",
       "            event.step = 1;\n",
       "        } else {\n",
       "            event.step = -1;\n",
       "        }\n",
       "        mouse_event_fn(event);\n",
       "    });\n",
       "\n",
       "    canvas_div.append(canvas);\n",
       "    canvas_div.append(rubberband);\n",
       "\n",
       "    this.rubberband = rubberband;\n",
       "    this.rubberband_canvas = rubberband[0];\n",
       "    this.rubberband_context = rubberband[0].getContext(\"2d\");\n",
       "    this.rubberband_context.strokeStyle = \"#000000\";\n",
       "\n",
       "    this._resize_canvas = function(width, height) {\n",
       "        // Keep the size of the canvas, canvas container, and rubber band\n",
       "        // canvas in synch.\n",
       "        canvas_div.css('width', width)\n",
       "        canvas_div.css('height', height)\n",
       "\n",
       "        canvas.attr('width', width * mpl.ratio);\n",
       "        canvas.attr('height', height * mpl.ratio);\n",
       "        canvas.attr('style', 'width: ' + width + 'px; height: ' + height + 'px;');\n",
       "\n",
       "        rubberband.attr('width', width);\n",
       "        rubberband.attr('height', height);\n",
       "    }\n",
       "\n",
       "    // Set the figure to an initial 600x600px, this will subsequently be updated\n",
       "    // upon first draw.\n",
       "    this._resize_canvas(600, 600);\n",
       "\n",
       "    // Disable right mouse context menu.\n",
       "    $(this.rubberband_canvas).bind(\"contextmenu\",function(e){\n",
       "        return false;\n",
       "    });\n",
       "\n",
       "    function set_focus () {\n",
       "        canvas.focus();\n",
       "        canvas_div.focus();\n",
       "    }\n",
       "\n",
       "    window.setTimeout(set_focus, 100);\n",
       "}\n",
       "\n",
       "mpl.figure.prototype._init_toolbar = function() {\n",
       "    var fig = this;\n",
       "\n",
       "    var nav_element = $('<div/>')\n",
       "    nav_element.attr('style', 'width: 100%');\n",
       "    this.root.append(nav_element);\n",
       "\n",
       "    // Define a callback function for later on.\n",
       "    function toolbar_event(event) {\n",
       "        return fig.toolbar_button_onclick(event['data']);\n",
       "    }\n",
       "    function toolbar_mouse_event(event) {\n",
       "        return fig.toolbar_button_onmouseover(event['data']);\n",
       "    }\n",
       "\n",
       "    for(var toolbar_ind in mpl.toolbar_items) {\n",
       "        var name = mpl.toolbar_items[toolbar_ind][0];\n",
       "        var tooltip = mpl.toolbar_items[toolbar_ind][1];\n",
       "        var image = mpl.toolbar_items[toolbar_ind][2];\n",
       "        var method_name = mpl.toolbar_items[toolbar_ind][3];\n",
       "\n",
       "        if (!name) {\n",
       "            // put a spacer in here.\n",
       "            continue;\n",
       "        }\n",
       "        var button = $('<button/>');\n",
       "        button.addClass('ui-button ui-widget ui-state-default ui-corner-all ' +\n",
       "                        'ui-button-icon-only');\n",
       "        button.attr('role', 'button');\n",
       "        button.attr('aria-disabled', 'false');\n",
       "        button.click(method_name, toolbar_event);\n",
       "        button.mouseover(tooltip, toolbar_mouse_event);\n",
       "\n",
       "        var icon_img = $('<span/>');\n",
       "        icon_img.addClass('ui-button-icon-primary ui-icon');\n",
       "        icon_img.addClass(image);\n",
       "        icon_img.addClass('ui-corner-all');\n",
       "\n",
       "        var tooltip_span = $('<span/>');\n",
       "        tooltip_span.addClass('ui-button-text');\n",
       "        tooltip_span.html(tooltip);\n",
       "\n",
       "        button.append(icon_img);\n",
       "        button.append(tooltip_span);\n",
       "\n",
       "        nav_element.append(button);\n",
       "    }\n",
       "\n",
       "    var fmt_picker_span = $('<span/>');\n",
       "\n",
       "    var fmt_picker = $('<select/>');\n",
       "    fmt_picker.addClass('mpl-toolbar-option ui-widget ui-widget-content');\n",
       "    fmt_picker_span.append(fmt_picker);\n",
       "    nav_element.append(fmt_picker_span);\n",
       "    this.format_dropdown = fmt_picker[0];\n",
       "\n",
       "    for (var ind in mpl.extensions) {\n",
       "        var fmt = mpl.extensions[ind];\n",
       "        var option = $(\n",
       "            '<option/>', {selected: fmt === mpl.default_extension}).html(fmt);\n",
       "        fmt_picker.append(option)\n",
       "    }\n",
       "\n",
       "    // Add hover states to the ui-buttons\n",
       "    $( \".ui-button\" ).hover(\n",
       "        function() { $(this).addClass(\"ui-state-hover\");},\n",
       "        function() { $(this).removeClass(\"ui-state-hover\");}\n",
       "    );\n",
       "\n",
       "    var status_bar = $('<span class=\"mpl-message\"/>');\n",
       "    nav_element.append(status_bar);\n",
       "    this.message = status_bar[0];\n",
       "}\n",
       "\n",
       "mpl.figure.prototype.request_resize = function(x_pixels, y_pixels) {\n",
       "    // Request matplotlib to resize the figure. Matplotlib will then trigger a resize in the client,\n",
       "    // which will in turn request a refresh of the image.\n",
       "    this.send_message('resize', {'width': x_pixels, 'height': y_pixels});\n",
       "}\n",
       "\n",
       "mpl.figure.prototype.send_message = function(type, properties) {\n",
       "    properties['type'] = type;\n",
       "    properties['figure_id'] = this.id;\n",
       "    this.ws.send(JSON.stringify(properties));\n",
       "}\n",
       "\n",
       "mpl.figure.prototype.send_draw_message = function() {\n",
       "    if (!this.waiting) {\n",
       "        this.waiting = true;\n",
       "        this.ws.send(JSON.stringify({type: \"draw\", figure_id: this.id}));\n",
       "    }\n",
       "}\n",
       "\n",
       "\n",
       "mpl.figure.prototype.handle_save = function(fig, msg) {\n",
       "    var format_dropdown = fig.format_dropdown;\n",
       "    var format = format_dropdown.options[format_dropdown.selectedIndex].value;\n",
       "    fig.ondownload(fig, format);\n",
       "}\n",
       "\n",
       "\n",
       "mpl.figure.prototype.handle_resize = function(fig, msg) {\n",
       "    var size = msg['size'];\n",
       "    if (size[0] != fig.canvas.width || size[1] != fig.canvas.height) {\n",
       "        fig._resize_canvas(size[0], size[1]);\n",
       "        fig.send_message(\"refresh\", {});\n",
       "    };\n",
       "}\n",
       "\n",
       "mpl.figure.prototype.handle_rubberband = function(fig, msg) {\n",
       "    var x0 = msg['x0'] / mpl.ratio;\n",
       "    var y0 = (fig.canvas.height - msg['y0']) / mpl.ratio;\n",
       "    var x1 = msg['x1'] / mpl.ratio;\n",
       "    var y1 = (fig.canvas.height - msg['y1']) / mpl.ratio;\n",
       "    x0 = Math.floor(x0) + 0.5;\n",
       "    y0 = Math.floor(y0) + 0.5;\n",
       "    x1 = Math.floor(x1) + 0.5;\n",
       "    y1 = Math.floor(y1) + 0.5;\n",
       "    var min_x = Math.min(x0, x1);\n",
       "    var min_y = Math.min(y0, y1);\n",
       "    var width = Math.abs(x1 - x0);\n",
       "    var height = Math.abs(y1 - y0);\n",
       "\n",
       "    fig.rubberband_context.clearRect(\n",
       "        0, 0, fig.canvas.width, fig.canvas.height);\n",
       "\n",
       "    fig.rubberband_context.strokeRect(min_x, min_y, width, height);\n",
       "}\n",
       "\n",
       "mpl.figure.prototype.handle_figure_label = function(fig, msg) {\n",
       "    // Updates the figure title.\n",
       "    fig.header.textContent = msg['label'];\n",
       "}\n",
       "\n",
       "mpl.figure.prototype.handle_cursor = function(fig, msg) {\n",
       "    var cursor = msg['cursor'];\n",
       "    switch(cursor)\n",
       "    {\n",
       "    case 0:\n",
       "        cursor = 'pointer';\n",
       "        break;\n",
       "    case 1:\n",
       "        cursor = 'default';\n",
       "        break;\n",
       "    case 2:\n",
       "        cursor = 'crosshair';\n",
       "        break;\n",
       "    case 3:\n",
       "        cursor = 'move';\n",
       "        break;\n",
       "    }\n",
       "    fig.rubberband_canvas.style.cursor = cursor;\n",
       "}\n",
       "\n",
       "mpl.figure.prototype.handle_message = function(fig, msg) {\n",
       "    fig.message.textContent = msg['message'];\n",
       "}\n",
       "\n",
       "mpl.figure.prototype.handle_draw = function(fig, msg) {\n",
       "    // Request the server to send over a new figure.\n",
       "    fig.send_draw_message();\n",
       "}\n",
       "\n",
       "mpl.figure.prototype.handle_image_mode = function(fig, msg) {\n",
       "    fig.image_mode = msg['mode'];\n",
       "}\n",
       "\n",
       "mpl.figure.prototype.updated_canvas_event = function() {\n",
       "    // Called whenever the canvas gets updated.\n",
       "    this.send_message(\"ack\", {});\n",
       "}\n",
       "\n",
       "// A function to construct a web socket function for onmessage handling.\n",
       "// Called in the figure constructor.\n",
       "mpl.figure.prototype._make_on_message_function = function(fig) {\n",
       "    return function socket_on_message(evt) {\n",
       "        if (evt.data instanceof Blob) {\n",
       "            /* FIXME: We get \"Resource interpreted as Image but\n",
       "             * transferred with MIME type text/plain:\" errors on\n",
       "             * Chrome.  But how to set the MIME type?  It doesn't seem\n",
       "             * to be part of the websocket stream */\n",
       "            evt.data.type = \"image/png\";\n",
       "\n",
       "            /* Free the memory for the previous frames */\n",
       "            if (fig.imageObj.src) {\n",
       "                (window.URL || window.webkitURL).revokeObjectURL(\n",
       "                    fig.imageObj.src);\n",
       "            }\n",
       "\n",
       "            fig.imageObj.src = (window.URL || window.webkitURL).createObjectURL(\n",
       "                evt.data);\n",
       "            fig.updated_canvas_event();\n",
       "            fig.waiting = false;\n",
       "            return;\n",
       "        }\n",
       "        else if (typeof evt.data === 'string' && evt.data.slice(0, 21) == \"data:image/png;base64\") {\n",
       "            fig.imageObj.src = evt.data;\n",
       "            fig.updated_canvas_event();\n",
       "            fig.waiting = false;\n",
       "            return;\n",
       "        }\n",
       "\n",
       "        var msg = JSON.parse(evt.data);\n",
       "        var msg_type = msg['type'];\n",
       "\n",
       "        // Call the  \"handle_{type}\" callback, which takes\n",
       "        // the figure and JSON message as its only arguments.\n",
       "        try {\n",
       "            var callback = fig[\"handle_\" + msg_type];\n",
       "        } catch (e) {\n",
       "            console.log(\"No handler for the '\" + msg_type + \"' message type: \", msg);\n",
       "            return;\n",
       "        }\n",
       "\n",
       "        if (callback) {\n",
       "            try {\n",
       "                // console.log(\"Handling '\" + msg_type + \"' message: \", msg);\n",
       "                callback(fig, msg);\n",
       "            } catch (e) {\n",
       "                console.log(\"Exception inside the 'handler_\" + msg_type + \"' callback:\", e, e.stack, msg);\n",
       "            }\n",
       "        }\n",
       "    };\n",
       "}\n",
       "\n",
       "// from http://stackoverflow.com/questions/1114465/getting-mouse-location-in-canvas\n",
       "mpl.findpos = function(e) {\n",
       "    //this section is from http://www.quirksmode.org/js/events_properties.html\n",
       "    var targ;\n",
       "    if (!e)\n",
       "        e = window.event;\n",
       "    if (e.target)\n",
       "        targ = e.target;\n",
       "    else if (e.srcElement)\n",
       "        targ = e.srcElement;\n",
       "    if (targ.nodeType == 3) // defeat Safari bug\n",
       "        targ = targ.parentNode;\n",
       "\n",
       "    // jQuery normalizes the pageX and pageY\n",
       "    // pageX,Y are the mouse positions relative to the document\n",
       "    // offset() returns the position of the element relative to the document\n",
       "    var x = e.pageX - $(targ).offset().left;\n",
       "    var y = e.pageY - $(targ).offset().top;\n",
       "\n",
       "    return {\"x\": x, \"y\": y};\n",
       "};\n",
       "\n",
       "/*\n",
       " * return a copy of an object with only non-object keys\n",
       " * we need this to avoid circular references\n",
       " * http://stackoverflow.com/a/24161582/3208463\n",
       " */\n",
       "function simpleKeys (original) {\n",
       "  return Object.keys(original).reduce(function (obj, key) {\n",
       "    if (typeof original[key] !== 'object')\n",
       "        obj[key] = original[key]\n",
       "    return obj;\n",
       "  }, {});\n",
       "}\n",
       "\n",
       "mpl.figure.prototype.mouse_event = function(event, name) {\n",
       "    var canvas_pos = mpl.findpos(event)\n",
       "\n",
       "    if (name === 'button_press')\n",
       "    {\n",
       "        this.canvas.focus();\n",
       "        this.canvas_div.focus();\n",
       "    }\n",
       "\n",
       "    var x = canvas_pos.x * mpl.ratio;\n",
       "    var y = canvas_pos.y * mpl.ratio;\n",
       "\n",
       "    this.send_message(name, {x: x, y: y, button: event.button,\n",
       "                             step: event.step,\n",
       "                             guiEvent: simpleKeys(event)});\n",
       "\n",
       "    /* This prevents the web browser from automatically changing to\n",
       "     * the text insertion cursor when the button is pressed.  We want\n",
       "     * to control all of the cursor setting manually through the\n",
       "     * 'cursor' event from matplotlib */\n",
       "    event.preventDefault();\n",
       "    return false;\n",
       "}\n",
       "\n",
       "mpl.figure.prototype._key_event_extra = function(event, name) {\n",
       "    // Handle any extra behaviour associated with a key event\n",
       "}\n",
       "\n",
       "mpl.figure.prototype.key_event = function(event, name) {\n",
       "\n",
       "    // Prevent repeat events\n",
       "    if (name == 'key_press')\n",
       "    {\n",
       "        if (event.which === this._key)\n",
       "            return;\n",
       "        else\n",
       "            this._key = event.which;\n",
       "    }\n",
       "    if (name == 'key_release')\n",
       "        this._key = null;\n",
       "\n",
       "    var value = '';\n",
       "    if (event.ctrlKey && event.which != 17)\n",
       "        value += \"ctrl+\";\n",
       "    if (event.altKey && event.which != 18)\n",
       "        value += \"alt+\";\n",
       "    if (event.shiftKey && event.which != 16)\n",
       "        value += \"shift+\";\n",
       "\n",
       "    value += 'k';\n",
       "    value += event.which.toString();\n",
       "\n",
       "    this._key_event_extra(event, name);\n",
       "\n",
       "    this.send_message(name, {key: value,\n",
       "                             guiEvent: simpleKeys(event)});\n",
       "    return false;\n",
       "}\n",
       "\n",
       "mpl.figure.prototype.toolbar_button_onclick = function(name) {\n",
       "    if (name == 'download') {\n",
       "        this.handle_save(this, null);\n",
       "    } else {\n",
       "        this.send_message(\"toolbar_button\", {name: name});\n",
       "    }\n",
       "};\n",
       "\n",
       "mpl.figure.prototype.toolbar_button_onmouseover = function(tooltip) {\n",
       "    this.message.textContent = tooltip;\n",
       "};\n",
       "mpl.toolbar_items = [[\"Home\", \"Reset original view\", \"fa fa-home icon-home\", \"home\"], [\"Back\", \"Back to  previous view\", \"fa fa-arrow-left icon-arrow-left\", \"back\"], [\"Forward\", \"Forward to next view\", \"fa fa-arrow-right icon-arrow-right\", \"forward\"], [\"\", \"\", \"\", \"\"], [\"Pan\", \"Pan axes with left mouse, zoom with right\", \"fa fa-arrows icon-move\", \"pan\"], [\"Zoom\", \"Zoom to rectangle\", \"fa fa-square-o icon-check-empty\", \"zoom\"], [\"\", \"\", \"\", \"\"], [\"Download\", \"Download plot\", \"fa fa-floppy-o icon-save\", \"download\"]];\n",
       "\n",
       "mpl.extensions = [\"eps\", \"jpeg\", \"pdf\", \"png\", \"ps\", \"raw\", \"svg\", \"tif\"];\n",
       "\n",
       "mpl.default_extension = \"png\";var comm_websocket_adapter = function(comm) {\n",
       "    // Create a \"websocket\"-like object which calls the given IPython comm\n",
       "    // object with the appropriate methods. Currently this is a non binary\n",
       "    // socket, so there is still some room for performance tuning.\n",
       "    var ws = {};\n",
       "\n",
       "    ws.close = function() {\n",
       "        comm.close()\n",
       "    };\n",
       "    ws.send = function(m) {\n",
       "        //console.log('sending', m);\n",
       "        comm.send(m);\n",
       "    };\n",
       "    // Register the callback with on_msg.\n",
       "    comm.on_msg(function(msg) {\n",
       "        //console.log('receiving', msg['content']['data'], msg);\n",
       "        // Pass the mpl event to the overriden (by mpl) onmessage function.\n",
       "        ws.onmessage(msg['content']['data'])\n",
       "    });\n",
       "    return ws;\n",
       "}\n",
       "\n",
       "mpl.mpl_figure_comm = function(comm, msg) {\n",
       "    // This is the function which gets called when the mpl process\n",
       "    // starts-up an IPython Comm through the \"matplotlib\" channel.\n",
       "\n",
       "    var id = msg.content.data.id;\n",
       "    // Get hold of the div created by the display call when the Comm\n",
       "    // socket was opened in Python.\n",
       "    var element = $(\"#\" + id);\n",
       "    var ws_proxy = comm_websocket_adapter(comm)\n",
       "\n",
       "    function ondownload(figure, format) {\n",
       "        window.open(figure.imageObj.src);\n",
       "    }\n",
       "\n",
       "    var fig = new mpl.figure(id, ws_proxy,\n",
       "                           ondownload,\n",
       "                           element.get(0));\n",
       "\n",
       "    // Call onopen now - mpl needs it, as it is assuming we've passed it a real\n",
       "    // web socket which is closed, not our websocket->open comm proxy.\n",
       "    ws_proxy.onopen();\n",
       "\n",
       "    fig.parent_element = element.get(0);\n",
       "    fig.cell_info = mpl.find_output_cell(\"<div id='\" + id + \"'></div>\");\n",
       "    if (!fig.cell_info) {\n",
       "        console.error(\"Failed to find cell for figure\", id, fig);\n",
       "        return;\n",
       "    }\n",
       "\n",
       "    var output_index = fig.cell_info[2]\n",
       "    var cell = fig.cell_info[0];\n",
       "\n",
       "};\n",
       "\n",
       "mpl.figure.prototype.handle_close = function(fig, msg) {\n",
       "    var width = fig.canvas.width/mpl.ratio\n",
       "    fig.root.unbind('remove')\n",
       "\n",
       "    // Update the output cell to use the data from the current canvas.\n",
       "    fig.push_to_output();\n",
       "    var dataURL = fig.canvas.toDataURL();\n",
       "    // Re-enable the keyboard manager in IPython - without this line, in FF,\n",
       "    // the notebook keyboard shortcuts fail.\n",
       "    IPython.keyboard_manager.enable()\n",
       "    $(fig.parent_element).html('<img src=\"' + dataURL + '\" width=\"' + width + '\">');\n",
       "    fig.close_ws(fig, msg);\n",
       "}\n",
       "\n",
       "mpl.figure.prototype.close_ws = function(fig, msg){\n",
       "    fig.send_message('closing', msg);\n",
       "    // fig.ws.close()\n",
       "}\n",
       "\n",
       "mpl.figure.prototype.push_to_output = function(remove_interactive) {\n",
       "    // Turn the data on the canvas into data in the output cell.\n",
       "    var width = this.canvas.width/mpl.ratio\n",
       "    var dataURL = this.canvas.toDataURL();\n",
       "    this.cell_info[1]['text/html'] = '<img src=\"' + dataURL + '\" width=\"' + width + '\">';\n",
       "}\n",
       "\n",
       "mpl.figure.prototype.updated_canvas_event = function() {\n",
       "    // Tell IPython that the notebook contents must change.\n",
       "    IPython.notebook.set_dirty(true);\n",
       "    this.send_message(\"ack\", {});\n",
       "    var fig = this;\n",
       "    // Wait a second, then push the new image to the DOM so\n",
       "    // that it is saved nicely (might be nice to debounce this).\n",
       "    setTimeout(function () { fig.push_to_output() }, 1000);\n",
       "}\n",
       "\n",
       "mpl.figure.prototype._init_toolbar = function() {\n",
       "    var fig = this;\n",
       "\n",
       "    var nav_element = $('<div/>')\n",
       "    nav_element.attr('style', 'width: 100%');\n",
       "    this.root.append(nav_element);\n",
       "\n",
       "    // Define a callback function for later on.\n",
       "    function toolbar_event(event) {\n",
       "        return fig.toolbar_button_onclick(event['data']);\n",
       "    }\n",
       "    function toolbar_mouse_event(event) {\n",
       "        return fig.toolbar_button_onmouseover(event['data']);\n",
       "    }\n",
       "\n",
       "    for(var toolbar_ind in mpl.toolbar_items){\n",
       "        var name = mpl.toolbar_items[toolbar_ind][0];\n",
       "        var tooltip = mpl.toolbar_items[toolbar_ind][1];\n",
       "        var image = mpl.toolbar_items[toolbar_ind][2];\n",
       "        var method_name = mpl.toolbar_items[toolbar_ind][3];\n",
       "\n",
       "        if (!name) { continue; };\n",
       "\n",
       "        var button = $('<button class=\"btn btn-default\" href=\"#\" title=\"' + name + '\"><i class=\"fa ' + image + ' fa-lg\"></i></button>');\n",
       "        button.click(method_name, toolbar_event);\n",
       "        button.mouseover(tooltip, toolbar_mouse_event);\n",
       "        nav_element.append(button);\n",
       "    }\n",
       "\n",
       "    // Add the status bar.\n",
       "    var status_bar = $('<span class=\"mpl-message\" style=\"text-align:right; float: right;\"/>');\n",
       "    nav_element.append(status_bar);\n",
       "    this.message = status_bar[0];\n",
       "\n",
       "    // Add the close button to the window.\n",
       "    var buttongrp = $('<div class=\"btn-group inline pull-right\"></div>');\n",
       "    var button = $('<button class=\"btn btn-mini btn-primary\" href=\"#\" title=\"Stop Interaction\"><i class=\"fa fa-power-off icon-remove icon-large\"></i></button>');\n",
       "    button.click(function (evt) { fig.handle_close(fig, {}); } );\n",
       "    button.mouseover('Stop Interaction', toolbar_mouse_event);\n",
       "    buttongrp.append(button);\n",
       "    var titlebar = this.root.find($('.ui-dialog-titlebar'));\n",
       "    titlebar.prepend(buttongrp);\n",
       "}\n",
       "\n",
       "mpl.figure.prototype._root_extra_style = function(el){\n",
       "    var fig = this\n",
       "    el.on(\"remove\", function(){\n",
       "\tfig.close_ws(fig, {});\n",
       "    });\n",
       "}\n",
       "\n",
       "mpl.figure.prototype._canvas_extra_style = function(el){\n",
       "    // this is important to make the div 'focusable\n",
       "    el.attr('tabindex', 0)\n",
       "    // reach out to IPython and tell the keyboard manager to turn it's self\n",
       "    // off when our div gets focus\n",
       "\n",
       "    // location in version 3\n",
       "    if (IPython.notebook.keyboard_manager) {\n",
       "        IPython.notebook.keyboard_manager.register_events(el);\n",
       "    }\n",
       "    else {\n",
       "        // location in version 2\n",
       "        IPython.keyboard_manager.register_events(el);\n",
       "    }\n",
       "\n",
       "}\n",
       "\n",
       "mpl.figure.prototype._key_event_extra = function(event, name) {\n",
       "    var manager = IPython.notebook.keyboard_manager;\n",
       "    if (!manager)\n",
       "        manager = IPython.keyboard_manager;\n",
       "\n",
       "    // Check for shift+enter\n",
       "    if (event.shiftKey && event.which == 13) {\n",
       "        this.canvas_div.blur();\n",
       "        // select the cell after this one\n",
       "        var index = IPython.notebook.find_cell_index(this.cell_info[0]);\n",
       "        IPython.notebook.select(index + 1);\n",
       "    }\n",
       "}\n",
       "\n",
       "mpl.figure.prototype.handle_save = function(fig, msg) {\n",
       "    fig.ondownload(fig, null);\n",
       "}\n",
       "\n",
       "\n",
       "mpl.find_output_cell = function(html_output) {\n",
       "    // Return the cell and output element which can be found *uniquely* in the notebook.\n",
       "    // Note - this is a bit hacky, but it is done because the \"notebook_saving.Notebook\"\n",
       "    // IPython event is triggered only after the cells have been serialised, which for\n",
       "    // our purposes (turning an active figure into a static one), is too late.\n",
       "    var cells = IPython.notebook.get_cells();\n",
       "    var ncells = cells.length;\n",
       "    for (var i=0; i<ncells; i++) {\n",
       "        var cell = cells[i];\n",
       "        if (cell.cell_type === 'code'){\n",
       "            for (var j=0; j<cell.output_area.outputs.length; j++) {\n",
       "                var data = cell.output_area.outputs[j];\n",
       "                if (data.data) {\n",
       "                    // IPython >= 3 moved mimebundle to data attribute of output\n",
       "                    data = data.data;\n",
       "                }\n",
       "                if (data['text/html'] == html_output) {\n",
       "                    return [cell, data, j];\n",
       "                }\n",
       "            }\n",
       "        }\n",
       "    }\n",
       "}\n",
       "\n",
       "// Register the function which deals with the matplotlib target/channel.\n",
       "// The kernel may be null if the page has been refreshed.\n",
       "if (IPython.notebook.kernel != null) {\n",
       "    IPython.notebook.kernel.comm_manager.register_target('matplotlib', mpl.mpl_figure_comm);\n",
       "}\n"
      ],
      "text/plain": [
       "<IPython.core.display.Javascript object>"
      ]
     },
     "metadata": {},
     "output_type": "display_data"
    },
    {
     "data": {
      "text/html": [
       "<img src=\"data:image/png;base64,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\" width=\"640\">"
      ],
      "text/plain": [
       "<IPython.core.display.HTML object>"
      ]
     },
     "metadata": {},
     "output_type": "display_data"
    },
    {
     "name": "stderr",
     "output_type": "stream",
     "text": [
      "C:\\ProgramData\\Anaconda3\\lib\\site-packages\\matplotlib\\axes\\_base.py:2903: UserWarning: Attempting to set identical left==right results\n",
      "in singular transformations; automatically expanding.\n",
      "left=1.0, right=1.0\n",
      "  'left=%s, right=%s') % (left, right))\n",
      "C:\\ProgramData\\Anaconda3\\lib\\site-packages\\ipykernel_launcher.py:12: RuntimeWarning: divide by zero encountered in power\n",
      "  if sys.path[0] == '':\n"
     ]
    }
   ],
   "source": [
    "plot_temporal_power_spectrum(x_vals_inf, power_spectrum_inf, scale=10e7, r0=r0, L0=L0)"
   ]
  },
  {
   "cell_type": "markdown",
   "metadata": {},
   "source": [
    "# FFT Phase Screen"
   ]
  },
  {
   "cell_type": "code",
   "execution_count": 6,
   "metadata": {},
   "outputs": [
    {
     "name": "stdout",
     "output_type": "stream",
     "text": [
      "Time Step: 0.003125 s\n"
     ]
    },
    {
     "name": "stderr",
     "output_type": "stream",
     "text": [
      "Widget Javascript not detected.  It may not be installed or enabled properly.\n"
     ]
    },
    {
     "data": {
      "application/vnd.jupyter.widget-view+json": {
       "model_id": "d41bd3d0fa4d434ea596fbe8839c971c"
      }
     },
     "metadata": {},
     "output_type": "display_data"
    },
    {
     "name": "stdout",
     "output_type": "stream",
     "text": [
      "alloc screen buffer\n"
     ]
    },
    {
     "name": "stderr",
     "output_type": "stream",
     "text": [
      "Widget Javascript not detected.  It may not be installed or enabled properly.\n"
     ]
    },
    {
     "data": {
      "application/vnd.jupyter.widget-view+json": {
       "model_id": "81047fdde62c46bf9bd5610a376e73a1"
      }
     },
     "metadata": {},
     "output_type": "display_data"
    },
    {
     "name": "stdout",
     "output_type": "stream",
     "text": [
      "Do FFT...\n",
      "alloc screen buffer\n"
     ]
    },
    {
     "name": "stderr",
     "output_type": "stream",
     "text": [
      "Widget Javascript not detected.  It may not be installed or enabled properly.\n"
     ]
    },
    {
     "data": {
      "application/vnd.jupyter.widget-view+json": {
       "model_id": "ce8d934409db4d5bb7b00d5427f0937f"
      }
     },
     "metadata": {},
     "output_type": "display_data"
    },
    {
     "name": "stdout",
     "output_type": "stream",
     "text": [
      "Do FFT...\n",
      "alloc screen buffer\n"
     ]
    },
    {
     "name": "stderr",
     "output_type": "stream",
     "text": [
      "Widget Javascript not detected.  It may not be installed or enabled properly.\n"
     ]
    },
    {
     "data": {
      "application/vnd.jupyter.widget-view+json": {
       "model_id": "28a7fe0d633a4ce9bc16dd1156206bf6"
      }
     },
     "metadata": {},
     "output_type": "display_data"
    },
    {
     "name": "stdout",
     "output_type": "stream",
     "text": [
      "Do FFT...\n",
      "alloc screen buffer\n"
     ]
    },
    {
     "name": "stderr",
     "output_type": "stream",
     "text": [
      "Widget Javascript not detected.  It may not be installed or enabled properly.\n"
     ]
    },
    {
     "data": {
      "application/vnd.jupyter.widget-view+json": {
       "model_id": "fac3677b139d4e7691409cb3e97ef094"
      }
     },
     "metadata": {},
     "output_type": "display_data"
    },
    {
     "name": "stdout",
     "output_type": "stream",
     "text": [
      "Do FFT...\n",
      "alloc screen buffer\n"
     ]
    },
    {
     "name": "stderr",
     "output_type": "stream",
     "text": [
      "Widget Javascript not detected.  It may not be installed or enabled properly.\n"
     ]
    },
    {
     "data": {
      "application/vnd.jupyter.widget-view+json": {
       "model_id": "73d03718c532490494ec1e2a02b5aaab"
      }
     },
     "metadata": {},
     "output_type": "display_data"
    },
    {
     "name": "stdout",
     "output_type": "stream",
     "text": [
      "Do FFT...\n",
      "alloc screen buffer\n"
     ]
    },
    {
     "name": "stderr",
     "output_type": "stream",
     "text": [
      "Widget Javascript not detected.  It may not be installed or enabled properly.\n"
     ]
    },
    {
     "data": {
      "application/vnd.jupyter.widget-view+json": {
       "model_id": "4c35fc724860469180b7492134243434"
      }
     },
     "metadata": {},
     "output_type": "display_data"
    },
    {
     "name": "stdout",
     "output_type": "stream",
     "text": [
      "Do FFT...\n",
      "alloc screen buffer\n"
     ]
    },
    {
     "name": "stderr",
     "output_type": "stream",
     "text": [
      "Widget Javascript not detected.  It may not be installed or enabled properly.\n"
     ]
    },
    {
     "data": {
      "application/vnd.jupyter.widget-view+json": {
       "model_id": "4bd987bfad154ae895058753da2b04b0"
      }
     },
     "metadata": {},
     "output_type": "display_data"
    },
    {
     "name": "stdout",
     "output_type": "stream",
     "text": [
      "Do FFT...\n",
      "alloc screen buffer\n"
     ]
    },
    {
     "name": "stderr",
     "output_type": "stream",
     "text": [
      "Widget Javascript not detected.  It may not be installed or enabled properly.\n"
     ]
    },
    {
     "data": {
      "application/vnd.jupyter.widget-view+json": {
       "model_id": "ee44fcffc5e848c3a76d6b96845db419"
      }
     },
     "metadata": {},
     "output_type": "display_data"
    },
    {
     "name": "stdout",
     "output_type": "stream",
     "text": [
      "Do FFT...\n",
      "alloc screen buffer\n"
     ]
    },
    {
     "name": "stderr",
     "output_type": "stream",
     "text": [
      "Widget Javascript not detected.  It may not be installed or enabled properly.\n"
     ]
    },
    {
     "data": {
      "application/vnd.jupyter.widget-view+json": {
       "model_id": "40f806a36210406e82bb1ccc1ccac64f"
      }
     },
     "metadata": {},
     "output_type": "display_data"
    },
    {
     "name": "stdout",
     "output_type": "stream",
     "text": [
      "Do FFT...\n",
      "alloc screen buffer\n"
     ]
    },
    {
     "name": "stderr",
     "output_type": "stream",
     "text": [
      "Widget Javascript not detected.  It may not be installed or enabled properly.\n"
     ]
    },
    {
     "data": {
      "application/vnd.jupyter.widget-view+json": {
       "model_id": "e57d096071e24eeea58e591df1851b66"
      }
     },
     "metadata": {},
     "output_type": "display_data"
    },
    {
     "name": "stdout",
     "output_type": "stream",
     "text": [
      "Do FFT...\n",
      "alloc screen buffer\n"
     ]
    },
    {
     "name": "stderr",
     "output_type": "stream",
     "text": [
      "Widget Javascript not detected.  It may not be installed or enabled properly.\n"
     ]
    },
    {
     "data": {
      "application/vnd.jupyter.widget-view+json": {
       "model_id": "febf90a0d2664ca88fd11d12183a9ec0"
      }
     },
     "metadata": {},
     "output_type": "display_data"
    },
    {
     "name": "stdout",
     "output_type": "stream",
     "text": [
      "Do FFT...\n",
      "alloc screen buffer\n"
     ]
    },
    {
     "name": "stderr",
     "output_type": "stream",
     "text": [
      "Widget Javascript not detected.  It may not be installed or enabled properly.\n"
     ]
    },
    {
     "data": {
      "application/vnd.jupyter.widget-view+json": {
       "model_id": "5084dc1724f34868b81a09d5d57f6ab6"
      }
     },
     "metadata": {},
     "output_type": "display_data"
    },
    {
     "name": "stdout",
     "output_type": "stream",
     "text": [
      "Do FFT...\n",
      "alloc screen buffer\n"
     ]
    },
    {
     "name": "stderr",
     "output_type": "stream",
     "text": [
      "Widget Javascript not detected.  It may not be installed or enabled properly.\n"
     ]
    },
    {
     "data": {
      "application/vnd.jupyter.widget-view+json": {
       "model_id": "6d28efa40be84c60974184af1cb609ee"
      }
     },
     "metadata": {},
     "output_type": "display_data"
    },
    {
     "name": "stdout",
     "output_type": "stream",
     "text": [
      "Do FFT...\n",
      "alloc screen buffer\n"
     ]
    },
    {
     "name": "stderr",
     "output_type": "stream",
     "text": [
      "Widget Javascript not detected.  It may not be installed or enabled properly.\n"
     ]
    },
    {
     "data": {
      "application/vnd.jupyter.widget-view+json": {
       "model_id": "86bd5ece530a4e9aa9c82b074e6fbdc9"
      }
     },
     "metadata": {},
     "output_type": "display_data"
    },
    {
     "name": "stdout",
     "output_type": "stream",
     "text": [
      "Do FFT...\n",
      "alloc screen buffer\n"
     ]
    },
    {
     "name": "stderr",
     "output_type": "stream",
     "text": [
      "Widget Javascript not detected.  It may not be installed or enabled properly.\n"
     ]
    },
    {
     "data": {
      "application/vnd.jupyter.widget-view+json": {
       "model_id": "1a6f3665490140ebbdacb381e0ff5b6b"
      }
     },
     "metadata": {},
     "output_type": "display_data"
    },
    {
     "name": "stdout",
     "output_type": "stream",
     "text": [
      "Do FFT...\n",
      "alloc screen buffer\n"
     ]
    },
    {
     "name": "stderr",
     "output_type": "stream",
     "text": [
      "Widget Javascript not detected.  It may not be installed or enabled properly.\n"
     ]
    },
    {
     "data": {
      "application/vnd.jupyter.widget-view+json": {
       "model_id": "78383767faa34737891c91b9978fa794"
      }
     },
     "metadata": {},
     "output_type": "display_data"
    },
    {
     "name": "stdout",
     "output_type": "stream",
     "text": [
      "Do FFT...\n",
      "\n"
     ]
    }
   ],
   "source": [
    "\n",
    "total_scrn_size = stencil_length_factor * nx_size\n",
    "time_step = pxl_scale/wind_speed # This is timestep, as one pixel moved on each iteration\n",
    "\n",
    "n_scrns = total_scrn_size - nx_size\n",
    "\n",
    "print(\"Time Step: {} s\".format(time_step))\n",
    "\n",
    "power_spectrum_fft = numpy.zeros((n_tests, n_scrns))\n",
    "\n",
    "for n in tnrange(n_tests):\n",
    "    print(\"alloc screen buffer\")\n",
    "    screen_buffer = numpy.zeros((n_scrns, nx_size**2))\n",
    "\n",
    "    phase_screen = phasescreen.ft_phase_screen(r0, total_scrn_size, pxl_scale, L0, 0.01)[:, :nx_size]\n",
    "\n",
    "    \n",
    "    for i in tnrange(n_scrns):\n",
    "        scrn = phase_screen[i:i+nx_size]\n",
    "        if n%4 == 0:\n",
    "            scrn = scrn\n",
    "        elif n%4 == 1:\n",
    "            scrn = scrn.T\n",
    "        elif n%4 == 2:\n",
    "            scrn = scrn[::-1]\n",
    "        else:\n",
    "            scrn = scrn[::-1].T\n",
    "            \n",
    "        screen_buffer[i] = scrn.flatten()\n",
    "\n",
    "    print(\"Do FFT...\")\n",
    "\n",
    "    power_spectra = abs(numpy.fft.fft(screen_buffer, axis=0))**2\n",
    "    power_spectrum_fft[n] = power_spectra.mean(1)\n",
    "\n",
    "\n",
    "x_vals_fft = numpy.fft.fftfreq(n_scrns, d=time_step)\n",
    "power_spectrum_fft = power_spectrum_fft[:, :n_scrns//2]\n",
    "x_vals_fft = x_vals_fft[:n_scrns//2]"
   ]
  },
  {
   "cell_type": "code",
   "execution_count": 7,
   "metadata": {},
   "outputs": [
    {
     "data": {
      "application/javascript": [
       "/* Put everything inside the global mpl namespace */\n",
       "window.mpl = {};\n",
       "\n",
       "\n",
       "mpl.get_websocket_type = function() {\n",
       "    if (typeof(WebSocket) !== 'undefined') {\n",
       "        return WebSocket;\n",
       "    } else if (typeof(MozWebSocket) !== 'undefined') {\n",
       "        return MozWebSocket;\n",
       "    } else {\n",
       "        alert('Your browser does not have WebSocket support.' +\n",
       "              'Please try Chrome, Safari or Firefox ≥ 6. ' +\n",
       "              'Firefox 4 and 5 are also supported but you ' +\n",
       "              'have to enable WebSockets in about:config.');\n",
       "    };\n",
       "}\n",
       "\n",
       "mpl.figure = function(figure_id, websocket, ondownload, parent_element) {\n",
       "    this.id = figure_id;\n",
       "\n",
       "    this.ws = websocket;\n",
       "\n",
       "    this.supports_binary = (this.ws.binaryType != undefined);\n",
       "\n",
       "    if (!this.supports_binary) {\n",
       "        var warnings = document.getElementById(\"mpl-warnings\");\n",
       "        if (warnings) {\n",
       "            warnings.style.display = 'block';\n",
       "            warnings.textContent = (\n",
       "                \"This browser does not support binary websocket messages. \" +\n",
       "                    \"Performance may be slow.\");\n",
       "        }\n",
       "    }\n",
       "\n",
       "    this.imageObj = new Image();\n",
       "\n",
       "    this.context = undefined;\n",
       "    this.message = undefined;\n",
       "    this.canvas = undefined;\n",
       "    this.rubberband_canvas = undefined;\n",
       "    this.rubberband_context = undefined;\n",
       "    this.format_dropdown = undefined;\n",
       "\n",
       "    this.image_mode = 'full';\n",
       "\n",
       "    this.root = $('<div/>');\n",
       "    this._root_extra_style(this.root)\n",
       "    this.root.attr('style', 'display: inline-block');\n",
       "\n",
       "    $(parent_element).append(this.root);\n",
       "\n",
       "    this._init_header(this);\n",
       "    this._init_canvas(this);\n",
       "    this._init_toolbar(this);\n",
       "\n",
       "    var fig = this;\n",
       "\n",
       "    this.waiting = false;\n",
       "\n",
       "    this.ws.onopen =  function () {\n",
       "            fig.send_message(\"supports_binary\", {value: fig.supports_binary});\n",
       "            fig.send_message(\"send_image_mode\", {});\n",
       "            if (mpl.ratio != 1) {\n",
       "                fig.send_message(\"set_dpi_ratio\", {'dpi_ratio': mpl.ratio});\n",
       "            }\n",
       "            fig.send_message(\"refresh\", {});\n",
       "        }\n",
       "\n",
       "    this.imageObj.onload = function() {\n",
       "            if (fig.image_mode == 'full') {\n",
       "                // Full images could contain transparency (where diff images\n",
       "                // almost always do), so we need to clear the canvas so that\n",
       "                // there is no ghosting.\n",
       "                fig.context.clearRect(0, 0, fig.canvas.width, fig.canvas.height);\n",
       "            }\n",
       "            fig.context.drawImage(fig.imageObj, 0, 0);\n",
       "        };\n",
       "\n",
       "    this.imageObj.onunload = function() {\n",
       "        this.ws.close();\n",
       "    }\n",
       "\n",
       "    this.ws.onmessage = this._make_on_message_function(this);\n",
       "\n",
       "    this.ondownload = ondownload;\n",
       "}\n",
       "\n",
       "mpl.figure.prototype._init_header = function() {\n",
       "    var titlebar = $(\n",
       "        '<div class=\"ui-dialog-titlebar ui-widget-header ui-corner-all ' +\n",
       "        'ui-helper-clearfix\"/>');\n",
       "    var titletext = $(\n",
       "        '<div class=\"ui-dialog-title\" style=\"width: 100%; ' +\n",
       "        'text-align: center; padding: 3px;\"/>');\n",
       "    titlebar.append(titletext)\n",
       "    this.root.append(titlebar);\n",
       "    this.header = titletext[0];\n",
       "}\n",
       "\n",
       "\n",
       "\n",
       "mpl.figure.prototype._canvas_extra_style = function(canvas_div) {\n",
       "\n",
       "}\n",
       "\n",
       "\n",
       "mpl.figure.prototype._root_extra_style = function(canvas_div) {\n",
       "\n",
       "}\n",
       "\n",
       "mpl.figure.prototype._init_canvas = function() {\n",
       "    var fig = this;\n",
       "\n",
       "    var canvas_div = $('<div/>');\n",
       "\n",
       "    canvas_div.attr('style', 'position: relative; clear: both; outline: 0');\n",
       "\n",
       "    function canvas_keyboard_event(event) {\n",
       "        return fig.key_event(event, event['data']);\n",
       "    }\n",
       "\n",
       "    canvas_div.keydown('key_press', canvas_keyboard_event);\n",
       "    canvas_div.keyup('key_release', canvas_keyboard_event);\n",
       "    this.canvas_div = canvas_div\n",
       "    this._canvas_extra_style(canvas_div)\n",
       "    this.root.append(canvas_div);\n",
       "\n",
       "    var canvas = $('<canvas/>');\n",
       "    canvas.addClass('mpl-canvas');\n",
       "    canvas.attr('style', \"left: 0; top: 0; z-index: 0; outline: 0\")\n",
       "\n",
       "    this.canvas = canvas[0];\n",
       "    this.context = canvas[0].getContext(\"2d\");\n",
       "\n",
       "    var backingStore = this.context.backingStorePixelRatio ||\n",
       "\tthis.context.webkitBackingStorePixelRatio ||\n",
       "\tthis.context.mozBackingStorePixelRatio ||\n",
       "\tthis.context.msBackingStorePixelRatio ||\n",
       "\tthis.context.oBackingStorePixelRatio ||\n",
       "\tthis.context.backingStorePixelRatio || 1;\n",
       "\n",
       "    mpl.ratio = (window.devicePixelRatio || 1) / backingStore;\n",
       "\n",
       "    var rubberband = $('<canvas/>');\n",
       "    rubberband.attr('style', \"position: absolute; left: 0; top: 0; z-index: 1;\")\n",
       "\n",
       "    var pass_mouse_events = true;\n",
       "\n",
       "    canvas_div.resizable({\n",
       "        start: function(event, ui) {\n",
       "            pass_mouse_events = false;\n",
       "        },\n",
       "        resize: function(event, ui) {\n",
       "            fig.request_resize(ui.size.width, ui.size.height);\n",
       "        },\n",
       "        stop: function(event, ui) {\n",
       "            pass_mouse_events = true;\n",
       "            fig.request_resize(ui.size.width, ui.size.height);\n",
       "        },\n",
       "    });\n",
       "\n",
       "    function mouse_event_fn(event) {\n",
       "        if (pass_mouse_events)\n",
       "            return fig.mouse_event(event, event['data']);\n",
       "    }\n",
       "\n",
       "    rubberband.mousedown('button_press', mouse_event_fn);\n",
       "    rubberband.mouseup('button_release', mouse_event_fn);\n",
       "    // Throttle sequential mouse events to 1 every 20ms.\n",
       "    rubberband.mousemove('motion_notify', mouse_event_fn);\n",
       "\n",
       "    rubberband.mouseenter('figure_enter', mouse_event_fn);\n",
       "    rubberband.mouseleave('figure_leave', mouse_event_fn);\n",
       "\n",
       "    canvas_div.on(\"wheel\", function (event) {\n",
       "        event = event.originalEvent;\n",
       "        event['data'] = 'scroll'\n",
       "        if (event.deltaY < 0) {\n",
       "            event.step = 1;\n",
       "        } else {\n",
       "            event.step = -1;\n",
       "        }\n",
       "        mouse_event_fn(event);\n",
       "    });\n",
       "\n",
       "    canvas_div.append(canvas);\n",
       "    canvas_div.append(rubberband);\n",
       "\n",
       "    this.rubberband = rubberband;\n",
       "    this.rubberband_canvas = rubberband[0];\n",
       "    this.rubberband_context = rubberband[0].getContext(\"2d\");\n",
       "    this.rubberband_context.strokeStyle = \"#000000\";\n",
       "\n",
       "    this._resize_canvas = function(width, height) {\n",
       "        // Keep the size of the canvas, canvas container, and rubber band\n",
       "        // canvas in synch.\n",
       "        canvas_div.css('width', width)\n",
       "        canvas_div.css('height', height)\n",
       "\n",
       "        canvas.attr('width', width * mpl.ratio);\n",
       "        canvas.attr('height', height * mpl.ratio);\n",
       "        canvas.attr('style', 'width: ' + width + 'px; height: ' + height + 'px;');\n",
       "\n",
       "        rubberband.attr('width', width);\n",
       "        rubberband.attr('height', height);\n",
       "    }\n",
       "\n",
       "    // Set the figure to an initial 600x600px, this will subsequently be updated\n",
       "    // upon first draw.\n",
       "    this._resize_canvas(600, 600);\n",
       "\n",
       "    // Disable right mouse context menu.\n",
       "    $(this.rubberband_canvas).bind(\"contextmenu\",function(e){\n",
       "        return false;\n",
       "    });\n",
       "\n",
       "    function set_focus () {\n",
       "        canvas.focus();\n",
       "        canvas_div.focus();\n",
       "    }\n",
       "\n",
       "    window.setTimeout(set_focus, 100);\n",
       "}\n",
       "\n",
       "mpl.figure.prototype._init_toolbar = function() {\n",
       "    var fig = this;\n",
       "\n",
       "    var nav_element = $('<div/>')\n",
       "    nav_element.attr('style', 'width: 100%');\n",
       "    this.root.append(nav_element);\n",
       "\n",
       "    // Define a callback function for later on.\n",
       "    function toolbar_event(event) {\n",
       "        return fig.toolbar_button_onclick(event['data']);\n",
       "    }\n",
       "    function toolbar_mouse_event(event) {\n",
       "        return fig.toolbar_button_onmouseover(event['data']);\n",
       "    }\n",
       "\n",
       "    for(var toolbar_ind in mpl.toolbar_items) {\n",
       "        var name = mpl.toolbar_items[toolbar_ind][0];\n",
       "        var tooltip = mpl.toolbar_items[toolbar_ind][1];\n",
       "        var image = mpl.toolbar_items[toolbar_ind][2];\n",
       "        var method_name = mpl.toolbar_items[toolbar_ind][3];\n",
       "\n",
       "        if (!name) {\n",
       "            // put a spacer in here.\n",
       "            continue;\n",
       "        }\n",
       "        var button = $('<button/>');\n",
       "        button.addClass('ui-button ui-widget ui-state-default ui-corner-all ' +\n",
       "                        'ui-button-icon-only');\n",
       "        button.attr('role', 'button');\n",
       "        button.attr('aria-disabled', 'false');\n",
       "        button.click(method_name, toolbar_event);\n",
       "        button.mouseover(tooltip, toolbar_mouse_event);\n",
       "\n",
       "        var icon_img = $('<span/>');\n",
       "        icon_img.addClass('ui-button-icon-primary ui-icon');\n",
       "        icon_img.addClass(image);\n",
       "        icon_img.addClass('ui-corner-all');\n",
       "\n",
       "        var tooltip_span = $('<span/>');\n",
       "        tooltip_span.addClass('ui-button-text');\n",
       "        tooltip_span.html(tooltip);\n",
       "\n",
       "        button.append(icon_img);\n",
       "        button.append(tooltip_span);\n",
       "\n",
       "        nav_element.append(button);\n",
       "    }\n",
       "\n",
       "    var fmt_picker_span = $('<span/>');\n",
       "\n",
       "    var fmt_picker = $('<select/>');\n",
       "    fmt_picker.addClass('mpl-toolbar-option ui-widget ui-widget-content');\n",
       "    fmt_picker_span.append(fmt_picker);\n",
       "    nav_element.append(fmt_picker_span);\n",
       "    this.format_dropdown = fmt_picker[0];\n",
       "\n",
       "    for (var ind in mpl.extensions) {\n",
       "        var fmt = mpl.extensions[ind];\n",
       "        var option = $(\n",
       "            '<option/>', {selected: fmt === mpl.default_extension}).html(fmt);\n",
       "        fmt_picker.append(option)\n",
       "    }\n",
       "\n",
       "    // Add hover states to the ui-buttons\n",
       "    $( \".ui-button\" ).hover(\n",
       "        function() { $(this).addClass(\"ui-state-hover\");},\n",
       "        function() { $(this).removeClass(\"ui-state-hover\");}\n",
       "    );\n",
       "\n",
       "    var status_bar = $('<span class=\"mpl-message\"/>');\n",
       "    nav_element.append(status_bar);\n",
       "    this.message = status_bar[0];\n",
       "}\n",
       "\n",
       "mpl.figure.prototype.request_resize = function(x_pixels, y_pixels) {\n",
       "    // Request matplotlib to resize the figure. Matplotlib will then trigger a resize in the client,\n",
       "    // which will in turn request a refresh of the image.\n",
       "    this.send_message('resize', {'width': x_pixels, 'height': y_pixels});\n",
       "}\n",
       "\n",
       "mpl.figure.prototype.send_message = function(type, properties) {\n",
       "    properties['type'] = type;\n",
       "    properties['figure_id'] = this.id;\n",
       "    this.ws.send(JSON.stringify(properties));\n",
       "}\n",
       "\n",
       "mpl.figure.prototype.send_draw_message = function() {\n",
       "    if (!this.waiting) {\n",
       "        this.waiting = true;\n",
       "        this.ws.send(JSON.stringify({type: \"draw\", figure_id: this.id}));\n",
       "    }\n",
       "}\n",
       "\n",
       "\n",
       "mpl.figure.prototype.handle_save = function(fig, msg) {\n",
       "    var format_dropdown = fig.format_dropdown;\n",
       "    var format = format_dropdown.options[format_dropdown.selectedIndex].value;\n",
       "    fig.ondownload(fig, format);\n",
       "}\n",
       "\n",
       "\n",
       "mpl.figure.prototype.handle_resize = function(fig, msg) {\n",
       "    var size = msg['size'];\n",
       "    if (size[0] != fig.canvas.width || size[1] != fig.canvas.height) {\n",
       "        fig._resize_canvas(size[0], size[1]);\n",
       "        fig.send_message(\"refresh\", {});\n",
       "    };\n",
       "}\n",
       "\n",
       "mpl.figure.prototype.handle_rubberband = function(fig, msg) {\n",
       "    var x0 = msg['x0'] / mpl.ratio;\n",
       "    var y0 = (fig.canvas.height - msg['y0']) / mpl.ratio;\n",
       "    var x1 = msg['x1'] / mpl.ratio;\n",
       "    var y1 = (fig.canvas.height - msg['y1']) / mpl.ratio;\n",
       "    x0 = Math.floor(x0) + 0.5;\n",
       "    y0 = Math.floor(y0) + 0.5;\n",
       "    x1 = Math.floor(x1) + 0.5;\n",
       "    y1 = Math.floor(y1) + 0.5;\n",
       "    var min_x = Math.min(x0, x1);\n",
       "    var min_y = Math.min(y0, y1);\n",
       "    var width = Math.abs(x1 - x0);\n",
       "    var height = Math.abs(y1 - y0);\n",
       "\n",
       "    fig.rubberband_context.clearRect(\n",
       "        0, 0, fig.canvas.width, fig.canvas.height);\n",
       "\n",
       "    fig.rubberband_context.strokeRect(min_x, min_y, width, height);\n",
       "}\n",
       "\n",
       "mpl.figure.prototype.handle_figure_label = function(fig, msg) {\n",
       "    // Updates the figure title.\n",
       "    fig.header.textContent = msg['label'];\n",
       "}\n",
       "\n",
       "mpl.figure.prototype.handle_cursor = function(fig, msg) {\n",
       "    var cursor = msg['cursor'];\n",
       "    switch(cursor)\n",
       "    {\n",
       "    case 0:\n",
       "        cursor = 'pointer';\n",
       "        break;\n",
       "    case 1:\n",
       "        cursor = 'default';\n",
       "        break;\n",
       "    case 2:\n",
       "        cursor = 'crosshair';\n",
       "        break;\n",
       "    case 3:\n",
       "        cursor = 'move';\n",
       "        break;\n",
       "    }\n",
       "    fig.rubberband_canvas.style.cursor = cursor;\n",
       "}\n",
       "\n",
       "mpl.figure.prototype.handle_message = function(fig, msg) {\n",
       "    fig.message.textContent = msg['message'];\n",
       "}\n",
       "\n",
       "mpl.figure.prototype.handle_draw = function(fig, msg) {\n",
       "    // Request the server to send over a new figure.\n",
       "    fig.send_draw_message();\n",
       "}\n",
       "\n",
       "mpl.figure.prototype.handle_image_mode = function(fig, msg) {\n",
       "    fig.image_mode = msg['mode'];\n",
       "}\n",
       "\n",
       "mpl.figure.prototype.updated_canvas_event = function() {\n",
       "    // Called whenever the canvas gets updated.\n",
       "    this.send_message(\"ack\", {});\n",
       "}\n",
       "\n",
       "// A function to construct a web socket function for onmessage handling.\n",
       "// Called in the figure constructor.\n",
       "mpl.figure.prototype._make_on_message_function = function(fig) {\n",
       "    return function socket_on_message(evt) {\n",
       "        if (evt.data instanceof Blob) {\n",
       "            /* FIXME: We get \"Resource interpreted as Image but\n",
       "             * transferred with MIME type text/plain:\" errors on\n",
       "             * Chrome.  But how to set the MIME type?  It doesn't seem\n",
       "             * to be part of the websocket stream */\n",
       "            evt.data.type = \"image/png\";\n",
       "\n",
       "            /* Free the memory for the previous frames */\n",
       "            if (fig.imageObj.src) {\n",
       "                (window.URL || window.webkitURL).revokeObjectURL(\n",
       "                    fig.imageObj.src);\n",
       "            }\n",
       "\n",
       "            fig.imageObj.src = (window.URL || window.webkitURL).createObjectURL(\n",
       "                evt.data);\n",
       "            fig.updated_canvas_event();\n",
       "            fig.waiting = false;\n",
       "            return;\n",
       "        }\n",
       "        else if (typeof evt.data === 'string' && evt.data.slice(0, 21) == \"data:image/png;base64\") {\n",
       "            fig.imageObj.src = evt.data;\n",
       "            fig.updated_canvas_event();\n",
       "            fig.waiting = false;\n",
       "            return;\n",
       "        }\n",
       "\n",
       "        var msg = JSON.parse(evt.data);\n",
       "        var msg_type = msg['type'];\n",
       "\n",
       "        // Call the  \"handle_{type}\" callback, which takes\n",
       "        // the figure and JSON message as its only arguments.\n",
       "        try {\n",
       "            var callback = fig[\"handle_\" + msg_type];\n",
       "        } catch (e) {\n",
       "            console.log(\"No handler for the '\" + msg_type + \"' message type: \", msg);\n",
       "            return;\n",
       "        }\n",
       "\n",
       "        if (callback) {\n",
       "            try {\n",
       "                // console.log(\"Handling '\" + msg_type + \"' message: \", msg);\n",
       "                callback(fig, msg);\n",
       "            } catch (e) {\n",
       "                console.log(\"Exception inside the 'handler_\" + msg_type + \"' callback:\", e, e.stack, msg);\n",
       "            }\n",
       "        }\n",
       "    };\n",
       "}\n",
       "\n",
       "// from http://stackoverflow.com/questions/1114465/getting-mouse-location-in-canvas\n",
       "mpl.findpos = function(e) {\n",
       "    //this section is from http://www.quirksmode.org/js/events_properties.html\n",
       "    var targ;\n",
       "    if (!e)\n",
       "        e = window.event;\n",
       "    if (e.target)\n",
       "        targ = e.target;\n",
       "    else if (e.srcElement)\n",
       "        targ = e.srcElement;\n",
       "    if (targ.nodeType == 3) // defeat Safari bug\n",
       "        targ = targ.parentNode;\n",
       "\n",
       "    // jQuery normalizes the pageX and pageY\n",
       "    // pageX,Y are the mouse positions relative to the document\n",
       "    // offset() returns the position of the element relative to the document\n",
       "    var x = e.pageX - $(targ).offset().left;\n",
       "    var y = e.pageY - $(targ).offset().top;\n",
       "\n",
       "    return {\"x\": x, \"y\": y};\n",
       "};\n",
       "\n",
       "/*\n",
       " * return a copy of an object with only non-object keys\n",
       " * we need this to avoid circular references\n",
       " * http://stackoverflow.com/a/24161582/3208463\n",
       " */\n",
       "function simpleKeys (original) {\n",
       "  return Object.keys(original).reduce(function (obj, key) {\n",
       "    if (typeof original[key] !== 'object')\n",
       "        obj[key] = original[key]\n",
       "    return obj;\n",
       "  }, {});\n",
       "}\n",
       "\n",
       "mpl.figure.prototype.mouse_event = function(event, name) {\n",
       "    var canvas_pos = mpl.findpos(event)\n",
       "\n",
       "    if (name === 'button_press')\n",
       "    {\n",
       "        this.canvas.focus();\n",
       "        this.canvas_div.focus();\n",
       "    }\n",
       "\n",
       "    var x = canvas_pos.x * mpl.ratio;\n",
       "    var y = canvas_pos.y * mpl.ratio;\n",
       "\n",
       "    this.send_message(name, {x: x, y: y, button: event.button,\n",
       "                             step: event.step,\n",
       "                             guiEvent: simpleKeys(event)});\n",
       "\n",
       "    /* This prevents the web browser from automatically changing to\n",
       "     * the text insertion cursor when the button is pressed.  We want\n",
       "     * to control all of the cursor setting manually through the\n",
       "     * 'cursor' event from matplotlib */\n",
       "    event.preventDefault();\n",
       "    return false;\n",
       "}\n",
       "\n",
       "mpl.figure.prototype._key_event_extra = function(event, name) {\n",
       "    // Handle any extra behaviour associated with a key event\n",
       "}\n",
       "\n",
       "mpl.figure.prototype.key_event = function(event, name) {\n",
       "\n",
       "    // Prevent repeat events\n",
       "    if (name == 'key_press')\n",
       "    {\n",
       "        if (event.which === this._key)\n",
       "            return;\n",
       "        else\n",
       "            this._key = event.which;\n",
       "    }\n",
       "    if (name == 'key_release')\n",
       "        this._key = null;\n",
       "\n",
       "    var value = '';\n",
       "    if (event.ctrlKey && event.which != 17)\n",
       "        value += \"ctrl+\";\n",
       "    if (event.altKey && event.which != 18)\n",
       "        value += \"alt+\";\n",
       "    if (event.shiftKey && event.which != 16)\n",
       "        value += \"shift+\";\n",
       "\n",
       "    value += 'k';\n",
       "    value += event.which.toString();\n",
       "\n",
       "    this._key_event_extra(event, name);\n",
       "\n",
       "    this.send_message(name, {key: value,\n",
       "                             guiEvent: simpleKeys(event)});\n",
       "    return false;\n",
       "}\n",
       "\n",
       "mpl.figure.prototype.toolbar_button_onclick = function(name) {\n",
       "    if (name == 'download') {\n",
       "        this.handle_save(this, null);\n",
       "    } else {\n",
       "        this.send_message(\"toolbar_button\", {name: name});\n",
       "    }\n",
       "};\n",
       "\n",
       "mpl.figure.prototype.toolbar_button_onmouseover = function(tooltip) {\n",
       "    this.message.textContent = tooltip;\n",
       "};\n",
       "mpl.toolbar_items = [[\"Home\", \"Reset original view\", \"fa fa-home icon-home\", \"home\"], [\"Back\", \"Back to  previous view\", \"fa fa-arrow-left icon-arrow-left\", \"back\"], [\"Forward\", \"Forward to next view\", \"fa fa-arrow-right icon-arrow-right\", \"forward\"], [\"\", \"\", \"\", \"\"], [\"Pan\", \"Pan axes with left mouse, zoom with right\", \"fa fa-arrows icon-move\", \"pan\"], [\"Zoom\", \"Zoom to rectangle\", \"fa fa-square-o icon-check-empty\", \"zoom\"], [\"\", \"\", \"\", \"\"], [\"Download\", \"Download plot\", \"fa fa-floppy-o icon-save\", \"download\"]];\n",
       "\n",
       "mpl.extensions = [\"eps\", \"jpeg\", \"pdf\", \"png\", \"ps\", \"raw\", \"svg\", \"tif\"];\n",
       "\n",
       "mpl.default_extension = \"png\";var comm_websocket_adapter = function(comm) {\n",
       "    // Create a \"websocket\"-like object which calls the given IPython comm\n",
       "    // object with the appropriate methods. Currently this is a non binary\n",
       "    // socket, so there is still some room for performance tuning.\n",
       "    var ws = {};\n",
       "\n",
       "    ws.close = function() {\n",
       "        comm.close()\n",
       "    };\n",
       "    ws.send = function(m) {\n",
       "        //console.log('sending', m);\n",
       "        comm.send(m);\n",
       "    };\n",
       "    // Register the callback with on_msg.\n",
       "    comm.on_msg(function(msg) {\n",
       "        //console.log('receiving', msg['content']['data'], msg);\n",
       "        // Pass the mpl event to the overriden (by mpl) onmessage function.\n",
       "        ws.onmessage(msg['content']['data'])\n",
       "    });\n",
       "    return ws;\n",
       "}\n",
       "\n",
       "mpl.mpl_figure_comm = function(comm, msg) {\n",
       "    // This is the function which gets called when the mpl process\n",
       "    // starts-up an IPython Comm through the \"matplotlib\" channel.\n",
       "\n",
       "    var id = msg.content.data.id;\n",
       "    // Get hold of the div created by the display call when the Comm\n",
       "    // socket was opened in Python.\n",
       "    var element = $(\"#\" + id);\n",
       "    var ws_proxy = comm_websocket_adapter(comm)\n",
       "\n",
       "    function ondownload(figure, format) {\n",
       "        window.open(figure.imageObj.src);\n",
       "    }\n",
       "\n",
       "    var fig = new mpl.figure(id, ws_proxy,\n",
       "                           ondownload,\n",
       "                           element.get(0));\n",
       "\n",
       "    // Call onopen now - mpl needs it, as it is assuming we've passed it a real\n",
       "    // web socket which is closed, not our websocket->open comm proxy.\n",
       "    ws_proxy.onopen();\n",
       "\n",
       "    fig.parent_element = element.get(0);\n",
       "    fig.cell_info = mpl.find_output_cell(\"<div id='\" + id + \"'></div>\");\n",
       "    if (!fig.cell_info) {\n",
       "        console.error(\"Failed to find cell for figure\", id, fig);\n",
       "        return;\n",
       "    }\n",
       "\n",
       "    var output_index = fig.cell_info[2]\n",
       "    var cell = fig.cell_info[0];\n",
       "\n",
       "};\n",
       "\n",
       "mpl.figure.prototype.handle_close = function(fig, msg) {\n",
       "    var width = fig.canvas.width/mpl.ratio\n",
       "    fig.root.unbind('remove')\n",
       "\n",
       "    // Update the output cell to use the data from the current canvas.\n",
       "    fig.push_to_output();\n",
       "    var dataURL = fig.canvas.toDataURL();\n",
       "    // Re-enable the keyboard manager in IPython - without this line, in FF,\n",
       "    // the notebook keyboard shortcuts fail.\n",
       "    IPython.keyboard_manager.enable()\n",
       "    $(fig.parent_element).html('<img src=\"' + dataURL + '\" width=\"' + width + '\">');\n",
       "    fig.close_ws(fig, msg);\n",
       "}\n",
       "\n",
       "mpl.figure.prototype.close_ws = function(fig, msg){\n",
       "    fig.send_message('closing', msg);\n",
       "    // fig.ws.close()\n",
       "}\n",
       "\n",
       "mpl.figure.prototype.push_to_output = function(remove_interactive) {\n",
       "    // Turn the data on the canvas into data in the output cell.\n",
       "    var width = this.canvas.width/mpl.ratio\n",
       "    var dataURL = this.canvas.toDataURL();\n",
       "    this.cell_info[1]['text/html'] = '<img src=\"' + dataURL + '\" width=\"' + width + '\">';\n",
       "}\n",
       "\n",
       "mpl.figure.prototype.updated_canvas_event = function() {\n",
       "    // Tell IPython that the notebook contents must change.\n",
       "    IPython.notebook.set_dirty(true);\n",
       "    this.send_message(\"ack\", {});\n",
       "    var fig = this;\n",
       "    // Wait a second, then push the new image to the DOM so\n",
       "    // that it is saved nicely (might be nice to debounce this).\n",
       "    setTimeout(function () { fig.push_to_output() }, 1000);\n",
       "}\n",
       "\n",
       "mpl.figure.prototype._init_toolbar = function() {\n",
       "    var fig = this;\n",
       "\n",
       "    var nav_element = $('<div/>')\n",
       "    nav_element.attr('style', 'width: 100%');\n",
       "    this.root.append(nav_element);\n",
       "\n",
       "    // Define a callback function for later on.\n",
       "    function toolbar_event(event) {\n",
       "        return fig.toolbar_button_onclick(event['data']);\n",
       "    }\n",
       "    function toolbar_mouse_event(event) {\n",
       "        return fig.toolbar_button_onmouseover(event['data']);\n",
       "    }\n",
       "\n",
       "    for(var toolbar_ind in mpl.toolbar_items){\n",
       "        var name = mpl.toolbar_items[toolbar_ind][0];\n",
       "        var tooltip = mpl.toolbar_items[toolbar_ind][1];\n",
       "        var image = mpl.toolbar_items[toolbar_ind][2];\n",
       "        var method_name = mpl.toolbar_items[toolbar_ind][3];\n",
       "\n",
       "        if (!name) { continue; };\n",
       "\n",
       "        var button = $('<button class=\"btn btn-default\" href=\"#\" title=\"' + name + '\"><i class=\"fa ' + image + ' fa-lg\"></i></button>');\n",
       "        button.click(method_name, toolbar_event);\n",
       "        button.mouseover(tooltip, toolbar_mouse_event);\n",
       "        nav_element.append(button);\n",
       "    }\n",
       "\n",
       "    // Add the status bar.\n",
       "    var status_bar = $('<span class=\"mpl-message\" style=\"text-align:right; float: right;\"/>');\n",
       "    nav_element.append(status_bar);\n",
       "    this.message = status_bar[0];\n",
       "\n",
       "    // Add the close button to the window.\n",
       "    var buttongrp = $('<div class=\"btn-group inline pull-right\"></div>');\n",
       "    var button = $('<button class=\"btn btn-mini btn-primary\" href=\"#\" title=\"Stop Interaction\"><i class=\"fa fa-power-off icon-remove icon-large\"></i></button>');\n",
       "    button.click(function (evt) { fig.handle_close(fig, {}); } );\n",
       "    button.mouseover('Stop Interaction', toolbar_mouse_event);\n",
       "    buttongrp.append(button);\n",
       "    var titlebar = this.root.find($('.ui-dialog-titlebar'));\n",
       "    titlebar.prepend(buttongrp);\n",
       "}\n",
       "\n",
       "mpl.figure.prototype._root_extra_style = function(el){\n",
       "    var fig = this\n",
       "    el.on(\"remove\", function(){\n",
       "\tfig.close_ws(fig, {});\n",
       "    });\n",
       "}\n",
       "\n",
       "mpl.figure.prototype._canvas_extra_style = function(el){\n",
       "    // this is important to make the div 'focusable\n",
       "    el.attr('tabindex', 0)\n",
       "    // reach out to IPython and tell the keyboard manager to turn it's self\n",
       "    // off when our div gets focus\n",
       "\n",
       "    // location in version 3\n",
       "    if (IPython.notebook.keyboard_manager) {\n",
       "        IPython.notebook.keyboard_manager.register_events(el);\n",
       "    }\n",
       "    else {\n",
       "        // location in version 2\n",
       "        IPython.keyboard_manager.register_events(el);\n",
       "    }\n",
       "\n",
       "}\n",
       "\n",
       "mpl.figure.prototype._key_event_extra = function(event, name) {\n",
       "    var manager = IPython.notebook.keyboard_manager;\n",
       "    if (!manager)\n",
       "        manager = IPython.keyboard_manager;\n",
       "\n",
       "    // Check for shift+enter\n",
       "    if (event.shiftKey && event.which == 13) {\n",
       "        this.canvas_div.blur();\n",
       "        // select the cell after this one\n",
       "        var index = IPython.notebook.find_cell_index(this.cell_info[0]);\n",
       "        IPython.notebook.select(index + 1);\n",
       "    }\n",
       "}\n",
       "\n",
       "mpl.figure.prototype.handle_save = function(fig, msg) {\n",
       "    fig.ondownload(fig, null);\n",
       "}\n",
       "\n",
       "\n",
       "mpl.find_output_cell = function(html_output) {\n",
       "    // Return the cell and output element which can be found *uniquely* in the notebook.\n",
       "    // Note - this is a bit hacky, but it is done because the \"notebook_saving.Notebook\"\n",
       "    // IPython event is triggered only after the cells have been serialised, which for\n",
       "    // our purposes (turning an active figure into a static one), is too late.\n",
       "    var cells = IPython.notebook.get_cells();\n",
       "    var ncells = cells.length;\n",
       "    for (var i=0; i<ncells; i++) {\n",
       "        var cell = cells[i];\n",
       "        if (cell.cell_type === 'code'){\n",
       "            for (var j=0; j<cell.output_area.outputs.length; j++) {\n",
       "                var data = cell.output_area.outputs[j];\n",
       "                if (data.data) {\n",
       "                    // IPython >= 3 moved mimebundle to data attribute of output\n",
       "                    data = data.data;\n",
       "                }\n",
       "                if (data['text/html'] == html_output) {\n",
       "                    return [cell, data, j];\n",
       "                }\n",
       "            }\n",
       "        }\n",
       "    }\n",
       "}\n",
       "\n",
       "// Register the function which deals with the matplotlib target/channel.\n",
       "// The kernel may be null if the page has been refreshed.\n",
       "if (IPython.notebook.kernel != null) {\n",
       "    IPython.notebook.kernel.comm_manager.register_target('matplotlib', mpl.mpl_figure_comm);\n",
       "}\n"
      ],
      "text/plain": [
       "<IPython.core.display.Javascript object>"
      ]
     },
     "metadata": {},
     "output_type": "display_data"
    },
    {
     "data": {
      "text/html": [
       "<img src=\"data:image/png;base64,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\" width=\"640\">"
      ],
      "text/plain": [
       "<IPython.core.display.HTML object>"
      ]
     },
     "metadata": {},
     "output_type": "display_data"
    },
    {
     "name": "stderr",
     "output_type": "stream",
     "text": [
      "C:\\ProgramData\\Anaconda3\\lib\\site-packages\\matplotlib\\axes\\_base.py:2903: UserWarning: Attempting to set identical left==right results\n",
      "in singular transformations; automatically expanding.\n",
      "left=1.0, right=1.0\n",
      "  'left=%s, right=%s') % (left, right))\n",
      "C:\\ProgramData\\Anaconda3\\lib\\site-packages\\ipykernel_launcher.py:12: RuntimeWarning: divide by zero encountered in power\n",
      "  if sys.path[0] == '':\n"
     ]
    },
    {
     "data": {
      "text/plain": [
       "<matplotlib.text.Text at 0x230890d71d0>"
      ]
     },
     "execution_count": 7,
     "metadata": {},
     "output_type": "execute_result"
    }
   ],
   "source": [
    "plot_temporal_power_spectrum(x_vals_fft, power_spectrum_fft, scale=8e6, r0=r0, L0=L0)\n",
    "pyplot.title(\"Temporal Power Specra of FFT phase screen\")"
   ]
  },
  {
   "cell_type": "code",
   "execution_count": 8,
   "metadata": {},
   "outputs": [
    {
     "data": {
      "application/javascript": [
       "/* Put everything inside the global mpl namespace */\n",
       "window.mpl = {};\n",
       "\n",
       "\n",
       "mpl.get_websocket_type = function() {\n",
       "    if (typeof(WebSocket) !== 'undefined') {\n",
       "        return WebSocket;\n",
       "    } else if (typeof(MozWebSocket) !== 'undefined') {\n",
       "        return MozWebSocket;\n",
       "    } else {\n",
       "        alert('Your browser does not have WebSocket support.' +\n",
       "              'Please try Chrome, Safari or Firefox ≥ 6. ' +\n",
       "              'Firefox 4 and 5 are also supported but you ' +\n",
       "              'have to enable WebSockets in about:config.');\n",
       "    };\n",
       "}\n",
       "\n",
       "mpl.figure = function(figure_id, websocket, ondownload, parent_element) {\n",
       "    this.id = figure_id;\n",
       "\n",
       "    this.ws = websocket;\n",
       "\n",
       "    this.supports_binary = (this.ws.binaryType != undefined);\n",
       "\n",
       "    if (!this.supports_binary) {\n",
       "        var warnings = document.getElementById(\"mpl-warnings\");\n",
       "        if (warnings) {\n",
       "            warnings.style.display = 'block';\n",
       "            warnings.textContent = (\n",
       "                \"This browser does not support binary websocket messages. \" +\n",
       "                    \"Performance may be slow.\");\n",
       "        }\n",
       "    }\n",
       "\n",
       "    this.imageObj = new Image();\n",
       "\n",
       "    this.context = undefined;\n",
       "    this.message = undefined;\n",
       "    this.canvas = undefined;\n",
       "    this.rubberband_canvas = undefined;\n",
       "    this.rubberband_context = undefined;\n",
       "    this.format_dropdown = undefined;\n",
       "\n",
       "    this.image_mode = 'full';\n",
       "\n",
       "    this.root = $('<div/>');\n",
       "    this._root_extra_style(this.root)\n",
       "    this.root.attr('style', 'display: inline-block');\n",
       "\n",
       "    $(parent_element).append(this.root);\n",
       "\n",
       "    this._init_header(this);\n",
       "    this._init_canvas(this);\n",
       "    this._init_toolbar(this);\n",
       "\n",
       "    var fig = this;\n",
       "\n",
       "    this.waiting = false;\n",
       "\n",
       "    this.ws.onopen =  function () {\n",
       "            fig.send_message(\"supports_binary\", {value: fig.supports_binary});\n",
       "            fig.send_message(\"send_image_mode\", {});\n",
       "            if (mpl.ratio != 1) {\n",
       "                fig.send_message(\"set_dpi_ratio\", {'dpi_ratio': mpl.ratio});\n",
       "            }\n",
       "            fig.send_message(\"refresh\", {});\n",
       "        }\n",
       "\n",
       "    this.imageObj.onload = function() {\n",
       "            if (fig.image_mode == 'full') {\n",
       "                // Full images could contain transparency (where diff images\n",
       "                // almost always do), so we need to clear the canvas so that\n",
       "                // there is no ghosting.\n",
       "                fig.context.clearRect(0, 0, fig.canvas.width, fig.canvas.height);\n",
       "            }\n",
       "            fig.context.drawImage(fig.imageObj, 0, 0);\n",
       "        };\n",
       "\n",
       "    this.imageObj.onunload = function() {\n",
       "        this.ws.close();\n",
       "    }\n",
       "\n",
       "    this.ws.onmessage = this._make_on_message_function(this);\n",
       "\n",
       "    this.ondownload = ondownload;\n",
       "}\n",
       "\n",
       "mpl.figure.prototype._init_header = function() {\n",
       "    var titlebar = $(\n",
       "        '<div class=\"ui-dialog-titlebar ui-widget-header ui-corner-all ' +\n",
       "        'ui-helper-clearfix\"/>');\n",
       "    var titletext = $(\n",
       "        '<div class=\"ui-dialog-title\" style=\"width: 100%; ' +\n",
       "        'text-align: center; padding: 3px;\"/>');\n",
       "    titlebar.append(titletext)\n",
       "    this.root.append(titlebar);\n",
       "    this.header = titletext[0];\n",
       "}\n",
       "\n",
       "\n",
       "\n",
       "mpl.figure.prototype._canvas_extra_style = function(canvas_div) {\n",
       "\n",
       "}\n",
       "\n",
       "\n",
       "mpl.figure.prototype._root_extra_style = function(canvas_div) {\n",
       "\n",
       "}\n",
       "\n",
       "mpl.figure.prototype._init_canvas = function() {\n",
       "    var fig = this;\n",
       "\n",
       "    var canvas_div = $('<div/>');\n",
       "\n",
       "    canvas_div.attr('style', 'position: relative; clear: both; outline: 0');\n",
       "\n",
       "    function canvas_keyboard_event(event) {\n",
       "        return fig.key_event(event, event['data']);\n",
       "    }\n",
       "\n",
       "    canvas_div.keydown('key_press', canvas_keyboard_event);\n",
       "    canvas_div.keyup('key_release', canvas_keyboard_event);\n",
       "    this.canvas_div = canvas_div\n",
       "    this._canvas_extra_style(canvas_div)\n",
       "    this.root.append(canvas_div);\n",
       "\n",
       "    var canvas = $('<canvas/>');\n",
       "    canvas.addClass('mpl-canvas');\n",
       "    canvas.attr('style', \"left: 0; top: 0; z-index: 0; outline: 0\")\n",
       "\n",
       "    this.canvas = canvas[0];\n",
       "    this.context = canvas[0].getContext(\"2d\");\n",
       "\n",
       "    var backingStore = this.context.backingStorePixelRatio ||\n",
       "\tthis.context.webkitBackingStorePixelRatio ||\n",
       "\tthis.context.mozBackingStorePixelRatio ||\n",
       "\tthis.context.msBackingStorePixelRatio ||\n",
       "\tthis.context.oBackingStorePixelRatio ||\n",
       "\tthis.context.backingStorePixelRatio || 1;\n",
       "\n",
       "    mpl.ratio = (window.devicePixelRatio || 1) / backingStore;\n",
       "\n",
       "    var rubberband = $('<canvas/>');\n",
       "    rubberband.attr('style', \"position: absolute; left: 0; top: 0; z-index: 1;\")\n",
       "\n",
       "    var pass_mouse_events = true;\n",
       "\n",
       "    canvas_div.resizable({\n",
       "        start: function(event, ui) {\n",
       "            pass_mouse_events = false;\n",
       "        },\n",
       "        resize: function(event, ui) {\n",
       "            fig.request_resize(ui.size.width, ui.size.height);\n",
       "        },\n",
       "        stop: function(event, ui) {\n",
       "            pass_mouse_events = true;\n",
       "            fig.request_resize(ui.size.width, ui.size.height);\n",
       "        },\n",
       "    });\n",
       "\n",
       "    function mouse_event_fn(event) {\n",
       "        if (pass_mouse_events)\n",
       "            return fig.mouse_event(event, event['data']);\n",
       "    }\n",
       "\n",
       "    rubberband.mousedown('button_press', mouse_event_fn);\n",
       "    rubberband.mouseup('button_release', mouse_event_fn);\n",
       "    // Throttle sequential mouse events to 1 every 20ms.\n",
       "    rubberband.mousemove('motion_notify', mouse_event_fn);\n",
       "\n",
       "    rubberband.mouseenter('figure_enter', mouse_event_fn);\n",
       "    rubberband.mouseleave('figure_leave', mouse_event_fn);\n",
       "\n",
       "    canvas_div.on(\"wheel\", function (event) {\n",
       "        event = event.originalEvent;\n",
       "        event['data'] = 'scroll'\n",
       "        if (event.deltaY < 0) {\n",
       "            event.step = 1;\n",
       "        } else {\n",
       "            event.step = -1;\n",
       "        }\n",
       "        mouse_event_fn(event);\n",
       "    });\n",
       "\n",
       "    canvas_div.append(canvas);\n",
       "    canvas_div.append(rubberband);\n",
       "\n",
       "    this.rubberband = rubberband;\n",
       "    this.rubberband_canvas = rubberband[0];\n",
       "    this.rubberband_context = rubberband[0].getContext(\"2d\");\n",
       "    this.rubberband_context.strokeStyle = \"#000000\";\n",
       "\n",
       "    this._resize_canvas = function(width, height) {\n",
       "        // Keep the size of the canvas, canvas container, and rubber band\n",
       "        // canvas in synch.\n",
       "        canvas_div.css('width', width)\n",
       "        canvas_div.css('height', height)\n",
       "\n",
       "        canvas.attr('width', width * mpl.ratio);\n",
       "        canvas.attr('height', height * mpl.ratio);\n",
       "        canvas.attr('style', 'width: ' + width + 'px; height: ' + height + 'px;');\n",
       "\n",
       "        rubberband.attr('width', width);\n",
       "        rubberband.attr('height', height);\n",
       "    }\n",
       "\n",
       "    // Set the figure to an initial 600x600px, this will subsequently be updated\n",
       "    // upon first draw.\n",
       "    this._resize_canvas(600, 600);\n",
       "\n",
       "    // Disable right mouse context menu.\n",
       "    $(this.rubberband_canvas).bind(\"contextmenu\",function(e){\n",
       "        return false;\n",
       "    });\n",
       "\n",
       "    function set_focus () {\n",
       "        canvas.focus();\n",
       "        canvas_div.focus();\n",
       "    }\n",
       "\n",
       "    window.setTimeout(set_focus, 100);\n",
       "}\n",
       "\n",
       "mpl.figure.prototype._init_toolbar = function() {\n",
       "    var fig = this;\n",
       "\n",
       "    var nav_element = $('<div/>')\n",
       "    nav_element.attr('style', 'width: 100%');\n",
       "    this.root.append(nav_element);\n",
       "\n",
       "    // Define a callback function for later on.\n",
       "    function toolbar_event(event) {\n",
       "        return fig.toolbar_button_onclick(event['data']);\n",
       "    }\n",
       "    function toolbar_mouse_event(event) {\n",
       "        return fig.toolbar_button_onmouseover(event['data']);\n",
       "    }\n",
       "\n",
       "    for(var toolbar_ind in mpl.toolbar_items) {\n",
       "        var name = mpl.toolbar_items[toolbar_ind][0];\n",
       "        var tooltip = mpl.toolbar_items[toolbar_ind][1];\n",
       "        var image = mpl.toolbar_items[toolbar_ind][2];\n",
       "        var method_name = mpl.toolbar_items[toolbar_ind][3];\n",
       "\n",
       "        if (!name) {\n",
       "            // put a spacer in here.\n",
       "            continue;\n",
       "        }\n",
       "        var button = $('<button/>');\n",
       "        button.addClass('ui-button ui-widget ui-state-default ui-corner-all ' +\n",
       "                        'ui-button-icon-only');\n",
       "        button.attr('role', 'button');\n",
       "        button.attr('aria-disabled', 'false');\n",
       "        button.click(method_name, toolbar_event);\n",
       "        button.mouseover(tooltip, toolbar_mouse_event);\n",
       "\n",
       "        var icon_img = $('<span/>');\n",
       "        icon_img.addClass('ui-button-icon-primary ui-icon');\n",
       "        icon_img.addClass(image);\n",
       "        icon_img.addClass('ui-corner-all');\n",
       "\n",
       "        var tooltip_span = $('<span/>');\n",
       "        tooltip_span.addClass('ui-button-text');\n",
       "        tooltip_span.html(tooltip);\n",
       "\n",
       "        button.append(icon_img);\n",
       "        button.append(tooltip_span);\n",
       "\n",
       "        nav_element.append(button);\n",
       "    }\n",
       "\n",
       "    var fmt_picker_span = $('<span/>');\n",
       "\n",
       "    var fmt_picker = $('<select/>');\n",
       "    fmt_picker.addClass('mpl-toolbar-option ui-widget ui-widget-content');\n",
       "    fmt_picker_span.append(fmt_picker);\n",
       "    nav_element.append(fmt_picker_span);\n",
       "    this.format_dropdown = fmt_picker[0];\n",
       "\n",
       "    for (var ind in mpl.extensions) {\n",
       "        var fmt = mpl.extensions[ind];\n",
       "        var option = $(\n",
       "            '<option/>', {selected: fmt === mpl.default_extension}).html(fmt);\n",
       "        fmt_picker.append(option)\n",
       "    }\n",
       "\n",
       "    // Add hover states to the ui-buttons\n",
       "    $( \".ui-button\" ).hover(\n",
       "        function() { $(this).addClass(\"ui-state-hover\");},\n",
       "        function() { $(this).removeClass(\"ui-state-hover\");}\n",
       "    );\n",
       "\n",
       "    var status_bar = $('<span class=\"mpl-message\"/>');\n",
       "    nav_element.append(status_bar);\n",
       "    this.message = status_bar[0];\n",
       "}\n",
       "\n",
       "mpl.figure.prototype.request_resize = function(x_pixels, y_pixels) {\n",
       "    // Request matplotlib to resize the figure. Matplotlib will then trigger a resize in the client,\n",
       "    // which will in turn request a refresh of the image.\n",
       "    this.send_message('resize', {'width': x_pixels, 'height': y_pixels});\n",
       "}\n",
       "\n",
       "mpl.figure.prototype.send_message = function(type, properties) {\n",
       "    properties['type'] = type;\n",
       "    properties['figure_id'] = this.id;\n",
       "    this.ws.send(JSON.stringify(properties));\n",
       "}\n",
       "\n",
       "mpl.figure.prototype.send_draw_message = function() {\n",
       "    if (!this.waiting) {\n",
       "        this.waiting = true;\n",
       "        this.ws.send(JSON.stringify({type: \"draw\", figure_id: this.id}));\n",
       "    }\n",
       "}\n",
       "\n",
       "\n",
       "mpl.figure.prototype.handle_save = function(fig, msg) {\n",
       "    var format_dropdown = fig.format_dropdown;\n",
       "    var format = format_dropdown.options[format_dropdown.selectedIndex].value;\n",
       "    fig.ondownload(fig, format);\n",
       "}\n",
       "\n",
       "\n",
       "mpl.figure.prototype.handle_resize = function(fig, msg) {\n",
       "    var size = msg['size'];\n",
       "    if (size[0] != fig.canvas.width || size[1] != fig.canvas.height) {\n",
       "        fig._resize_canvas(size[0], size[1]);\n",
       "        fig.send_message(\"refresh\", {});\n",
       "    };\n",
       "}\n",
       "\n",
       "mpl.figure.prototype.handle_rubberband = function(fig, msg) {\n",
       "    var x0 = msg['x0'] / mpl.ratio;\n",
       "    var y0 = (fig.canvas.height - msg['y0']) / mpl.ratio;\n",
       "    var x1 = msg['x1'] / mpl.ratio;\n",
       "    var y1 = (fig.canvas.height - msg['y1']) / mpl.ratio;\n",
       "    x0 = Math.floor(x0) + 0.5;\n",
       "    y0 = Math.floor(y0) + 0.5;\n",
       "    x1 = Math.floor(x1) + 0.5;\n",
       "    y1 = Math.floor(y1) + 0.5;\n",
       "    var min_x = Math.min(x0, x1);\n",
       "    var min_y = Math.min(y0, y1);\n",
       "    var width = Math.abs(x1 - x0);\n",
       "    var height = Math.abs(y1 - y0);\n",
       "\n",
       "    fig.rubberband_context.clearRect(\n",
       "        0, 0, fig.canvas.width, fig.canvas.height);\n",
       "\n",
       "    fig.rubberband_context.strokeRect(min_x, min_y, width, height);\n",
       "}\n",
       "\n",
       "mpl.figure.prototype.handle_figure_label = function(fig, msg) {\n",
       "    // Updates the figure title.\n",
       "    fig.header.textContent = msg['label'];\n",
       "}\n",
       "\n",
       "mpl.figure.prototype.handle_cursor = function(fig, msg) {\n",
       "    var cursor = msg['cursor'];\n",
       "    switch(cursor)\n",
       "    {\n",
       "    case 0:\n",
       "        cursor = 'pointer';\n",
       "        break;\n",
       "    case 1:\n",
       "        cursor = 'default';\n",
       "        break;\n",
       "    case 2:\n",
       "        cursor = 'crosshair';\n",
       "        break;\n",
       "    case 3:\n",
       "        cursor = 'move';\n",
       "        break;\n",
       "    }\n",
       "    fig.rubberband_canvas.style.cursor = cursor;\n",
       "}\n",
       "\n",
       "mpl.figure.prototype.handle_message = function(fig, msg) {\n",
       "    fig.message.textContent = msg['message'];\n",
       "}\n",
       "\n",
       "mpl.figure.prototype.handle_draw = function(fig, msg) {\n",
       "    // Request the server to send over a new figure.\n",
       "    fig.send_draw_message();\n",
       "}\n",
       "\n",
       "mpl.figure.prototype.handle_image_mode = function(fig, msg) {\n",
       "    fig.image_mode = msg['mode'];\n",
       "}\n",
       "\n",
       "mpl.figure.prototype.updated_canvas_event = function() {\n",
       "    // Called whenever the canvas gets updated.\n",
       "    this.send_message(\"ack\", {});\n",
       "}\n",
       "\n",
       "// A function to construct a web socket function for onmessage handling.\n",
       "// Called in the figure constructor.\n",
       "mpl.figure.prototype._make_on_message_function = function(fig) {\n",
       "    return function socket_on_message(evt) {\n",
       "        if (evt.data instanceof Blob) {\n",
       "            /* FIXME: We get \"Resource interpreted as Image but\n",
       "             * transferred with MIME type text/plain:\" errors on\n",
       "             * Chrome.  But how to set the MIME type?  It doesn't seem\n",
       "             * to be part of the websocket stream */\n",
       "            evt.data.type = \"image/png\";\n",
       "\n",
       "            /* Free the memory for the previous frames */\n",
       "            if (fig.imageObj.src) {\n",
       "                (window.URL || window.webkitURL).revokeObjectURL(\n",
       "                    fig.imageObj.src);\n",
       "            }\n",
       "\n",
       "            fig.imageObj.src = (window.URL || window.webkitURL).createObjectURL(\n",
       "                evt.data);\n",
       "            fig.updated_canvas_event();\n",
       "            fig.waiting = false;\n",
       "            return;\n",
       "        }\n",
       "        else if (typeof evt.data === 'string' && evt.data.slice(0, 21) == \"data:image/png;base64\") {\n",
       "            fig.imageObj.src = evt.data;\n",
       "            fig.updated_canvas_event();\n",
       "            fig.waiting = false;\n",
       "            return;\n",
       "        }\n",
       "\n",
       "        var msg = JSON.parse(evt.data);\n",
       "        var msg_type = msg['type'];\n",
       "\n",
       "        // Call the  \"handle_{type}\" callback, which takes\n",
       "        // the figure and JSON message as its only arguments.\n",
       "        try {\n",
       "            var callback = fig[\"handle_\" + msg_type];\n",
       "        } catch (e) {\n",
       "            console.log(\"No handler for the '\" + msg_type + \"' message type: \", msg);\n",
       "            return;\n",
       "        }\n",
       "\n",
       "        if (callback) {\n",
       "            try {\n",
       "                // console.log(\"Handling '\" + msg_type + \"' message: \", msg);\n",
       "                callback(fig, msg);\n",
       "            } catch (e) {\n",
       "                console.log(\"Exception inside the 'handler_\" + msg_type + \"' callback:\", e, e.stack, msg);\n",
       "            }\n",
       "        }\n",
       "    };\n",
       "}\n",
       "\n",
       "// from http://stackoverflow.com/questions/1114465/getting-mouse-location-in-canvas\n",
       "mpl.findpos = function(e) {\n",
       "    //this section is from http://www.quirksmode.org/js/events_properties.html\n",
       "    var targ;\n",
       "    if (!e)\n",
       "        e = window.event;\n",
       "    if (e.target)\n",
       "        targ = e.target;\n",
       "    else if (e.srcElement)\n",
       "        targ = e.srcElement;\n",
       "    if (targ.nodeType == 3) // defeat Safari bug\n",
       "        targ = targ.parentNode;\n",
       "\n",
       "    // jQuery normalizes the pageX and pageY\n",
       "    // pageX,Y are the mouse positions relative to the document\n",
       "    // offset() returns the position of the element relative to the document\n",
       "    var x = e.pageX - $(targ).offset().left;\n",
       "    var y = e.pageY - $(targ).offset().top;\n",
       "\n",
       "    return {\"x\": x, \"y\": y};\n",
       "};\n",
       "\n",
       "/*\n",
       " * return a copy of an object with only non-object keys\n",
       " * we need this to avoid circular references\n",
       " * http://stackoverflow.com/a/24161582/3208463\n",
       " */\n",
       "function simpleKeys (original) {\n",
       "  return Object.keys(original).reduce(function (obj, key) {\n",
       "    if (typeof original[key] !== 'object')\n",
       "        obj[key] = original[key]\n",
       "    return obj;\n",
       "  }, {});\n",
       "}\n",
       "\n",
       "mpl.figure.prototype.mouse_event = function(event, name) {\n",
       "    var canvas_pos = mpl.findpos(event)\n",
       "\n",
       "    if (name === 'button_press')\n",
       "    {\n",
       "        this.canvas.focus();\n",
       "        this.canvas_div.focus();\n",
       "    }\n",
       "\n",
       "    var x = canvas_pos.x * mpl.ratio;\n",
       "    var y = canvas_pos.y * mpl.ratio;\n",
       "\n",
       "    this.send_message(name, {x: x, y: y, button: event.button,\n",
       "                             step: event.step,\n",
       "                             guiEvent: simpleKeys(event)});\n",
       "\n",
       "    /* This prevents the web browser from automatically changing to\n",
       "     * the text insertion cursor when the button is pressed.  We want\n",
       "     * to control all of the cursor setting manually through the\n",
       "     * 'cursor' event from matplotlib */\n",
       "    event.preventDefault();\n",
       "    return false;\n",
       "}\n",
       "\n",
       "mpl.figure.prototype._key_event_extra = function(event, name) {\n",
       "    // Handle any extra behaviour associated with a key event\n",
       "}\n",
       "\n",
       "mpl.figure.prototype.key_event = function(event, name) {\n",
       "\n",
       "    // Prevent repeat events\n",
       "    if (name == 'key_press')\n",
       "    {\n",
       "        if (event.which === this._key)\n",
       "            return;\n",
       "        else\n",
       "            this._key = event.which;\n",
       "    }\n",
       "    if (name == 'key_release')\n",
       "        this._key = null;\n",
       "\n",
       "    var value = '';\n",
       "    if (event.ctrlKey && event.which != 17)\n",
       "        value += \"ctrl+\";\n",
       "    if (event.altKey && event.which != 18)\n",
       "        value += \"alt+\";\n",
       "    if (event.shiftKey && event.which != 16)\n",
       "        value += \"shift+\";\n",
       "\n",
       "    value += 'k';\n",
       "    value += event.which.toString();\n",
       "\n",
       "    this._key_event_extra(event, name);\n",
       "\n",
       "    this.send_message(name, {key: value,\n",
       "                             guiEvent: simpleKeys(event)});\n",
       "    return false;\n",
       "}\n",
       "\n",
       "mpl.figure.prototype.toolbar_button_onclick = function(name) {\n",
       "    if (name == 'download') {\n",
       "        this.handle_save(this, null);\n",
       "    } else {\n",
       "        this.send_message(\"toolbar_button\", {name: name});\n",
       "    }\n",
       "};\n",
       "\n",
       "mpl.figure.prototype.toolbar_button_onmouseover = function(tooltip) {\n",
       "    this.message.textContent = tooltip;\n",
       "};\n",
       "mpl.toolbar_items = [[\"Home\", \"Reset original view\", \"fa fa-home icon-home\", \"home\"], [\"Back\", \"Back to  previous view\", \"fa fa-arrow-left icon-arrow-left\", \"back\"], [\"Forward\", \"Forward to next view\", \"fa fa-arrow-right icon-arrow-right\", \"forward\"], [\"\", \"\", \"\", \"\"], [\"Pan\", \"Pan axes with left mouse, zoom with right\", \"fa fa-arrows icon-move\", \"pan\"], [\"Zoom\", \"Zoom to rectangle\", \"fa fa-square-o icon-check-empty\", \"zoom\"], [\"\", \"\", \"\", \"\"], [\"Download\", \"Download plot\", \"fa fa-floppy-o icon-save\", \"download\"]];\n",
       "\n",
       "mpl.extensions = [\"eps\", \"jpeg\", \"pdf\", \"png\", \"ps\", \"raw\", \"svg\", \"tif\"];\n",
       "\n",
       "mpl.default_extension = \"png\";var comm_websocket_adapter = function(comm) {\n",
       "    // Create a \"websocket\"-like object which calls the given IPython comm\n",
       "    // object with the appropriate methods. Currently this is a non binary\n",
       "    // socket, so there is still some room for performance tuning.\n",
       "    var ws = {};\n",
       "\n",
       "    ws.close = function() {\n",
       "        comm.close()\n",
       "    };\n",
       "    ws.send = function(m) {\n",
       "        //console.log('sending', m);\n",
       "        comm.send(m);\n",
       "    };\n",
       "    // Register the callback with on_msg.\n",
       "    comm.on_msg(function(msg) {\n",
       "        //console.log('receiving', msg['content']['data'], msg);\n",
       "        // Pass the mpl event to the overriden (by mpl) onmessage function.\n",
       "        ws.onmessage(msg['content']['data'])\n",
       "    });\n",
       "    return ws;\n",
       "}\n",
       "\n",
       "mpl.mpl_figure_comm = function(comm, msg) {\n",
       "    // This is the function which gets called when the mpl process\n",
       "    // starts-up an IPython Comm through the \"matplotlib\" channel.\n",
       "\n",
       "    var id = msg.content.data.id;\n",
       "    // Get hold of the div created by the display call when the Comm\n",
       "    // socket was opened in Python.\n",
       "    var element = $(\"#\" + id);\n",
       "    var ws_proxy = comm_websocket_adapter(comm)\n",
       "\n",
       "    function ondownload(figure, format) {\n",
       "        window.open(figure.imageObj.src);\n",
       "    }\n",
       "\n",
       "    var fig = new mpl.figure(id, ws_proxy,\n",
       "                           ondownload,\n",
       "                           element.get(0));\n",
       "\n",
       "    // Call onopen now - mpl needs it, as it is assuming we've passed it a real\n",
       "    // web socket which is closed, not our websocket->open comm proxy.\n",
       "    ws_proxy.onopen();\n",
       "\n",
       "    fig.parent_element = element.get(0);\n",
       "    fig.cell_info = mpl.find_output_cell(\"<div id='\" + id + \"'></div>\");\n",
       "    if (!fig.cell_info) {\n",
       "        console.error(\"Failed to find cell for figure\", id, fig);\n",
       "        return;\n",
       "    }\n",
       "\n",
       "    var output_index = fig.cell_info[2]\n",
       "    var cell = fig.cell_info[0];\n",
       "\n",
       "};\n",
       "\n",
       "mpl.figure.prototype.handle_close = function(fig, msg) {\n",
       "    var width = fig.canvas.width/mpl.ratio\n",
       "    fig.root.unbind('remove')\n",
       "\n",
       "    // Update the output cell to use the data from the current canvas.\n",
       "    fig.push_to_output();\n",
       "    var dataURL = fig.canvas.toDataURL();\n",
       "    // Re-enable the keyboard manager in IPython - without this line, in FF,\n",
       "    // the notebook keyboard shortcuts fail.\n",
       "    IPython.keyboard_manager.enable()\n",
       "    $(fig.parent_element).html('<img src=\"' + dataURL + '\" width=\"' + width + '\">');\n",
       "    fig.close_ws(fig, msg);\n",
       "}\n",
       "\n",
       "mpl.figure.prototype.close_ws = function(fig, msg){\n",
       "    fig.send_message('closing', msg);\n",
       "    // fig.ws.close()\n",
       "}\n",
       "\n",
       "mpl.figure.prototype.push_to_output = function(remove_interactive) {\n",
       "    // Turn the data on the canvas into data in the output cell.\n",
       "    var width = this.canvas.width/mpl.ratio\n",
       "    var dataURL = this.canvas.toDataURL();\n",
       "    this.cell_info[1]['text/html'] = '<img src=\"' + dataURL + '\" width=\"' + width + '\">';\n",
       "}\n",
       "\n",
       "mpl.figure.prototype.updated_canvas_event = function() {\n",
       "    // Tell IPython that the notebook contents must change.\n",
       "    IPython.notebook.set_dirty(true);\n",
       "    this.send_message(\"ack\", {});\n",
       "    var fig = this;\n",
       "    // Wait a second, then push the new image to the DOM so\n",
       "    // that it is saved nicely (might be nice to debounce this).\n",
       "    setTimeout(function () { fig.push_to_output() }, 1000);\n",
       "}\n",
       "\n",
       "mpl.figure.prototype._init_toolbar = function() {\n",
       "    var fig = this;\n",
       "\n",
       "    var nav_element = $('<div/>')\n",
       "    nav_element.attr('style', 'width: 100%');\n",
       "    this.root.append(nav_element);\n",
       "\n",
       "    // Define a callback function for later on.\n",
       "    function toolbar_event(event) {\n",
       "        return fig.toolbar_button_onclick(event['data']);\n",
       "    }\n",
       "    function toolbar_mouse_event(event) {\n",
       "        return fig.toolbar_button_onmouseover(event['data']);\n",
       "    }\n",
       "\n",
       "    for(var toolbar_ind in mpl.toolbar_items){\n",
       "        var name = mpl.toolbar_items[toolbar_ind][0];\n",
       "        var tooltip = mpl.toolbar_items[toolbar_ind][1];\n",
       "        var image = mpl.toolbar_items[toolbar_ind][2];\n",
       "        var method_name = mpl.toolbar_items[toolbar_ind][3];\n",
       "\n",
       "        if (!name) { continue; };\n",
       "\n",
       "        var button = $('<button class=\"btn btn-default\" href=\"#\" title=\"' + name + '\"><i class=\"fa ' + image + ' fa-lg\"></i></button>');\n",
       "        button.click(method_name, toolbar_event);\n",
       "        button.mouseover(tooltip, toolbar_mouse_event);\n",
       "        nav_element.append(button);\n",
       "    }\n",
       "\n",
       "    // Add the status bar.\n",
       "    var status_bar = $('<span class=\"mpl-message\" style=\"text-align:right; float: right;\"/>');\n",
       "    nav_element.append(status_bar);\n",
       "    this.message = status_bar[0];\n",
       "\n",
       "    // Add the close button to the window.\n",
       "    var buttongrp = $('<div class=\"btn-group inline pull-right\"></div>');\n",
       "    var button = $('<button class=\"btn btn-mini btn-primary\" href=\"#\" title=\"Stop Interaction\"><i class=\"fa fa-power-off icon-remove icon-large\"></i></button>');\n",
       "    button.click(function (evt) { fig.handle_close(fig, {}); } );\n",
       "    button.mouseover('Stop Interaction', toolbar_mouse_event);\n",
       "    buttongrp.append(button);\n",
       "    var titlebar = this.root.find($('.ui-dialog-titlebar'));\n",
       "    titlebar.prepend(buttongrp);\n",
       "}\n",
       "\n",
       "mpl.figure.prototype._root_extra_style = function(el){\n",
       "    var fig = this\n",
       "    el.on(\"remove\", function(){\n",
       "\tfig.close_ws(fig, {});\n",
       "    });\n",
       "}\n",
       "\n",
       "mpl.figure.prototype._canvas_extra_style = function(el){\n",
       "    // this is important to make the div 'focusable\n",
       "    el.attr('tabindex', 0)\n",
       "    // reach out to IPython and tell the keyboard manager to turn it's self\n",
       "    // off when our div gets focus\n",
       "\n",
       "    // location in version 3\n",
       "    if (IPython.notebook.keyboard_manager) {\n",
       "        IPython.notebook.keyboard_manager.register_events(el);\n",
       "    }\n",
       "    else {\n",
       "        // location in version 2\n",
       "        IPython.keyboard_manager.register_events(el);\n",
       "    }\n",
       "\n",
       "}\n",
       "\n",
       "mpl.figure.prototype._key_event_extra = function(event, name) {\n",
       "    var manager = IPython.notebook.keyboard_manager;\n",
       "    if (!manager)\n",
       "        manager = IPython.keyboard_manager;\n",
       "\n",
       "    // Check for shift+enter\n",
       "    if (event.shiftKey && event.which == 13) {\n",
       "        this.canvas_div.blur();\n",
       "        // select the cell after this one\n",
       "        var index = IPython.notebook.find_cell_index(this.cell_info[0]);\n",
       "        IPython.notebook.select(index + 1);\n",
       "    }\n",
       "}\n",
       "\n",
       "mpl.figure.prototype.handle_save = function(fig, msg) {\n",
       "    fig.ondownload(fig, null);\n",
       "}\n",
       "\n",
       "\n",
       "mpl.find_output_cell = function(html_output) {\n",
       "    // Return the cell and output element which can be found *uniquely* in the notebook.\n",
       "    // Note - this is a bit hacky, but it is done because the \"notebook_saving.Notebook\"\n",
       "    // IPython event is triggered only after the cells have been serialised, which for\n",
       "    // our purposes (turning an active figure into a static one), is too late.\n",
       "    var cells = IPython.notebook.get_cells();\n",
       "    var ncells = cells.length;\n",
       "    for (var i=0; i<ncells; i++) {\n",
       "        var cell = cells[i];\n",
       "        if (cell.cell_type === 'code'){\n",
       "            for (var j=0; j<cell.output_area.outputs.length; j++) {\n",
       "                var data = cell.output_area.outputs[j];\n",
       "                if (data.data) {\n",
       "                    // IPython >= 3 moved mimebundle to data attribute of output\n",
       "                    data = data.data;\n",
       "                }\n",
       "                if (data['text/html'] == html_output) {\n",
       "                    return [cell, data, j];\n",
       "                }\n",
       "            }\n",
       "        }\n",
       "    }\n",
       "}\n",
       "\n",
       "// Register the function which deals with the matplotlib target/channel.\n",
       "// The kernel may be null if the page has been refreshed.\n",
       "if (IPython.notebook.kernel != null) {\n",
       "    IPython.notebook.kernel.comm_manager.register_target('matplotlib', mpl.mpl_figure_comm);\n",
       "}\n"
      ],
      "text/plain": [
       "<IPython.core.display.Javascript object>"
      ]
     },
     "metadata": {},
     "output_type": "display_data"
    },
    {
     "data": {
      "text/html": [
       "<img src=\"data:image/png;base64,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\" width=\"640\">"
      ],
      "text/plain": [
       "<IPython.core.display.HTML object>"
      ]
     },
     "metadata": {},
     "output_type": "display_data"
    },
    {
     "name": "stderr",
     "output_type": "stream",
     "text": [
      "C:\\ProgramData\\Anaconda3\\lib\\site-packages\\ipykernel_launcher.py:5: RuntimeWarning: divide by zero encountered in power\n",
      "  \"\"\"\n"
     ]
    }
   ],
   "source": [
    "pyplot.figure()\n",
    "pyplot.loglog(x_vals_inf, power_spectrum_inf.mean(0), label=\"Infinite Phase Screen\")\n",
    "pyplot.loglog(x_vals_fft, power_spectrum_fft.mean(0), label=\"FFT phase screen\")\n",
    "\n",
    "pyplot.loglog(x_vals_fft,  2e7 * (D*r0) * x_vals_fft**(-8./3), color=\"k\", linestyle=\"--\", linewidth=0.6)\n",
    "\n",
    "L0_cutoff = wind_speed/L0\n",
    "pyplot.text(L0_cutoff+0.2, 10e8, \"V/L0\")\n",
    "pyplot.plot([L0_cutoff, L0_cutoff], [10, 10e11], linestyle=\"--\",linewidth=0.6, color=\"k\")\n",
    "\n",
    "pyplot.legend()\n",
    "pyplot.xlabel(\"Frequency (Hz)\")\n",
    "pyplot.ylabel(\"Power ($\\mathrm{rad}^2$)\")\n",
    "pyplot.grid()"
   ]
  },
  {
   "cell_type": "code",
   "execution_count": null,
   "metadata": {
    "collapsed": true
   },
   "outputs": [],
   "source": []
  },
  {
   "cell_type": "code",
   "execution_count": null,
   "metadata": {
    "collapsed": true
   },
   "outputs": [],
   "source": []
  }
 ],
 "metadata": {
  "kernelspec": {
   "display_name": "Python 3",
   "language": "python",
   "name": "python3"
  },
  "language_info": {
   "codemirror_mode": {
    "name": "ipython",
    "version": 3
   },
   "file_extension": ".py",
   "mimetype": "text/x-python",
   "name": "python",
   "nbconvert_exporter": "python",
   "pygments_lexer": "ipython3",
   "version": "3.6.1"
  },
  "widgets": {
   "state": {
    "0312f19be8144ab2bbd022a8db89ec4b": {
     "views": [
      {
       "cell_index": 6
      }
     ]
    },
    "13a09f4e05bf43719bae810f4abd554b": {
     "views": [
      {
       "cell_index": 6
      }
     ]
    },
    "25bd2eb7bc4246a8bc5a9f11e36659a4": {
     "views": [
      {
       "cell_index": 3
      }
     ]
    },
    "26ab9273046642deb528528359d685e6": {
     "views": [
      {
       "cell_index": 12
      }
     ]
    },
    "2a9252f4742d45579e1a745487fec56a": {
     "views": [
      {
       "cell_index": 6
      }
     ]
    },
    "2ad143d55b5d44deb6bd57cd34f1e805": {
     "views": [
      {
       "cell_index": 9
      }
     ]
    },
    "2bc5bb3070b24e388c168800d034cfd4": {
     "views": [
      {
       "cell_index": 12
      }
     ]
    },
    "2d72557db13f4d11b0ee4a3c8b9783bb": {
     "views": [
      {
       "cell_index": 6
      }
     ]
    },
    "305c9e4a5b9d41ebaffe8bd9c969da8b": {
     "views": [
      {
       "cell_index": 9
      }
     ]
    },
    "30da3bb4fb954665960d93bb105c9056": {
     "views": [
      {
       "cell_index": 12
      }
     ]
    },
    "3262375efa304a16bf2c63668ed300d8": {
     "views": [
      {
       "cell_index": 3
      }
     ]
    },
    "3269e0a21386475982b5e384460117e5": {
     "views": [
      {
       "cell_index": 12
      }
     ]
    },
    "33de3886f95641638eb40155a57b9421": {
     "views": [
      {
       "cell_index": 6
      }
     ]
    },
    "34a87277a46c4806801a0e2b8c52281d": {
     "views": [
      {
       "cell_index": 9
      }
     ]
    },
    "36f4a884604a415abf40e127b69d48ba": {
     "views": [
      {
       "cell_index": 12
      }
     ]
    },
    "3a486943ccc44c59a90b678427cff320": {
     "views": [
      {
       "cell_index": 12
      }
     ]
    },
    "45f6f77d75c0479c86f5c9cc07015d08": {
     "views": [
      {
       "cell_index": 12
      }
     ]
    },
    "47ad2931f2a848e6b5071b61eecda3db": {
     "views": [
      {
       "cell_index": 3
      }
     ]
    },
    "4843129a7e144c1daa31938cfcab4e99": {
     "views": [
      {
       "cell_index": 12
      }
     ]
    },
    "4a9f05fa2d6046c29b484add404a952e": {
     "views": [
      {
       "cell_index": 12
      }
     ]
    },
    "502ebe80666c4693ba3800a9aeac7e57": {
     "views": [
      {
       "cell_index": 3
      }
     ]
    },
    "510c133dc76d44819cbbb9e53530ba63": {
     "views": [
      {
       "cell_index": 6
      }
     ]
    },
    "52a2954264094d118f6358c293d91999": {
     "views": [
      {
       "cell_index": 12
      }
     ]
    },
    "577c2a56a8ea400b96b542a33ad9089d": {
     "views": [
      {
       "cell_index": 9
      }
     ]
    },
    "5af9ffc075564ae4ae17457563d7938c": {
     "views": [
      {
       "cell_index": 3
      }
     ]
    },
    "5bab5cbeaa4844fc824c8b0233318c63": {
     "views": [
      {
       "cell_index": 9
      }
     ]
    },
    "5ef7cbce7d4c412da4c76f07640748b5": {
     "views": [
      {
       "cell_index": 12
      }
     ]
    },
    "687d360ea8984dd3a0fcb8c11dfdd10b": {
     "views": [
      {
       "cell_index": 12
      }
     ]
    },
    "6ae7bca11d8e49e7b039129357239002": {
     "views": [
      {
       "cell_index": 6
      }
     ]
    },
    "6d4f46714fb040f6956e91385d572255": {
     "views": [
      {
       "cell_index": 6
      }
     ]
    },
    "6dcc9414ab9a4726ac9b7829a654fdd2": {
     "views": [
      {
       "cell_index": 12
      }
     ]
    },
    "6ebfbdabb8f545dcb658dd6ec05977e8": {
     "views": [
      {
       "cell_index": 3
      }
     ]
    },
    "70f8b9ff5c1741b2bbbabdeb804db144": {
     "views": [
      {
       "cell_index": 9
      }
     ]
    },
    "739439608aa8408ebc5a729710293893": {
     "views": [
      {
       "cell_index": 3
      }
     ]
    },
    "75075c6450174a9f8ab7f5ed3a2638a4": {
     "views": [
      {
       "cell_index": 9
      }
     ]
    },
    "7a36edc4655143abb70060886b9236ea": {
     "views": [
      {
       "cell_index": 9
      }
     ]
    },
    "8cf7edb4855c419398e0e6156d4a05a8": {
     "views": [
      {
       "cell_index": 9
      }
     ]
    },
    "92142c6d3f8b4e928cb6039fac71aff1": {
     "views": [
      {
       "cell_index": 6
      }
     ]
    },
    "943c896d75244fc69c15d2370c90cd00": {
     "views": [
      {
       "cell_index": 6
      }
     ]
    },
    "949ea3cbc68049f3a669deb8073c9feb": {
     "views": [
      {
       "cell_index": 12
      }
     ]
    },
    "94d97a84c6c446cd86cd182ab2056c65": {
     "views": [
      {
       "cell_index": 9
      }
     ]
    },
    "96ae6bc1999c464a99d86fa8d0ce95ef": {
     "views": [
      {
       "cell_index": 3
      }
     ]
    },
    "9c0568fddb2844f3937fa0f6a4af7683": {
     "views": [
      {
       "cell_index": 6
      }
     ]
    },
    "9e311e15671e4ceaaed0b4206fd54f3e": {
     "views": [
      {
       "cell_index": 12
      }
     ]
    },
    "a1e3a8e1432c40f48fbb1958ab0bc228": {
     "views": [
      {
       "cell_index": 3
      }
     ]
    },
    "a3d58eb17d154da882bdd5c046cd9491": {
     "views": [
      {
       "cell_index": 6
      }
     ]
    },
    "a4a4bd7dfeea46268bf63ff8b49fae90": {
     "views": [
      {
       "cell_index": 3
      }
     ]
    },
    "a4b289add1f4491d89b4e5e66a24b388": {
     "views": [
      {
       "cell_index": 3
      }
     ]
    },
    "a5f664cccbf349ebbd16577f4518672e": {
     "views": [
      {
       "cell_index": 3
      }
     ]
    },
    "a8a3b3c5b6704f2abca5c0c29ab7dea4": {
     "views": [
      {
       "cell_index": 12
      }
     ]
    },
    "ae3ba24734d34aad97ce91d839f00880": {
     "views": [
      {
       "cell_index": 3
      }
     ]
    },
    "b27176c365494b0eba51f91a390c470c": {
     "views": [
      {
       "cell_index": 3
      }
     ]
    },
    "b6ac7e2353f14f5dafb399bafffb1eba": {
     "views": [
      {
       "cell_index": 12
      }
     ]
    },
    "b80bb2ca40b141378f462cc1601346dc": {
     "views": [
      {
       "cell_index": 6
      }
     ]
    },
    "bb8730794a2b4c1f9b1b8eee81684fed": {
     "views": [
      {
       "cell_index": 12
      }
     ]
    },
    "bdf452cc1bad4b9aa7016e7828c1a39d": {
     "views": [
      {
       "cell_index": 9
      }
     ]
    },
    "c5a45e4b4f4d4aa29131a7cd91835692": {
     "views": [
      {
       "cell_index": 9
      }
     ]
    },
    "c64405495c7e4baa90fc804e8e58d46e": {
     "views": [
      {
       "cell_index": 6
      }
     ]
    },
    "c8ccf674d35b46b79ea8d4c1518a0ef4": {
     "views": [
      {
       "cell_index": 12
      }
     ]
    },
    "cbe7a7a7d8a2418f9dab4108601912ed": {
     "views": [
      {
       "cell_index": 9
      }
     ]
    },
    "ce9cad44a72648358e8503deb4d3a927": {
     "views": [
      {
       "cell_index": 3
      }
     ]
    },
    "cebb9a516cb64ba98a80d612e61f3d9e": {
     "views": [
      {
       "cell_index": 9
      }
     ]
    },
    "cffe56d2791f461a9090d6d3b21dbc3f": {
     "views": [
      {
       "cell_index": 9
      }
     ]
    },
    "d0c18844539d4145a9b711f5e8a40f59": {
     "views": [
      {
       "cell_index": 9
      }
     ]
    },
    "d438b7c958a94f4a8e2f3f25b9d0ec85": {
     "views": [
      {
       "cell_index": 12
      }
     ]
    },
    "d87205742ade48719a6e81bc3b0f6b4e": {
     "views": [
      {
       "cell_index": 3
      }
     ]
    },
    "d87c0bd7618d4cc69040f25542b7e6c4": {
     "views": [
      {
       "cell_index": 6
      }
     ]
    },
    "dcb2706ae82e46eea7897b49502538ba": {
     "views": [
      {
       "cell_index": 3
      }
     ]
    },
    "dcf24326d69746fc8dcd953b915ac85a": {
     "views": [
      {
       "cell_index": 12
      }
     ]
    },
    "e2270aaa96c14f1ab2216b0c4c388a67": {
     "views": [
      {
       "cell_index": 12
      }
     ]
    },
    "e7a19473ab1c43178d30ada23348ba29": {
     "views": [
      {
       "cell_index": 3
      }
     ]
    },
    "e89da0bfe8ff41708ae6990325bea409": {
     "views": [
      {
       "cell_index": 12
      }
     ]
    },
    "ead40a44b3c74018b9b191c6862837ac": {
     "views": [
      {
       "cell_index": 9
      }
     ]
    },
    "f613c0cbf03a4f8d92774bf1629675d6": {
     "views": [
      {
       "cell_index": 12
      }
     ]
    },
    "f80a39b235094c5092780662bb86af26": {
     "views": [
      {
       "cell_index": 12
      }
     ]
    },
    "f86febfab05b46e994bc2c422d30920d": {
     "views": [
      {
       "cell_index": 6
      }
     ]
    },
    "f8d9b1e6f9634931a356cde30d08a842": {
     "views": [
      {
       "cell_index": 6
      }
     ]
    }
   },
   "version": "1.2.0"
  }
 },
 "nbformat": 4,
 "nbformat_minor": 2
}
