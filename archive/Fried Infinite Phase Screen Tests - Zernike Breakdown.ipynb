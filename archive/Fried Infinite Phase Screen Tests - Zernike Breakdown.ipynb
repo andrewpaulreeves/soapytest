{
 "cells": [
  {
   "cell_type": "code",
   "execution_count": 1,
   "metadata": {
    "collapsed": false,
    "deletable": true,
    "editable": true
   },
   "outputs": [],
   "source": [
    "import numpy\n",
    "%matplotlib nbagg\n",
    "from matplotlib import pyplot\n",
    "from tqdm import tqdm, tnrange\n",
    "from astropy.io import fits\n",
    "\n",
    "import aotools\n",
    "from aotools.turbulence import infinitephasescreen_fried, phasescreen\n",
    "import zernike"
   ]
  },
  {
   "cell_type": "markdown",
   "metadata": {
    "deletable": true,
    "editable": true
   },
   "source": [
    "# Test the Zernike power spectrum of the infinite phase screen"
   ]
  },
  {
   "cell_type": "code",
   "execution_count": null,
   "metadata": {
    "collapsed": false,
    "deletable": true,
    "editable": true
   },
   "outputs": [],
   "source": [
    "n_zerns = 80\n",
    "nx_size = 128\n",
    "D = 8.\n",
    "pxl_scale = D/nx_size\n",
    "r0 = 0.2\n",
    "L0 = 10.\n",
    "wind_speed = 10 #m/s - just arbitrarily set\n",
    "n_tests = 16\n",
    "noll = fits.getdata(\"resources/noll.fits\").diagonal() * (D/r0)**(5./3)"
   ]
  },
  {
   "cell_type": "code",
   "execution_count": null,
   "metadata": {
    "collapsed": false,
    "deletable": true,
    "editable": true
   },
   "outputs": [
    {
     "name": "stdout",
     "output_type": "stream",
     "text": [
      "Make Zernikes...\n",
      "Init phase screen\n",
      "New size: 129\n",
      "Total Stencil Size: 129.0m\n",
      "Run tests\n"
     ]
    }
   ],
   "source": [
    "\n",
    "stencil_length_factor = 16\n",
    "\n",
    "n_scrns = 10000\n",
    "\n",
    "time_step = pxl_scale/wind_speed # This is timestep, as one pixel added on each iteration\n",
    "\n",
    "# Create arrary of zernikes\n",
    "print(\"Make Zernikes...\")\n",
    "# Zs = aotools.zernikeArray(n_zerns, nx_size\")\n",
    "Zs = []\n",
    "for i in range(1, n_zerns+1):\n",
    "    Zs.append(zernike.anyZernike(int(i), nx_size))\n",
    "Zs = numpy.array(Zs)\n",
    "                          \n",
    "print(\"Init phase screen\")\n",
    "phase_screen = infinitephasescreen_fried.PhaseScreen(nx_size, pxl_scale, r0, L0, stencil_length_factor=stencil_length_factor)\n",
    "\n",
    "print(\"Total Stencil Size: {}m\".format(stencil_length_factor*phase_screen.nx_size * pxl_scale))\n",
    "\n",
    "print(\"Run tests\")\n",
    "z_coeffs_inf = numpy.zeros((n_tests, n_scrns, n_zerns))\n",
    "# fig = pyplot.figure()\n",
    "\n",
    "for n in tnrange(n_tests):\n",
    "    for i in tnrange(n_scrns):\n",
    "        \n",
    "        # Go in all directions\n",
    "        phase_screen.addRow()\n",
    "        if n%4 == 0:\n",
    "            scrn = phase_screen.scrn\n",
    "        elif n%4 == 1:\n",
    "            scrn = phase_screen.scrn.T\n",
    "        elif n%4 == 2:\n",
    "            scrn = phase_screen.scrn[::-1]\n",
    "        else:\n",
    "            scrn = phase_screen.scrn[::-1].T\n",
    "            \n",
    "        z_coeffs_inf[n, i] = (scrn * Zs).sum((-1, -2))/(nx_size**2)\n",
    "    \n",
    "#         pyplot.cla()\n",
    "#         pyplot.imshow(scrn)\n",
    "#         fig.canvas.draw()\n",
    "    \n",
    "z_vars_inf = z_coeffs_inf.var(1)\n"
   ]
  },
  {
   "cell_type": "code",
   "execution_count": null,
   "metadata": {
    "collapsed": false,
    "deletable": true,
    "editable": true
   },
   "outputs": [],
   "source": [
    "pyplot.figure()\n",
    "pyplot.semilogy(z_vars_inf.T, alpha=0.2)\n",
    "pyplot.semilogy(z_vars_inf.mean(0), color=\"k\")\n",
    "pyplot.title(\"Zernike Power Spectrum\")\n",
    "pyplot.xlabel(\"Zernike Index\")\n",
    "pyplot.ylabel(\"Power ($\\mathrm{RMS Rad}^2$)\")"
   ]
  },
  {
   "cell_type": "code",
   "execution_count": null,
   "metadata": {
    "collapsed": false,
    "deletable": true,
    "editable": true
   },
   "outputs": [],
   "source": [
    "pyplot.figure()\n",
    "plot_zs = [1, 6, 79]\n",
    "for i, z in enumerate(plot_zs):\n",
    "    print(\"plot Z{}\".format(z))\n",
    "    zn_coeffs = z_coeffs_inf.mean(0)[:, z]\n",
    "    z_ps = abs(numpy.fft.fft(zn_coeffs))**2\n",
    "    x_vals = numpy.fft.fftfreq(len(z_ps), d=time_step)\n",
    "    pyplot.loglog(x_vals[:n_scrns//2], z_ps[:n_scrns//2], label=\"Z_{}\".format(z))\n",
    "    pyplot.xlabel(\"Frequency (Hz)\")\n",
    "    pyplot.ylabel(\"Power ($\\mathrm{Rad RMS}^2$)\")\n",
    "    pyplot.grid()\n",
    "pyplot.legend()"
   ]
  },
  {
   "cell_type": "markdown",
   "metadata": {
    "deletable": true,
    "editable": true
   },
   "source": [
    "# Zernike breakdown of standard FFT screen"
   ]
  },
  {
   "cell_type": "code",
   "execution_count": null,
   "metadata": {
    "collapsed": false,
    "deletable": true,
    "editable": true
   },
   "outputs": [],
   "source": [
    "\n",
    "screen_size_factor = 16\n",
    "\n",
    "total_scrn_size = screen_size_factor * nx_size\n",
    "print(\"Total Screen Size: {}\".format(total_scrn_size))\n",
    "\n",
    "# Create arrary of zernikes\n",
    "print(\"Make Zernikes...\")\n",
    "# Zs = aotools.zernikeArray(n_zerns, nx_size\")\n",
    "Zs = []\n",
    "for i in range(1, n_zerns+1):\n",
    "    Zs.append(zernike.anyZernike(int(i), nx_size))\n",
    "Zs = numpy.array(Zs)\n",
    "\n",
    "time_step = pxl_scale/wind_speed # This is timestep, as one pixel added on each iteration\n",
    "print(\"Time step: {}s\".format(time_step))\n",
    "\n",
    "n_scrns = total_scrn_size - nx_size\n",
    "\n",
    "z_coeffs_fft = numpy.zeros((n_tests, n_scrns, n_zerns))\n",
    "z_vars_fft = numpy.zeros((n_tests, n_zerns))\n",
    "for n in tnrange(n_tests):\n",
    "    print(\"Make large phase screen...\")\n",
    "    phase_screen = phasescreen.ft_phase_screen(r0, total_scrn_size, pxl_scale, L0, 0.01)[:, :nx_size]\n",
    "\n",
    "    print(\"Get Zernike Coeffs\")\n",
    "#     fig = pyplot.figure()\n",
    "    for i in tnrange(n_scrns):\n",
    "        scrn = phase_screen[i:i+nx_size]\n",
    "        \n",
    "        if n%4 == 0:\n",
    "            scrn = scrn\n",
    "        elif n%4 == 1:\n",
    "            scrn = scrn.T\n",
    "        elif n%4 == 2:\n",
    "            scrn = scrn[::-1]\n",
    "        else:\n",
    "            scrn = scrn[::-1].T\n",
    "        \n",
    "#         pyplot.cla()\n",
    "#         pyplot.imshow(scrn)\n",
    "#         fig.canvas.draw()\n",
    "        z_coeffs_fft[n, i] = (scrn * Zs).sum((-1, -2))/(Zs[0].sum())\n",
    "\n",
    "    z_vars_fft[n] = z_coeffs_fft[n].var(0)"
   ]
  },
  {
   "cell_type": "code",
   "execution_count": null,
   "metadata": {
    "collapsed": false,
    "deletable": true,
    "editable": true
   },
   "outputs": [],
   "source": [
    "pyplot.figure()\n",
    "pyplot.semilogy(z_vars_fft.T, alpha=0.2)\n",
    "pyplot.semilogy(z_vars_fft.mean(0), color=\"k\")\n",
    "pyplot.title(\"Zernike Power Spectrum\")\n",
    "pyplot.xlabel(\"Zernike Index\")\n",
    "pyplot.ylabel(\"Power ($\\mathrm{RMS Rad}^2$)\")"
   ]
  },
  {
   "cell_type": "code",
   "execution_count": null,
   "metadata": {
    "collapsed": false,
    "deletable": true,
    "editable": true
   },
   "outputs": [],
   "source": [
    "pyplot.figure()\n",
    "plot_zs = [1, 6, 79]\n",
    "for i, z in enumerate(plot_zs):\n",
    "    print(\"plot Z{}\".format(z))\n",
    "    zn_coeffs = z_coeffs_fft.mean(0)[:, z]\n",
    "    z_ps = abs(numpy.fft.fft(zn_coeffs))**2\n",
    "    x_vals = numpy.fft.fftfreq(len(z_ps), d=time_step)\n",
    "    pyplot.loglog(x_vals[:n_scrns//2], z_ps[:n_scrns//2], label=\"Z_{}\".format(z))\n",
    "    pyplot.xlabel(\"Frequency (Hz)\")\n",
    "    pyplot.ylabel(\"Power ($\\mathrm{Rad RMS}^2$)\")\n",
    "    pyplot.grid()\n",
    "pyplot.legend()"
   ]
  },
  {
   "cell_type": "code",
   "execution_count": null,
   "metadata": {
    "collapsed": false,
    "deletable": true,
    "editable": true,
    "scrolled": false
   },
   "outputs": [],
   "source": [
    "pyplot.figure()\n",
    "pyplot.semilogy(z_vars_inf.mean(0), label=\"Infinite\")\n",
    "pyplot.semilogy(z_vars_fft.mean(0), label=\"fft\")\n",
    "pyplot.semilogy(range(1, n_zerns+1), noll[:n_zerns] , label=\"noll\", color=\"k\") \n",
    "pyplot.title(\"Zernike Power Spectrum\")\n",
    "pyplot.xlabel(\"Zernike Index\")\n",
    "pyplot.ylabel(\"Power ($\\mathrm{RMS Rad}^2$)\")\n",
    "pyplot.legend()"
   ]
  },
  {
   "cell_type": "code",
   "execution_count": null,
   "metadata": {
    "collapsed": true,
    "deletable": true,
    "editable": true
   },
   "outputs": [],
   "source": []
  },
  {
   "cell_type": "code",
   "execution_count": null,
   "metadata": {
    "collapsed": true,
    "deletable": true,
    "editable": true
   },
   "outputs": [],
   "source": []
  }
 ],
 "metadata": {
  "kernelspec": {
   "display_name": "Python 3",
   "language": "python",
   "name": "python3"
  },
  "widgets": {
   "state": {
    "0139810f949c4aa98ba48261a9b3d833": {
     "views": [
      {
       "cell_index": 3
      }
     ]
    },
    "0580186588f14ed69c1f4497755bf101": {
     "views": [
      {
       "cell_index": 7
      }
     ]
    },
    "08da014eac1c4bffb81d26075f324a5a": {
     "views": [
      {
       "cell_index": 2
      }
     ]
    },
    "0cc38fcfd5844153aa624d6c20108946": {
     "views": [
      {
       "cell_index": 7
      }
     ]
    },
    "0e4e6aa0b7e54c18a3d8e18fcc1cabbd": {
     "views": [
      {
       "cell_index": 3
      }
     ]
    },
    "1345798d0f3342179f02db85f91fad2d": {
     "views": [
      {
       "cell_index": 2
      }
     ]
    },
    "13dd278bcde245678abb98d9622176c6": {
     "views": [
      {
       "cell_index": 2
      }
     ]
    },
    "1809110deb214dabb1bfde92d12b3b52": {
     "views": [
      {
       "cell_index": 7
      }
     ]
    },
    "1a1529e5a3e545a682fe8a020e8f6b23": {
     "views": [
      {
       "cell_index": 7
      }
     ]
    },
    "1c9c0bb028d84d6ca8398b48b56ad2c8": {
     "views": [
      {
       "cell_index": 2
      }
     ]
    },
    "22552d6b4e9c4b6983e3e034eb7fa591": {
     "views": [
      {
       "cell_index": 2
      }
     ]
    },
    "2bb7c23ceb174961a312c12f0e467568": {
     "views": [
      {
       "cell_index": 7
      }
     ]
    },
    "2e4c7e8d3ab54934846bd29a7f64328e": {
     "views": [
      {
       "cell_index": 3
      }
     ]
    },
    "348d447585844460a4117ae2115948cb": {
     "views": [
      {
       "cell_index": 2
      }
     ]
    },
    "35df592fa11542f6bb6025d9b1b5b3c0": {
     "views": [
      {
       "cell_index": 2
      }
     ]
    },
    "3891d7006815424696ba3f41c6559ecd": {
     "views": [
      {
       "cell_index": 2
      }
     ]
    },
    "3d23e39af64142e7a745793458a63583": {
     "views": [
      {
       "cell_index": 3
      }
     ]
    },
    "3e61a90e534242dd9920409c4aba0cdf": {
     "views": [
      {
       "cell_index": 3
      }
     ]
    },
    "4393b2c44f954d5a84b2a2480fd21879": {
     "views": [
      {
       "cell_index": 2
      }
     ]
    },
    "479af64c29074fa4b328f0da2f92238a": {
     "views": [
      {
       "cell_index": 3
      }
     ]
    },
    "4f43c94e5d6642b49061a75f63074bea": {
     "views": [
      {
       "cell_index": 3
      }
     ]
    },
    "52eb8bdc46ed4833a8bf4e12777b9acd": {
     "views": [
      {
       "cell_index": 2
      }
     ]
    },
    "5bf481a6bc614dc6a2f7fcfc0ef63e5c": {
     "views": [
      {
       "cell_index": 2
      }
     ]
    },
    "5c2ad5133d3a4e4bb4cb4610e11a9440": {
     "views": [
      {
       "cell_index": 7
      }
     ]
    },
    "5d855f646127437d9740bf83756fc91d": {
     "views": [
      {
       "cell_index": 3
      }
     ]
    },
    "61084b6013464ca29bcde7396249cbc0": {
     "views": [
      {
       "cell_index": 2
      }
     ]
    },
    "6bd88091d470451bac25db7c6f8d52a1": {
     "views": [
      {
       "cell_index": 2
      }
     ]
    },
    "6d25d012dc8d4e8ca25f8d7420118cc8": {
     "views": [
      {
       "cell_index": 7
      }
     ]
    },
    "6ddf43060562439098805f592e0950bc": {
     "views": [
      {
       "cell_index": 7
      }
     ]
    },
    "73d02343107640b1940d1f3bfb18a2ea": {
     "views": [
      {
       "cell_index": 7
      }
     ]
    },
    "740e9fb156e94e32a0dd9fea598fb4b7": {
     "views": [
      {
       "cell_index": 7
      }
     ]
    },
    "78d4d22c90964c1cb0089a218cc4d69b": {
     "views": [
      {
       "cell_index": 7
      }
     ]
    },
    "78f07cc456524321af128918cbe381a0": {
     "views": [
      {
       "cell_index": 7
      }
     ]
    },
    "7b58c52050ce467c9577d2d0086fe346": {
     "views": [
      {
       "cell_index": 2
      }
     ]
    },
    "7d92979d6e6748c4ab52017bb8fc793f": {
     "views": [
      {
       "cell_index": 2
      }
     ]
    },
    "8627500ac48f40caa25aa274ee87ce90": {
     "views": [
      {
       "cell_index": 7
      }
     ]
    },
    "8ad7e92f0a274556a88078d17010c0cb": {
     "views": [
      {
       "cell_index": 2
      }
     ]
    },
    "8f1d46eb4ae147b29e122f735c1e417a": {
     "views": [
      {
       "cell_index": 3
      }
     ]
    },
    "9283c69f60564e828f6e6c6e710a3872": {
     "views": [
      {
       "cell_index": 2
      }
     ]
    },
    "977acd39cba745e4a0844a887dbb7380": {
     "views": [
      {
       "cell_index": 2
      }
     ]
    },
    "a015a587938440d8ba5fad53f5a59b20": {
     "views": [
      {
       "cell_index": 7
      }
     ]
    },
    "a455166eace4480d928b8d7fce631a0d": {
     "views": [
      {
       "cell_index": 3
      }
     ]
    },
    "a81066ad63bc4391931cffd83f227062": {
     "views": [
      {
       "cell_index": 2
      }
     ]
    },
    "a85514e545784bf497b19c8b3a7c4615": {
     "views": [
      {
       "cell_index": 3
      }
     ]
    },
    "ac64b448fcb1431490d4c88ca40ceab6": {
     "views": [
      {
       "cell_index": 2
      }
     ]
    },
    "b4ef019bb28c44dcb58ace9af485238f": {
     "views": [
      {
       "cell_index": 2
      }
     ]
    },
    "b59eeecad75d4113be4cb973a8e8f461": {
     "views": [
      {
       "cell_index": 2
      }
     ]
    },
    "b6756d680bc94b32b94a17432e8fbc8c": {
     "views": [
      {
       "cell_index": 2
      }
     ]
    },
    "b6dba4c89ef145118f0cc4647630cca8": {
     "views": [
      {
       "cell_index": 3
      }
     ]
    },
    "b7765159d15a4939ba6b7fa1a6143131": {
     "views": [
      {
       "cell_index": 2
      }
     ]
    },
    "b968c593fe8f4b9bbf3ab3a321a0290b": {
     "views": [
      {
       "cell_index": 7
      }
     ]
    },
    "bb6cfccb00fe43c5945c6a1915e78043": {
     "views": [
      {
       "cell_index": 3
      }
     ]
    },
    "bb7dbdae6990474fb252903b3e7ed6cc": {
     "views": [
      {
       "cell_index": 2
      }
     ]
    },
    "c00000b61ad1421fa30f51204506148a": {
     "views": [
      {
       "cell_index": 3
      }
     ]
    },
    "c178ac3efe2c45318bd36d7a13606dc4": {
     "views": [
      {
       "cell_index": 2
      }
     ]
    },
    "c2bd89930f05480bb7aafee3b30e378a": {
     "views": [
      {
       "cell_index": 3
      }
     ]
    },
    "c9539b23e548401fa7618153d9756b3e": {
     "views": [
      {
       "cell_index": 2
      }
     ]
    },
    "c98238ff1bfa40329330b8a48a038f8e": {
     "views": [
      {
       "cell_index": 7
      }
     ]
    },
    "cc140d5f8ee746dd88d4338b54b9138c": {
     "views": [
      {
       "cell_index": 3
      }
     ]
    },
    "cc96d8132a4e43948843a48a1eabcbcb": {
     "views": [
      {
       "cell_index": 3
      }
     ]
    },
    "d37a8c9f7f9b4915a4db6f830421f6ba": {
     "views": [
      {
       "cell_index": 7
      }
     ]
    },
    "d47236f0307445249b819c86674711e2": {
     "views": [
      {
       "cell_index": 7
      }
     ]
    },
    "d80f1cc3df1742e5a5abb94c227bb457": {
     "views": [
      {
       "cell_index": 3
      }
     ]
    },
    "daca16ef29ff4a57a5d44877a443128a": {
     "views": [
      {
       "cell_index": 2
      }
     ]
    },
    "dc7b22ff12c246798ba3709b288ef748": {
     "views": [
      {
       "cell_index": 3
      }
     ]
    },
    "e246e3a688a14d78b9fac9860f7e68a8": {
     "views": [
      {
       "cell_index": 3
      }
     ]
    },
    "e7d029e67d354a5cbf91d2d9824c577a": {
     "views": [
      {
       "cell_index": 2
      }
     ]
    },
    "ee448fcf73c9461fa71abef8feb9643b": {
     "views": [
      {
       "cell_index": 3
      }
     ]
    },
    "ef759afc78554f2c801203b2a49a5f93": {
     "views": [
      {
       "cell_index": 2
      }
     ]
    },
    "fa8c8ae3ee1b4eacbcbbca98b93df827": {
     "views": [
      {
       "cell_index": 2
      }
     ]
    },
    "fea1498af76544a69a286aa0b25860a6": {
     "views": [
      {
       "cell_index": 2
      }
     ]
    }
   },
   "version": "1.2.0"
  }
 },
 "nbformat": 4,
 "nbformat_minor": 2
}
